{
  "nbformat": 4,
  "nbformat_minor": 0,
  "metadata": {
    "colab": {
      "provenance": [],
      "machine_shape": "hm"
    },
    "kernelspec": {
      "name": "python3",
      "display_name": "Python 3"
    },
    "accelerator": "GPU"
  },
  "cells": [
    {
      "cell_type": "markdown",
      "metadata": {
        "id": "m9JJ7FBw84tG"
      },
      "source": [
        "# Etapa 1: Importação das bibliotecas"
      ]
    },
    {
      "cell_type": "code",
      "metadata": {
        "id": "ZbcvtPlp3YWu"
      },
      "source": [
        "import numpy as np\n",
        "import math\n",
        "import re\n",
        "import time\n",
        "import zipfile\n",
        "import random\n",
        "from google.colab import drive\n",
        "import tensorflow as tf\n",
        "from tensorflow.keras import layers\n",
        "import tensorflow_datasets as tfds"
      ],
      "execution_count": null,
      "outputs": []
    },
    {
      "cell_type": "markdown",
      "metadata": {
        "id": "BQN8jwx48_yU"
      },
      "source": [
        "# Etapa 2: Pré-processamento dos dados"
      ]
    },
    {
      "cell_type": "markdown",
      "metadata": {
        "id": "bPlOT-2mlw0r"
      },
      "source": [
        "## Carregamento da base de dados\n",
        "\n",
        "- Bases de dados: https://www.statmt.org/europarl/"
      ]
    },
    {
      "cell_type": "code",
      "metadata": {
        "id": "eQpbl1pXCR0p",
        "colab": {
          "base_uri": "https://localhost:8080/"
        },
        "outputId": "30c5b037-46a8-4b25-d1d3-889bcdf866f3"
      },
      "source": [
        "drive.mount(\"/content/drive\")"
      ],
      "execution_count": null,
      "outputs": [
        {
          "output_type": "stream",
          "name": "stdout",
          "text": [
            "Mounted at /content/drive\n"
          ]
        }
      ]
    },
    {
      "cell_type": "code",
      "metadata": {
        "id": "JwnapSjqjIEN"
      },
      "source": [
        "import os, sys, tarfile\n",
        "path = '/content/drive/MyDrive/Base de Dados/pt-en.tgz'\n",
        "zip_object = tarfile.open(path)\n",
        "zip_object.extractall('./pt-en/')\n",
        "zip_object.close()"
      ],
      "execution_count": null,
      "outputs": []
    },
    {
      "cell_type": "code",
      "metadata": {
        "id": "8jFJaq1-OpPS"
      },
      "source": [
        "with open('/content/pt-en/europarl-v7.pt-en.en', mode='r', encoding='utf-8') as f:\n",
        "  europarl_en = f.read()\n",
        "with open('/content/pt-en/europarl-v7.pt-en.pt', mode='r', encoding='utf-8') as f:\n",
        "  europarl_pt = f.read ()"
      ],
      "execution_count": null,
      "outputs": []
    },
    {
      "cell_type": "code",
      "metadata": {
        "id": "9kGhnz3UO_K3",
        "colab": {
          "base_uri": "https://localhost:8080/",
          "height": 36
        },
        "outputId": "40236ad5-9db1-43eb-c433-0074c0801f0e"
      },
      "source": [
        "europarl_en[0:100]"
      ],
      "execution_count": null,
      "outputs": [
        {
          "output_type": "execute_result",
          "data": {
            "text/plain": [
              "'Resumption of the session\\nI declare resumed the session of the European Parliament adjourned on Frid'"
            ],
            "application/vnd.google.colaboratory.intrinsic+json": {
              "type": "string"
            }
          },
          "metadata": {},
          "execution_count": 12
        }
      ]
    },
    {
      "cell_type": "code",
      "metadata": {
        "id": "D5eZYjTiPM5k"
      },
      "source": [
        "en = europarl_en.split('\\n')"
      ],
      "execution_count": null,
      "outputs": []
    },
    {
      "cell_type": "code",
      "metadata": {
        "id": "-eQ2zW5NPSqY",
        "colab": {
          "base_uri": "https://localhost:8080/"
        },
        "outputId": "67c16d3e-0371-4013-c3dd-95bc8b194b42"
      },
      "source": [
        "len(en)"
      ],
      "execution_count": null,
      "outputs": [
        {
          "output_type": "execute_result",
          "data": {
            "text/plain": [
              "1960408"
            ]
          },
          "metadata": {},
          "execution_count": 14
        }
      ]
    },
    {
      "cell_type": "code",
      "metadata": {
        "id": "WJSDFBzFPWQa",
        "colab": {
          "base_uri": "https://localhost:8080/"
        },
        "outputId": "07801ac8-9a0a-4a4c-9ab2-7594efd55e93"
      },
      "source": [
        "en[:5]"
      ],
      "execution_count": null,
      "outputs": [
        {
          "output_type": "execute_result",
          "data": {
            "text/plain": [
              "['Resumption of the session',\n",
              " 'I declare resumed the session of the European Parliament adjourned on Friday 17 December 1999, and I would like once again to wish you a happy new year in the hope that you enjoyed a pleasant festive period.',\n",
              " \"Although, as you will have seen, the dreaded 'millennium bug' failed to materialise, still the people in a number of countries suffered a series of natural disasters that truly were dreadful.\",\n",
              " 'You have requested a debate on this subject in the course of the next few days, during this part-session.',\n",
              " \"In the meantime, I should like to observe a minute' s silence, as a number of Members have requested, on behalf of all the victims concerned, particularly those of the terrible storms, in the various countries of the European Union.\"]"
            ]
          },
          "metadata": {},
          "execution_count": 15
        }
      ]
    },
    {
      "cell_type": "code",
      "metadata": {
        "id": "0rVFAtegPeV9"
      },
      "source": [
        "pt = europarl_pt.split('\\n')"
      ],
      "execution_count": null,
      "outputs": []
    },
    {
      "cell_type": "code",
      "metadata": {
        "id": "x_DzVSHJPvxD",
        "colab": {
          "base_uri": "https://localhost:8080/"
        },
        "outputId": "a8d5dd6e-0f5c-45c2-cea2-c29f6db228e4"
      },
      "source": [
        "len(pt)"
      ],
      "execution_count": null,
      "outputs": [
        {
          "output_type": "execute_result",
          "data": {
            "text/plain": [
              "1960408"
            ]
          },
          "metadata": {},
          "execution_count": 17
        }
      ]
    },
    {
      "cell_type": "code",
      "metadata": {
        "id": "3JzKYspxPzF6",
        "colab": {
          "base_uri": "https://localhost:8080/"
        },
        "outputId": "5dd1a22c-cced-4edc-ef18-be8a3354037c"
      },
      "source": [
        "for _ in range(5):\n",
        "  print('-----')\n",
        "  i = random.randint(0, len(en) - 1)\n",
        "  print(en[i])\n",
        "  print(pt[i])"
      ],
      "execution_count": null,
      "outputs": [
        {
          "output_type": "stream",
          "name": "stdout",
          "text": [
            "-----\n",
            "Service quality and innovation are likely to be improved.\n",
            "A qualidade do serviço e a inovação sofrerão provavelmente melhorias.\n",
            "-----\n",
            "This again is, in my view, unique. Usually our three institutions go their own ways and then try to coordinate a little at the end.\n",
            "Também isto é, quanto a mim, de algum modo inovador pois, na maioria das vezes, as nossas instituições seguem o seu próprio caminho, procurando no fim introduzir ainda alguma coordenação.\n",
            "-----\n",
            "Following this, the Italian authorities, primarily the government, with the cooperation of all local bodies concerned, must move quickly to calculate the cost of the direct damage sustained, in order to meet the deadline of 15 June 2009 for submitting an application for funds within the framework of the European Solidarity Fund.\n",
            "Na sequência disto, as autoridades italianas, em primeiro lugar o governo, com a cooperação de todos os organismos locais, deverão proceder com celeridade para calcular o custo dos danos directos sofridos, com vista a cumprir o prazo de 15 de Junho de 2009 estipulado para apresentar um pedido de intervenção no quadro do Fundo Europeu de Solidariedade.\n",
            "-----\n",
            "My Group supports the rapporteur’s proposal that the budget for the action programme be increased to EUR 1.2 billion.\n",
            "O meu grupo apoia a proposta do relator de aumento do orçamento do programa de acção para 1 200 milhões de euros.\n",
            "-----\n",
            "That is how it should be.\n",
            "É assim que deve ser.\n"
          ]
        }
      ]
    },
    {
      "cell_type": "markdown",
      "metadata": {
        "id": "TEFw0D2vP_Dl"
      },
      "source": [
        "## Limpeza dos dados"
      ]
    },
    {
      "cell_type": "code",
      "metadata": {
        "id": "FstFwA_qQf--"
      },
      "source": [
        "corpus_en = europarl_en\n",
        "corpus_en = re.sub(r\"\\.(?=[0-9]|[a-z]|[A-Z])\", \".$$$\", corpus_en)\n",
        "corpus_en = re.sub(r\".\\$\\$\\$\", '', corpus_en)\n",
        "corpus_en = re.sub(r\" +\", \" \", corpus_en)\n",
        "corpus_en = corpus_en.split('\\n')"
      ],
      "execution_count": null,
      "outputs": []
    },
    {
      "cell_type": "code",
      "metadata": {
        "id": "jfCfrBI9RclA"
      },
      "source": [
        "corpus_pt = europarl_pt\n",
        "corpus_pt = re.sub(r\"\\.(?=[0-9]|[a-z]|[A-Z])\", \".$$$\", corpus_pt)\n",
        "corpus_pt = re.sub(r\".\\$\\$\\$\", '', corpus_pt)\n",
        "corpus_pt = re.sub(r\" +\", \" \", corpus_pt)\n",
        "corpus_pt = corpus_pt.split('\\n')"
      ],
      "execution_count": null,
      "outputs": []
    },
    {
      "cell_type": "code",
      "metadata": {
        "id": "ZHFALYvTRlnd",
        "colab": {
          "base_uri": "https://localhost:8080/"
        },
        "outputId": "2f99592a-5ea4-410a-de41-dfa715c6bc03"
      },
      "source": [
        "len(corpus_en)"
      ],
      "execution_count": null,
      "outputs": [
        {
          "output_type": "execute_result",
          "data": {
            "text/plain": [
              "1960408"
            ]
          },
          "metadata": {},
          "execution_count": 21
        }
      ]
    },
    {
      "cell_type": "code",
      "metadata": {
        "id": "ztnDRbp7RyUR",
        "colab": {
          "base_uri": "https://localhost:8080/"
        },
        "outputId": "cea9cd13-17e4-45f8-cbfa-b78b894a93c5"
      },
      "source": [
        "len(corpus_pt)"
      ],
      "execution_count": null,
      "outputs": [
        {
          "output_type": "execute_result",
          "data": {
            "text/plain": [
              "1960408"
            ]
          },
          "metadata": {},
          "execution_count": 22
        }
      ]
    },
    {
      "cell_type": "markdown",
      "metadata": {
        "id": "s-Y9v8-Tozl2"
      },
      "source": [
        "\n",
        "## Tokenização"
      ]
    },
    {
      "cell_type": "code",
      "metadata": {
        "id": "g2P1ghMRSY8L",
        "colab": {
          "base_uri": "https://localhost:8080/"
        },
        "outputId": "93951b1a-cf3e-4984-bed5-ed9ed5ef92c2"
      },
      "source": [
        "2**13"
      ],
      "execution_count": null,
      "outputs": [
        {
          "output_type": "execute_result",
          "data": {
            "text/plain": [
              "8192"
            ]
          },
          "metadata": {},
          "execution_count": 23
        }
      ]
    },
    {
      "cell_type": "code",
      "metadata": {
        "id": "gpv4D_w3SHsV"
      },
      "source": [
        "# Caso tenha erro por causa de versão use a linha abaixo\n",
        "tokenizer_en = tfds.deprecated.text.SubwordTextEncoder.build_from_corpus(corpus_en, target_vocab_size=2**16)\n",
        "\n",
        "# tokenizer_en = tfds.features.text.SubwordTextEncoder.build_from_corpus(corpus_en, target_vocab_size=2**13)"
      ],
      "execution_count": null,
      "outputs": []
    },
    {
      "cell_type": "code",
      "metadata": {
        "id": "mbs8ymTsTYbi",
        "colab": {
          "base_uri": "https://localhost:8080/"
        },
        "outputId": "b05f5704-81fb-4e89-9676-db7942f2ad6c"
      },
      "source": [
        "tokenizer_en.vocab_size"
      ],
      "execution_count": null,
      "outputs": [
        {
          "output_type": "execute_result",
          "data": {
            "text/plain": [
              "66117"
            ]
          },
          "metadata": {},
          "execution_count": 27
        }
      ]
    },
    {
      "cell_type": "code",
      "metadata": {
        "id": "w4W7---rTeB5"
      },
      "source": [
        "tokenizer_pt = tfds.deprecated.text.SubwordTextEncoder.build_from_corpus(corpus_pt, target_vocab_size=2**13)"
      ],
      "execution_count": null,
      "outputs": []
    },
    {
      "cell_type": "code",
      "metadata": {
        "id": "T8pvMbjfU6m8",
        "colab": {
          "base_uri": "https://localhost:8080/"
        },
        "outputId": "eaaf15a5-903e-484f-f55e-b796d057abca"
      },
      "source": [
        "tokenizer_pt.vocab_size"
      ],
      "execution_count": null,
      "outputs": [
        {
          "output_type": "execute_result",
          "data": {
            "text/plain": [
              "8116"
            ]
          },
          "metadata": {},
          "execution_count": 30
        }
      ]
    },
    {
      "cell_type": "code",
      "metadata": {
        "id": "RBK7J_fwVB-K"
      },
      "source": [
        "vocab_size_en = tokenizer_en.vocab_size + 2\n",
        "vocab_size_pt = tokenizer_pt.vocab_size + 2"
      ],
      "execution_count": null,
      "outputs": []
    },
    {
      "cell_type": "code",
      "metadata": {
        "id": "TUg9yHNnVR0o"
      },
      "source": [
        "inputs = [[vocab_size_en - 2] + tokenizer_en.encode(sentence) + [vocab_size_en - 1] for sentence in corpus_en]"
      ],
      "execution_count": null,
      "outputs": []
    },
    {
      "cell_type": "code",
      "metadata": {
        "id": "zKUVY0_OVpoN",
        "colab": {
          "base_uri": "https://localhost:8080/"
        },
        "outputId": "77ebd5bb-e79a-435e-f678-1297a641072f"
      },
      "source": [
        "for _ in range(5):\n",
        "  print(inputs[random.randint(0, len(inputs) - 1)])"
      ],
      "execution_count": null,
      "outputs": [
        {
          "output_type": "stream",
          "name": "stdout",
          "text": [
            "[66117, 36, 17, 8, 1302, 4, 426, 15, 571, 8, 107, 2176, 119, 231, 16, 6952, 82, 5, 601, 95, 6, 253, 16, 5625, 82, 4, 327, 154, 21, 5722, 2, 6315, 2, 3512, 5, 1716, 75, 7, 61, 46, 172, 1, 22, 106, 65900, 29, 4918, 201, 2656, 1, 550, 3, 3671, 53, 2597, 65907, 66118]\n",
            "[66117, 24, 2056, 1123, 9, 122, 65900, 29, 2179, 5, 147, 4408, 2011, 1007, 65907, 66118]\n",
            "[66117, 6, 543, 491, 2855, 94, 36, 17, 993, 944, 8, 1253, 494, 1, 520, 397, 7, 39, 3, 82, 46, 50832, 65907, 66118]\n",
            "[66117, 24, 4109, 251, 5621, 4883, 5836, 1, 484, 4, 90, 998, 439, 6, 632, 2790, 23875, 2, 20, 190, 20, 443, 278, 10, 1, 5857, 88, 29, 4249, 5, 1430, 6, 545, 92, 355, 5, 1196, 5, 6, 303, 2790, 1992, 545, 5, 16498, 65907, 66118]\n",
            "[66117, 45, 34, 13, 30, 187, 7, 9, 1011, 31, 1, 4022, 453, 65907, 66118]\n"
          ]
        }
      ]
    },
    {
      "cell_type": "code",
      "metadata": {
        "id": "dUNLcWH1WQ5d"
      },
      "source": [
        "outputs = [[vocab_size_pt - 2] + tokenizer_pt.encode(sentence) + [vocab_size_pt - 1] for sentence in corpus_pt]"
      ],
      "execution_count": null,
      "outputs": []
    },
    {
      "cell_type": "code",
      "metadata": {
        "id": "gi77Y1u-W5Sb",
        "colab": {
          "base_uri": "https://localhost:8080/"
        },
        "outputId": "a4050360-610e-4219-8015-eda01c82dae2"
      },
      "source": [
        "for _ in range(5):\n",
        "  print(outputs[random.randint(0, len(outputs) - 1)])"
      ],
      "execution_count": null,
      "outputs": [
        {
          "output_type": "stream",
          "name": "stdout",
          "text": [
            "[8116, 1336, 251, 2831, 46, 242, 7906, 8117]\n",
            "[8116, 7734, 318, 4, 487, 31, 1686, 4718, 24, 575, 8, 188, 7906, 8117]\n",
            "[8116, 97, 5814, 1, 723, 626, 7905, 239, 44, 1, 11, 1405, 1, 9, 6310, 19, 140, 4867, 3139, 7906, 8117]\n",
            "[8116, 1130, 6647, 135, 6, 3, 1387, 802, 1362, 1, 2633, 240, 304, 3133, 7972, 226, 7906, 8117]\n",
            "[8116, 2877, 3875, 1, 7251, 7905, 239, 6, 144, 1084, 1, 288, 642, 28, 775, 7906, 8117]\n"
          ]
        }
      ]
    },
    {
      "cell_type": "markdown",
      "metadata": {
        "id": "bG6AlcFMpC5C"
      },
      "source": [
        "## Remoção de sentenças muito longas"
      ]
    },
    {
      "cell_type": "code",
      "metadata": {
        "id": "beBpYgWmX7Ug"
      },
      "source": [
        "max_length = 15\n",
        "idx_to_remove = [count for count, sent in enumerate(inputs) if len(sent) > max_length]"
      ],
      "execution_count": null,
      "outputs": []
    },
    {
      "cell_type": "code",
      "metadata": {
        "id": "M7Y51ZGxYgQC",
        "colab": {
          "base_uri": "https://localhost:8080/"
        },
        "outputId": "b5df0151-39d9-4a74-82de-2af0975d29c6"
      },
      "source": [
        "len(idx_to_remove)"
      ],
      "execution_count": null,
      "outputs": [
        {
          "output_type": "execute_result",
          "data": {
            "text/plain": [
              "1620999"
            ]
          },
          "metadata": {},
          "execution_count": 39
        }
      ]
    },
    {
      "cell_type": "code",
      "metadata": {
        "id": "KhGXWxrKYq0d"
      },
      "source": [
        "for idx in reversed(idx_to_remove):\n",
        "  del inputs[idx]\n",
        "  del outputs[idx]"
      ],
      "execution_count": null,
      "outputs": []
    },
    {
      "cell_type": "code",
      "metadata": {
        "id": "iLFvIk5LaUvL"
      },
      "source": [
        "idx_to_remove = [count for count, sent in enumerate(outputs) if len(sent) > max_length]"
      ],
      "execution_count": null,
      "outputs": []
    },
    {
      "cell_type": "code",
      "metadata": {
        "id": "dF9Uyfizcn4D",
        "colab": {
          "base_uri": "https://localhost:8080/"
        },
        "outputId": "5207ac8c-7145-477f-ad6a-4e21ac1cc0a5"
      },
      "source": [
        "len(idx_to_remove)"
      ],
      "execution_count": null,
      "outputs": [
        {
          "output_type": "execute_result",
          "data": {
            "text/plain": [
              "120018"
            ]
          },
          "metadata": {},
          "execution_count": 42
        }
      ]
    },
    {
      "cell_type": "code",
      "metadata": {
        "id": "EWdKUhYOcw66"
      },
      "source": [
        "for idx in reversed(idx_to_remove):\n",
        "  del inputs[idx]\n",
        "  del outputs[idx]"
      ],
      "execution_count": null,
      "outputs": []
    },
    {
      "cell_type": "code",
      "metadata": {
        "id": "DWgpUnGGc0_I",
        "colab": {
          "base_uri": "https://localhost:8080/"
        },
        "outputId": "4d997c7b-168d-4954-d1bc-693ffdf75a7d"
      },
      "source": [
        "len(inputs)"
      ],
      "execution_count": null,
      "outputs": [
        {
          "output_type": "execute_result",
          "data": {
            "text/plain": [
              "219391"
            ]
          },
          "metadata": {},
          "execution_count": 44
        }
      ]
    },
    {
      "cell_type": "code",
      "metadata": {
        "id": "_ncA-qtvc3mU",
        "colab": {
          "base_uri": "https://localhost:8080/"
        },
        "outputId": "c3f8c03a-3fd8-49f5-c2b9-827bcf505018"
      },
      "source": [
        "len(outputs)"
      ],
      "execution_count": null,
      "outputs": [
        {
          "output_type": "execute_result",
          "data": {
            "text/plain": [
              "219391"
            ]
          },
          "metadata": {},
          "execution_count": 45
        }
      ]
    },
    {
      "cell_type": "markdown",
      "metadata": {
        "id": "Ypm8h5aZQTZ1"
      },
      "source": [
        "## Padding e batches"
      ]
    },
    {
      "cell_type": "code",
      "metadata": {
        "id": "NdABR5kof67b"
      },
      "source": [
        "inputs = tf.keras.preprocessing.sequence.pad_sequences(inputs, value=0, padding = 'post', maxlen=max_length)\n",
        "outputs = tf.keras.preprocessing.sequence.pad_sequences(outputs, value=0, padding = 'post', maxlen=max_length)"
      ],
      "execution_count": null,
      "outputs": []
    },
    {
      "cell_type": "code",
      "metadata": {
        "id": "jQkr9qj2ge1P",
        "colab": {
          "base_uri": "https://localhost:8080/"
        },
        "outputId": "56a7e1a6-a4c0-44b5-a9b8-d5c38327d132"
      },
      "source": [
        "for _ in range(5):\n",
        "  print(outputs[random.randint(0, len(outputs) - 1)])"
      ],
      "execution_count": null,
      "outputs": [
        {
          "output_type": "stream",
          "name": "stdout",
          "text": [
            "[8116 1800   18 2846    2   13  349 3960   80 7906 8117    0    0    0\n",
            "    0]\n",
            "[8116  296   18    3   52  743  446   11 2995   29   13 1052  454 7906\n",
            " 8117]\n",
            "[8116 1120 4409   57 2002 3365 7906 8117    0    0    0    0    0    0\n",
            "    0]\n",
            "[8116 3192 7892    3  314    8 7034 7608 7923 8117    0    0    0    0\n",
            "    0]\n",
            "[8116 7900 2329 7901 8117    0    0    0    0    0    0    0    0    0\n",
            "    0]\n"
          ]
        }
      ]
    },
    {
      "cell_type": "markdown",
      "metadata": {
        "id": "Wgh_KgNJPlvf"
      },
      "source": [
        "from_tensor_slices: https://www.geeksforgeeks.org/tensorflow-tf-data-dataset-from_tensor_slices/\n",
        "\n",
        "cache e prefetch: https://www.tensorflow.org/guide/data_performance"
      ]
    },
    {
      "cell_type": "code",
      "metadata": {
        "id": "lTL-bfDsgoo0"
      },
      "source": [
        "batch_size = 64\n",
        "buffer_size = 20000\n",
        "\n",
        "dataset = tf.data.Dataset.from_tensor_slices((inputs, outputs))\n",
        "dataset = dataset.cache()\n",
        "dataset = dataset.shuffle(buffer_size).batch(batch_size)\n",
        "dataset = dataset.prefetch(tf.data.experimental.AUTOTUNE)"
      ],
      "execution_count": null,
      "outputs": []
    },
    {
      "cell_type": "markdown",
      "metadata": {
        "id": "ycT0YqydRcUd"
      },
      "source": [
        "# Etapa 3: Construção do modelo"
      ]
    },
    {
      "cell_type": "markdown",
      "metadata": {
        "id": "-SBoH8G4XyR9"
      },
      "source": [
        "## Embedding"
      ]
    },
    {
      "cell_type": "markdown",
      "metadata": {
        "id": "7G9C3ucmJ86I"
      },
      "source": [
        "Positional encoding:\n",
        "\n",
        "$PE_{(pos,2i)} =\\sin(pos/10000^{2i/dmodel})$\n",
        "\n",
        "$PE_{(pos,2i+1)} =\\cos(pos/10000^{2i/dmodel})$"
      ]
    },
    {
      "cell_type": "markdown",
      "metadata": {
        "id": "hfzJfp_RmhyX"
      },
      "source": [
        "- The positional encodings have the same dimension dmodel\n",
        "as the embeddings, so that the two can be summed"
      ]
    },
    {
      "cell_type": "code",
      "metadata": {
        "id": "e2wc6sYlX0dr"
      },
      "source": [
        "class PositionalEncoding(layers.Layer):\n",
        "\n",
        "    def __init__(self):\n",
        "      super(PositionalEncoding, self).__init__()\n",
        "\n",
        "    def get_angles(self, pos, i, d_model):\n",
        "      angles = 1 / np.power(10000., (2*(i // 2)) / np.float32(d_model))\n",
        "      return pos * angles # (seq_lenght, d_model)\n",
        "\n",
        "    def call(self, inputs):\n",
        "      seq_lenght = inputs.shape.as_list()[-2]\n",
        "      d_model = inputs.shape.as_list()[-1]\n",
        "      angles = self.get_angles(np.arange(seq_lenght)[:, np.newaxis],\n",
        "                               np.arange(d_model)[np.newaxis, :], d_model)\n",
        "      angles[:, 0::2] = np.sin(angles[:, 0::2])\n",
        "      angles[:, 1::2] = np.cos(angles[:, 1::2])\n",
        "      pos_encoding = angles[np.newaxis, ...]\n",
        "      return inputs + tf.cast(pos_encoding, tf.float32)"
      ],
      "execution_count": null,
      "outputs": []
    },
    {
      "cell_type": "markdown",
      "metadata": {
        "id": "lcw8YIQqRhOJ"
      },
      "source": [
        "## Mecanismo de atenção"
      ]
    },
    {
      "cell_type": "markdown",
      "metadata": {
        "id": "3sffhwwvX-wj"
      },
      "source": [
        "### Cálculo da atenção"
      ]
    },
    {
      "cell_type": "markdown",
      "metadata": {
        "id": "7VBuW6lESLDX"
      },
      "source": [
        "$Attention(Q, K, V ) = \\text{softmax}\\left(\\dfrac{QK^T}{\\sqrt{d_k}}\\right)V $"
      ]
    },
    {
      "cell_type": "code",
      "metadata": {
        "id": "2rEoCNJURbrT"
      },
      "source": [
        "def scaled_dot_product_attention(queries, keys, values, mask):\n",
        "  product = tf.matmul(queries, keys, transpose_b=True)\n",
        "  keys_dim = tf.cast(tf.shape(keys)[-1], tf.float32)\n",
        "  scaled_product = product / tf.math.sqrt(keys_dim)\n",
        "\n",
        "  if mask is not None:\n",
        "    scaled_product += (mask * -1e9) # 0.0000000001\n",
        "\n",
        "  attention = tf.matmul(tf.nn.softmax(scaled_product, axis=-1), values)\n",
        "  return attention"
      ],
      "execution_count": null,
      "outputs": []
    },
    {
      "cell_type": "markdown",
      "metadata": {
        "id": "-MjtvXrfYEx7"
      },
      "source": [
        "### Multi-head attention sublayer"
      ]
    },
    {
      "cell_type": "code",
      "metadata": {
        "id": "lvq4I9uTX5p7"
      },
      "source": [
        "class MultiHeadAttention(layers.Layer):\n",
        "\n",
        "    def __init__(self, nb_proj):\n",
        "      super(MultiHeadAttention, self).__init__()\n",
        "      self.nb_proj = nb_proj\n",
        "\n",
        "    def build(self, input_shape):\n",
        "      self.d_model = input_shape[-1]\n",
        "      assert self.d_model % self.nb_proj == 0\n",
        "\n",
        "      self.d_proj = self.d_model // self.nb_proj\n",
        "\n",
        "      self.query_lin = layers.Dense(units = self.d_model)\n",
        "      self.key_lin = layers.Dense(units = self.d_model)\n",
        "      self.value_lin = layers.Dense(units = self.d_model)\n",
        "\n",
        "      self.final_lin = layers.Dense(units = self.d_model)\n",
        "\n",
        "    def split_proj(self, inputs, batch_size): # inputs: (batch_size, seq_lenght, d_model)\n",
        "      shape = (batch_size, -1, self.nb_proj, self.d_proj)\n",
        "      splited_inputs = tf.reshape(inputs, shape = shape) # (batch_size, seq_lenght, nb_proj, d_proj)\n",
        "      return tf.transpose(splited_inputs, perm=[0, 2, 1, 3]) # (batch_size, nb_proj, seq_lenght, d_proj)\n",
        "\n",
        "    def call(self, queries, keys, values, mask):\n",
        "      batch_size = tf.shape(queries)[0]\n",
        "\n",
        "      queries = self.query_lin(queries)\n",
        "      keys = self.key_lin(keys)\n",
        "      values = self.value_lin(values)\n",
        "\n",
        "      queries = self.split_proj(queries, batch_size)\n",
        "      keys = self.split_proj(keys, batch_size)\n",
        "      values = self.split_proj(values, batch_size)\n",
        "\n",
        "      attention = scaled_dot_product_attention(queries, keys, values, mask)\n",
        "\n",
        "      attention = tf.transpose(attention, perm=[0, 2, 1, 3])\n",
        "\n",
        "      concat_attention = tf.reshape(attention, shape=(batch_size, -1, self.d_model))\n",
        "\n",
        "      outputs = self.final_lin(concat_attention)\n",
        "\n",
        "      return outputs"
      ],
      "execution_count": null,
      "outputs": []
    },
    {
      "cell_type": "markdown",
      "metadata": {
        "id": "yiyuHe1OeT5N"
      },
      "source": [
        "## Encoder"
      ]
    },
    {
      "cell_type": "code",
      "metadata": {
        "id": "UV0ZMH7KT_KZ"
      },
      "source": [
        "class EncoderLayer(layers.Layer):\n",
        "\n",
        "    def __init__(self, FFN_units, nb_proj, dropout_rate):\n",
        "      super(EncoderLayer, self).__init__()\n",
        "      self.FFN_units = FFN_units\n",
        "      self.nb_proj = nb_proj\n",
        "      self.dropout_rate = dropout_rate\n",
        "\n",
        "    def build(self, input_shape):\n",
        "      self.d_model = input_shape[-1]\n",
        "\n",
        "      self.multi_head_attention = MultiHeadAttention(self.nb_proj)\n",
        "      self.dropout_1 = layers.Dropout(rate=self.dropout_rate)\n",
        "      self.norm_1 = layers.LayerNormalization(epsilon=1e-6) # 0.0000001\n",
        "\n",
        "      self.dense_1 = layers.Dense(units=self.FFN_units, activation='relu')\n",
        "      self.dense_2 = layers.Dense(units=self.d_model, activation='relu')\n",
        "      self.dropout_2 = layers.Dropout(rate=self.dropout_rate)\n",
        "\n",
        "      self.norm_2 = layers.LayerNormalization(epsilon=1e-6)\n",
        "\n",
        "    def call(self, inputs, mask, training):\n",
        "      attention = self.multi_head_attention(inputs, inputs, inputs, mask)\n",
        "      attention = self.dropout_1(attention, training = training)\n",
        "      attention = self.norm_1(attention + inputs)\n",
        "\n",
        "      outputs = self.dense_1(attention)\n",
        "      outputs = self.dense_2(outputs)\n",
        "      outputs = self.dropout_2(outputs, training=training)\n",
        "      outputs = self.norm_2(outputs + attention)\n",
        "\n",
        "      return outputs"
      ],
      "execution_count": null,
      "outputs": []
    },
    {
      "cell_type": "code",
      "metadata": {
        "id": "P-P92KeZih60"
      },
      "source": [
        "class Encoder(layers.Layer):\n",
        "\n",
        "    def __init__(self,\n",
        "                 nb_layers,\n",
        "                 FFN_units,\n",
        "                 nb_proj,\n",
        "                 dropout_rate,\n",
        "                 vocab_size,\n",
        "                 d_model,\n",
        "                 name=\"encoder\"):\n",
        "      super(Encoder, self).__init__(name=name)\n",
        "      self.nb_layers = nb_layers\n",
        "      self.d_model = d_model\n",
        "\n",
        "      self.embedding = layers.Embedding(vocab_size, d_model)\n",
        "      self.pos_encoding = PositionalEncoding()\n",
        "      self.dropout = layers.Dropout(rate=dropout_rate)\n",
        "      self.enc_layers = [EncoderLayer(FFN_units, nb_proj, dropout_rate) for _ in range(nb_layers)]\n",
        "\n",
        "\n",
        "    def call(self, inputs, mask, training):\n",
        "      outputs = self.embedding(inputs)\n",
        "      outputs *= tf.math.sqrt(tf.cast(self.d_model, tf.float32))\n",
        "      outputs = self.pos_encoding(outputs)\n",
        "      outputs = self.dropout(outputs, training)\n",
        "\n",
        "      for i in range(self.nb_layers):\n",
        "        outputs = self.enc_layers[i](outputs, mask, training)\n",
        "\n",
        "      return outputs"
      ],
      "execution_count": null,
      "outputs": []
    },
    {
      "cell_type": "markdown",
      "metadata": {
        "id": "7DthraBEwuvl"
      },
      "source": [
        "## Decoder"
      ]
    },
    {
      "cell_type": "code",
      "metadata": {
        "id": "7ZWZyFBnwy8u"
      },
      "source": [
        "class DecoderLayer(layers.Layer):\n",
        "\n",
        "    def __init__(self, FFN_units, nb_proj, dropout_rate):\n",
        "      super(DecoderLayer, self).__init__()\n",
        "      self.FFN_units = FFN_units\n",
        "      self.nb_proj = nb_proj\n",
        "      self.dropout_rate = dropout_rate\n",
        "\n",
        "    def build(self, input_shape):\n",
        "      self.d_model = input_shape[-1]\n",
        "\n",
        "      self.multi_head_attention_1 = MultiHeadAttention(self.nb_proj)\n",
        "      self.dropout_1 = layers.Dropout(rate=self.dropout_rate)\n",
        "      self.norm_1 = layers.LayerNormalization(epsilon=1e-6)\n",
        "\n",
        "      self.multi_head_attention_2 = MultiHeadAttention(self.nb_proj)\n",
        "      self.dropout_2 = layers.Dropout(rate=self.dropout_rate)\n",
        "      self.norm_2 = layers.LayerNormalization(epsilon=1e-6)\n",
        "\n",
        "      self.dense_1 = layers.Dense(units = self.FFN_units, activation='relu')\n",
        "      self.dense_2 = layers.Dense(units = self.d_model, activation='relu')\n",
        "      self.dropout_3 = layers.Dropout(rate=self.dropout_rate)\n",
        "      self.norm_3 = layers.LayerNormalization(epsilon=1e-6)\n",
        "\n",
        "    def call(self, inputs, enc_outputs, mask_1, mask_2, training):\n",
        "      attention = self.multi_head_attention_1(inputs, inputs, inputs, mask_1)\n",
        "      attention = self.dropout_1(attention, training)\n",
        "      attention = self.norm_1(attention + inputs)\n",
        "\n",
        "      attention_2 = self.multi_head_attention_2(attention, enc_outputs, enc_outputs, mask_2)\n",
        "      attention_2 = self.dropout_2(attention_2, training)\n",
        "      attention_2 = self.norm_2(attention_2 + attention)\n",
        "\n",
        "      outputs = self.dense_1(attention_2)\n",
        "      outputs = self.dense_2(outputs)\n",
        "      outputs = self.dropout_3(outputs, training)\n",
        "      outputs = self.norm_3(outputs + attention_2)\n",
        "\n",
        "      return outputs"
      ],
      "execution_count": null,
      "outputs": []
    },
    {
      "cell_type": "code",
      "metadata": {
        "id": "kpzdiWHiwywF"
      },
      "source": [
        "class Decoder(layers.Layer):\n",
        "\n",
        "    def __init__(self,\n",
        "                 nb_layers,\n",
        "                 FFN_units,\n",
        "                 nb_proj,\n",
        "                 dropout_rate,\n",
        "                 vocab_size,\n",
        "                 d_model,\n",
        "                 name=\"decoder\"):\n",
        "      super(Decoder, self).__init__(name=name)\n",
        "      self.d_model = d_model\n",
        "      self.nb_layers = nb_layers\n",
        "\n",
        "      self.embedding = layers.Embedding(vocab_size, d_model)\n",
        "      self.pos_encoding = PositionalEncoding()\n",
        "      self.dropout = layers.Dropout(rate=dropout_rate)\n",
        "\n",
        "      self.dec_layers = [DecoderLayer(FFN_units, nb_proj, dropout_rate) for i in range(nb_layers)]\n",
        "\n",
        "    def call(self, inputs, enc_outputs, mask_1, mask_2, training):\n",
        "      outputs = self.embedding(inputs)\n",
        "      outputs *= tf.math.sqrt(tf.cast(self.d_model, tf.float32))\n",
        "      outputs = self.pos_encoding(outputs)\n",
        "      outputs = self.dropout(outputs, training)\n",
        "\n",
        "      for i in range(self.nb_layers):\n",
        "        outputs = self.dec_layers[i](outputs, enc_outputs, mask_1, mask_2, training)\n",
        "\n",
        "      return outputs"
      ],
      "execution_count": null,
      "outputs": []
    },
    {
      "cell_type": "markdown",
      "metadata": {
        "id": "x5sJYkjbz5DD"
      },
      "source": [
        "## Transformer\n",
        "\n",
        "- Matriz triangular: https://mundoeducacao.bol.uol.com.br/matematica/matriz-triangular.htm"
      ]
    },
    {
      "cell_type": "code",
      "metadata": {
        "id": "GqvqNjJPwyh-"
      },
      "source": [
        "class Transformer(tf.keras.Model):\n",
        "\n",
        "    def __init__(self,\n",
        "                 vocab_size_enc,\n",
        "                 vocab_size_dec,\n",
        "                 d_model,\n",
        "                 nb_layers,\n",
        "                 FFN_units,\n",
        "                 nb_proj,\n",
        "                 dropout_rate,\n",
        "                 name=\"transformer\"):\n",
        "        super(Transformer, self).__init__(name=name)\n",
        "\n",
        "        self.encoder = Encoder(nb_layers, FFN_units, nb_proj, dropout_rate,\n",
        "                               vocab_size_enc, d_model)\n",
        "        self.decoder = Decoder(nb_layers, FFN_units, nb_proj, dropout_rate,\n",
        "                               vocab_size_dec, d_model)\n",
        "        self.last_linear = layers.Dense(units=vocab_size_dec, name='lin_output')\n",
        "\n",
        "    def create_padding_mask(self, seq): # (batch_size, seq_length) -> (batch_size, nb_proj, seq_lenght, d_proj)\n",
        "      mask = tf.cast(tf.math.equal(seq, 0), tf.float32)\n",
        "      return mask[:, tf.newaxis, tf.newaxis, :]\n",
        "\n",
        "    def create_look_ahead_mask(self, seq):\n",
        "      seq_len = tf.shape(seq)[1]\n",
        "      look_ahed_mask = 1 - tf.linalg.band_part(tf.ones((seq_len, seq_len)), -1, 0)\n",
        "      return look_ahed_mask\n",
        "\n",
        "    def call(self, enc_inputs, dec_inputs, training):\n",
        "      enc_mask = self.create_padding_mask(enc_inputs)\n",
        "      dec_mask_1 = tf.maximum(self.create_padding_mask(dec_inputs), self.create_look_ahead_mask(dec_inputs))\n",
        "      dec_mask_2 = self.create_padding_mask(enc_inputs)\n",
        "\n",
        "      enc_outputs = self.encoder(enc_inputs, enc_mask, training)\n",
        "      dec_outputs = self.decoder(dec_inputs, enc_outputs, dec_mask_1, dec_mask_2, training)\n",
        "\n",
        "      outputs = self.last_linear(dec_outputs)\n",
        "\n",
        "      return outputs"
      ],
      "execution_count": null,
      "outputs": []
    },
    {
      "cell_type": "markdown",
      "metadata": {
        "id": "bA9xWT8YQwop"
      },
      "source": [
        "## Código somente para testes"
      ]
    },
    {
      "cell_type": "code",
      "metadata": {
        "id": "tUact3PNMdF8"
      },
      "source": [
        "# Código somente para testes\n",
        "\n",
        "def create_padding_mask(seq): # (batch_size, seq_length) -> (batch_size, nb_proj, seq_lenght, d_proj)\n",
        "  mask = tf.cast(tf.math.equal(seq, 0), tf.float32)\n",
        "  return mask[:, tf.newaxis, tf.newaxis, :]\n",
        "\n",
        "def create_look_ahead_mask(seq):\n",
        "  seq_len = tf.shape(seq)[1]\n",
        "  look_ahed_mask = 1 - tf.linalg.band_part(tf.ones((seq_len, seq_len)), -1, 0)\n",
        "  return look_ahed_mask"
      ],
      "execution_count": null,
      "outputs": []
    },
    {
      "cell_type": "code",
      "metadata": {
        "id": "Dt17R_45NrXZ",
        "colab": {
          "base_uri": "https://localhost:8080/",
          "height": 175
        },
        "outputId": "8f218a64-846d-4742-aeb1-77fbe80576c2"
      },
      "source": [
        "create_padding_mask(seq)"
      ],
      "execution_count": null,
      "outputs": [
        {
          "output_type": "error",
          "ename": "NameError",
          "evalue": "ignored",
          "traceback": [
            "\u001b[0;31m---------------------------------------------------------------------------\u001b[0m",
            "\u001b[0;31mNameError\u001b[0m                                 Traceback (most recent call last)",
            "\u001b[0;32m<ipython-input-61-9303eb57507d>\u001b[0m in \u001b[0;36m<cell line: 1>\u001b[0;34m()\u001b[0m\n\u001b[0;32m----> 1\u001b[0;31m \u001b[0mcreate_padding_mask\u001b[0m\u001b[0;34m(\u001b[0m\u001b[0mseq\u001b[0m\u001b[0;34m)\u001b[0m\u001b[0;34m\u001b[0m\u001b[0;34m\u001b[0m\u001b[0m\n\u001b[0m",
            "\u001b[0;31mNameError\u001b[0m: name 'seq' is not defined"
          ]
        }
      ]
    },
    {
      "cell_type": "code",
      "metadata": {
        "id": "8IrBb52AOZjJ",
        "colab": {
          "base_uri": "https://localhost:8080/",
          "height": 175
        },
        "outputId": "97711ba7-e87a-4103-ef8d-9ae30a423970"
      },
      "source": [
        "create_look_ahead_mask(seq)"
      ],
      "execution_count": null,
      "outputs": [
        {
          "output_type": "error",
          "ename": "NameError",
          "evalue": "ignored",
          "traceback": [
            "\u001b[0;31m---------------------------------------------------------------------------\u001b[0m",
            "\u001b[0;31mNameError\u001b[0m                                 Traceback (most recent call last)",
            "\u001b[0;32m<ipython-input-62-894317b99c84>\u001b[0m in \u001b[0;36m<cell line: 1>\u001b[0;34m()\u001b[0m\n\u001b[0;32m----> 1\u001b[0;31m \u001b[0mcreate_look_ahead_mask\u001b[0m\u001b[0;34m(\u001b[0m\u001b[0mseq\u001b[0m\u001b[0;34m)\u001b[0m\u001b[0;34m\u001b[0m\u001b[0;34m\u001b[0m\u001b[0m\n\u001b[0m",
            "\u001b[0;31mNameError\u001b[0m: name 'seq' is not defined"
          ]
        }
      ]
    },
    {
      "cell_type": "code",
      "metadata": {
        "id": "oArT_ZqMMkuK",
        "colab": {
          "base_uri": "https://localhost:8080/",
          "height": 173
        },
        "outputId": "c576ec6f-8443-4b40-d2ef-4df1894a70ae"
      },
      "source": [
        "seq = tf.cast([[837, 836, 0, 273, 8, 0, 0, 0]], tf.int32)\n",
        "tf.maximum(create_padding_mask(seq), create_look_ahead_mask(seq))"
      ],
      "execution_count": null,
      "outputs": [
        {
          "output_type": "execute_result",
          "data": {
            "text/plain": [
              "<tf.Tensor: shape=(1, 1, 8, 8), dtype=float32, numpy=\n",
              "array([[[[0., 1., 1., 1., 1., 1., 1., 1.],\n",
              "         [0., 0., 1., 1., 1., 1., 1., 1.],\n",
              "         [0., 0., 1., 1., 1., 1., 1., 1.],\n",
              "         [0., 0., 1., 0., 1., 1., 1., 1.],\n",
              "         [0., 0., 1., 0., 0., 1., 1., 1.],\n",
              "         [0., 0., 1., 0., 0., 1., 1., 1.],\n",
              "         [0., 0., 1., 0., 0., 1., 1., 1.],\n",
              "         [0., 0., 1., 0., 0., 1., 1., 1.]]]], dtype=float32)>"
            ]
          },
          "metadata": {
            "tags": []
          },
          "execution_count": 78
        }
      ]
    },
    {
      "cell_type": "markdown",
      "metadata": {
        "id": "-c-LRThUPrso"
      },
      "source": [
        "# Treinamento"
      ]
    },
    {
      "cell_type": "code",
      "metadata": {
        "id": "1z1SYWDhQ-_m"
      },
      "source": [
        "tf.keras.backend.clear_session()\n",
        "\n",
        "d_model = 128 # 512\n",
        "nb_layers = 4 # 6\n",
        "ffn_units = 512 # 2048\n",
        "nb_proj = 8 # 8\n",
        "dropout_rate = 0.1 # 0.1"
      ],
      "execution_count": null,
      "outputs": []
    },
    {
      "cell_type": "code",
      "metadata": {
        "id": "NLrkr3Z2xfB3"
      },
      "source": [
        "transformer = Transformer(vocab_size_enc=vocab_size_en,\n",
        "                          vocab_size_dec=vocab_size_pt,\n",
        "                          d_model=d_model,\n",
        "                          nb_layers=nb_layers,\n",
        "                          FFN_units=ffn_units,\n",
        "                          nb_proj=nb_proj,\n",
        "                          dropout_rate=dropout_rate)"
      ],
      "execution_count": null,
      "outputs": []
    },
    {
      "cell_type": "code",
      "metadata": {
        "id": "HTJf8byN0Hc4"
      },
      "source": [
        "loss_object = tf.keras.losses.SparseCategoricalCrossentropy(from_logits=True,\n",
        "                                                            reduction='none')"
      ],
      "execution_count": null,
      "outputs": []
    },
    {
      "cell_type": "code",
      "metadata": {
        "id": "ipaSsj7f1A-a"
      },
      "source": [
        "def loss_function(target, pred):\n",
        "  mask = tf.math.logical_not(tf.math.equal(target, 0))\n",
        "  loss_ = loss_object(target, pred)\n",
        "\n",
        "  mask = tf.cast(mask, dtype=loss_.dtype)\n",
        "  loss_ *= mask\n",
        "\n",
        "  return tf.reduce_mean(loss_)"
      ],
      "execution_count": null,
      "outputs": []
    },
    {
      "cell_type": "code",
      "metadata": {
        "id": "c0848DUA2Qer"
      },
      "source": [
        "train_loss = tf.keras.metrics.Mean(name='train_loss')\n",
        "train_accuracy = tf.keras.metrics.SparseCategoricalAccuracy(name='train_accuracy')"
      ],
      "execution_count": null,
      "outputs": []
    },
    {
      "cell_type": "code",
      "metadata": {
        "id": "mTtdQq4v2sN1"
      },
      "source": [
        "class CustomSchedule(tf.keras.optimizers.schedules.LearningRateSchedule):\n",
        "\n",
        "  def __init__(self, d_model, warmup_steps=4000):\n",
        "    super(CustomSchedule, self).__init__()\n",
        "\n",
        "    self.d_model = tf.cast(d_model, tf.float32)\n",
        "    self.warmup_steps = warmup_steps\n",
        "\n",
        "  def __call__(self, step):\n",
        "    arg1 = tf.math.rsqrt(step)\n",
        "    arg2 = step * (self.warmup_steps ** -1.5)\n",
        "\n",
        "    return tf.math.rsqrt(self.d_model) * tf.math.minimum(arg1, arg2)"
      ],
      "execution_count": null,
      "outputs": []
    },
    {
      "cell_type": "code",
      "metadata": {
        "id": "yYA3kAnP4okk"
      },
      "source": [
        "learning_rate = CustomSchedule(d_model)"
      ],
      "execution_count": null,
      "outputs": []
    },
    {
      "cell_type": "code",
      "metadata": {
        "id": "DzawICsM40Gc"
      },
      "source": [
        "optimizer = tf.keras.optimizers.Adam(learning_rate, beta_1=0.9, beta_2=0.98, epsilon=1e-9)"
      ],
      "execution_count": null,
      "outputs": []
    },
    {
      "cell_type": "code",
      "metadata": {
        "id": "MeVrjXDZ6BN_",
        "colab": {
          "base_uri": "https://localhost:8080/",
          "height": 35
        },
        "outputId": "5435a250-0cfc-44ab-ec6a-0121c2f26816"
      },
      "source": [
        "checkpoint_path = \"/content/drive/My Drive/tradutor\"\n",
        "ckpt = tf.train.Checkpoint(transformer=transformer,\n",
        "                           optimizer=optimizer)\n",
        "ckpt_manager = tf.train.CheckpointManager(ckpt, checkpoint_path, max_to_keep=5)\n",
        "if ckpt_manager.latest_checkpoint:\n",
        "  ckpt.restore(ckpt_manager.latest_checkpoint)\n",
        "  print('Latest checkpoint restored')"
      ],
      "execution_count": null,
      "outputs": [
        {
          "output_type": "stream",
          "text": [
            "Latest checkpoint restored\n"
          ],
          "name": "stdout"
        }
      ]
    },
    {
      "cell_type": "code",
      "metadata": {
        "id": "Ytr3z2nb7ICt",
        "colab": {
          "base_uri": "https://localhost:8080/",
          "height": 1000
        },
        "outputId": "891fbaa7-c902-47d9-a41e-d7675a22b3ea"
      },
      "source": [
        "epochs = 10\n",
        "for epoch in range(epochs):\n",
        "  print('Start or epoch {}'.format(epoch + 1))\n",
        "  start = time.time()\n",
        "\n",
        "  train_loss.reset_states()\n",
        "  train_accuracy.reset_states()\n",
        "\n",
        "  for (batch, (enc_inputs, targets)) in enumerate(dataset):\n",
        "    dec_inputs = targets[:, :-1]\n",
        "    dec_outputs_real = targets[:, 1:]\n",
        "    with tf.GradientTape() as tape:\n",
        "      predictions = transformer(enc_inputs, dec_inputs, True)\n",
        "      loss = loss_function(dec_outputs_real, predictions)\n",
        "\n",
        "    gradients = tape.gradient(loss, transformer.trainable_variables)\n",
        "    optimizer.apply_gradients(zip(gradients, transformer.trainable_variables))\n",
        "\n",
        "    train_loss(loss)\n",
        "    train_accuracy(dec_outputs_real, predictions)\n",
        "\n",
        "    if batch % 50 == 0:\n",
        "      print('Epoch {} Batch {} Loss {:.4f} Accuracy {:.4f}'.format(epoch+1, batch, train_loss.result(), train_accuracy.result()))\n",
        "\n",
        "  ckpt_save_path = ckpt_manager.save()\n",
        "  print('Saving checkpoint for epoch {} at {}'.format(epoch + 1, ckpt_save_path))\n",
        "  print('Time taken for 1 epoch {} secs\\n'.format(time.time() - start))"
      ],
      "execution_count": null,
      "outputs": [
        {
          "output_type": "stream",
          "text": [
            "Start or epoch 1\n",
            "Epoch 1 Batch 0 Loss 6.6433 Accuracy 0.0000\n",
            "Epoch 1 Batch 50 Loss 6.4206 Accuracy 0.0143\n",
            "Epoch 1 Batch 100 Loss 6.3457 Accuracy 0.0426\n",
            "Epoch 1 Batch 150 Loss 6.2395 Accuracy 0.0522\n",
            "WARNING:tensorflow:Unresolved object in checkpoint: (root).optimizer.iter\n"
          ],
          "name": "stdout"
        },
        {
          "output_type": "stream",
          "text": [
            "WARNING:tensorflow:Unresolved object in checkpoint: (root).optimizer.iter\n"
          ],
          "name": "stderr"
        },
        {
          "output_type": "stream",
          "text": [
            "WARNING:tensorflow:Unresolved object in checkpoint: (root).optimizer.beta_1\n"
          ],
          "name": "stdout"
        },
        {
          "output_type": "stream",
          "text": [
            "WARNING:tensorflow:Unresolved object in checkpoint: (root).optimizer.beta_1\n"
          ],
          "name": "stderr"
        },
        {
          "output_type": "stream",
          "text": [
            "WARNING:tensorflow:Unresolved object in checkpoint: (root).optimizer.beta_2\n"
          ],
          "name": "stdout"
        },
        {
          "output_type": "stream",
          "text": [
            "WARNING:tensorflow:Unresolved object in checkpoint: (root).optimizer.beta_2\n"
          ],
          "name": "stderr"
        },
        {
          "output_type": "stream",
          "text": [
            "WARNING:tensorflow:Unresolved object in checkpoint: (root).optimizer.decay\n"
          ],
          "name": "stdout"
        },
        {
          "output_type": "stream",
          "text": [
            "WARNING:tensorflow:Unresolved object in checkpoint: (root).optimizer.decay\n"
          ],
          "name": "stderr"
        },
        {
          "output_type": "stream",
          "text": [
            "WARNING:tensorflow:Unresolved object in checkpoint: (root).transformer.last_linear.kernel\n"
          ],
          "name": "stdout"
        },
        {
          "output_type": "stream",
          "text": [
            "WARNING:tensorflow:Unresolved object in checkpoint: (root).transformer.last_linear.kernel\n"
          ],
          "name": "stderr"
        },
        {
          "output_type": "stream",
          "text": [
            "WARNING:tensorflow:Unresolved object in checkpoint: (root).transformer.last_linear.bias\n"
          ],
          "name": "stdout"
        },
        {
          "output_type": "stream",
          "text": [
            "WARNING:tensorflow:Unresolved object in checkpoint: (root).transformer.last_linear.bias\n"
          ],
          "name": "stderr"
        },
        {
          "output_type": "stream",
          "text": [
            "WARNING:tensorflow:Unresolved object in checkpoint: (root).transformer.encoder.embedding.embeddings\n"
          ],
          "name": "stdout"
        },
        {
          "output_type": "stream",
          "text": [
            "WARNING:tensorflow:Unresolved object in checkpoint: (root).transformer.encoder.embedding.embeddings\n"
          ],
          "name": "stderr"
        },
        {
          "output_type": "stream",
          "text": [
            "WARNING:tensorflow:Unresolved object in checkpoint: (root).transformer.decoder.embedding.embeddings\n"
          ],
          "name": "stdout"
        },
        {
          "output_type": "stream",
          "text": [
            "WARNING:tensorflow:Unresolved object in checkpoint: (root).transformer.decoder.embedding.embeddings\n"
          ],
          "name": "stderr"
        },
        {
          "output_type": "stream",
          "text": [
            "WARNING:tensorflow:Unresolved object in checkpoint: (root).transformer.encoder.enc_layers.0.multi_head_attention\n"
          ],
          "name": "stdout"
        },
        {
          "output_type": "stream",
          "text": [
            "WARNING:tensorflow:Unresolved object in checkpoint: (root).transformer.encoder.enc_layers.0.multi_head_attention\n"
          ],
          "name": "stderr"
        },
        {
          "output_type": "stream",
          "text": [
            "WARNING:tensorflow:Unresolved object in checkpoint: (root).transformer.encoder.enc_layers.0.dropout_1\n"
          ],
          "name": "stdout"
        },
        {
          "output_type": "stream",
          "text": [
            "WARNING:tensorflow:Unresolved object in checkpoint: (root).transformer.encoder.enc_layers.0.dropout_1\n"
          ],
          "name": "stderr"
        },
        {
          "output_type": "stream",
          "text": [
            "WARNING:tensorflow:Unresolved object in checkpoint: (root).transformer.encoder.enc_layers.0.norm_1\n"
          ],
          "name": "stdout"
        },
        {
          "output_type": "stream",
          "text": [
            "WARNING:tensorflow:Unresolved object in checkpoint: (root).transformer.encoder.enc_layers.0.norm_1\n"
          ],
          "name": "stderr"
        },
        {
          "output_type": "stream",
          "text": [
            "WARNING:tensorflow:Unresolved object in checkpoint: (root).transformer.encoder.enc_layers.0.dense_1\n"
          ],
          "name": "stdout"
        },
        {
          "output_type": "stream",
          "text": [
            "WARNING:tensorflow:Unresolved object in checkpoint: (root).transformer.encoder.enc_layers.0.dense_1\n"
          ],
          "name": "stderr"
        },
        {
          "output_type": "stream",
          "text": [
            "WARNING:tensorflow:Unresolved object in checkpoint: (root).transformer.encoder.enc_layers.0.dense_2\n"
          ],
          "name": "stdout"
        },
        {
          "output_type": "stream",
          "text": [
            "WARNING:tensorflow:Unresolved object in checkpoint: (root).transformer.encoder.enc_layers.0.dense_2\n"
          ],
          "name": "stderr"
        },
        {
          "output_type": "stream",
          "text": [
            "WARNING:tensorflow:Unresolved object in checkpoint: (root).transformer.encoder.enc_layers.0.dropout_2\n"
          ],
          "name": "stdout"
        },
        {
          "output_type": "stream",
          "text": [
            "WARNING:tensorflow:Unresolved object in checkpoint: (root).transformer.encoder.enc_layers.0.dropout_2\n"
          ],
          "name": "stderr"
        },
        {
          "output_type": "stream",
          "text": [
            "WARNING:tensorflow:Unresolved object in checkpoint: (root).transformer.encoder.enc_layers.0.norm_2\n"
          ],
          "name": "stdout"
        },
        {
          "output_type": "stream",
          "text": [
            "WARNING:tensorflow:Unresolved object in checkpoint: (root).transformer.encoder.enc_layers.0.norm_2\n"
          ],
          "name": "stderr"
        },
        {
          "output_type": "stream",
          "text": [
            "WARNING:tensorflow:Unresolved object in checkpoint: (root).transformer.encoder.enc_layers.1.multi_head_attention\n"
          ],
          "name": "stdout"
        },
        {
          "output_type": "stream",
          "text": [
            "WARNING:tensorflow:Unresolved object in checkpoint: (root).transformer.encoder.enc_layers.1.multi_head_attention\n"
          ],
          "name": "stderr"
        },
        {
          "output_type": "stream",
          "text": [
            "WARNING:tensorflow:Unresolved object in checkpoint: (root).transformer.encoder.enc_layers.1.dropout_1\n"
          ],
          "name": "stdout"
        },
        {
          "output_type": "stream",
          "text": [
            "WARNING:tensorflow:Unresolved object in checkpoint: (root).transformer.encoder.enc_layers.1.dropout_1\n"
          ],
          "name": "stderr"
        },
        {
          "output_type": "stream",
          "text": [
            "WARNING:tensorflow:Unresolved object in checkpoint: (root).transformer.encoder.enc_layers.1.norm_1\n"
          ],
          "name": "stdout"
        },
        {
          "output_type": "stream",
          "text": [
            "WARNING:tensorflow:Unresolved object in checkpoint: (root).transformer.encoder.enc_layers.1.norm_1\n"
          ],
          "name": "stderr"
        },
        {
          "output_type": "stream",
          "text": [
            "WARNING:tensorflow:Unresolved object in checkpoint: (root).transformer.encoder.enc_layers.1.dense_1\n"
          ],
          "name": "stdout"
        },
        {
          "output_type": "stream",
          "text": [
            "WARNING:tensorflow:Unresolved object in checkpoint: (root).transformer.encoder.enc_layers.1.dense_1\n"
          ],
          "name": "stderr"
        },
        {
          "output_type": "stream",
          "text": [
            "WARNING:tensorflow:Unresolved object in checkpoint: (root).transformer.encoder.enc_layers.1.dense_2\n"
          ],
          "name": "stdout"
        },
        {
          "output_type": "stream",
          "text": [
            "WARNING:tensorflow:Unresolved object in checkpoint: (root).transformer.encoder.enc_layers.1.dense_2\n"
          ],
          "name": "stderr"
        },
        {
          "output_type": "stream",
          "text": [
            "WARNING:tensorflow:Unresolved object in checkpoint: (root).transformer.encoder.enc_layers.1.dropout_2\n"
          ],
          "name": "stdout"
        },
        {
          "output_type": "stream",
          "text": [
            "WARNING:tensorflow:Unresolved object in checkpoint: (root).transformer.encoder.enc_layers.1.dropout_2\n"
          ],
          "name": "stderr"
        },
        {
          "output_type": "stream",
          "text": [
            "WARNING:tensorflow:Unresolved object in checkpoint: (root).transformer.encoder.enc_layers.1.norm_2\n"
          ],
          "name": "stdout"
        },
        {
          "output_type": "stream",
          "text": [
            "WARNING:tensorflow:Unresolved object in checkpoint: (root).transformer.encoder.enc_layers.1.norm_2\n"
          ],
          "name": "stderr"
        },
        {
          "output_type": "stream",
          "text": [
            "WARNING:tensorflow:Unresolved object in checkpoint: (root).transformer.encoder.enc_layers.2.multi_head_attention\n"
          ],
          "name": "stdout"
        },
        {
          "output_type": "stream",
          "text": [
            "WARNING:tensorflow:Unresolved object in checkpoint: (root).transformer.encoder.enc_layers.2.multi_head_attention\n"
          ],
          "name": "stderr"
        },
        {
          "output_type": "stream",
          "text": [
            "WARNING:tensorflow:Unresolved object in checkpoint: (root).transformer.encoder.enc_layers.2.dropout_1\n"
          ],
          "name": "stdout"
        },
        {
          "output_type": "stream",
          "text": [
            "WARNING:tensorflow:Unresolved object in checkpoint: (root).transformer.encoder.enc_layers.2.dropout_1\n"
          ],
          "name": "stderr"
        },
        {
          "output_type": "stream",
          "text": [
            "WARNING:tensorflow:Unresolved object in checkpoint: (root).transformer.encoder.enc_layers.2.norm_1\n"
          ],
          "name": "stdout"
        },
        {
          "output_type": "stream",
          "text": [
            "WARNING:tensorflow:Unresolved object in checkpoint: (root).transformer.encoder.enc_layers.2.norm_1\n"
          ],
          "name": "stderr"
        },
        {
          "output_type": "stream",
          "text": [
            "WARNING:tensorflow:Unresolved object in checkpoint: (root).transformer.encoder.enc_layers.2.dense_1\n"
          ],
          "name": "stdout"
        },
        {
          "output_type": "stream",
          "text": [
            "WARNING:tensorflow:Unresolved object in checkpoint: (root).transformer.encoder.enc_layers.2.dense_1\n"
          ],
          "name": "stderr"
        },
        {
          "output_type": "stream",
          "text": [
            "WARNING:tensorflow:Unresolved object in checkpoint: (root).transformer.encoder.enc_layers.2.dense_2\n"
          ],
          "name": "stdout"
        },
        {
          "output_type": "stream",
          "text": [
            "WARNING:tensorflow:Unresolved object in checkpoint: (root).transformer.encoder.enc_layers.2.dense_2\n"
          ],
          "name": "stderr"
        },
        {
          "output_type": "stream",
          "text": [
            "WARNING:tensorflow:Unresolved object in checkpoint: (root).transformer.encoder.enc_layers.2.dropout_2\n"
          ],
          "name": "stdout"
        },
        {
          "output_type": "stream",
          "text": [
            "WARNING:tensorflow:Unresolved object in checkpoint: (root).transformer.encoder.enc_layers.2.dropout_2\n"
          ],
          "name": "stderr"
        },
        {
          "output_type": "stream",
          "text": [
            "WARNING:tensorflow:Unresolved object in checkpoint: (root).transformer.encoder.enc_layers.2.norm_2\n"
          ],
          "name": "stdout"
        },
        {
          "output_type": "stream",
          "text": [
            "WARNING:tensorflow:Unresolved object in checkpoint: (root).transformer.encoder.enc_layers.2.norm_2\n"
          ],
          "name": "stderr"
        },
        {
          "output_type": "stream",
          "text": [
            "WARNING:tensorflow:Unresolved object in checkpoint: (root).transformer.encoder.enc_layers.3.multi_head_attention\n"
          ],
          "name": "stdout"
        },
        {
          "output_type": "stream",
          "text": [
            "WARNING:tensorflow:Unresolved object in checkpoint: (root).transformer.encoder.enc_layers.3.multi_head_attention\n"
          ],
          "name": "stderr"
        },
        {
          "output_type": "stream",
          "text": [
            "WARNING:tensorflow:Unresolved object in checkpoint: (root).transformer.encoder.enc_layers.3.dropout_1\n"
          ],
          "name": "stdout"
        },
        {
          "output_type": "stream",
          "text": [
            "WARNING:tensorflow:Unresolved object in checkpoint: (root).transformer.encoder.enc_layers.3.dropout_1\n"
          ],
          "name": "stderr"
        },
        {
          "output_type": "stream",
          "text": [
            "WARNING:tensorflow:Unresolved object in checkpoint: (root).transformer.encoder.enc_layers.3.norm_1\n"
          ],
          "name": "stdout"
        },
        {
          "output_type": "stream",
          "text": [
            "WARNING:tensorflow:Unresolved object in checkpoint: (root).transformer.encoder.enc_layers.3.norm_1\n"
          ],
          "name": "stderr"
        },
        {
          "output_type": "stream",
          "text": [
            "WARNING:tensorflow:Unresolved object in checkpoint: (root).transformer.encoder.enc_layers.3.dense_1\n"
          ],
          "name": "stdout"
        },
        {
          "output_type": "stream",
          "text": [
            "WARNING:tensorflow:Unresolved object in checkpoint: (root).transformer.encoder.enc_layers.3.dense_1\n"
          ],
          "name": "stderr"
        },
        {
          "output_type": "stream",
          "text": [
            "WARNING:tensorflow:Unresolved object in checkpoint: (root).transformer.encoder.enc_layers.3.dense_2\n"
          ],
          "name": "stdout"
        },
        {
          "output_type": "stream",
          "text": [
            "WARNING:tensorflow:Unresolved object in checkpoint: (root).transformer.encoder.enc_layers.3.dense_2\n"
          ],
          "name": "stderr"
        },
        {
          "output_type": "stream",
          "text": [
            "WARNING:tensorflow:Unresolved object in checkpoint: (root).transformer.encoder.enc_layers.3.dropout_2\n"
          ],
          "name": "stdout"
        },
        {
          "output_type": "stream",
          "text": [
            "WARNING:tensorflow:Unresolved object in checkpoint: (root).transformer.encoder.enc_layers.3.dropout_2\n"
          ],
          "name": "stderr"
        },
        {
          "output_type": "stream",
          "text": [
            "WARNING:tensorflow:Unresolved object in checkpoint: (root).transformer.encoder.enc_layers.3.norm_2\n"
          ],
          "name": "stdout"
        },
        {
          "output_type": "stream",
          "text": [
            "WARNING:tensorflow:Unresolved object in checkpoint: (root).transformer.encoder.enc_layers.3.norm_2\n"
          ],
          "name": "stderr"
        },
        {
          "output_type": "stream",
          "text": [
            "WARNING:tensorflow:Unresolved object in checkpoint: (root).transformer.decoder.dec_layers.0.multi_head_attention_1\n"
          ],
          "name": "stdout"
        },
        {
          "output_type": "stream",
          "text": [
            "WARNING:tensorflow:Unresolved object in checkpoint: (root).transformer.decoder.dec_layers.0.multi_head_attention_1\n"
          ],
          "name": "stderr"
        },
        {
          "output_type": "stream",
          "text": [
            "WARNING:tensorflow:Unresolved object in checkpoint: (root).transformer.decoder.dec_layers.0.dropout_1\n"
          ],
          "name": "stdout"
        },
        {
          "output_type": "stream",
          "text": [
            "WARNING:tensorflow:Unresolved object in checkpoint: (root).transformer.decoder.dec_layers.0.dropout_1\n"
          ],
          "name": "stderr"
        },
        {
          "output_type": "stream",
          "text": [
            "WARNING:tensorflow:Unresolved object in checkpoint: (root).transformer.decoder.dec_layers.0.norm_1\n"
          ],
          "name": "stdout"
        },
        {
          "output_type": "stream",
          "text": [
            "WARNING:tensorflow:Unresolved object in checkpoint: (root).transformer.decoder.dec_layers.0.norm_1\n"
          ],
          "name": "stderr"
        },
        {
          "output_type": "stream",
          "text": [
            "WARNING:tensorflow:Unresolved object in checkpoint: (root).transformer.decoder.dec_layers.0.multi_head_attention_2\n"
          ],
          "name": "stdout"
        },
        {
          "output_type": "stream",
          "text": [
            "WARNING:tensorflow:Unresolved object in checkpoint: (root).transformer.decoder.dec_layers.0.multi_head_attention_2\n"
          ],
          "name": "stderr"
        },
        {
          "output_type": "stream",
          "text": [
            "WARNING:tensorflow:Unresolved object in checkpoint: (root).transformer.decoder.dec_layers.0.dropout_2\n"
          ],
          "name": "stdout"
        },
        {
          "output_type": "stream",
          "text": [
            "WARNING:tensorflow:Unresolved object in checkpoint: (root).transformer.decoder.dec_layers.0.dropout_2\n"
          ],
          "name": "stderr"
        },
        {
          "output_type": "stream",
          "text": [
            "WARNING:tensorflow:Unresolved object in checkpoint: (root).transformer.decoder.dec_layers.0.norm_2\n"
          ],
          "name": "stdout"
        },
        {
          "output_type": "stream",
          "text": [
            "WARNING:tensorflow:Unresolved object in checkpoint: (root).transformer.decoder.dec_layers.0.norm_2\n"
          ],
          "name": "stderr"
        },
        {
          "output_type": "stream",
          "text": [
            "WARNING:tensorflow:Unresolved object in checkpoint: (root).transformer.decoder.dec_layers.0.dense_1\n"
          ],
          "name": "stdout"
        },
        {
          "output_type": "stream",
          "text": [
            "WARNING:tensorflow:Unresolved object in checkpoint: (root).transformer.decoder.dec_layers.0.dense_1\n"
          ],
          "name": "stderr"
        },
        {
          "output_type": "stream",
          "text": [
            "WARNING:tensorflow:Unresolved object in checkpoint: (root).transformer.decoder.dec_layers.0.dense_2\n"
          ],
          "name": "stdout"
        },
        {
          "output_type": "stream",
          "text": [
            "WARNING:tensorflow:Unresolved object in checkpoint: (root).transformer.decoder.dec_layers.0.dense_2\n"
          ],
          "name": "stderr"
        },
        {
          "output_type": "stream",
          "text": [
            "WARNING:tensorflow:Unresolved object in checkpoint: (root).transformer.decoder.dec_layers.0.dropout_3\n"
          ],
          "name": "stdout"
        },
        {
          "output_type": "stream",
          "text": [
            "WARNING:tensorflow:Unresolved object in checkpoint: (root).transformer.decoder.dec_layers.0.dropout_3\n"
          ],
          "name": "stderr"
        },
        {
          "output_type": "stream",
          "text": [
            "WARNING:tensorflow:Unresolved object in checkpoint: (root).transformer.decoder.dec_layers.0.norm_3\n"
          ],
          "name": "stdout"
        },
        {
          "output_type": "stream",
          "text": [
            "WARNING:tensorflow:Unresolved object in checkpoint: (root).transformer.decoder.dec_layers.0.norm_3\n"
          ],
          "name": "stderr"
        },
        {
          "output_type": "stream",
          "text": [
            "WARNING:tensorflow:Unresolved object in checkpoint: (root).transformer.decoder.dec_layers.1.multi_head_attention_1\n"
          ],
          "name": "stdout"
        },
        {
          "output_type": "stream",
          "text": [
            "WARNING:tensorflow:Unresolved object in checkpoint: (root).transformer.decoder.dec_layers.1.multi_head_attention_1\n"
          ],
          "name": "stderr"
        },
        {
          "output_type": "stream",
          "text": [
            "WARNING:tensorflow:Unresolved object in checkpoint: (root).transformer.decoder.dec_layers.1.dropout_1\n"
          ],
          "name": "stdout"
        },
        {
          "output_type": "stream",
          "text": [
            "WARNING:tensorflow:Unresolved object in checkpoint: (root).transformer.decoder.dec_layers.1.dropout_1\n"
          ],
          "name": "stderr"
        },
        {
          "output_type": "stream",
          "text": [
            "WARNING:tensorflow:Unresolved object in checkpoint: (root).transformer.decoder.dec_layers.1.norm_1\n"
          ],
          "name": "stdout"
        },
        {
          "output_type": "stream",
          "text": [
            "WARNING:tensorflow:Unresolved object in checkpoint: (root).transformer.decoder.dec_layers.1.norm_1\n"
          ],
          "name": "stderr"
        },
        {
          "output_type": "stream",
          "text": [
            "WARNING:tensorflow:Unresolved object in checkpoint: (root).transformer.decoder.dec_layers.1.multi_head_attention_2\n"
          ],
          "name": "stdout"
        },
        {
          "output_type": "stream",
          "text": [
            "WARNING:tensorflow:Unresolved object in checkpoint: (root).transformer.decoder.dec_layers.1.multi_head_attention_2\n"
          ],
          "name": "stderr"
        },
        {
          "output_type": "stream",
          "text": [
            "WARNING:tensorflow:Unresolved object in checkpoint: (root).transformer.decoder.dec_layers.1.dropout_2\n"
          ],
          "name": "stdout"
        },
        {
          "output_type": "stream",
          "text": [
            "WARNING:tensorflow:Unresolved object in checkpoint: (root).transformer.decoder.dec_layers.1.dropout_2\n"
          ],
          "name": "stderr"
        },
        {
          "output_type": "stream",
          "text": [
            "WARNING:tensorflow:Unresolved object in checkpoint: (root).transformer.decoder.dec_layers.1.norm_2\n"
          ],
          "name": "stdout"
        },
        {
          "output_type": "stream",
          "text": [
            "WARNING:tensorflow:Unresolved object in checkpoint: (root).transformer.decoder.dec_layers.1.norm_2\n"
          ],
          "name": "stderr"
        },
        {
          "output_type": "stream",
          "text": [
            "WARNING:tensorflow:Unresolved object in checkpoint: (root).transformer.decoder.dec_layers.1.dense_1\n"
          ],
          "name": "stdout"
        },
        {
          "output_type": "stream",
          "text": [
            "WARNING:tensorflow:Unresolved object in checkpoint: (root).transformer.decoder.dec_layers.1.dense_1\n"
          ],
          "name": "stderr"
        },
        {
          "output_type": "stream",
          "text": [
            "WARNING:tensorflow:Unresolved object in checkpoint: (root).transformer.decoder.dec_layers.1.dense_2\n"
          ],
          "name": "stdout"
        },
        {
          "output_type": "stream",
          "text": [
            "WARNING:tensorflow:Unresolved object in checkpoint: (root).transformer.decoder.dec_layers.1.dense_2\n"
          ],
          "name": "stderr"
        },
        {
          "output_type": "stream",
          "text": [
            "WARNING:tensorflow:Unresolved object in checkpoint: (root).transformer.decoder.dec_layers.1.dropout_3\n"
          ],
          "name": "stdout"
        },
        {
          "output_type": "stream",
          "text": [
            "WARNING:tensorflow:Unresolved object in checkpoint: (root).transformer.decoder.dec_layers.1.dropout_3\n"
          ],
          "name": "stderr"
        },
        {
          "output_type": "stream",
          "text": [
            "WARNING:tensorflow:Unresolved object in checkpoint: (root).transformer.decoder.dec_layers.1.norm_3\n"
          ],
          "name": "stdout"
        },
        {
          "output_type": "stream",
          "text": [
            "WARNING:tensorflow:Unresolved object in checkpoint: (root).transformer.decoder.dec_layers.1.norm_3\n"
          ],
          "name": "stderr"
        },
        {
          "output_type": "stream",
          "text": [
            "WARNING:tensorflow:Unresolved object in checkpoint: (root).transformer.decoder.dec_layers.2.multi_head_attention_1\n"
          ],
          "name": "stdout"
        },
        {
          "output_type": "stream",
          "text": [
            "WARNING:tensorflow:Unresolved object in checkpoint: (root).transformer.decoder.dec_layers.2.multi_head_attention_1\n"
          ],
          "name": "stderr"
        },
        {
          "output_type": "stream",
          "text": [
            "WARNING:tensorflow:Unresolved object in checkpoint: (root).transformer.decoder.dec_layers.2.dropout_1\n"
          ],
          "name": "stdout"
        },
        {
          "output_type": "stream",
          "text": [
            "WARNING:tensorflow:Unresolved object in checkpoint: (root).transformer.decoder.dec_layers.2.dropout_1\n"
          ],
          "name": "stderr"
        },
        {
          "output_type": "stream",
          "text": [
            "WARNING:tensorflow:Unresolved object in checkpoint: (root).transformer.decoder.dec_layers.2.norm_1\n"
          ],
          "name": "stdout"
        },
        {
          "output_type": "stream",
          "text": [
            "WARNING:tensorflow:Unresolved object in checkpoint: (root).transformer.decoder.dec_layers.2.norm_1\n"
          ],
          "name": "stderr"
        },
        {
          "output_type": "stream",
          "text": [
            "WARNING:tensorflow:Unresolved object in checkpoint: (root).transformer.decoder.dec_layers.2.multi_head_attention_2\n"
          ],
          "name": "stdout"
        },
        {
          "output_type": "stream",
          "text": [
            "WARNING:tensorflow:Unresolved object in checkpoint: (root).transformer.decoder.dec_layers.2.multi_head_attention_2\n"
          ],
          "name": "stderr"
        },
        {
          "output_type": "stream",
          "text": [
            "WARNING:tensorflow:Unresolved object in checkpoint: (root).transformer.decoder.dec_layers.2.dropout_2\n"
          ],
          "name": "stdout"
        },
        {
          "output_type": "stream",
          "text": [
            "WARNING:tensorflow:Unresolved object in checkpoint: (root).transformer.decoder.dec_layers.2.dropout_2\n"
          ],
          "name": "stderr"
        },
        {
          "output_type": "stream",
          "text": [
            "WARNING:tensorflow:Unresolved object in checkpoint: (root).transformer.decoder.dec_layers.2.norm_2\n"
          ],
          "name": "stdout"
        },
        {
          "output_type": "stream",
          "text": [
            "WARNING:tensorflow:Unresolved object in checkpoint: (root).transformer.decoder.dec_layers.2.norm_2\n"
          ],
          "name": "stderr"
        },
        {
          "output_type": "stream",
          "text": [
            "WARNING:tensorflow:Unresolved object in checkpoint: (root).transformer.decoder.dec_layers.2.dense_1\n"
          ],
          "name": "stdout"
        },
        {
          "output_type": "stream",
          "text": [
            "WARNING:tensorflow:Unresolved object in checkpoint: (root).transformer.decoder.dec_layers.2.dense_1\n"
          ],
          "name": "stderr"
        },
        {
          "output_type": "stream",
          "text": [
            "WARNING:tensorflow:Unresolved object in checkpoint: (root).transformer.decoder.dec_layers.2.dense_2\n"
          ],
          "name": "stdout"
        },
        {
          "output_type": "stream",
          "text": [
            "WARNING:tensorflow:Unresolved object in checkpoint: (root).transformer.decoder.dec_layers.2.dense_2\n"
          ],
          "name": "stderr"
        },
        {
          "output_type": "stream",
          "text": [
            "WARNING:tensorflow:Unresolved object in checkpoint: (root).transformer.decoder.dec_layers.2.dropout_3\n"
          ],
          "name": "stdout"
        },
        {
          "output_type": "stream",
          "text": [
            "WARNING:tensorflow:Unresolved object in checkpoint: (root).transformer.decoder.dec_layers.2.dropout_3\n"
          ],
          "name": "stderr"
        },
        {
          "output_type": "stream",
          "text": [
            "WARNING:tensorflow:Unresolved object in checkpoint: (root).transformer.decoder.dec_layers.2.norm_3\n"
          ],
          "name": "stdout"
        },
        {
          "output_type": "stream",
          "text": [
            "WARNING:tensorflow:Unresolved object in checkpoint: (root).transformer.decoder.dec_layers.2.norm_3\n"
          ],
          "name": "stderr"
        },
        {
          "output_type": "stream",
          "text": [
            "WARNING:tensorflow:Unresolved object in checkpoint: (root).transformer.decoder.dec_layers.3.multi_head_attention_1\n"
          ],
          "name": "stdout"
        },
        {
          "output_type": "stream",
          "text": [
            "WARNING:tensorflow:Unresolved object in checkpoint: (root).transformer.decoder.dec_layers.3.multi_head_attention_1\n"
          ],
          "name": "stderr"
        },
        {
          "output_type": "stream",
          "text": [
            "WARNING:tensorflow:Unresolved object in checkpoint: (root).transformer.decoder.dec_layers.3.dropout_1\n"
          ],
          "name": "stdout"
        },
        {
          "output_type": "stream",
          "text": [
            "WARNING:tensorflow:Unresolved object in checkpoint: (root).transformer.decoder.dec_layers.3.dropout_1\n"
          ],
          "name": "stderr"
        },
        {
          "output_type": "stream",
          "text": [
            "WARNING:tensorflow:Unresolved object in checkpoint: (root).transformer.decoder.dec_layers.3.norm_1\n"
          ],
          "name": "stdout"
        },
        {
          "output_type": "stream",
          "text": [
            "WARNING:tensorflow:Unresolved object in checkpoint: (root).transformer.decoder.dec_layers.3.norm_1\n"
          ],
          "name": "stderr"
        },
        {
          "output_type": "stream",
          "text": [
            "WARNING:tensorflow:Unresolved object in checkpoint: (root).transformer.decoder.dec_layers.3.multi_head_attention_2\n"
          ],
          "name": "stdout"
        },
        {
          "output_type": "stream",
          "text": [
            "WARNING:tensorflow:Unresolved object in checkpoint: (root).transformer.decoder.dec_layers.3.multi_head_attention_2\n"
          ],
          "name": "stderr"
        },
        {
          "output_type": "stream",
          "text": [
            "WARNING:tensorflow:Unresolved object in checkpoint: (root).transformer.decoder.dec_layers.3.dropout_2\n"
          ],
          "name": "stdout"
        },
        {
          "output_type": "stream",
          "text": [
            "WARNING:tensorflow:Unresolved object in checkpoint: (root).transformer.decoder.dec_layers.3.dropout_2\n"
          ],
          "name": "stderr"
        },
        {
          "output_type": "stream",
          "text": [
            "WARNING:tensorflow:Unresolved object in checkpoint: (root).transformer.decoder.dec_layers.3.norm_2\n"
          ],
          "name": "stdout"
        },
        {
          "output_type": "stream",
          "text": [
            "WARNING:tensorflow:Unresolved object in checkpoint: (root).transformer.decoder.dec_layers.3.norm_2\n"
          ],
          "name": "stderr"
        },
        {
          "output_type": "stream",
          "text": [
            "WARNING:tensorflow:Unresolved object in checkpoint: (root).transformer.decoder.dec_layers.3.dense_1\n"
          ],
          "name": "stdout"
        },
        {
          "output_type": "stream",
          "text": [
            "WARNING:tensorflow:Unresolved object in checkpoint: (root).transformer.decoder.dec_layers.3.dense_1\n"
          ],
          "name": "stderr"
        },
        {
          "output_type": "stream",
          "text": [
            "WARNING:tensorflow:Unresolved object in checkpoint: (root).transformer.decoder.dec_layers.3.dense_2\n"
          ],
          "name": "stdout"
        },
        {
          "output_type": "stream",
          "text": [
            "WARNING:tensorflow:Unresolved object in checkpoint: (root).transformer.decoder.dec_layers.3.dense_2\n"
          ],
          "name": "stderr"
        },
        {
          "output_type": "stream",
          "text": [
            "WARNING:tensorflow:Unresolved object in checkpoint: (root).transformer.decoder.dec_layers.3.dropout_3\n"
          ],
          "name": "stdout"
        },
        {
          "output_type": "stream",
          "text": [
            "WARNING:tensorflow:Unresolved object in checkpoint: (root).transformer.decoder.dec_layers.3.dropout_3\n"
          ],
          "name": "stderr"
        },
        {
          "output_type": "stream",
          "text": [
            "WARNING:tensorflow:Unresolved object in checkpoint: (root).transformer.decoder.dec_layers.3.norm_3\n"
          ],
          "name": "stdout"
        },
        {
          "output_type": "stream",
          "text": [
            "WARNING:tensorflow:Unresolved object in checkpoint: (root).transformer.decoder.dec_layers.3.norm_3\n"
          ],
          "name": "stderr"
        },
        {
          "output_type": "stream",
          "text": [
            "WARNING:tensorflow:Unresolved object in checkpoint: (root).transformer.encoder.enc_layers.0.multi_head_attention.query_lin\n"
          ],
          "name": "stdout"
        },
        {
          "output_type": "stream",
          "text": [
            "WARNING:tensorflow:Unresolved object in checkpoint: (root).transformer.encoder.enc_layers.0.multi_head_attention.query_lin\n"
          ],
          "name": "stderr"
        },
        {
          "output_type": "stream",
          "text": [
            "WARNING:tensorflow:Unresolved object in checkpoint: (root).transformer.encoder.enc_layers.0.multi_head_attention.key_lin\n"
          ],
          "name": "stdout"
        },
        {
          "output_type": "stream",
          "text": [
            "WARNING:tensorflow:Unresolved object in checkpoint: (root).transformer.encoder.enc_layers.0.multi_head_attention.key_lin\n"
          ],
          "name": "stderr"
        },
        {
          "output_type": "stream",
          "text": [
            "WARNING:tensorflow:Unresolved object in checkpoint: (root).transformer.encoder.enc_layers.0.multi_head_attention.value_lin\n"
          ],
          "name": "stdout"
        },
        {
          "output_type": "stream",
          "text": [
            "WARNING:tensorflow:Unresolved object in checkpoint: (root).transformer.encoder.enc_layers.0.multi_head_attention.value_lin\n"
          ],
          "name": "stderr"
        },
        {
          "output_type": "stream",
          "text": [
            "WARNING:tensorflow:Unresolved object in checkpoint: (root).transformer.encoder.enc_layers.0.multi_head_attention.final_lin\n"
          ],
          "name": "stdout"
        },
        {
          "output_type": "stream",
          "text": [
            "WARNING:tensorflow:Unresolved object in checkpoint: (root).transformer.encoder.enc_layers.0.multi_head_attention.final_lin\n"
          ],
          "name": "stderr"
        },
        {
          "output_type": "stream",
          "text": [
            "WARNING:tensorflow:Unresolved object in checkpoint: (root).transformer.encoder.enc_layers.0.norm_1.axis\n"
          ],
          "name": "stdout"
        },
        {
          "output_type": "stream",
          "text": [
            "WARNING:tensorflow:Unresolved object in checkpoint: (root).transformer.encoder.enc_layers.0.norm_1.axis\n"
          ],
          "name": "stderr"
        },
        {
          "output_type": "stream",
          "text": [
            "WARNING:tensorflow:Unresolved object in checkpoint: (root).transformer.encoder.enc_layers.0.norm_1.gamma\n"
          ],
          "name": "stdout"
        },
        {
          "output_type": "stream",
          "text": [
            "WARNING:tensorflow:Unresolved object in checkpoint: (root).transformer.encoder.enc_layers.0.norm_1.gamma\n"
          ],
          "name": "stderr"
        },
        {
          "output_type": "stream",
          "text": [
            "WARNING:tensorflow:Unresolved object in checkpoint: (root).transformer.encoder.enc_layers.0.norm_1.beta\n"
          ],
          "name": "stdout"
        },
        {
          "output_type": "stream",
          "text": [
            "WARNING:tensorflow:Unresolved object in checkpoint: (root).transformer.encoder.enc_layers.0.norm_1.beta\n"
          ],
          "name": "stderr"
        },
        {
          "output_type": "stream",
          "text": [
            "WARNING:tensorflow:Unresolved object in checkpoint: (root).transformer.encoder.enc_layers.0.dense_1.kernel\n"
          ],
          "name": "stdout"
        },
        {
          "output_type": "stream",
          "text": [
            "WARNING:tensorflow:Unresolved object in checkpoint: (root).transformer.encoder.enc_layers.0.dense_1.kernel\n"
          ],
          "name": "stderr"
        },
        {
          "output_type": "stream",
          "text": [
            "WARNING:tensorflow:Unresolved object in checkpoint: (root).transformer.encoder.enc_layers.0.dense_1.bias\n"
          ],
          "name": "stdout"
        },
        {
          "output_type": "stream",
          "text": [
            "WARNING:tensorflow:Unresolved object in checkpoint: (root).transformer.encoder.enc_layers.0.dense_1.bias\n"
          ],
          "name": "stderr"
        },
        {
          "output_type": "stream",
          "text": [
            "WARNING:tensorflow:Unresolved object in checkpoint: (root).transformer.encoder.enc_layers.0.dense_2.kernel\n"
          ],
          "name": "stdout"
        },
        {
          "output_type": "stream",
          "text": [
            "WARNING:tensorflow:Unresolved object in checkpoint: (root).transformer.encoder.enc_layers.0.dense_2.kernel\n"
          ],
          "name": "stderr"
        },
        {
          "output_type": "stream",
          "text": [
            "WARNING:tensorflow:Unresolved object in checkpoint: (root).transformer.encoder.enc_layers.0.dense_2.bias\n"
          ],
          "name": "stdout"
        },
        {
          "output_type": "stream",
          "text": [
            "WARNING:tensorflow:Unresolved object in checkpoint: (root).transformer.encoder.enc_layers.0.dense_2.bias\n"
          ],
          "name": "stderr"
        },
        {
          "output_type": "stream",
          "text": [
            "WARNING:tensorflow:Unresolved object in checkpoint: (root).transformer.encoder.enc_layers.0.norm_2.axis\n"
          ],
          "name": "stdout"
        },
        {
          "output_type": "stream",
          "text": [
            "WARNING:tensorflow:Unresolved object in checkpoint: (root).transformer.encoder.enc_layers.0.norm_2.axis\n"
          ],
          "name": "stderr"
        },
        {
          "output_type": "stream",
          "text": [
            "WARNING:tensorflow:Unresolved object in checkpoint: (root).transformer.encoder.enc_layers.0.norm_2.gamma\n"
          ],
          "name": "stdout"
        },
        {
          "output_type": "stream",
          "text": [
            "WARNING:tensorflow:Unresolved object in checkpoint: (root).transformer.encoder.enc_layers.0.norm_2.gamma\n"
          ],
          "name": "stderr"
        },
        {
          "output_type": "stream",
          "text": [
            "WARNING:tensorflow:Unresolved object in checkpoint: (root).transformer.encoder.enc_layers.0.norm_2.beta\n"
          ],
          "name": "stdout"
        },
        {
          "output_type": "stream",
          "text": [
            "WARNING:tensorflow:Unresolved object in checkpoint: (root).transformer.encoder.enc_layers.0.norm_2.beta\n"
          ],
          "name": "stderr"
        },
        {
          "output_type": "stream",
          "text": [
            "WARNING:tensorflow:Unresolved object in checkpoint: (root).transformer.encoder.enc_layers.1.multi_head_attention.query_lin\n"
          ],
          "name": "stdout"
        },
        {
          "output_type": "stream",
          "text": [
            "WARNING:tensorflow:Unresolved object in checkpoint: (root).transformer.encoder.enc_layers.1.multi_head_attention.query_lin\n"
          ],
          "name": "stderr"
        },
        {
          "output_type": "stream",
          "text": [
            "WARNING:tensorflow:Unresolved object in checkpoint: (root).transformer.encoder.enc_layers.1.multi_head_attention.key_lin\n"
          ],
          "name": "stdout"
        },
        {
          "output_type": "stream",
          "text": [
            "WARNING:tensorflow:Unresolved object in checkpoint: (root).transformer.encoder.enc_layers.1.multi_head_attention.key_lin\n"
          ],
          "name": "stderr"
        },
        {
          "output_type": "stream",
          "text": [
            "WARNING:tensorflow:Unresolved object in checkpoint: (root).transformer.encoder.enc_layers.1.multi_head_attention.value_lin\n"
          ],
          "name": "stdout"
        },
        {
          "output_type": "stream",
          "text": [
            "WARNING:tensorflow:Unresolved object in checkpoint: (root).transformer.encoder.enc_layers.1.multi_head_attention.value_lin\n"
          ],
          "name": "stderr"
        },
        {
          "output_type": "stream",
          "text": [
            "WARNING:tensorflow:Unresolved object in checkpoint: (root).transformer.encoder.enc_layers.1.multi_head_attention.final_lin\n"
          ],
          "name": "stdout"
        },
        {
          "output_type": "stream",
          "text": [
            "WARNING:tensorflow:Unresolved object in checkpoint: (root).transformer.encoder.enc_layers.1.multi_head_attention.final_lin\n"
          ],
          "name": "stderr"
        },
        {
          "output_type": "stream",
          "text": [
            "WARNING:tensorflow:Unresolved object in checkpoint: (root).transformer.encoder.enc_layers.1.norm_1.axis\n"
          ],
          "name": "stdout"
        },
        {
          "output_type": "stream",
          "text": [
            "WARNING:tensorflow:Unresolved object in checkpoint: (root).transformer.encoder.enc_layers.1.norm_1.axis\n"
          ],
          "name": "stderr"
        },
        {
          "output_type": "stream",
          "text": [
            "WARNING:tensorflow:Unresolved object in checkpoint: (root).transformer.encoder.enc_layers.1.norm_1.gamma\n"
          ],
          "name": "stdout"
        },
        {
          "output_type": "stream",
          "text": [
            "WARNING:tensorflow:Unresolved object in checkpoint: (root).transformer.encoder.enc_layers.1.norm_1.gamma\n"
          ],
          "name": "stderr"
        },
        {
          "output_type": "stream",
          "text": [
            "WARNING:tensorflow:Unresolved object in checkpoint: (root).transformer.encoder.enc_layers.1.norm_1.beta\n"
          ],
          "name": "stdout"
        },
        {
          "output_type": "stream",
          "text": [
            "WARNING:tensorflow:Unresolved object in checkpoint: (root).transformer.encoder.enc_layers.1.norm_1.beta\n"
          ],
          "name": "stderr"
        },
        {
          "output_type": "stream",
          "text": [
            "WARNING:tensorflow:Unresolved object in checkpoint: (root).transformer.encoder.enc_layers.1.dense_1.kernel\n"
          ],
          "name": "stdout"
        },
        {
          "output_type": "stream",
          "text": [
            "WARNING:tensorflow:Unresolved object in checkpoint: (root).transformer.encoder.enc_layers.1.dense_1.kernel\n"
          ],
          "name": "stderr"
        },
        {
          "output_type": "stream",
          "text": [
            "WARNING:tensorflow:Unresolved object in checkpoint: (root).transformer.encoder.enc_layers.1.dense_1.bias\n"
          ],
          "name": "stdout"
        },
        {
          "output_type": "stream",
          "text": [
            "WARNING:tensorflow:Unresolved object in checkpoint: (root).transformer.encoder.enc_layers.1.dense_1.bias\n"
          ],
          "name": "stderr"
        },
        {
          "output_type": "stream",
          "text": [
            "WARNING:tensorflow:Unresolved object in checkpoint: (root).transformer.encoder.enc_layers.1.dense_2.kernel\n"
          ],
          "name": "stdout"
        },
        {
          "output_type": "stream",
          "text": [
            "WARNING:tensorflow:Unresolved object in checkpoint: (root).transformer.encoder.enc_layers.1.dense_2.kernel\n"
          ],
          "name": "stderr"
        },
        {
          "output_type": "stream",
          "text": [
            "WARNING:tensorflow:Unresolved object in checkpoint: (root).transformer.encoder.enc_layers.1.dense_2.bias\n"
          ],
          "name": "stdout"
        },
        {
          "output_type": "stream",
          "text": [
            "WARNING:tensorflow:Unresolved object in checkpoint: (root).transformer.encoder.enc_layers.1.dense_2.bias\n"
          ],
          "name": "stderr"
        },
        {
          "output_type": "stream",
          "text": [
            "WARNING:tensorflow:Unresolved object in checkpoint: (root).transformer.encoder.enc_layers.1.norm_2.axis\n"
          ],
          "name": "stdout"
        },
        {
          "output_type": "stream",
          "text": [
            "WARNING:tensorflow:Unresolved object in checkpoint: (root).transformer.encoder.enc_layers.1.norm_2.axis\n"
          ],
          "name": "stderr"
        },
        {
          "output_type": "stream",
          "text": [
            "WARNING:tensorflow:Unresolved object in checkpoint: (root).transformer.encoder.enc_layers.1.norm_2.gamma\n"
          ],
          "name": "stdout"
        },
        {
          "output_type": "stream",
          "text": [
            "WARNING:tensorflow:Unresolved object in checkpoint: (root).transformer.encoder.enc_layers.1.norm_2.gamma\n"
          ],
          "name": "stderr"
        },
        {
          "output_type": "stream",
          "text": [
            "WARNING:tensorflow:Unresolved object in checkpoint: (root).transformer.encoder.enc_layers.1.norm_2.beta\n"
          ],
          "name": "stdout"
        },
        {
          "output_type": "stream",
          "text": [
            "WARNING:tensorflow:Unresolved object in checkpoint: (root).transformer.encoder.enc_layers.1.norm_2.beta\n"
          ],
          "name": "stderr"
        },
        {
          "output_type": "stream",
          "text": [
            "WARNING:tensorflow:Unresolved object in checkpoint: (root).transformer.encoder.enc_layers.2.multi_head_attention.query_lin\n"
          ],
          "name": "stdout"
        },
        {
          "output_type": "stream",
          "text": [
            "WARNING:tensorflow:Unresolved object in checkpoint: (root).transformer.encoder.enc_layers.2.multi_head_attention.query_lin\n"
          ],
          "name": "stderr"
        },
        {
          "output_type": "stream",
          "text": [
            "WARNING:tensorflow:Unresolved object in checkpoint: (root).transformer.encoder.enc_layers.2.multi_head_attention.key_lin\n"
          ],
          "name": "stdout"
        },
        {
          "output_type": "stream",
          "text": [
            "WARNING:tensorflow:Unresolved object in checkpoint: (root).transformer.encoder.enc_layers.2.multi_head_attention.key_lin\n"
          ],
          "name": "stderr"
        },
        {
          "output_type": "stream",
          "text": [
            "WARNING:tensorflow:Unresolved object in checkpoint: (root).transformer.encoder.enc_layers.2.multi_head_attention.value_lin\n"
          ],
          "name": "stdout"
        },
        {
          "output_type": "stream",
          "text": [
            "WARNING:tensorflow:Unresolved object in checkpoint: (root).transformer.encoder.enc_layers.2.multi_head_attention.value_lin\n"
          ],
          "name": "stderr"
        },
        {
          "output_type": "stream",
          "text": [
            "WARNING:tensorflow:Unresolved object in checkpoint: (root).transformer.encoder.enc_layers.2.multi_head_attention.final_lin\n"
          ],
          "name": "stdout"
        },
        {
          "output_type": "stream",
          "text": [
            "WARNING:tensorflow:Unresolved object in checkpoint: (root).transformer.encoder.enc_layers.2.multi_head_attention.final_lin\n"
          ],
          "name": "stderr"
        },
        {
          "output_type": "stream",
          "text": [
            "WARNING:tensorflow:Unresolved object in checkpoint: (root).transformer.encoder.enc_layers.2.norm_1.axis\n"
          ],
          "name": "stdout"
        },
        {
          "output_type": "stream",
          "text": [
            "WARNING:tensorflow:Unresolved object in checkpoint: (root).transformer.encoder.enc_layers.2.norm_1.axis\n"
          ],
          "name": "stderr"
        },
        {
          "output_type": "stream",
          "text": [
            "WARNING:tensorflow:Unresolved object in checkpoint: (root).transformer.encoder.enc_layers.2.norm_1.gamma\n"
          ],
          "name": "stdout"
        },
        {
          "output_type": "stream",
          "text": [
            "WARNING:tensorflow:Unresolved object in checkpoint: (root).transformer.encoder.enc_layers.2.norm_1.gamma\n"
          ],
          "name": "stderr"
        },
        {
          "output_type": "stream",
          "text": [
            "WARNING:tensorflow:Unresolved object in checkpoint: (root).transformer.encoder.enc_layers.2.norm_1.beta\n"
          ],
          "name": "stdout"
        },
        {
          "output_type": "stream",
          "text": [
            "WARNING:tensorflow:Unresolved object in checkpoint: (root).transformer.encoder.enc_layers.2.norm_1.beta\n"
          ],
          "name": "stderr"
        },
        {
          "output_type": "stream",
          "text": [
            "WARNING:tensorflow:Unresolved object in checkpoint: (root).transformer.encoder.enc_layers.2.dense_1.kernel\n"
          ],
          "name": "stdout"
        },
        {
          "output_type": "stream",
          "text": [
            "WARNING:tensorflow:Unresolved object in checkpoint: (root).transformer.encoder.enc_layers.2.dense_1.kernel\n"
          ],
          "name": "stderr"
        },
        {
          "output_type": "stream",
          "text": [
            "WARNING:tensorflow:Unresolved object in checkpoint: (root).transformer.encoder.enc_layers.2.dense_1.bias\n"
          ],
          "name": "stdout"
        },
        {
          "output_type": "stream",
          "text": [
            "WARNING:tensorflow:Unresolved object in checkpoint: (root).transformer.encoder.enc_layers.2.dense_1.bias\n"
          ],
          "name": "stderr"
        },
        {
          "output_type": "stream",
          "text": [
            "WARNING:tensorflow:Unresolved object in checkpoint: (root).transformer.encoder.enc_layers.2.dense_2.kernel\n"
          ],
          "name": "stdout"
        },
        {
          "output_type": "stream",
          "text": [
            "WARNING:tensorflow:Unresolved object in checkpoint: (root).transformer.encoder.enc_layers.2.dense_2.kernel\n"
          ],
          "name": "stderr"
        },
        {
          "output_type": "stream",
          "text": [
            "WARNING:tensorflow:Unresolved object in checkpoint: (root).transformer.encoder.enc_layers.2.dense_2.bias\n"
          ],
          "name": "stdout"
        },
        {
          "output_type": "stream",
          "text": [
            "WARNING:tensorflow:Unresolved object in checkpoint: (root).transformer.encoder.enc_layers.2.dense_2.bias\n"
          ],
          "name": "stderr"
        },
        {
          "output_type": "stream",
          "text": [
            "WARNING:tensorflow:Unresolved object in checkpoint: (root).transformer.encoder.enc_layers.2.norm_2.axis\n"
          ],
          "name": "stdout"
        },
        {
          "output_type": "stream",
          "text": [
            "WARNING:tensorflow:Unresolved object in checkpoint: (root).transformer.encoder.enc_layers.2.norm_2.axis\n"
          ],
          "name": "stderr"
        },
        {
          "output_type": "stream",
          "text": [
            "WARNING:tensorflow:Unresolved object in checkpoint: (root).transformer.encoder.enc_layers.2.norm_2.gamma\n"
          ],
          "name": "stdout"
        },
        {
          "output_type": "stream",
          "text": [
            "WARNING:tensorflow:Unresolved object in checkpoint: (root).transformer.encoder.enc_layers.2.norm_2.gamma\n"
          ],
          "name": "stderr"
        },
        {
          "output_type": "stream",
          "text": [
            "WARNING:tensorflow:Unresolved object in checkpoint: (root).transformer.encoder.enc_layers.2.norm_2.beta\n"
          ],
          "name": "stdout"
        },
        {
          "output_type": "stream",
          "text": [
            "WARNING:tensorflow:Unresolved object in checkpoint: (root).transformer.encoder.enc_layers.2.norm_2.beta\n"
          ],
          "name": "stderr"
        },
        {
          "output_type": "stream",
          "text": [
            "WARNING:tensorflow:Unresolved object in checkpoint: (root).transformer.encoder.enc_layers.3.multi_head_attention.query_lin\n"
          ],
          "name": "stdout"
        },
        {
          "output_type": "stream",
          "text": [
            "WARNING:tensorflow:Unresolved object in checkpoint: (root).transformer.encoder.enc_layers.3.multi_head_attention.query_lin\n"
          ],
          "name": "stderr"
        },
        {
          "output_type": "stream",
          "text": [
            "WARNING:tensorflow:Unresolved object in checkpoint: (root).transformer.encoder.enc_layers.3.multi_head_attention.key_lin\n"
          ],
          "name": "stdout"
        },
        {
          "output_type": "stream",
          "text": [
            "WARNING:tensorflow:Unresolved object in checkpoint: (root).transformer.encoder.enc_layers.3.multi_head_attention.key_lin\n"
          ],
          "name": "stderr"
        },
        {
          "output_type": "stream",
          "text": [
            "WARNING:tensorflow:Unresolved object in checkpoint: (root).transformer.encoder.enc_layers.3.multi_head_attention.value_lin\n"
          ],
          "name": "stdout"
        },
        {
          "output_type": "stream",
          "text": [
            "WARNING:tensorflow:Unresolved object in checkpoint: (root).transformer.encoder.enc_layers.3.multi_head_attention.value_lin\n"
          ],
          "name": "stderr"
        },
        {
          "output_type": "stream",
          "text": [
            "WARNING:tensorflow:Unresolved object in checkpoint: (root).transformer.encoder.enc_layers.3.multi_head_attention.final_lin\n"
          ],
          "name": "stdout"
        },
        {
          "output_type": "stream",
          "text": [
            "WARNING:tensorflow:Unresolved object in checkpoint: (root).transformer.encoder.enc_layers.3.multi_head_attention.final_lin\n"
          ],
          "name": "stderr"
        },
        {
          "output_type": "stream",
          "text": [
            "WARNING:tensorflow:Unresolved object in checkpoint: (root).transformer.encoder.enc_layers.3.norm_1.axis\n"
          ],
          "name": "stdout"
        },
        {
          "output_type": "stream",
          "text": [
            "WARNING:tensorflow:Unresolved object in checkpoint: (root).transformer.encoder.enc_layers.3.norm_1.axis\n"
          ],
          "name": "stderr"
        },
        {
          "output_type": "stream",
          "text": [
            "WARNING:tensorflow:Unresolved object in checkpoint: (root).transformer.encoder.enc_layers.3.norm_1.gamma\n"
          ],
          "name": "stdout"
        },
        {
          "output_type": "stream",
          "text": [
            "WARNING:tensorflow:Unresolved object in checkpoint: (root).transformer.encoder.enc_layers.3.norm_1.gamma\n"
          ],
          "name": "stderr"
        },
        {
          "output_type": "stream",
          "text": [
            "WARNING:tensorflow:Unresolved object in checkpoint: (root).transformer.encoder.enc_layers.3.norm_1.beta\n"
          ],
          "name": "stdout"
        },
        {
          "output_type": "stream",
          "text": [
            "WARNING:tensorflow:Unresolved object in checkpoint: (root).transformer.encoder.enc_layers.3.norm_1.beta\n"
          ],
          "name": "stderr"
        },
        {
          "output_type": "stream",
          "text": [
            "WARNING:tensorflow:Unresolved object in checkpoint: (root).transformer.encoder.enc_layers.3.dense_1.kernel\n"
          ],
          "name": "stdout"
        },
        {
          "output_type": "stream",
          "text": [
            "WARNING:tensorflow:Unresolved object in checkpoint: (root).transformer.encoder.enc_layers.3.dense_1.kernel\n"
          ],
          "name": "stderr"
        },
        {
          "output_type": "stream",
          "text": [
            "WARNING:tensorflow:Unresolved object in checkpoint: (root).transformer.encoder.enc_layers.3.dense_1.bias\n"
          ],
          "name": "stdout"
        },
        {
          "output_type": "stream",
          "text": [
            "WARNING:tensorflow:Unresolved object in checkpoint: (root).transformer.encoder.enc_layers.3.dense_1.bias\n"
          ],
          "name": "stderr"
        },
        {
          "output_type": "stream",
          "text": [
            "WARNING:tensorflow:Unresolved object in checkpoint: (root).transformer.encoder.enc_layers.3.dense_2.kernel\n"
          ],
          "name": "stdout"
        },
        {
          "output_type": "stream",
          "text": [
            "WARNING:tensorflow:Unresolved object in checkpoint: (root).transformer.encoder.enc_layers.3.dense_2.kernel\n"
          ],
          "name": "stderr"
        },
        {
          "output_type": "stream",
          "text": [
            "WARNING:tensorflow:Unresolved object in checkpoint: (root).transformer.encoder.enc_layers.3.dense_2.bias\n"
          ],
          "name": "stdout"
        },
        {
          "output_type": "stream",
          "text": [
            "WARNING:tensorflow:Unresolved object in checkpoint: (root).transformer.encoder.enc_layers.3.dense_2.bias\n"
          ],
          "name": "stderr"
        },
        {
          "output_type": "stream",
          "text": [
            "WARNING:tensorflow:Unresolved object in checkpoint: (root).transformer.encoder.enc_layers.3.norm_2.axis\n"
          ],
          "name": "stdout"
        },
        {
          "output_type": "stream",
          "text": [
            "WARNING:tensorflow:Unresolved object in checkpoint: (root).transformer.encoder.enc_layers.3.norm_2.axis\n"
          ],
          "name": "stderr"
        },
        {
          "output_type": "stream",
          "text": [
            "WARNING:tensorflow:Unresolved object in checkpoint: (root).transformer.encoder.enc_layers.3.norm_2.gamma\n"
          ],
          "name": "stdout"
        },
        {
          "output_type": "stream",
          "text": [
            "WARNING:tensorflow:Unresolved object in checkpoint: (root).transformer.encoder.enc_layers.3.norm_2.gamma\n"
          ],
          "name": "stderr"
        },
        {
          "output_type": "stream",
          "text": [
            "WARNING:tensorflow:Unresolved object in checkpoint: (root).transformer.encoder.enc_layers.3.norm_2.beta\n"
          ],
          "name": "stdout"
        },
        {
          "output_type": "stream",
          "text": [
            "WARNING:tensorflow:Unresolved object in checkpoint: (root).transformer.encoder.enc_layers.3.norm_2.beta\n"
          ],
          "name": "stderr"
        },
        {
          "output_type": "stream",
          "text": [
            "WARNING:tensorflow:Unresolved object in checkpoint: (root).transformer.decoder.dec_layers.0.multi_head_attention_1.query_lin\n"
          ],
          "name": "stdout"
        },
        {
          "output_type": "stream",
          "text": [
            "WARNING:tensorflow:Unresolved object in checkpoint: (root).transformer.decoder.dec_layers.0.multi_head_attention_1.query_lin\n"
          ],
          "name": "stderr"
        },
        {
          "output_type": "stream",
          "text": [
            "WARNING:tensorflow:Unresolved object in checkpoint: (root).transformer.decoder.dec_layers.0.multi_head_attention_1.key_lin\n"
          ],
          "name": "stdout"
        },
        {
          "output_type": "stream",
          "text": [
            "WARNING:tensorflow:Unresolved object in checkpoint: (root).transformer.decoder.dec_layers.0.multi_head_attention_1.key_lin\n"
          ],
          "name": "stderr"
        },
        {
          "output_type": "stream",
          "text": [
            "WARNING:tensorflow:Unresolved object in checkpoint: (root).transformer.decoder.dec_layers.0.multi_head_attention_1.value_lin\n"
          ],
          "name": "stdout"
        },
        {
          "output_type": "stream",
          "text": [
            "WARNING:tensorflow:Unresolved object in checkpoint: (root).transformer.decoder.dec_layers.0.multi_head_attention_1.value_lin\n"
          ],
          "name": "stderr"
        },
        {
          "output_type": "stream",
          "text": [
            "WARNING:tensorflow:Unresolved object in checkpoint: (root).transformer.decoder.dec_layers.0.multi_head_attention_1.final_lin\n"
          ],
          "name": "stdout"
        },
        {
          "output_type": "stream",
          "text": [
            "WARNING:tensorflow:Unresolved object in checkpoint: (root).transformer.decoder.dec_layers.0.multi_head_attention_1.final_lin\n"
          ],
          "name": "stderr"
        },
        {
          "output_type": "stream",
          "text": [
            "WARNING:tensorflow:Unresolved object in checkpoint: (root).transformer.decoder.dec_layers.0.norm_1.axis\n"
          ],
          "name": "stdout"
        },
        {
          "output_type": "stream",
          "text": [
            "WARNING:tensorflow:Unresolved object in checkpoint: (root).transformer.decoder.dec_layers.0.norm_1.axis\n"
          ],
          "name": "stderr"
        },
        {
          "output_type": "stream",
          "text": [
            "WARNING:tensorflow:Unresolved object in checkpoint: (root).transformer.decoder.dec_layers.0.norm_1.gamma\n"
          ],
          "name": "stdout"
        },
        {
          "output_type": "stream",
          "text": [
            "WARNING:tensorflow:Unresolved object in checkpoint: (root).transformer.decoder.dec_layers.0.norm_1.gamma\n"
          ],
          "name": "stderr"
        },
        {
          "output_type": "stream",
          "text": [
            "WARNING:tensorflow:Unresolved object in checkpoint: (root).transformer.decoder.dec_layers.0.norm_1.beta\n"
          ],
          "name": "stdout"
        },
        {
          "output_type": "stream",
          "text": [
            "WARNING:tensorflow:Unresolved object in checkpoint: (root).transformer.decoder.dec_layers.0.norm_1.beta\n"
          ],
          "name": "stderr"
        },
        {
          "output_type": "stream",
          "text": [
            "WARNING:tensorflow:Unresolved object in checkpoint: (root).transformer.decoder.dec_layers.0.multi_head_attention_2.query_lin\n"
          ],
          "name": "stdout"
        },
        {
          "output_type": "stream",
          "text": [
            "WARNING:tensorflow:Unresolved object in checkpoint: (root).transformer.decoder.dec_layers.0.multi_head_attention_2.query_lin\n"
          ],
          "name": "stderr"
        },
        {
          "output_type": "stream",
          "text": [
            "WARNING:tensorflow:Unresolved object in checkpoint: (root).transformer.decoder.dec_layers.0.multi_head_attention_2.key_lin\n"
          ],
          "name": "stdout"
        },
        {
          "output_type": "stream",
          "text": [
            "WARNING:tensorflow:Unresolved object in checkpoint: (root).transformer.decoder.dec_layers.0.multi_head_attention_2.key_lin\n"
          ],
          "name": "stderr"
        },
        {
          "output_type": "stream",
          "text": [
            "WARNING:tensorflow:Unresolved object in checkpoint: (root).transformer.decoder.dec_layers.0.multi_head_attention_2.value_lin\n"
          ],
          "name": "stdout"
        },
        {
          "output_type": "stream",
          "text": [
            "WARNING:tensorflow:Unresolved object in checkpoint: (root).transformer.decoder.dec_layers.0.multi_head_attention_2.value_lin\n"
          ],
          "name": "stderr"
        },
        {
          "output_type": "stream",
          "text": [
            "WARNING:tensorflow:Unresolved object in checkpoint: (root).transformer.decoder.dec_layers.0.multi_head_attention_2.final_lin\n"
          ],
          "name": "stdout"
        },
        {
          "output_type": "stream",
          "text": [
            "WARNING:tensorflow:Unresolved object in checkpoint: (root).transformer.decoder.dec_layers.0.multi_head_attention_2.final_lin\n"
          ],
          "name": "stderr"
        },
        {
          "output_type": "stream",
          "text": [
            "WARNING:tensorflow:Unresolved object in checkpoint: (root).transformer.decoder.dec_layers.0.norm_2.axis\n"
          ],
          "name": "stdout"
        },
        {
          "output_type": "stream",
          "text": [
            "WARNING:tensorflow:Unresolved object in checkpoint: (root).transformer.decoder.dec_layers.0.norm_2.axis\n"
          ],
          "name": "stderr"
        },
        {
          "output_type": "stream",
          "text": [
            "WARNING:tensorflow:Unresolved object in checkpoint: (root).transformer.decoder.dec_layers.0.norm_2.gamma\n"
          ],
          "name": "stdout"
        },
        {
          "output_type": "stream",
          "text": [
            "WARNING:tensorflow:Unresolved object in checkpoint: (root).transformer.decoder.dec_layers.0.norm_2.gamma\n"
          ],
          "name": "stderr"
        },
        {
          "output_type": "stream",
          "text": [
            "WARNING:tensorflow:Unresolved object in checkpoint: (root).transformer.decoder.dec_layers.0.norm_2.beta\n"
          ],
          "name": "stdout"
        },
        {
          "output_type": "stream",
          "text": [
            "WARNING:tensorflow:Unresolved object in checkpoint: (root).transformer.decoder.dec_layers.0.norm_2.beta\n"
          ],
          "name": "stderr"
        },
        {
          "output_type": "stream",
          "text": [
            "WARNING:tensorflow:Unresolved object in checkpoint: (root).transformer.decoder.dec_layers.0.dense_1.kernel\n"
          ],
          "name": "stdout"
        },
        {
          "output_type": "stream",
          "text": [
            "WARNING:tensorflow:Unresolved object in checkpoint: (root).transformer.decoder.dec_layers.0.dense_1.kernel\n"
          ],
          "name": "stderr"
        },
        {
          "output_type": "stream",
          "text": [
            "WARNING:tensorflow:Unresolved object in checkpoint: (root).transformer.decoder.dec_layers.0.dense_1.bias\n"
          ],
          "name": "stdout"
        },
        {
          "output_type": "stream",
          "text": [
            "WARNING:tensorflow:Unresolved object in checkpoint: (root).transformer.decoder.dec_layers.0.dense_1.bias\n"
          ],
          "name": "stderr"
        },
        {
          "output_type": "stream",
          "text": [
            "WARNING:tensorflow:Unresolved object in checkpoint: (root).transformer.decoder.dec_layers.0.dense_2.kernel\n"
          ],
          "name": "stdout"
        },
        {
          "output_type": "stream",
          "text": [
            "WARNING:tensorflow:Unresolved object in checkpoint: (root).transformer.decoder.dec_layers.0.dense_2.kernel\n"
          ],
          "name": "stderr"
        },
        {
          "output_type": "stream",
          "text": [
            "WARNING:tensorflow:Unresolved object in checkpoint: (root).transformer.decoder.dec_layers.0.dense_2.bias\n"
          ],
          "name": "stdout"
        },
        {
          "output_type": "stream",
          "text": [
            "WARNING:tensorflow:Unresolved object in checkpoint: (root).transformer.decoder.dec_layers.0.dense_2.bias\n"
          ],
          "name": "stderr"
        },
        {
          "output_type": "stream",
          "text": [
            "WARNING:tensorflow:Unresolved object in checkpoint: (root).transformer.decoder.dec_layers.0.norm_3.axis\n"
          ],
          "name": "stdout"
        },
        {
          "output_type": "stream",
          "text": [
            "WARNING:tensorflow:Unresolved object in checkpoint: (root).transformer.decoder.dec_layers.0.norm_3.axis\n"
          ],
          "name": "stderr"
        },
        {
          "output_type": "stream",
          "text": [
            "WARNING:tensorflow:Unresolved object in checkpoint: (root).transformer.decoder.dec_layers.0.norm_3.gamma\n"
          ],
          "name": "stdout"
        },
        {
          "output_type": "stream",
          "text": [
            "WARNING:tensorflow:Unresolved object in checkpoint: (root).transformer.decoder.dec_layers.0.norm_3.gamma\n"
          ],
          "name": "stderr"
        },
        {
          "output_type": "stream",
          "text": [
            "WARNING:tensorflow:Unresolved object in checkpoint: (root).transformer.decoder.dec_layers.0.norm_3.beta\n"
          ],
          "name": "stdout"
        },
        {
          "output_type": "stream",
          "text": [
            "WARNING:tensorflow:Unresolved object in checkpoint: (root).transformer.decoder.dec_layers.0.norm_3.beta\n"
          ],
          "name": "stderr"
        },
        {
          "output_type": "stream",
          "text": [
            "WARNING:tensorflow:Unresolved object in checkpoint: (root).transformer.decoder.dec_layers.1.multi_head_attention_1.query_lin\n"
          ],
          "name": "stdout"
        },
        {
          "output_type": "stream",
          "text": [
            "WARNING:tensorflow:Unresolved object in checkpoint: (root).transformer.decoder.dec_layers.1.multi_head_attention_1.query_lin\n"
          ],
          "name": "stderr"
        },
        {
          "output_type": "stream",
          "text": [
            "WARNING:tensorflow:Unresolved object in checkpoint: (root).transformer.decoder.dec_layers.1.multi_head_attention_1.key_lin\n"
          ],
          "name": "stdout"
        },
        {
          "output_type": "stream",
          "text": [
            "WARNING:tensorflow:Unresolved object in checkpoint: (root).transformer.decoder.dec_layers.1.multi_head_attention_1.key_lin\n"
          ],
          "name": "stderr"
        },
        {
          "output_type": "stream",
          "text": [
            "WARNING:tensorflow:Unresolved object in checkpoint: (root).transformer.decoder.dec_layers.1.multi_head_attention_1.value_lin\n"
          ],
          "name": "stdout"
        },
        {
          "output_type": "stream",
          "text": [
            "WARNING:tensorflow:Unresolved object in checkpoint: (root).transformer.decoder.dec_layers.1.multi_head_attention_1.value_lin\n"
          ],
          "name": "stderr"
        },
        {
          "output_type": "stream",
          "text": [
            "WARNING:tensorflow:Unresolved object in checkpoint: (root).transformer.decoder.dec_layers.1.multi_head_attention_1.final_lin\n"
          ],
          "name": "stdout"
        },
        {
          "output_type": "stream",
          "text": [
            "WARNING:tensorflow:Unresolved object in checkpoint: (root).transformer.decoder.dec_layers.1.multi_head_attention_1.final_lin\n"
          ],
          "name": "stderr"
        },
        {
          "output_type": "stream",
          "text": [
            "WARNING:tensorflow:Unresolved object in checkpoint: (root).transformer.decoder.dec_layers.1.norm_1.axis\n"
          ],
          "name": "stdout"
        },
        {
          "output_type": "stream",
          "text": [
            "WARNING:tensorflow:Unresolved object in checkpoint: (root).transformer.decoder.dec_layers.1.norm_1.axis\n"
          ],
          "name": "stderr"
        },
        {
          "output_type": "stream",
          "text": [
            "WARNING:tensorflow:Unresolved object in checkpoint: (root).transformer.decoder.dec_layers.1.norm_1.gamma\n"
          ],
          "name": "stdout"
        },
        {
          "output_type": "stream",
          "text": [
            "WARNING:tensorflow:Unresolved object in checkpoint: (root).transformer.decoder.dec_layers.1.norm_1.gamma\n"
          ],
          "name": "stderr"
        },
        {
          "output_type": "stream",
          "text": [
            "WARNING:tensorflow:Unresolved object in checkpoint: (root).transformer.decoder.dec_layers.1.norm_1.beta\n"
          ],
          "name": "stdout"
        },
        {
          "output_type": "stream",
          "text": [
            "WARNING:tensorflow:Unresolved object in checkpoint: (root).transformer.decoder.dec_layers.1.norm_1.beta\n"
          ],
          "name": "stderr"
        },
        {
          "output_type": "stream",
          "text": [
            "WARNING:tensorflow:Unresolved object in checkpoint: (root).transformer.decoder.dec_layers.1.multi_head_attention_2.query_lin\n"
          ],
          "name": "stdout"
        },
        {
          "output_type": "stream",
          "text": [
            "WARNING:tensorflow:Unresolved object in checkpoint: (root).transformer.decoder.dec_layers.1.multi_head_attention_2.query_lin\n"
          ],
          "name": "stderr"
        },
        {
          "output_type": "stream",
          "text": [
            "WARNING:tensorflow:Unresolved object in checkpoint: (root).transformer.decoder.dec_layers.1.multi_head_attention_2.key_lin\n"
          ],
          "name": "stdout"
        },
        {
          "output_type": "stream",
          "text": [
            "WARNING:tensorflow:Unresolved object in checkpoint: (root).transformer.decoder.dec_layers.1.multi_head_attention_2.key_lin\n"
          ],
          "name": "stderr"
        },
        {
          "output_type": "stream",
          "text": [
            "WARNING:tensorflow:Unresolved object in checkpoint: (root).transformer.decoder.dec_layers.1.multi_head_attention_2.value_lin\n"
          ],
          "name": "stdout"
        },
        {
          "output_type": "stream",
          "text": [
            "WARNING:tensorflow:Unresolved object in checkpoint: (root).transformer.decoder.dec_layers.1.multi_head_attention_2.value_lin\n"
          ],
          "name": "stderr"
        },
        {
          "output_type": "stream",
          "text": [
            "WARNING:tensorflow:Unresolved object in checkpoint: (root).transformer.decoder.dec_layers.1.multi_head_attention_2.final_lin\n"
          ],
          "name": "stdout"
        },
        {
          "output_type": "stream",
          "text": [
            "WARNING:tensorflow:Unresolved object in checkpoint: (root).transformer.decoder.dec_layers.1.multi_head_attention_2.final_lin\n"
          ],
          "name": "stderr"
        },
        {
          "output_type": "stream",
          "text": [
            "WARNING:tensorflow:Unresolved object in checkpoint: (root).transformer.decoder.dec_layers.1.norm_2.axis\n"
          ],
          "name": "stdout"
        },
        {
          "output_type": "stream",
          "text": [
            "WARNING:tensorflow:Unresolved object in checkpoint: (root).transformer.decoder.dec_layers.1.norm_2.axis\n"
          ],
          "name": "stderr"
        },
        {
          "output_type": "stream",
          "text": [
            "WARNING:tensorflow:Unresolved object in checkpoint: (root).transformer.decoder.dec_layers.1.norm_2.gamma\n"
          ],
          "name": "stdout"
        },
        {
          "output_type": "stream",
          "text": [
            "WARNING:tensorflow:Unresolved object in checkpoint: (root).transformer.decoder.dec_layers.1.norm_2.gamma\n"
          ],
          "name": "stderr"
        },
        {
          "output_type": "stream",
          "text": [
            "WARNING:tensorflow:Unresolved object in checkpoint: (root).transformer.decoder.dec_layers.1.norm_2.beta\n"
          ],
          "name": "stdout"
        },
        {
          "output_type": "stream",
          "text": [
            "WARNING:tensorflow:Unresolved object in checkpoint: (root).transformer.decoder.dec_layers.1.norm_2.beta\n"
          ],
          "name": "stderr"
        },
        {
          "output_type": "stream",
          "text": [
            "WARNING:tensorflow:Unresolved object in checkpoint: (root).transformer.decoder.dec_layers.1.dense_1.kernel\n"
          ],
          "name": "stdout"
        },
        {
          "output_type": "stream",
          "text": [
            "WARNING:tensorflow:Unresolved object in checkpoint: (root).transformer.decoder.dec_layers.1.dense_1.kernel\n"
          ],
          "name": "stderr"
        },
        {
          "output_type": "stream",
          "text": [
            "WARNING:tensorflow:Unresolved object in checkpoint: (root).transformer.decoder.dec_layers.1.dense_1.bias\n"
          ],
          "name": "stdout"
        },
        {
          "output_type": "stream",
          "text": [
            "WARNING:tensorflow:Unresolved object in checkpoint: (root).transformer.decoder.dec_layers.1.dense_1.bias\n"
          ],
          "name": "stderr"
        },
        {
          "output_type": "stream",
          "text": [
            "WARNING:tensorflow:Unresolved object in checkpoint: (root).transformer.decoder.dec_layers.1.dense_2.kernel\n"
          ],
          "name": "stdout"
        },
        {
          "output_type": "stream",
          "text": [
            "WARNING:tensorflow:Unresolved object in checkpoint: (root).transformer.decoder.dec_layers.1.dense_2.kernel\n"
          ],
          "name": "stderr"
        },
        {
          "output_type": "stream",
          "text": [
            "WARNING:tensorflow:Unresolved object in checkpoint: (root).transformer.decoder.dec_layers.1.dense_2.bias\n"
          ],
          "name": "stdout"
        },
        {
          "output_type": "stream",
          "text": [
            "WARNING:tensorflow:Unresolved object in checkpoint: (root).transformer.decoder.dec_layers.1.dense_2.bias\n"
          ],
          "name": "stderr"
        },
        {
          "output_type": "stream",
          "text": [
            "WARNING:tensorflow:Unresolved object in checkpoint: (root).transformer.decoder.dec_layers.1.norm_3.axis\n"
          ],
          "name": "stdout"
        },
        {
          "output_type": "stream",
          "text": [
            "WARNING:tensorflow:Unresolved object in checkpoint: (root).transformer.decoder.dec_layers.1.norm_3.axis\n"
          ],
          "name": "stderr"
        },
        {
          "output_type": "stream",
          "text": [
            "WARNING:tensorflow:Unresolved object in checkpoint: (root).transformer.decoder.dec_layers.1.norm_3.gamma\n"
          ],
          "name": "stdout"
        },
        {
          "output_type": "stream",
          "text": [
            "WARNING:tensorflow:Unresolved object in checkpoint: (root).transformer.decoder.dec_layers.1.norm_3.gamma\n"
          ],
          "name": "stderr"
        },
        {
          "output_type": "stream",
          "text": [
            "WARNING:tensorflow:Unresolved object in checkpoint: (root).transformer.decoder.dec_layers.1.norm_3.beta\n"
          ],
          "name": "stdout"
        },
        {
          "output_type": "stream",
          "text": [
            "WARNING:tensorflow:Unresolved object in checkpoint: (root).transformer.decoder.dec_layers.1.norm_3.beta\n"
          ],
          "name": "stderr"
        },
        {
          "output_type": "stream",
          "text": [
            "WARNING:tensorflow:Unresolved object in checkpoint: (root).transformer.decoder.dec_layers.2.multi_head_attention_1.query_lin\n"
          ],
          "name": "stdout"
        },
        {
          "output_type": "stream",
          "text": [
            "WARNING:tensorflow:Unresolved object in checkpoint: (root).transformer.decoder.dec_layers.2.multi_head_attention_1.query_lin\n"
          ],
          "name": "stderr"
        },
        {
          "output_type": "stream",
          "text": [
            "WARNING:tensorflow:Unresolved object in checkpoint: (root).transformer.decoder.dec_layers.2.multi_head_attention_1.key_lin\n"
          ],
          "name": "stdout"
        },
        {
          "output_type": "stream",
          "text": [
            "WARNING:tensorflow:Unresolved object in checkpoint: (root).transformer.decoder.dec_layers.2.multi_head_attention_1.key_lin\n"
          ],
          "name": "stderr"
        },
        {
          "output_type": "stream",
          "text": [
            "WARNING:tensorflow:Unresolved object in checkpoint: (root).transformer.decoder.dec_layers.2.multi_head_attention_1.value_lin\n"
          ],
          "name": "stdout"
        },
        {
          "output_type": "stream",
          "text": [
            "WARNING:tensorflow:Unresolved object in checkpoint: (root).transformer.decoder.dec_layers.2.multi_head_attention_1.value_lin\n"
          ],
          "name": "stderr"
        },
        {
          "output_type": "stream",
          "text": [
            "WARNING:tensorflow:Unresolved object in checkpoint: (root).transformer.decoder.dec_layers.2.multi_head_attention_1.final_lin\n"
          ],
          "name": "stdout"
        },
        {
          "output_type": "stream",
          "text": [
            "WARNING:tensorflow:Unresolved object in checkpoint: (root).transformer.decoder.dec_layers.2.multi_head_attention_1.final_lin\n"
          ],
          "name": "stderr"
        },
        {
          "output_type": "stream",
          "text": [
            "WARNING:tensorflow:Unresolved object in checkpoint: (root).transformer.decoder.dec_layers.2.norm_1.axis\n"
          ],
          "name": "stdout"
        },
        {
          "output_type": "stream",
          "text": [
            "WARNING:tensorflow:Unresolved object in checkpoint: (root).transformer.decoder.dec_layers.2.norm_1.axis\n"
          ],
          "name": "stderr"
        },
        {
          "output_type": "stream",
          "text": [
            "WARNING:tensorflow:Unresolved object in checkpoint: (root).transformer.decoder.dec_layers.2.norm_1.gamma\n"
          ],
          "name": "stdout"
        },
        {
          "output_type": "stream",
          "text": [
            "WARNING:tensorflow:Unresolved object in checkpoint: (root).transformer.decoder.dec_layers.2.norm_1.gamma\n"
          ],
          "name": "stderr"
        },
        {
          "output_type": "stream",
          "text": [
            "WARNING:tensorflow:Unresolved object in checkpoint: (root).transformer.decoder.dec_layers.2.norm_1.beta\n"
          ],
          "name": "stdout"
        },
        {
          "output_type": "stream",
          "text": [
            "WARNING:tensorflow:Unresolved object in checkpoint: (root).transformer.decoder.dec_layers.2.norm_1.beta\n"
          ],
          "name": "stderr"
        },
        {
          "output_type": "stream",
          "text": [
            "WARNING:tensorflow:Unresolved object in checkpoint: (root).transformer.decoder.dec_layers.2.multi_head_attention_2.query_lin\n"
          ],
          "name": "stdout"
        },
        {
          "output_type": "stream",
          "text": [
            "WARNING:tensorflow:Unresolved object in checkpoint: (root).transformer.decoder.dec_layers.2.multi_head_attention_2.query_lin\n"
          ],
          "name": "stderr"
        },
        {
          "output_type": "stream",
          "text": [
            "WARNING:tensorflow:Unresolved object in checkpoint: (root).transformer.decoder.dec_layers.2.multi_head_attention_2.key_lin\n"
          ],
          "name": "stdout"
        },
        {
          "output_type": "stream",
          "text": [
            "WARNING:tensorflow:Unresolved object in checkpoint: (root).transformer.decoder.dec_layers.2.multi_head_attention_2.key_lin\n"
          ],
          "name": "stderr"
        },
        {
          "output_type": "stream",
          "text": [
            "WARNING:tensorflow:Unresolved object in checkpoint: (root).transformer.decoder.dec_layers.2.multi_head_attention_2.value_lin\n"
          ],
          "name": "stdout"
        },
        {
          "output_type": "stream",
          "text": [
            "WARNING:tensorflow:Unresolved object in checkpoint: (root).transformer.decoder.dec_layers.2.multi_head_attention_2.value_lin\n"
          ],
          "name": "stderr"
        },
        {
          "output_type": "stream",
          "text": [
            "WARNING:tensorflow:Unresolved object in checkpoint: (root).transformer.decoder.dec_layers.2.multi_head_attention_2.final_lin\n"
          ],
          "name": "stdout"
        },
        {
          "output_type": "stream",
          "text": [
            "WARNING:tensorflow:Unresolved object in checkpoint: (root).transformer.decoder.dec_layers.2.multi_head_attention_2.final_lin\n"
          ],
          "name": "stderr"
        },
        {
          "output_type": "stream",
          "text": [
            "WARNING:tensorflow:Unresolved object in checkpoint: (root).transformer.decoder.dec_layers.2.norm_2.axis\n"
          ],
          "name": "stdout"
        },
        {
          "output_type": "stream",
          "text": [
            "WARNING:tensorflow:Unresolved object in checkpoint: (root).transformer.decoder.dec_layers.2.norm_2.axis\n"
          ],
          "name": "stderr"
        },
        {
          "output_type": "stream",
          "text": [
            "WARNING:tensorflow:Unresolved object in checkpoint: (root).transformer.decoder.dec_layers.2.norm_2.gamma\n"
          ],
          "name": "stdout"
        },
        {
          "output_type": "stream",
          "text": [
            "WARNING:tensorflow:Unresolved object in checkpoint: (root).transformer.decoder.dec_layers.2.norm_2.gamma\n"
          ],
          "name": "stderr"
        },
        {
          "output_type": "stream",
          "text": [
            "WARNING:tensorflow:Unresolved object in checkpoint: (root).transformer.decoder.dec_layers.2.norm_2.beta\n"
          ],
          "name": "stdout"
        },
        {
          "output_type": "stream",
          "text": [
            "WARNING:tensorflow:Unresolved object in checkpoint: (root).transformer.decoder.dec_layers.2.norm_2.beta\n"
          ],
          "name": "stderr"
        },
        {
          "output_type": "stream",
          "text": [
            "WARNING:tensorflow:Unresolved object in checkpoint: (root).transformer.decoder.dec_layers.2.dense_1.kernel\n"
          ],
          "name": "stdout"
        },
        {
          "output_type": "stream",
          "text": [
            "WARNING:tensorflow:Unresolved object in checkpoint: (root).transformer.decoder.dec_layers.2.dense_1.kernel\n"
          ],
          "name": "stderr"
        },
        {
          "output_type": "stream",
          "text": [
            "WARNING:tensorflow:Unresolved object in checkpoint: (root).transformer.decoder.dec_layers.2.dense_1.bias\n"
          ],
          "name": "stdout"
        },
        {
          "output_type": "stream",
          "text": [
            "WARNING:tensorflow:Unresolved object in checkpoint: (root).transformer.decoder.dec_layers.2.dense_1.bias\n"
          ],
          "name": "stderr"
        },
        {
          "output_type": "stream",
          "text": [
            "WARNING:tensorflow:Unresolved object in checkpoint: (root).transformer.decoder.dec_layers.2.dense_2.kernel\n"
          ],
          "name": "stdout"
        },
        {
          "output_type": "stream",
          "text": [
            "WARNING:tensorflow:Unresolved object in checkpoint: (root).transformer.decoder.dec_layers.2.dense_2.kernel\n"
          ],
          "name": "stderr"
        },
        {
          "output_type": "stream",
          "text": [
            "WARNING:tensorflow:Unresolved object in checkpoint: (root).transformer.decoder.dec_layers.2.dense_2.bias\n"
          ],
          "name": "stdout"
        },
        {
          "output_type": "stream",
          "text": [
            "WARNING:tensorflow:Unresolved object in checkpoint: (root).transformer.decoder.dec_layers.2.dense_2.bias\n"
          ],
          "name": "stderr"
        },
        {
          "output_type": "stream",
          "text": [
            "WARNING:tensorflow:Unresolved object in checkpoint: (root).transformer.decoder.dec_layers.2.norm_3.axis\n"
          ],
          "name": "stdout"
        },
        {
          "output_type": "stream",
          "text": [
            "WARNING:tensorflow:Unresolved object in checkpoint: (root).transformer.decoder.dec_layers.2.norm_3.axis\n"
          ],
          "name": "stderr"
        },
        {
          "output_type": "stream",
          "text": [
            "WARNING:tensorflow:Unresolved object in checkpoint: (root).transformer.decoder.dec_layers.2.norm_3.gamma\n"
          ],
          "name": "stdout"
        },
        {
          "output_type": "stream",
          "text": [
            "WARNING:tensorflow:Unresolved object in checkpoint: (root).transformer.decoder.dec_layers.2.norm_3.gamma\n"
          ],
          "name": "stderr"
        },
        {
          "output_type": "stream",
          "text": [
            "WARNING:tensorflow:Unresolved object in checkpoint: (root).transformer.decoder.dec_layers.2.norm_3.beta\n"
          ],
          "name": "stdout"
        },
        {
          "output_type": "stream",
          "text": [
            "WARNING:tensorflow:Unresolved object in checkpoint: (root).transformer.decoder.dec_layers.2.norm_3.beta\n"
          ],
          "name": "stderr"
        },
        {
          "output_type": "stream",
          "text": [
            "WARNING:tensorflow:Unresolved object in checkpoint: (root).transformer.decoder.dec_layers.3.multi_head_attention_1.query_lin\n"
          ],
          "name": "stdout"
        },
        {
          "output_type": "stream",
          "text": [
            "WARNING:tensorflow:Unresolved object in checkpoint: (root).transformer.decoder.dec_layers.3.multi_head_attention_1.query_lin\n"
          ],
          "name": "stderr"
        },
        {
          "output_type": "stream",
          "text": [
            "WARNING:tensorflow:Unresolved object in checkpoint: (root).transformer.decoder.dec_layers.3.multi_head_attention_1.key_lin\n"
          ],
          "name": "stdout"
        },
        {
          "output_type": "stream",
          "text": [
            "WARNING:tensorflow:Unresolved object in checkpoint: (root).transformer.decoder.dec_layers.3.multi_head_attention_1.key_lin\n"
          ],
          "name": "stderr"
        },
        {
          "output_type": "stream",
          "text": [
            "WARNING:tensorflow:Unresolved object in checkpoint: (root).transformer.decoder.dec_layers.3.multi_head_attention_1.value_lin\n"
          ],
          "name": "stdout"
        },
        {
          "output_type": "stream",
          "text": [
            "WARNING:tensorflow:Unresolved object in checkpoint: (root).transformer.decoder.dec_layers.3.multi_head_attention_1.value_lin\n"
          ],
          "name": "stderr"
        },
        {
          "output_type": "stream",
          "text": [
            "WARNING:tensorflow:Unresolved object in checkpoint: (root).transformer.decoder.dec_layers.3.multi_head_attention_1.final_lin\n"
          ],
          "name": "stdout"
        },
        {
          "output_type": "stream",
          "text": [
            "WARNING:tensorflow:Unresolved object in checkpoint: (root).transformer.decoder.dec_layers.3.multi_head_attention_1.final_lin\n"
          ],
          "name": "stderr"
        },
        {
          "output_type": "stream",
          "text": [
            "WARNING:tensorflow:Unresolved object in checkpoint: (root).transformer.decoder.dec_layers.3.norm_1.axis\n"
          ],
          "name": "stdout"
        },
        {
          "output_type": "stream",
          "text": [
            "WARNING:tensorflow:Unresolved object in checkpoint: (root).transformer.decoder.dec_layers.3.norm_1.axis\n"
          ],
          "name": "stderr"
        },
        {
          "output_type": "stream",
          "text": [
            "WARNING:tensorflow:Unresolved object in checkpoint: (root).transformer.decoder.dec_layers.3.norm_1.gamma\n"
          ],
          "name": "stdout"
        },
        {
          "output_type": "stream",
          "text": [
            "WARNING:tensorflow:Unresolved object in checkpoint: (root).transformer.decoder.dec_layers.3.norm_1.gamma\n"
          ],
          "name": "stderr"
        },
        {
          "output_type": "stream",
          "text": [
            "WARNING:tensorflow:Unresolved object in checkpoint: (root).transformer.decoder.dec_layers.3.norm_1.beta\n"
          ],
          "name": "stdout"
        },
        {
          "output_type": "stream",
          "text": [
            "WARNING:tensorflow:Unresolved object in checkpoint: (root).transformer.decoder.dec_layers.3.norm_1.beta\n"
          ],
          "name": "stderr"
        },
        {
          "output_type": "stream",
          "text": [
            "WARNING:tensorflow:Unresolved object in checkpoint: (root).transformer.decoder.dec_layers.3.multi_head_attention_2.query_lin\n"
          ],
          "name": "stdout"
        },
        {
          "output_type": "stream",
          "text": [
            "WARNING:tensorflow:Unresolved object in checkpoint: (root).transformer.decoder.dec_layers.3.multi_head_attention_2.query_lin\n"
          ],
          "name": "stderr"
        },
        {
          "output_type": "stream",
          "text": [
            "WARNING:tensorflow:Unresolved object in checkpoint: (root).transformer.decoder.dec_layers.3.multi_head_attention_2.key_lin\n"
          ],
          "name": "stdout"
        },
        {
          "output_type": "stream",
          "text": [
            "WARNING:tensorflow:Unresolved object in checkpoint: (root).transformer.decoder.dec_layers.3.multi_head_attention_2.key_lin\n"
          ],
          "name": "stderr"
        },
        {
          "output_type": "stream",
          "text": [
            "WARNING:tensorflow:Unresolved object in checkpoint: (root).transformer.decoder.dec_layers.3.multi_head_attention_2.value_lin\n"
          ],
          "name": "stdout"
        },
        {
          "output_type": "stream",
          "text": [
            "WARNING:tensorflow:Unresolved object in checkpoint: (root).transformer.decoder.dec_layers.3.multi_head_attention_2.value_lin\n"
          ],
          "name": "stderr"
        },
        {
          "output_type": "stream",
          "text": [
            "WARNING:tensorflow:Unresolved object in checkpoint: (root).transformer.decoder.dec_layers.3.multi_head_attention_2.final_lin\n"
          ],
          "name": "stdout"
        },
        {
          "output_type": "stream",
          "text": [
            "WARNING:tensorflow:Unresolved object in checkpoint: (root).transformer.decoder.dec_layers.3.multi_head_attention_2.final_lin\n"
          ],
          "name": "stderr"
        },
        {
          "output_type": "stream",
          "text": [
            "WARNING:tensorflow:Unresolved object in checkpoint: (root).transformer.decoder.dec_layers.3.norm_2.axis\n"
          ],
          "name": "stdout"
        },
        {
          "output_type": "stream",
          "text": [
            "WARNING:tensorflow:Unresolved object in checkpoint: (root).transformer.decoder.dec_layers.3.norm_2.axis\n"
          ],
          "name": "stderr"
        },
        {
          "output_type": "stream",
          "text": [
            "WARNING:tensorflow:Unresolved object in checkpoint: (root).transformer.decoder.dec_layers.3.norm_2.gamma\n"
          ],
          "name": "stdout"
        },
        {
          "output_type": "stream",
          "text": [
            "WARNING:tensorflow:Unresolved object in checkpoint: (root).transformer.decoder.dec_layers.3.norm_2.gamma\n"
          ],
          "name": "stderr"
        },
        {
          "output_type": "stream",
          "text": [
            "WARNING:tensorflow:Unresolved object in checkpoint: (root).transformer.decoder.dec_layers.3.norm_2.beta\n"
          ],
          "name": "stdout"
        },
        {
          "output_type": "stream",
          "text": [
            "WARNING:tensorflow:Unresolved object in checkpoint: (root).transformer.decoder.dec_layers.3.norm_2.beta\n"
          ],
          "name": "stderr"
        },
        {
          "output_type": "stream",
          "text": [
            "WARNING:tensorflow:Unresolved object in checkpoint: (root).transformer.decoder.dec_layers.3.dense_1.kernel\n"
          ],
          "name": "stdout"
        },
        {
          "output_type": "stream",
          "text": [
            "WARNING:tensorflow:Unresolved object in checkpoint: (root).transformer.decoder.dec_layers.3.dense_1.kernel\n"
          ],
          "name": "stderr"
        },
        {
          "output_type": "stream",
          "text": [
            "WARNING:tensorflow:Unresolved object in checkpoint: (root).transformer.decoder.dec_layers.3.dense_1.bias\n"
          ],
          "name": "stdout"
        },
        {
          "output_type": "stream",
          "text": [
            "WARNING:tensorflow:Unresolved object in checkpoint: (root).transformer.decoder.dec_layers.3.dense_1.bias\n"
          ],
          "name": "stderr"
        },
        {
          "output_type": "stream",
          "text": [
            "WARNING:tensorflow:Unresolved object in checkpoint: (root).transformer.decoder.dec_layers.3.dense_2.kernel\n"
          ],
          "name": "stdout"
        },
        {
          "output_type": "stream",
          "text": [
            "WARNING:tensorflow:Unresolved object in checkpoint: (root).transformer.decoder.dec_layers.3.dense_2.kernel\n"
          ],
          "name": "stderr"
        },
        {
          "output_type": "stream",
          "text": [
            "WARNING:tensorflow:Unresolved object in checkpoint: (root).transformer.decoder.dec_layers.3.dense_2.bias\n"
          ],
          "name": "stdout"
        },
        {
          "output_type": "stream",
          "text": [
            "WARNING:tensorflow:Unresolved object in checkpoint: (root).transformer.decoder.dec_layers.3.dense_2.bias\n"
          ],
          "name": "stderr"
        },
        {
          "output_type": "stream",
          "text": [
            "WARNING:tensorflow:Unresolved object in checkpoint: (root).transformer.decoder.dec_layers.3.norm_3.axis\n"
          ],
          "name": "stdout"
        },
        {
          "output_type": "stream",
          "text": [
            "WARNING:tensorflow:Unresolved object in checkpoint: (root).transformer.decoder.dec_layers.3.norm_3.axis\n"
          ],
          "name": "stderr"
        },
        {
          "output_type": "stream",
          "text": [
            "WARNING:tensorflow:Unresolved object in checkpoint: (root).transformer.decoder.dec_layers.3.norm_3.gamma\n"
          ],
          "name": "stdout"
        },
        {
          "output_type": "stream",
          "text": [
            "WARNING:tensorflow:Unresolved object in checkpoint: (root).transformer.decoder.dec_layers.3.norm_3.gamma\n"
          ],
          "name": "stderr"
        },
        {
          "output_type": "stream",
          "text": [
            "WARNING:tensorflow:Unresolved object in checkpoint: (root).transformer.decoder.dec_layers.3.norm_3.beta\n"
          ],
          "name": "stdout"
        },
        {
          "output_type": "stream",
          "text": [
            "WARNING:tensorflow:Unresolved object in checkpoint: (root).transformer.decoder.dec_layers.3.norm_3.beta\n"
          ],
          "name": "stderr"
        },
        {
          "output_type": "stream",
          "text": [
            "WARNING:tensorflow:Unresolved object in checkpoint: (root).transformer.encoder.enc_layers.0.multi_head_attention.query_lin.kernel\n"
          ],
          "name": "stdout"
        },
        {
          "output_type": "stream",
          "text": [
            "WARNING:tensorflow:Unresolved object in checkpoint: (root).transformer.encoder.enc_layers.0.multi_head_attention.query_lin.kernel\n"
          ],
          "name": "stderr"
        },
        {
          "output_type": "stream",
          "text": [
            "WARNING:tensorflow:Unresolved object in checkpoint: (root).transformer.encoder.enc_layers.0.multi_head_attention.query_lin.bias\n"
          ],
          "name": "stdout"
        },
        {
          "output_type": "stream",
          "text": [
            "WARNING:tensorflow:Unresolved object in checkpoint: (root).transformer.encoder.enc_layers.0.multi_head_attention.query_lin.bias\n"
          ],
          "name": "stderr"
        },
        {
          "output_type": "stream",
          "text": [
            "WARNING:tensorflow:Unresolved object in checkpoint: (root).transformer.encoder.enc_layers.0.multi_head_attention.key_lin.kernel\n"
          ],
          "name": "stdout"
        },
        {
          "output_type": "stream",
          "text": [
            "WARNING:tensorflow:Unresolved object in checkpoint: (root).transformer.encoder.enc_layers.0.multi_head_attention.key_lin.kernel\n"
          ],
          "name": "stderr"
        },
        {
          "output_type": "stream",
          "text": [
            "WARNING:tensorflow:Unresolved object in checkpoint: (root).transformer.encoder.enc_layers.0.multi_head_attention.key_lin.bias\n"
          ],
          "name": "stdout"
        },
        {
          "output_type": "stream",
          "text": [
            "WARNING:tensorflow:Unresolved object in checkpoint: (root).transformer.encoder.enc_layers.0.multi_head_attention.key_lin.bias\n"
          ],
          "name": "stderr"
        },
        {
          "output_type": "stream",
          "text": [
            "WARNING:tensorflow:Unresolved object in checkpoint: (root).transformer.encoder.enc_layers.0.multi_head_attention.value_lin.kernel\n"
          ],
          "name": "stdout"
        },
        {
          "output_type": "stream",
          "text": [
            "WARNING:tensorflow:Unresolved object in checkpoint: (root).transformer.encoder.enc_layers.0.multi_head_attention.value_lin.kernel\n"
          ],
          "name": "stderr"
        },
        {
          "output_type": "stream",
          "text": [
            "WARNING:tensorflow:Unresolved object in checkpoint: (root).transformer.encoder.enc_layers.0.multi_head_attention.value_lin.bias\n"
          ],
          "name": "stdout"
        },
        {
          "output_type": "stream",
          "text": [
            "WARNING:tensorflow:Unresolved object in checkpoint: (root).transformer.encoder.enc_layers.0.multi_head_attention.value_lin.bias\n"
          ],
          "name": "stderr"
        },
        {
          "output_type": "stream",
          "text": [
            "WARNING:tensorflow:Unresolved object in checkpoint: (root).transformer.encoder.enc_layers.0.multi_head_attention.final_lin.kernel\n"
          ],
          "name": "stdout"
        },
        {
          "output_type": "stream",
          "text": [
            "WARNING:tensorflow:Unresolved object in checkpoint: (root).transformer.encoder.enc_layers.0.multi_head_attention.final_lin.kernel\n"
          ],
          "name": "stderr"
        },
        {
          "output_type": "stream",
          "text": [
            "WARNING:tensorflow:Unresolved object in checkpoint: (root).transformer.encoder.enc_layers.0.multi_head_attention.final_lin.bias\n"
          ],
          "name": "stdout"
        },
        {
          "output_type": "stream",
          "text": [
            "WARNING:tensorflow:Unresolved object in checkpoint: (root).transformer.encoder.enc_layers.0.multi_head_attention.final_lin.bias\n"
          ],
          "name": "stderr"
        },
        {
          "output_type": "stream",
          "text": [
            "WARNING:tensorflow:Unresolved object in checkpoint: (root).transformer.encoder.enc_layers.1.multi_head_attention.query_lin.kernel\n"
          ],
          "name": "stdout"
        },
        {
          "output_type": "stream",
          "text": [
            "WARNING:tensorflow:Unresolved object in checkpoint: (root).transformer.encoder.enc_layers.1.multi_head_attention.query_lin.kernel\n"
          ],
          "name": "stderr"
        },
        {
          "output_type": "stream",
          "text": [
            "WARNING:tensorflow:Unresolved object in checkpoint: (root).transformer.encoder.enc_layers.1.multi_head_attention.query_lin.bias\n"
          ],
          "name": "stdout"
        },
        {
          "output_type": "stream",
          "text": [
            "WARNING:tensorflow:Unresolved object in checkpoint: (root).transformer.encoder.enc_layers.1.multi_head_attention.query_lin.bias\n"
          ],
          "name": "stderr"
        },
        {
          "output_type": "stream",
          "text": [
            "WARNING:tensorflow:Unresolved object in checkpoint: (root).transformer.encoder.enc_layers.1.multi_head_attention.key_lin.kernel\n"
          ],
          "name": "stdout"
        },
        {
          "output_type": "stream",
          "text": [
            "WARNING:tensorflow:Unresolved object in checkpoint: (root).transformer.encoder.enc_layers.1.multi_head_attention.key_lin.kernel\n"
          ],
          "name": "stderr"
        },
        {
          "output_type": "stream",
          "text": [
            "WARNING:tensorflow:Unresolved object in checkpoint: (root).transformer.encoder.enc_layers.1.multi_head_attention.key_lin.bias\n"
          ],
          "name": "stdout"
        },
        {
          "output_type": "stream",
          "text": [
            "WARNING:tensorflow:Unresolved object in checkpoint: (root).transformer.encoder.enc_layers.1.multi_head_attention.key_lin.bias\n"
          ],
          "name": "stderr"
        },
        {
          "output_type": "stream",
          "text": [
            "WARNING:tensorflow:Unresolved object in checkpoint: (root).transformer.encoder.enc_layers.1.multi_head_attention.value_lin.kernel\n"
          ],
          "name": "stdout"
        },
        {
          "output_type": "stream",
          "text": [
            "WARNING:tensorflow:Unresolved object in checkpoint: (root).transformer.encoder.enc_layers.1.multi_head_attention.value_lin.kernel\n"
          ],
          "name": "stderr"
        },
        {
          "output_type": "stream",
          "text": [
            "WARNING:tensorflow:Unresolved object in checkpoint: (root).transformer.encoder.enc_layers.1.multi_head_attention.value_lin.bias\n"
          ],
          "name": "stdout"
        },
        {
          "output_type": "stream",
          "text": [
            "WARNING:tensorflow:Unresolved object in checkpoint: (root).transformer.encoder.enc_layers.1.multi_head_attention.value_lin.bias\n"
          ],
          "name": "stderr"
        },
        {
          "output_type": "stream",
          "text": [
            "WARNING:tensorflow:Unresolved object in checkpoint: (root).transformer.encoder.enc_layers.1.multi_head_attention.final_lin.kernel\n"
          ],
          "name": "stdout"
        },
        {
          "output_type": "stream",
          "text": [
            "WARNING:tensorflow:Unresolved object in checkpoint: (root).transformer.encoder.enc_layers.1.multi_head_attention.final_lin.kernel\n"
          ],
          "name": "stderr"
        },
        {
          "output_type": "stream",
          "text": [
            "WARNING:tensorflow:Unresolved object in checkpoint: (root).transformer.encoder.enc_layers.1.multi_head_attention.final_lin.bias\n"
          ],
          "name": "stdout"
        },
        {
          "output_type": "stream",
          "text": [
            "WARNING:tensorflow:Unresolved object in checkpoint: (root).transformer.encoder.enc_layers.1.multi_head_attention.final_lin.bias\n"
          ],
          "name": "stderr"
        },
        {
          "output_type": "stream",
          "text": [
            "WARNING:tensorflow:Unresolved object in checkpoint: (root).transformer.encoder.enc_layers.2.multi_head_attention.query_lin.kernel\n"
          ],
          "name": "stdout"
        },
        {
          "output_type": "stream",
          "text": [
            "WARNING:tensorflow:Unresolved object in checkpoint: (root).transformer.encoder.enc_layers.2.multi_head_attention.query_lin.kernel\n"
          ],
          "name": "stderr"
        },
        {
          "output_type": "stream",
          "text": [
            "WARNING:tensorflow:Unresolved object in checkpoint: (root).transformer.encoder.enc_layers.2.multi_head_attention.query_lin.bias\n"
          ],
          "name": "stdout"
        },
        {
          "output_type": "stream",
          "text": [
            "WARNING:tensorflow:Unresolved object in checkpoint: (root).transformer.encoder.enc_layers.2.multi_head_attention.query_lin.bias\n"
          ],
          "name": "stderr"
        },
        {
          "output_type": "stream",
          "text": [
            "WARNING:tensorflow:Unresolved object in checkpoint: (root).transformer.encoder.enc_layers.2.multi_head_attention.key_lin.kernel\n"
          ],
          "name": "stdout"
        },
        {
          "output_type": "stream",
          "text": [
            "WARNING:tensorflow:Unresolved object in checkpoint: (root).transformer.encoder.enc_layers.2.multi_head_attention.key_lin.kernel\n"
          ],
          "name": "stderr"
        },
        {
          "output_type": "stream",
          "text": [
            "WARNING:tensorflow:Unresolved object in checkpoint: (root).transformer.encoder.enc_layers.2.multi_head_attention.key_lin.bias\n"
          ],
          "name": "stdout"
        },
        {
          "output_type": "stream",
          "text": [
            "WARNING:tensorflow:Unresolved object in checkpoint: (root).transformer.encoder.enc_layers.2.multi_head_attention.key_lin.bias\n"
          ],
          "name": "stderr"
        },
        {
          "output_type": "stream",
          "text": [
            "WARNING:tensorflow:Unresolved object in checkpoint: (root).transformer.encoder.enc_layers.2.multi_head_attention.value_lin.kernel\n"
          ],
          "name": "stdout"
        },
        {
          "output_type": "stream",
          "text": [
            "WARNING:tensorflow:Unresolved object in checkpoint: (root).transformer.encoder.enc_layers.2.multi_head_attention.value_lin.kernel\n"
          ],
          "name": "stderr"
        },
        {
          "output_type": "stream",
          "text": [
            "WARNING:tensorflow:Unresolved object in checkpoint: (root).transformer.encoder.enc_layers.2.multi_head_attention.value_lin.bias\n"
          ],
          "name": "stdout"
        },
        {
          "output_type": "stream",
          "text": [
            "WARNING:tensorflow:Unresolved object in checkpoint: (root).transformer.encoder.enc_layers.2.multi_head_attention.value_lin.bias\n"
          ],
          "name": "stderr"
        },
        {
          "output_type": "stream",
          "text": [
            "WARNING:tensorflow:Unresolved object in checkpoint: (root).transformer.encoder.enc_layers.2.multi_head_attention.final_lin.kernel\n"
          ],
          "name": "stdout"
        },
        {
          "output_type": "stream",
          "text": [
            "WARNING:tensorflow:Unresolved object in checkpoint: (root).transformer.encoder.enc_layers.2.multi_head_attention.final_lin.kernel\n"
          ],
          "name": "stderr"
        },
        {
          "output_type": "stream",
          "text": [
            "WARNING:tensorflow:Unresolved object in checkpoint: (root).transformer.encoder.enc_layers.2.multi_head_attention.final_lin.bias\n"
          ],
          "name": "stdout"
        },
        {
          "output_type": "stream",
          "text": [
            "WARNING:tensorflow:Unresolved object in checkpoint: (root).transformer.encoder.enc_layers.2.multi_head_attention.final_lin.bias\n"
          ],
          "name": "stderr"
        },
        {
          "output_type": "stream",
          "text": [
            "WARNING:tensorflow:Unresolved object in checkpoint: (root).transformer.encoder.enc_layers.3.multi_head_attention.query_lin.kernel\n"
          ],
          "name": "stdout"
        },
        {
          "output_type": "stream",
          "text": [
            "WARNING:tensorflow:Unresolved object in checkpoint: (root).transformer.encoder.enc_layers.3.multi_head_attention.query_lin.kernel\n"
          ],
          "name": "stderr"
        },
        {
          "output_type": "stream",
          "text": [
            "WARNING:tensorflow:Unresolved object in checkpoint: (root).transformer.encoder.enc_layers.3.multi_head_attention.query_lin.bias\n"
          ],
          "name": "stdout"
        },
        {
          "output_type": "stream",
          "text": [
            "WARNING:tensorflow:Unresolved object in checkpoint: (root).transformer.encoder.enc_layers.3.multi_head_attention.query_lin.bias\n"
          ],
          "name": "stderr"
        },
        {
          "output_type": "stream",
          "text": [
            "WARNING:tensorflow:Unresolved object in checkpoint: (root).transformer.encoder.enc_layers.3.multi_head_attention.key_lin.kernel\n"
          ],
          "name": "stdout"
        },
        {
          "output_type": "stream",
          "text": [
            "WARNING:tensorflow:Unresolved object in checkpoint: (root).transformer.encoder.enc_layers.3.multi_head_attention.key_lin.kernel\n"
          ],
          "name": "stderr"
        },
        {
          "output_type": "stream",
          "text": [
            "WARNING:tensorflow:Unresolved object in checkpoint: (root).transformer.encoder.enc_layers.3.multi_head_attention.key_lin.bias\n"
          ],
          "name": "stdout"
        },
        {
          "output_type": "stream",
          "text": [
            "WARNING:tensorflow:Unresolved object in checkpoint: (root).transformer.encoder.enc_layers.3.multi_head_attention.key_lin.bias\n"
          ],
          "name": "stderr"
        },
        {
          "output_type": "stream",
          "text": [
            "WARNING:tensorflow:Unresolved object in checkpoint: (root).transformer.encoder.enc_layers.3.multi_head_attention.value_lin.kernel\n"
          ],
          "name": "stdout"
        },
        {
          "output_type": "stream",
          "text": [
            "WARNING:tensorflow:Unresolved object in checkpoint: (root).transformer.encoder.enc_layers.3.multi_head_attention.value_lin.kernel\n"
          ],
          "name": "stderr"
        },
        {
          "output_type": "stream",
          "text": [
            "WARNING:tensorflow:Unresolved object in checkpoint: (root).transformer.encoder.enc_layers.3.multi_head_attention.value_lin.bias\n"
          ],
          "name": "stdout"
        },
        {
          "output_type": "stream",
          "text": [
            "WARNING:tensorflow:Unresolved object in checkpoint: (root).transformer.encoder.enc_layers.3.multi_head_attention.value_lin.bias\n"
          ],
          "name": "stderr"
        },
        {
          "output_type": "stream",
          "text": [
            "WARNING:tensorflow:Unresolved object in checkpoint: (root).transformer.encoder.enc_layers.3.multi_head_attention.final_lin.kernel\n"
          ],
          "name": "stdout"
        },
        {
          "output_type": "stream",
          "text": [
            "WARNING:tensorflow:Unresolved object in checkpoint: (root).transformer.encoder.enc_layers.3.multi_head_attention.final_lin.kernel\n"
          ],
          "name": "stderr"
        },
        {
          "output_type": "stream",
          "text": [
            "WARNING:tensorflow:Unresolved object in checkpoint: (root).transformer.encoder.enc_layers.3.multi_head_attention.final_lin.bias\n"
          ],
          "name": "stdout"
        },
        {
          "output_type": "stream",
          "text": [
            "WARNING:tensorflow:Unresolved object in checkpoint: (root).transformer.encoder.enc_layers.3.multi_head_attention.final_lin.bias\n"
          ],
          "name": "stderr"
        },
        {
          "output_type": "stream",
          "text": [
            "WARNING:tensorflow:Unresolved object in checkpoint: (root).transformer.decoder.dec_layers.0.multi_head_attention_1.query_lin.kernel\n"
          ],
          "name": "stdout"
        },
        {
          "output_type": "stream",
          "text": [
            "WARNING:tensorflow:Unresolved object in checkpoint: (root).transformer.decoder.dec_layers.0.multi_head_attention_1.query_lin.kernel\n"
          ],
          "name": "stderr"
        },
        {
          "output_type": "stream",
          "text": [
            "WARNING:tensorflow:Unresolved object in checkpoint: (root).transformer.decoder.dec_layers.0.multi_head_attention_1.query_lin.bias\n"
          ],
          "name": "stdout"
        },
        {
          "output_type": "stream",
          "text": [
            "WARNING:tensorflow:Unresolved object in checkpoint: (root).transformer.decoder.dec_layers.0.multi_head_attention_1.query_lin.bias\n"
          ],
          "name": "stderr"
        },
        {
          "output_type": "stream",
          "text": [
            "WARNING:tensorflow:Unresolved object in checkpoint: (root).transformer.decoder.dec_layers.0.multi_head_attention_1.key_lin.kernel\n"
          ],
          "name": "stdout"
        },
        {
          "output_type": "stream",
          "text": [
            "WARNING:tensorflow:Unresolved object in checkpoint: (root).transformer.decoder.dec_layers.0.multi_head_attention_1.key_lin.kernel\n"
          ],
          "name": "stderr"
        },
        {
          "output_type": "stream",
          "text": [
            "WARNING:tensorflow:Unresolved object in checkpoint: (root).transformer.decoder.dec_layers.0.multi_head_attention_1.key_lin.bias\n"
          ],
          "name": "stdout"
        },
        {
          "output_type": "stream",
          "text": [
            "WARNING:tensorflow:Unresolved object in checkpoint: (root).transformer.decoder.dec_layers.0.multi_head_attention_1.key_lin.bias\n"
          ],
          "name": "stderr"
        },
        {
          "output_type": "stream",
          "text": [
            "WARNING:tensorflow:Unresolved object in checkpoint: (root).transformer.decoder.dec_layers.0.multi_head_attention_1.value_lin.kernel\n"
          ],
          "name": "stdout"
        },
        {
          "output_type": "stream",
          "text": [
            "WARNING:tensorflow:Unresolved object in checkpoint: (root).transformer.decoder.dec_layers.0.multi_head_attention_1.value_lin.kernel\n"
          ],
          "name": "stderr"
        },
        {
          "output_type": "stream",
          "text": [
            "WARNING:tensorflow:Unresolved object in checkpoint: (root).transformer.decoder.dec_layers.0.multi_head_attention_1.value_lin.bias\n"
          ],
          "name": "stdout"
        },
        {
          "output_type": "stream",
          "text": [
            "WARNING:tensorflow:Unresolved object in checkpoint: (root).transformer.decoder.dec_layers.0.multi_head_attention_1.value_lin.bias\n"
          ],
          "name": "stderr"
        },
        {
          "output_type": "stream",
          "text": [
            "WARNING:tensorflow:Unresolved object in checkpoint: (root).transformer.decoder.dec_layers.0.multi_head_attention_1.final_lin.kernel\n"
          ],
          "name": "stdout"
        },
        {
          "output_type": "stream",
          "text": [
            "WARNING:tensorflow:Unresolved object in checkpoint: (root).transformer.decoder.dec_layers.0.multi_head_attention_1.final_lin.kernel\n"
          ],
          "name": "stderr"
        },
        {
          "output_type": "stream",
          "text": [
            "WARNING:tensorflow:Unresolved object in checkpoint: (root).transformer.decoder.dec_layers.0.multi_head_attention_1.final_lin.bias\n"
          ],
          "name": "stdout"
        },
        {
          "output_type": "stream",
          "text": [
            "WARNING:tensorflow:Unresolved object in checkpoint: (root).transformer.decoder.dec_layers.0.multi_head_attention_1.final_lin.bias\n"
          ],
          "name": "stderr"
        },
        {
          "output_type": "stream",
          "text": [
            "WARNING:tensorflow:Unresolved object in checkpoint: (root).transformer.decoder.dec_layers.0.multi_head_attention_2.query_lin.kernel\n"
          ],
          "name": "stdout"
        },
        {
          "output_type": "stream",
          "text": [
            "WARNING:tensorflow:Unresolved object in checkpoint: (root).transformer.decoder.dec_layers.0.multi_head_attention_2.query_lin.kernel\n"
          ],
          "name": "stderr"
        },
        {
          "output_type": "stream",
          "text": [
            "WARNING:tensorflow:Unresolved object in checkpoint: (root).transformer.decoder.dec_layers.0.multi_head_attention_2.query_lin.bias\n"
          ],
          "name": "stdout"
        },
        {
          "output_type": "stream",
          "text": [
            "WARNING:tensorflow:Unresolved object in checkpoint: (root).transformer.decoder.dec_layers.0.multi_head_attention_2.query_lin.bias\n"
          ],
          "name": "stderr"
        },
        {
          "output_type": "stream",
          "text": [
            "WARNING:tensorflow:Unresolved object in checkpoint: (root).transformer.decoder.dec_layers.0.multi_head_attention_2.key_lin.kernel\n"
          ],
          "name": "stdout"
        },
        {
          "output_type": "stream",
          "text": [
            "WARNING:tensorflow:Unresolved object in checkpoint: (root).transformer.decoder.dec_layers.0.multi_head_attention_2.key_lin.kernel\n"
          ],
          "name": "stderr"
        },
        {
          "output_type": "stream",
          "text": [
            "WARNING:tensorflow:Unresolved object in checkpoint: (root).transformer.decoder.dec_layers.0.multi_head_attention_2.key_lin.bias\n"
          ],
          "name": "stdout"
        },
        {
          "output_type": "stream",
          "text": [
            "WARNING:tensorflow:Unresolved object in checkpoint: (root).transformer.decoder.dec_layers.0.multi_head_attention_2.key_lin.bias\n"
          ],
          "name": "stderr"
        },
        {
          "output_type": "stream",
          "text": [
            "WARNING:tensorflow:Unresolved object in checkpoint: (root).transformer.decoder.dec_layers.0.multi_head_attention_2.value_lin.kernel\n"
          ],
          "name": "stdout"
        },
        {
          "output_type": "stream",
          "text": [
            "WARNING:tensorflow:Unresolved object in checkpoint: (root).transformer.decoder.dec_layers.0.multi_head_attention_2.value_lin.kernel\n"
          ],
          "name": "stderr"
        },
        {
          "output_type": "stream",
          "text": [
            "WARNING:tensorflow:Unresolved object in checkpoint: (root).transformer.decoder.dec_layers.0.multi_head_attention_2.value_lin.bias\n"
          ],
          "name": "stdout"
        },
        {
          "output_type": "stream",
          "text": [
            "WARNING:tensorflow:Unresolved object in checkpoint: (root).transformer.decoder.dec_layers.0.multi_head_attention_2.value_lin.bias\n"
          ],
          "name": "stderr"
        },
        {
          "output_type": "stream",
          "text": [
            "WARNING:tensorflow:Unresolved object in checkpoint: (root).transformer.decoder.dec_layers.0.multi_head_attention_2.final_lin.kernel\n"
          ],
          "name": "stdout"
        },
        {
          "output_type": "stream",
          "text": [
            "WARNING:tensorflow:Unresolved object in checkpoint: (root).transformer.decoder.dec_layers.0.multi_head_attention_2.final_lin.kernel\n"
          ],
          "name": "stderr"
        },
        {
          "output_type": "stream",
          "text": [
            "WARNING:tensorflow:Unresolved object in checkpoint: (root).transformer.decoder.dec_layers.0.multi_head_attention_2.final_lin.bias\n"
          ],
          "name": "stdout"
        },
        {
          "output_type": "stream",
          "text": [
            "WARNING:tensorflow:Unresolved object in checkpoint: (root).transformer.decoder.dec_layers.0.multi_head_attention_2.final_lin.bias\n"
          ],
          "name": "stderr"
        },
        {
          "output_type": "stream",
          "text": [
            "WARNING:tensorflow:Unresolved object in checkpoint: (root).transformer.decoder.dec_layers.1.multi_head_attention_1.query_lin.kernel\n"
          ],
          "name": "stdout"
        },
        {
          "output_type": "stream",
          "text": [
            "WARNING:tensorflow:Unresolved object in checkpoint: (root).transformer.decoder.dec_layers.1.multi_head_attention_1.query_lin.kernel\n"
          ],
          "name": "stderr"
        },
        {
          "output_type": "stream",
          "text": [
            "WARNING:tensorflow:Unresolved object in checkpoint: (root).transformer.decoder.dec_layers.1.multi_head_attention_1.query_lin.bias\n"
          ],
          "name": "stdout"
        },
        {
          "output_type": "stream",
          "text": [
            "WARNING:tensorflow:Unresolved object in checkpoint: (root).transformer.decoder.dec_layers.1.multi_head_attention_1.query_lin.bias\n"
          ],
          "name": "stderr"
        },
        {
          "output_type": "stream",
          "text": [
            "WARNING:tensorflow:Unresolved object in checkpoint: (root).transformer.decoder.dec_layers.1.multi_head_attention_1.key_lin.kernel\n"
          ],
          "name": "stdout"
        },
        {
          "output_type": "stream",
          "text": [
            "WARNING:tensorflow:Unresolved object in checkpoint: (root).transformer.decoder.dec_layers.1.multi_head_attention_1.key_lin.kernel\n"
          ],
          "name": "stderr"
        },
        {
          "output_type": "stream",
          "text": [
            "WARNING:tensorflow:Unresolved object in checkpoint: (root).transformer.decoder.dec_layers.1.multi_head_attention_1.key_lin.bias\n"
          ],
          "name": "stdout"
        },
        {
          "output_type": "stream",
          "text": [
            "WARNING:tensorflow:Unresolved object in checkpoint: (root).transformer.decoder.dec_layers.1.multi_head_attention_1.key_lin.bias\n"
          ],
          "name": "stderr"
        },
        {
          "output_type": "stream",
          "text": [
            "WARNING:tensorflow:Unresolved object in checkpoint: (root).transformer.decoder.dec_layers.1.multi_head_attention_1.value_lin.kernel\n"
          ],
          "name": "stdout"
        },
        {
          "output_type": "stream",
          "text": [
            "WARNING:tensorflow:Unresolved object in checkpoint: (root).transformer.decoder.dec_layers.1.multi_head_attention_1.value_lin.kernel\n"
          ],
          "name": "stderr"
        },
        {
          "output_type": "stream",
          "text": [
            "WARNING:tensorflow:Unresolved object in checkpoint: (root).transformer.decoder.dec_layers.1.multi_head_attention_1.value_lin.bias\n"
          ],
          "name": "stdout"
        },
        {
          "output_type": "stream",
          "text": [
            "WARNING:tensorflow:Unresolved object in checkpoint: (root).transformer.decoder.dec_layers.1.multi_head_attention_1.value_lin.bias\n"
          ],
          "name": "stderr"
        },
        {
          "output_type": "stream",
          "text": [
            "WARNING:tensorflow:Unresolved object in checkpoint: (root).transformer.decoder.dec_layers.1.multi_head_attention_1.final_lin.kernel\n"
          ],
          "name": "stdout"
        },
        {
          "output_type": "stream",
          "text": [
            "WARNING:tensorflow:Unresolved object in checkpoint: (root).transformer.decoder.dec_layers.1.multi_head_attention_1.final_lin.kernel\n"
          ],
          "name": "stderr"
        },
        {
          "output_type": "stream",
          "text": [
            "WARNING:tensorflow:Unresolved object in checkpoint: (root).transformer.decoder.dec_layers.1.multi_head_attention_1.final_lin.bias\n"
          ],
          "name": "stdout"
        },
        {
          "output_type": "stream",
          "text": [
            "WARNING:tensorflow:Unresolved object in checkpoint: (root).transformer.decoder.dec_layers.1.multi_head_attention_1.final_lin.bias\n"
          ],
          "name": "stderr"
        },
        {
          "output_type": "stream",
          "text": [
            "WARNING:tensorflow:Unresolved object in checkpoint: (root).transformer.decoder.dec_layers.1.multi_head_attention_2.query_lin.kernel\n"
          ],
          "name": "stdout"
        },
        {
          "output_type": "stream",
          "text": [
            "WARNING:tensorflow:Unresolved object in checkpoint: (root).transformer.decoder.dec_layers.1.multi_head_attention_2.query_lin.kernel\n"
          ],
          "name": "stderr"
        },
        {
          "output_type": "stream",
          "text": [
            "WARNING:tensorflow:Unresolved object in checkpoint: (root).transformer.decoder.dec_layers.1.multi_head_attention_2.query_lin.bias\n"
          ],
          "name": "stdout"
        },
        {
          "output_type": "stream",
          "text": [
            "WARNING:tensorflow:Unresolved object in checkpoint: (root).transformer.decoder.dec_layers.1.multi_head_attention_2.query_lin.bias\n"
          ],
          "name": "stderr"
        },
        {
          "output_type": "stream",
          "text": [
            "WARNING:tensorflow:Unresolved object in checkpoint: (root).transformer.decoder.dec_layers.1.multi_head_attention_2.key_lin.kernel\n"
          ],
          "name": "stdout"
        },
        {
          "output_type": "stream",
          "text": [
            "WARNING:tensorflow:Unresolved object in checkpoint: (root).transformer.decoder.dec_layers.1.multi_head_attention_2.key_lin.kernel\n"
          ],
          "name": "stderr"
        },
        {
          "output_type": "stream",
          "text": [
            "WARNING:tensorflow:Unresolved object in checkpoint: (root).transformer.decoder.dec_layers.1.multi_head_attention_2.key_lin.bias\n"
          ],
          "name": "stdout"
        },
        {
          "output_type": "stream",
          "text": [
            "WARNING:tensorflow:Unresolved object in checkpoint: (root).transformer.decoder.dec_layers.1.multi_head_attention_2.key_lin.bias\n"
          ],
          "name": "stderr"
        },
        {
          "output_type": "stream",
          "text": [
            "WARNING:tensorflow:Unresolved object in checkpoint: (root).transformer.decoder.dec_layers.1.multi_head_attention_2.value_lin.kernel\n"
          ],
          "name": "stdout"
        },
        {
          "output_type": "stream",
          "text": [
            "WARNING:tensorflow:Unresolved object in checkpoint: (root).transformer.decoder.dec_layers.1.multi_head_attention_2.value_lin.kernel\n"
          ],
          "name": "stderr"
        },
        {
          "output_type": "stream",
          "text": [
            "WARNING:tensorflow:Unresolved object in checkpoint: (root).transformer.decoder.dec_layers.1.multi_head_attention_2.value_lin.bias\n"
          ],
          "name": "stdout"
        },
        {
          "output_type": "stream",
          "text": [
            "WARNING:tensorflow:Unresolved object in checkpoint: (root).transformer.decoder.dec_layers.1.multi_head_attention_2.value_lin.bias\n"
          ],
          "name": "stderr"
        },
        {
          "output_type": "stream",
          "text": [
            "WARNING:tensorflow:Unresolved object in checkpoint: (root).transformer.decoder.dec_layers.1.multi_head_attention_2.final_lin.kernel\n"
          ],
          "name": "stdout"
        },
        {
          "output_type": "stream",
          "text": [
            "WARNING:tensorflow:Unresolved object in checkpoint: (root).transformer.decoder.dec_layers.1.multi_head_attention_2.final_lin.kernel\n"
          ],
          "name": "stderr"
        },
        {
          "output_type": "stream",
          "text": [
            "WARNING:tensorflow:Unresolved object in checkpoint: (root).transformer.decoder.dec_layers.1.multi_head_attention_2.final_lin.bias\n"
          ],
          "name": "stdout"
        },
        {
          "output_type": "stream",
          "text": [
            "WARNING:tensorflow:Unresolved object in checkpoint: (root).transformer.decoder.dec_layers.1.multi_head_attention_2.final_lin.bias\n"
          ],
          "name": "stderr"
        },
        {
          "output_type": "stream",
          "text": [
            "WARNING:tensorflow:Unresolved object in checkpoint: (root).transformer.decoder.dec_layers.2.multi_head_attention_1.query_lin.kernel\n"
          ],
          "name": "stdout"
        },
        {
          "output_type": "stream",
          "text": [
            "WARNING:tensorflow:Unresolved object in checkpoint: (root).transformer.decoder.dec_layers.2.multi_head_attention_1.query_lin.kernel\n"
          ],
          "name": "stderr"
        },
        {
          "output_type": "stream",
          "text": [
            "WARNING:tensorflow:Unresolved object in checkpoint: (root).transformer.decoder.dec_layers.2.multi_head_attention_1.query_lin.bias\n"
          ],
          "name": "stdout"
        },
        {
          "output_type": "stream",
          "text": [
            "WARNING:tensorflow:Unresolved object in checkpoint: (root).transformer.decoder.dec_layers.2.multi_head_attention_1.query_lin.bias\n"
          ],
          "name": "stderr"
        },
        {
          "output_type": "stream",
          "text": [
            "WARNING:tensorflow:Unresolved object in checkpoint: (root).transformer.decoder.dec_layers.2.multi_head_attention_1.key_lin.kernel\n"
          ],
          "name": "stdout"
        },
        {
          "output_type": "stream",
          "text": [
            "WARNING:tensorflow:Unresolved object in checkpoint: (root).transformer.decoder.dec_layers.2.multi_head_attention_1.key_lin.kernel\n"
          ],
          "name": "stderr"
        },
        {
          "output_type": "stream",
          "text": [
            "WARNING:tensorflow:Unresolved object in checkpoint: (root).transformer.decoder.dec_layers.2.multi_head_attention_1.key_lin.bias\n"
          ],
          "name": "stdout"
        },
        {
          "output_type": "stream",
          "text": [
            "WARNING:tensorflow:Unresolved object in checkpoint: (root).transformer.decoder.dec_layers.2.multi_head_attention_1.key_lin.bias\n"
          ],
          "name": "stderr"
        },
        {
          "output_type": "stream",
          "text": [
            "WARNING:tensorflow:Unresolved object in checkpoint: (root).transformer.decoder.dec_layers.2.multi_head_attention_1.value_lin.kernel\n"
          ],
          "name": "stdout"
        },
        {
          "output_type": "stream",
          "text": [
            "WARNING:tensorflow:Unresolved object in checkpoint: (root).transformer.decoder.dec_layers.2.multi_head_attention_1.value_lin.kernel\n"
          ],
          "name": "stderr"
        },
        {
          "output_type": "stream",
          "text": [
            "WARNING:tensorflow:Unresolved object in checkpoint: (root).transformer.decoder.dec_layers.2.multi_head_attention_1.value_lin.bias\n"
          ],
          "name": "stdout"
        },
        {
          "output_type": "stream",
          "text": [
            "WARNING:tensorflow:Unresolved object in checkpoint: (root).transformer.decoder.dec_layers.2.multi_head_attention_1.value_lin.bias\n"
          ],
          "name": "stderr"
        },
        {
          "output_type": "stream",
          "text": [
            "WARNING:tensorflow:Unresolved object in checkpoint: (root).transformer.decoder.dec_layers.2.multi_head_attention_1.final_lin.kernel\n"
          ],
          "name": "stdout"
        },
        {
          "output_type": "stream",
          "text": [
            "WARNING:tensorflow:Unresolved object in checkpoint: (root).transformer.decoder.dec_layers.2.multi_head_attention_1.final_lin.kernel\n"
          ],
          "name": "stderr"
        },
        {
          "output_type": "stream",
          "text": [
            "WARNING:tensorflow:Unresolved object in checkpoint: (root).transformer.decoder.dec_layers.2.multi_head_attention_1.final_lin.bias\n"
          ],
          "name": "stdout"
        },
        {
          "output_type": "stream",
          "text": [
            "WARNING:tensorflow:Unresolved object in checkpoint: (root).transformer.decoder.dec_layers.2.multi_head_attention_1.final_lin.bias\n"
          ],
          "name": "stderr"
        },
        {
          "output_type": "stream",
          "text": [
            "WARNING:tensorflow:Unresolved object in checkpoint: (root).transformer.decoder.dec_layers.2.multi_head_attention_2.query_lin.kernel\n"
          ],
          "name": "stdout"
        },
        {
          "output_type": "stream",
          "text": [
            "WARNING:tensorflow:Unresolved object in checkpoint: (root).transformer.decoder.dec_layers.2.multi_head_attention_2.query_lin.kernel\n"
          ],
          "name": "stderr"
        },
        {
          "output_type": "stream",
          "text": [
            "WARNING:tensorflow:Unresolved object in checkpoint: (root).transformer.decoder.dec_layers.2.multi_head_attention_2.query_lin.bias\n"
          ],
          "name": "stdout"
        },
        {
          "output_type": "stream",
          "text": [
            "WARNING:tensorflow:Unresolved object in checkpoint: (root).transformer.decoder.dec_layers.2.multi_head_attention_2.query_lin.bias\n"
          ],
          "name": "stderr"
        },
        {
          "output_type": "stream",
          "text": [
            "WARNING:tensorflow:Unresolved object in checkpoint: (root).transformer.decoder.dec_layers.2.multi_head_attention_2.key_lin.kernel\n"
          ],
          "name": "stdout"
        },
        {
          "output_type": "stream",
          "text": [
            "WARNING:tensorflow:Unresolved object in checkpoint: (root).transformer.decoder.dec_layers.2.multi_head_attention_2.key_lin.kernel\n"
          ],
          "name": "stderr"
        },
        {
          "output_type": "stream",
          "text": [
            "WARNING:tensorflow:Unresolved object in checkpoint: (root).transformer.decoder.dec_layers.2.multi_head_attention_2.key_lin.bias\n"
          ],
          "name": "stdout"
        },
        {
          "output_type": "stream",
          "text": [
            "WARNING:tensorflow:Unresolved object in checkpoint: (root).transformer.decoder.dec_layers.2.multi_head_attention_2.key_lin.bias\n"
          ],
          "name": "stderr"
        },
        {
          "output_type": "stream",
          "text": [
            "WARNING:tensorflow:Unresolved object in checkpoint: (root).transformer.decoder.dec_layers.2.multi_head_attention_2.value_lin.kernel\n"
          ],
          "name": "stdout"
        },
        {
          "output_type": "stream",
          "text": [
            "WARNING:tensorflow:Unresolved object in checkpoint: (root).transformer.decoder.dec_layers.2.multi_head_attention_2.value_lin.kernel\n"
          ],
          "name": "stderr"
        },
        {
          "output_type": "stream",
          "text": [
            "WARNING:tensorflow:Unresolved object in checkpoint: (root).transformer.decoder.dec_layers.2.multi_head_attention_2.value_lin.bias\n"
          ],
          "name": "stdout"
        },
        {
          "output_type": "stream",
          "text": [
            "WARNING:tensorflow:Unresolved object in checkpoint: (root).transformer.decoder.dec_layers.2.multi_head_attention_2.value_lin.bias\n"
          ],
          "name": "stderr"
        },
        {
          "output_type": "stream",
          "text": [
            "WARNING:tensorflow:Unresolved object in checkpoint: (root).transformer.decoder.dec_layers.2.multi_head_attention_2.final_lin.kernel\n"
          ],
          "name": "stdout"
        },
        {
          "output_type": "stream",
          "text": [
            "WARNING:tensorflow:Unresolved object in checkpoint: (root).transformer.decoder.dec_layers.2.multi_head_attention_2.final_lin.kernel\n"
          ],
          "name": "stderr"
        },
        {
          "output_type": "stream",
          "text": [
            "WARNING:tensorflow:Unresolved object in checkpoint: (root).transformer.decoder.dec_layers.2.multi_head_attention_2.final_lin.bias\n"
          ],
          "name": "stdout"
        },
        {
          "output_type": "stream",
          "text": [
            "WARNING:tensorflow:Unresolved object in checkpoint: (root).transformer.decoder.dec_layers.2.multi_head_attention_2.final_lin.bias\n"
          ],
          "name": "stderr"
        },
        {
          "output_type": "stream",
          "text": [
            "WARNING:tensorflow:Unresolved object in checkpoint: (root).transformer.decoder.dec_layers.3.multi_head_attention_1.query_lin.kernel\n"
          ],
          "name": "stdout"
        },
        {
          "output_type": "stream",
          "text": [
            "WARNING:tensorflow:Unresolved object in checkpoint: (root).transformer.decoder.dec_layers.3.multi_head_attention_1.query_lin.kernel\n"
          ],
          "name": "stderr"
        },
        {
          "output_type": "stream",
          "text": [
            "WARNING:tensorflow:Unresolved object in checkpoint: (root).transformer.decoder.dec_layers.3.multi_head_attention_1.query_lin.bias\n"
          ],
          "name": "stdout"
        },
        {
          "output_type": "stream",
          "text": [
            "WARNING:tensorflow:Unresolved object in checkpoint: (root).transformer.decoder.dec_layers.3.multi_head_attention_1.query_lin.bias\n"
          ],
          "name": "stderr"
        },
        {
          "output_type": "stream",
          "text": [
            "WARNING:tensorflow:Unresolved object in checkpoint: (root).transformer.decoder.dec_layers.3.multi_head_attention_1.key_lin.kernel\n"
          ],
          "name": "stdout"
        },
        {
          "output_type": "stream",
          "text": [
            "WARNING:tensorflow:Unresolved object in checkpoint: (root).transformer.decoder.dec_layers.3.multi_head_attention_1.key_lin.kernel\n"
          ],
          "name": "stderr"
        },
        {
          "output_type": "stream",
          "text": [
            "WARNING:tensorflow:Unresolved object in checkpoint: (root).transformer.decoder.dec_layers.3.multi_head_attention_1.key_lin.bias\n"
          ],
          "name": "stdout"
        },
        {
          "output_type": "stream",
          "text": [
            "WARNING:tensorflow:Unresolved object in checkpoint: (root).transformer.decoder.dec_layers.3.multi_head_attention_1.key_lin.bias\n"
          ],
          "name": "stderr"
        },
        {
          "output_type": "stream",
          "text": [
            "WARNING:tensorflow:Unresolved object in checkpoint: (root).transformer.decoder.dec_layers.3.multi_head_attention_1.value_lin.kernel\n"
          ],
          "name": "stdout"
        },
        {
          "output_type": "stream",
          "text": [
            "WARNING:tensorflow:Unresolved object in checkpoint: (root).transformer.decoder.dec_layers.3.multi_head_attention_1.value_lin.kernel\n"
          ],
          "name": "stderr"
        },
        {
          "output_type": "stream",
          "text": [
            "WARNING:tensorflow:Unresolved object in checkpoint: (root).transformer.decoder.dec_layers.3.multi_head_attention_1.value_lin.bias\n"
          ],
          "name": "stdout"
        },
        {
          "output_type": "stream",
          "text": [
            "WARNING:tensorflow:Unresolved object in checkpoint: (root).transformer.decoder.dec_layers.3.multi_head_attention_1.value_lin.bias\n"
          ],
          "name": "stderr"
        },
        {
          "output_type": "stream",
          "text": [
            "WARNING:tensorflow:Unresolved object in checkpoint: (root).transformer.decoder.dec_layers.3.multi_head_attention_1.final_lin.kernel\n"
          ],
          "name": "stdout"
        },
        {
          "output_type": "stream",
          "text": [
            "WARNING:tensorflow:Unresolved object in checkpoint: (root).transformer.decoder.dec_layers.3.multi_head_attention_1.final_lin.kernel\n"
          ],
          "name": "stderr"
        },
        {
          "output_type": "stream",
          "text": [
            "WARNING:tensorflow:Unresolved object in checkpoint: (root).transformer.decoder.dec_layers.3.multi_head_attention_1.final_lin.bias\n"
          ],
          "name": "stdout"
        },
        {
          "output_type": "stream",
          "text": [
            "WARNING:tensorflow:Unresolved object in checkpoint: (root).transformer.decoder.dec_layers.3.multi_head_attention_1.final_lin.bias\n"
          ],
          "name": "stderr"
        },
        {
          "output_type": "stream",
          "text": [
            "WARNING:tensorflow:Unresolved object in checkpoint: (root).transformer.decoder.dec_layers.3.multi_head_attention_2.query_lin.kernel\n"
          ],
          "name": "stdout"
        },
        {
          "output_type": "stream",
          "text": [
            "WARNING:tensorflow:Unresolved object in checkpoint: (root).transformer.decoder.dec_layers.3.multi_head_attention_2.query_lin.kernel\n"
          ],
          "name": "stderr"
        },
        {
          "output_type": "stream",
          "text": [
            "WARNING:tensorflow:Unresolved object in checkpoint: (root).transformer.decoder.dec_layers.3.multi_head_attention_2.query_lin.bias\n"
          ],
          "name": "stdout"
        },
        {
          "output_type": "stream",
          "text": [
            "WARNING:tensorflow:Unresolved object in checkpoint: (root).transformer.decoder.dec_layers.3.multi_head_attention_2.query_lin.bias\n"
          ],
          "name": "stderr"
        },
        {
          "output_type": "stream",
          "text": [
            "WARNING:tensorflow:Unresolved object in checkpoint: (root).transformer.decoder.dec_layers.3.multi_head_attention_2.key_lin.kernel\n"
          ],
          "name": "stdout"
        },
        {
          "output_type": "stream",
          "text": [
            "WARNING:tensorflow:Unresolved object in checkpoint: (root).transformer.decoder.dec_layers.3.multi_head_attention_2.key_lin.kernel\n"
          ],
          "name": "stderr"
        },
        {
          "output_type": "stream",
          "text": [
            "WARNING:tensorflow:Unresolved object in checkpoint: (root).transformer.decoder.dec_layers.3.multi_head_attention_2.key_lin.bias\n"
          ],
          "name": "stdout"
        },
        {
          "output_type": "stream",
          "text": [
            "WARNING:tensorflow:Unresolved object in checkpoint: (root).transformer.decoder.dec_layers.3.multi_head_attention_2.key_lin.bias\n"
          ],
          "name": "stderr"
        },
        {
          "output_type": "stream",
          "text": [
            "WARNING:tensorflow:Unresolved object in checkpoint: (root).transformer.decoder.dec_layers.3.multi_head_attention_2.value_lin.kernel\n"
          ],
          "name": "stdout"
        },
        {
          "output_type": "stream",
          "text": [
            "WARNING:tensorflow:Unresolved object in checkpoint: (root).transformer.decoder.dec_layers.3.multi_head_attention_2.value_lin.kernel\n"
          ],
          "name": "stderr"
        },
        {
          "output_type": "stream",
          "text": [
            "WARNING:tensorflow:Unresolved object in checkpoint: (root).transformer.decoder.dec_layers.3.multi_head_attention_2.value_lin.bias\n"
          ],
          "name": "stdout"
        },
        {
          "output_type": "stream",
          "text": [
            "WARNING:tensorflow:Unresolved object in checkpoint: (root).transformer.decoder.dec_layers.3.multi_head_attention_2.value_lin.bias\n"
          ],
          "name": "stderr"
        },
        {
          "output_type": "stream",
          "text": [
            "WARNING:tensorflow:Unresolved object in checkpoint: (root).transformer.decoder.dec_layers.3.multi_head_attention_2.final_lin.kernel\n"
          ],
          "name": "stdout"
        },
        {
          "output_type": "stream",
          "text": [
            "WARNING:tensorflow:Unresolved object in checkpoint: (root).transformer.decoder.dec_layers.3.multi_head_attention_2.final_lin.kernel\n"
          ],
          "name": "stderr"
        },
        {
          "output_type": "stream",
          "text": [
            "WARNING:tensorflow:Unresolved object in checkpoint: (root).transformer.decoder.dec_layers.3.multi_head_attention_2.final_lin.bias\n"
          ],
          "name": "stdout"
        },
        {
          "output_type": "stream",
          "text": [
            "WARNING:tensorflow:Unresolved object in checkpoint: (root).transformer.decoder.dec_layers.3.multi_head_attention_2.final_lin.bias\n"
          ],
          "name": "stderr"
        },
        {
          "output_type": "stream",
          "text": [
            "WARNING:tensorflow:Unresolved object in checkpoint: (root).optimizer's state 'm' for (root).transformer.last_linear.kernel\n"
          ],
          "name": "stdout"
        },
        {
          "output_type": "stream",
          "text": [
            "WARNING:tensorflow:Unresolved object in checkpoint: (root).optimizer's state 'm' for (root).transformer.last_linear.kernel\n"
          ],
          "name": "stderr"
        },
        {
          "output_type": "stream",
          "text": [
            "WARNING:tensorflow:Unresolved object in checkpoint: (root).optimizer's state 'm' for (root).transformer.last_linear.bias\n"
          ],
          "name": "stdout"
        },
        {
          "output_type": "stream",
          "text": [
            "WARNING:tensorflow:Unresolved object in checkpoint: (root).optimizer's state 'm' for (root).transformer.last_linear.bias\n"
          ],
          "name": "stderr"
        },
        {
          "output_type": "stream",
          "text": [
            "WARNING:tensorflow:Unresolved object in checkpoint: (root).optimizer's state 'm' for (root).transformer.encoder.embedding.embeddings\n"
          ],
          "name": "stdout"
        },
        {
          "output_type": "stream",
          "text": [
            "WARNING:tensorflow:Unresolved object in checkpoint: (root).optimizer's state 'm' for (root).transformer.encoder.embedding.embeddings\n"
          ],
          "name": "stderr"
        },
        {
          "output_type": "stream",
          "text": [
            "WARNING:tensorflow:Unresolved object in checkpoint: (root).optimizer's state 'm' for (root).transformer.decoder.embedding.embeddings\n"
          ],
          "name": "stdout"
        },
        {
          "output_type": "stream",
          "text": [
            "WARNING:tensorflow:Unresolved object in checkpoint: (root).optimizer's state 'm' for (root).transformer.decoder.embedding.embeddings\n"
          ],
          "name": "stderr"
        },
        {
          "output_type": "stream",
          "text": [
            "WARNING:tensorflow:Unresolved object in checkpoint: (root).optimizer's state 'm' for (root).transformer.encoder.enc_layers.0.norm_1.gamma\n"
          ],
          "name": "stdout"
        },
        {
          "output_type": "stream",
          "text": [
            "WARNING:tensorflow:Unresolved object in checkpoint: (root).optimizer's state 'm' for (root).transformer.encoder.enc_layers.0.norm_1.gamma\n"
          ],
          "name": "stderr"
        },
        {
          "output_type": "stream",
          "text": [
            "WARNING:tensorflow:Unresolved object in checkpoint: (root).optimizer's state 'm' for (root).transformer.encoder.enc_layers.0.norm_1.beta\n"
          ],
          "name": "stdout"
        },
        {
          "output_type": "stream",
          "text": [
            "WARNING:tensorflow:Unresolved object in checkpoint: (root).optimizer's state 'm' for (root).transformer.encoder.enc_layers.0.norm_1.beta\n"
          ],
          "name": "stderr"
        },
        {
          "output_type": "stream",
          "text": [
            "WARNING:tensorflow:Unresolved object in checkpoint: (root).optimizer's state 'm' for (root).transformer.encoder.enc_layers.0.dense_1.kernel\n"
          ],
          "name": "stdout"
        },
        {
          "output_type": "stream",
          "text": [
            "WARNING:tensorflow:Unresolved object in checkpoint: (root).optimizer's state 'm' for (root).transformer.encoder.enc_layers.0.dense_1.kernel\n"
          ],
          "name": "stderr"
        },
        {
          "output_type": "stream",
          "text": [
            "WARNING:tensorflow:Unresolved object in checkpoint: (root).optimizer's state 'm' for (root).transformer.encoder.enc_layers.0.dense_1.bias\n"
          ],
          "name": "stdout"
        },
        {
          "output_type": "stream",
          "text": [
            "WARNING:tensorflow:Unresolved object in checkpoint: (root).optimizer's state 'm' for (root).transformer.encoder.enc_layers.0.dense_1.bias\n"
          ],
          "name": "stderr"
        },
        {
          "output_type": "stream",
          "text": [
            "WARNING:tensorflow:Unresolved object in checkpoint: (root).optimizer's state 'm' for (root).transformer.encoder.enc_layers.0.dense_2.kernel\n"
          ],
          "name": "stdout"
        },
        {
          "output_type": "stream",
          "text": [
            "WARNING:tensorflow:Unresolved object in checkpoint: (root).optimizer's state 'm' for (root).transformer.encoder.enc_layers.0.dense_2.kernel\n"
          ],
          "name": "stderr"
        },
        {
          "output_type": "stream",
          "text": [
            "WARNING:tensorflow:Unresolved object in checkpoint: (root).optimizer's state 'm' for (root).transformer.encoder.enc_layers.0.dense_2.bias\n"
          ],
          "name": "stdout"
        },
        {
          "output_type": "stream",
          "text": [
            "WARNING:tensorflow:Unresolved object in checkpoint: (root).optimizer's state 'm' for (root).transformer.encoder.enc_layers.0.dense_2.bias\n"
          ],
          "name": "stderr"
        },
        {
          "output_type": "stream",
          "text": [
            "WARNING:tensorflow:Unresolved object in checkpoint: (root).optimizer's state 'm' for (root).transformer.encoder.enc_layers.0.norm_2.gamma\n"
          ],
          "name": "stdout"
        },
        {
          "output_type": "stream",
          "text": [
            "WARNING:tensorflow:Unresolved object in checkpoint: (root).optimizer's state 'm' for (root).transformer.encoder.enc_layers.0.norm_2.gamma\n"
          ],
          "name": "stderr"
        },
        {
          "output_type": "stream",
          "text": [
            "WARNING:tensorflow:Unresolved object in checkpoint: (root).optimizer's state 'm' for (root).transformer.encoder.enc_layers.0.norm_2.beta\n"
          ],
          "name": "stdout"
        },
        {
          "output_type": "stream",
          "text": [
            "WARNING:tensorflow:Unresolved object in checkpoint: (root).optimizer's state 'm' for (root).transformer.encoder.enc_layers.0.norm_2.beta\n"
          ],
          "name": "stderr"
        },
        {
          "output_type": "stream",
          "text": [
            "WARNING:tensorflow:Unresolved object in checkpoint: (root).optimizer's state 'm' for (root).transformer.encoder.enc_layers.1.norm_1.gamma\n"
          ],
          "name": "stdout"
        },
        {
          "output_type": "stream",
          "text": [
            "WARNING:tensorflow:Unresolved object in checkpoint: (root).optimizer's state 'm' for (root).transformer.encoder.enc_layers.1.norm_1.gamma\n"
          ],
          "name": "stderr"
        },
        {
          "output_type": "stream",
          "text": [
            "WARNING:tensorflow:Unresolved object in checkpoint: (root).optimizer's state 'm' for (root).transformer.encoder.enc_layers.1.norm_1.beta\n"
          ],
          "name": "stdout"
        },
        {
          "output_type": "stream",
          "text": [
            "WARNING:tensorflow:Unresolved object in checkpoint: (root).optimizer's state 'm' for (root).transformer.encoder.enc_layers.1.norm_1.beta\n"
          ],
          "name": "stderr"
        },
        {
          "output_type": "stream",
          "text": [
            "WARNING:tensorflow:Unresolved object in checkpoint: (root).optimizer's state 'm' for (root).transformer.encoder.enc_layers.1.dense_1.kernel\n"
          ],
          "name": "stdout"
        },
        {
          "output_type": "stream",
          "text": [
            "WARNING:tensorflow:Unresolved object in checkpoint: (root).optimizer's state 'm' for (root).transformer.encoder.enc_layers.1.dense_1.kernel\n"
          ],
          "name": "stderr"
        },
        {
          "output_type": "stream",
          "text": [
            "WARNING:tensorflow:Unresolved object in checkpoint: (root).optimizer's state 'm' for (root).transformer.encoder.enc_layers.1.dense_1.bias\n"
          ],
          "name": "stdout"
        },
        {
          "output_type": "stream",
          "text": [
            "WARNING:tensorflow:Unresolved object in checkpoint: (root).optimizer's state 'm' for (root).transformer.encoder.enc_layers.1.dense_1.bias\n"
          ],
          "name": "stderr"
        },
        {
          "output_type": "stream",
          "text": [
            "WARNING:tensorflow:Unresolved object in checkpoint: (root).optimizer's state 'm' for (root).transformer.encoder.enc_layers.1.dense_2.kernel\n"
          ],
          "name": "stdout"
        },
        {
          "output_type": "stream",
          "text": [
            "WARNING:tensorflow:Unresolved object in checkpoint: (root).optimizer's state 'm' for (root).transformer.encoder.enc_layers.1.dense_2.kernel\n"
          ],
          "name": "stderr"
        },
        {
          "output_type": "stream",
          "text": [
            "WARNING:tensorflow:Unresolved object in checkpoint: (root).optimizer's state 'm' for (root).transformer.encoder.enc_layers.1.dense_2.bias\n"
          ],
          "name": "stdout"
        },
        {
          "output_type": "stream",
          "text": [
            "WARNING:tensorflow:Unresolved object in checkpoint: (root).optimizer's state 'm' for (root).transformer.encoder.enc_layers.1.dense_2.bias\n"
          ],
          "name": "stderr"
        },
        {
          "output_type": "stream",
          "text": [
            "WARNING:tensorflow:Unresolved object in checkpoint: (root).optimizer's state 'm' for (root).transformer.encoder.enc_layers.1.norm_2.gamma\n"
          ],
          "name": "stdout"
        },
        {
          "output_type": "stream",
          "text": [
            "WARNING:tensorflow:Unresolved object in checkpoint: (root).optimizer's state 'm' for (root).transformer.encoder.enc_layers.1.norm_2.gamma\n"
          ],
          "name": "stderr"
        },
        {
          "output_type": "stream",
          "text": [
            "WARNING:tensorflow:Unresolved object in checkpoint: (root).optimizer's state 'm' for (root).transformer.encoder.enc_layers.1.norm_2.beta\n"
          ],
          "name": "stdout"
        },
        {
          "output_type": "stream",
          "text": [
            "WARNING:tensorflow:Unresolved object in checkpoint: (root).optimizer's state 'm' for (root).transformer.encoder.enc_layers.1.norm_2.beta\n"
          ],
          "name": "stderr"
        },
        {
          "output_type": "stream",
          "text": [
            "WARNING:tensorflow:Unresolved object in checkpoint: (root).optimizer's state 'm' for (root).transformer.encoder.enc_layers.2.norm_1.gamma\n"
          ],
          "name": "stdout"
        },
        {
          "output_type": "stream",
          "text": [
            "WARNING:tensorflow:Unresolved object in checkpoint: (root).optimizer's state 'm' for (root).transformer.encoder.enc_layers.2.norm_1.gamma\n"
          ],
          "name": "stderr"
        },
        {
          "output_type": "stream",
          "text": [
            "WARNING:tensorflow:Unresolved object in checkpoint: (root).optimizer's state 'm' for (root).transformer.encoder.enc_layers.2.norm_1.beta\n"
          ],
          "name": "stdout"
        },
        {
          "output_type": "stream",
          "text": [
            "WARNING:tensorflow:Unresolved object in checkpoint: (root).optimizer's state 'm' for (root).transformer.encoder.enc_layers.2.norm_1.beta\n"
          ],
          "name": "stderr"
        },
        {
          "output_type": "stream",
          "text": [
            "WARNING:tensorflow:Unresolved object in checkpoint: (root).optimizer's state 'm' for (root).transformer.encoder.enc_layers.2.dense_1.kernel\n"
          ],
          "name": "stdout"
        },
        {
          "output_type": "stream",
          "text": [
            "WARNING:tensorflow:Unresolved object in checkpoint: (root).optimizer's state 'm' for (root).transformer.encoder.enc_layers.2.dense_1.kernel\n"
          ],
          "name": "stderr"
        },
        {
          "output_type": "stream",
          "text": [
            "WARNING:tensorflow:Unresolved object in checkpoint: (root).optimizer's state 'm' for (root).transformer.encoder.enc_layers.2.dense_1.bias\n"
          ],
          "name": "stdout"
        },
        {
          "output_type": "stream",
          "text": [
            "WARNING:tensorflow:Unresolved object in checkpoint: (root).optimizer's state 'm' for (root).transformer.encoder.enc_layers.2.dense_1.bias\n"
          ],
          "name": "stderr"
        },
        {
          "output_type": "stream",
          "text": [
            "WARNING:tensorflow:Unresolved object in checkpoint: (root).optimizer's state 'm' for (root).transformer.encoder.enc_layers.2.dense_2.kernel\n"
          ],
          "name": "stdout"
        },
        {
          "output_type": "stream",
          "text": [
            "WARNING:tensorflow:Unresolved object in checkpoint: (root).optimizer's state 'm' for (root).transformer.encoder.enc_layers.2.dense_2.kernel\n"
          ],
          "name": "stderr"
        },
        {
          "output_type": "stream",
          "text": [
            "WARNING:tensorflow:Unresolved object in checkpoint: (root).optimizer's state 'm' for (root).transformer.encoder.enc_layers.2.dense_2.bias\n"
          ],
          "name": "stdout"
        },
        {
          "output_type": "stream",
          "text": [
            "WARNING:tensorflow:Unresolved object in checkpoint: (root).optimizer's state 'm' for (root).transformer.encoder.enc_layers.2.dense_2.bias\n"
          ],
          "name": "stderr"
        },
        {
          "output_type": "stream",
          "text": [
            "WARNING:tensorflow:Unresolved object in checkpoint: (root).optimizer's state 'm' for (root).transformer.encoder.enc_layers.2.norm_2.gamma\n"
          ],
          "name": "stdout"
        },
        {
          "output_type": "stream",
          "text": [
            "WARNING:tensorflow:Unresolved object in checkpoint: (root).optimizer's state 'm' for (root).transformer.encoder.enc_layers.2.norm_2.gamma\n"
          ],
          "name": "stderr"
        },
        {
          "output_type": "stream",
          "text": [
            "WARNING:tensorflow:Unresolved object in checkpoint: (root).optimizer's state 'm' for (root).transformer.encoder.enc_layers.2.norm_2.beta\n"
          ],
          "name": "stdout"
        },
        {
          "output_type": "stream",
          "text": [
            "WARNING:tensorflow:Unresolved object in checkpoint: (root).optimizer's state 'm' for (root).transformer.encoder.enc_layers.2.norm_2.beta\n"
          ],
          "name": "stderr"
        },
        {
          "output_type": "stream",
          "text": [
            "WARNING:tensorflow:Unresolved object in checkpoint: (root).optimizer's state 'm' for (root).transformer.encoder.enc_layers.3.norm_1.gamma\n"
          ],
          "name": "stdout"
        },
        {
          "output_type": "stream",
          "text": [
            "WARNING:tensorflow:Unresolved object in checkpoint: (root).optimizer's state 'm' for (root).transformer.encoder.enc_layers.3.norm_1.gamma\n"
          ],
          "name": "stderr"
        },
        {
          "output_type": "stream",
          "text": [
            "WARNING:tensorflow:Unresolved object in checkpoint: (root).optimizer's state 'm' for (root).transformer.encoder.enc_layers.3.norm_1.beta\n"
          ],
          "name": "stdout"
        },
        {
          "output_type": "stream",
          "text": [
            "WARNING:tensorflow:Unresolved object in checkpoint: (root).optimizer's state 'm' for (root).transformer.encoder.enc_layers.3.norm_1.beta\n"
          ],
          "name": "stderr"
        },
        {
          "output_type": "stream",
          "text": [
            "WARNING:tensorflow:Unresolved object in checkpoint: (root).optimizer's state 'm' for (root).transformer.encoder.enc_layers.3.dense_1.kernel\n"
          ],
          "name": "stdout"
        },
        {
          "output_type": "stream",
          "text": [
            "WARNING:tensorflow:Unresolved object in checkpoint: (root).optimizer's state 'm' for (root).transformer.encoder.enc_layers.3.dense_1.kernel\n"
          ],
          "name": "stderr"
        },
        {
          "output_type": "stream",
          "text": [
            "WARNING:tensorflow:Unresolved object in checkpoint: (root).optimizer's state 'm' for (root).transformer.encoder.enc_layers.3.dense_1.bias\n"
          ],
          "name": "stdout"
        },
        {
          "output_type": "stream",
          "text": [
            "WARNING:tensorflow:Unresolved object in checkpoint: (root).optimizer's state 'm' for (root).transformer.encoder.enc_layers.3.dense_1.bias\n"
          ],
          "name": "stderr"
        },
        {
          "output_type": "stream",
          "text": [
            "WARNING:tensorflow:Unresolved object in checkpoint: (root).optimizer's state 'm' for (root).transformer.encoder.enc_layers.3.dense_2.kernel\n"
          ],
          "name": "stdout"
        },
        {
          "output_type": "stream",
          "text": [
            "WARNING:tensorflow:Unresolved object in checkpoint: (root).optimizer's state 'm' for (root).transformer.encoder.enc_layers.3.dense_2.kernel\n"
          ],
          "name": "stderr"
        },
        {
          "output_type": "stream",
          "text": [
            "WARNING:tensorflow:Unresolved object in checkpoint: (root).optimizer's state 'm' for (root).transformer.encoder.enc_layers.3.dense_2.bias\n"
          ],
          "name": "stdout"
        },
        {
          "output_type": "stream",
          "text": [
            "WARNING:tensorflow:Unresolved object in checkpoint: (root).optimizer's state 'm' for (root).transformer.encoder.enc_layers.3.dense_2.bias\n"
          ],
          "name": "stderr"
        },
        {
          "output_type": "stream",
          "text": [
            "WARNING:tensorflow:Unresolved object in checkpoint: (root).optimizer's state 'm' for (root).transformer.encoder.enc_layers.3.norm_2.gamma\n"
          ],
          "name": "stdout"
        },
        {
          "output_type": "stream",
          "text": [
            "WARNING:tensorflow:Unresolved object in checkpoint: (root).optimizer's state 'm' for (root).transformer.encoder.enc_layers.3.norm_2.gamma\n"
          ],
          "name": "stderr"
        },
        {
          "output_type": "stream",
          "text": [
            "WARNING:tensorflow:Unresolved object in checkpoint: (root).optimizer's state 'm' for (root).transformer.encoder.enc_layers.3.norm_2.beta\n"
          ],
          "name": "stdout"
        },
        {
          "output_type": "stream",
          "text": [
            "WARNING:tensorflow:Unresolved object in checkpoint: (root).optimizer's state 'm' for (root).transformer.encoder.enc_layers.3.norm_2.beta\n"
          ],
          "name": "stderr"
        },
        {
          "output_type": "stream",
          "text": [
            "WARNING:tensorflow:Unresolved object in checkpoint: (root).optimizer's state 'm' for (root).transformer.decoder.dec_layers.0.norm_1.gamma\n"
          ],
          "name": "stdout"
        },
        {
          "output_type": "stream",
          "text": [
            "WARNING:tensorflow:Unresolved object in checkpoint: (root).optimizer's state 'm' for (root).transformer.decoder.dec_layers.0.norm_1.gamma\n"
          ],
          "name": "stderr"
        },
        {
          "output_type": "stream",
          "text": [
            "WARNING:tensorflow:Unresolved object in checkpoint: (root).optimizer's state 'm' for (root).transformer.decoder.dec_layers.0.norm_1.beta\n"
          ],
          "name": "stdout"
        },
        {
          "output_type": "stream",
          "text": [
            "WARNING:tensorflow:Unresolved object in checkpoint: (root).optimizer's state 'm' for (root).transformer.decoder.dec_layers.0.norm_1.beta\n"
          ],
          "name": "stderr"
        },
        {
          "output_type": "stream",
          "text": [
            "WARNING:tensorflow:Unresolved object in checkpoint: (root).optimizer's state 'm' for (root).transformer.decoder.dec_layers.0.norm_2.gamma\n"
          ],
          "name": "stdout"
        },
        {
          "output_type": "stream",
          "text": [
            "WARNING:tensorflow:Unresolved object in checkpoint: (root).optimizer's state 'm' for (root).transformer.decoder.dec_layers.0.norm_2.gamma\n"
          ],
          "name": "stderr"
        },
        {
          "output_type": "stream",
          "text": [
            "WARNING:tensorflow:Unresolved object in checkpoint: (root).optimizer's state 'm' for (root).transformer.decoder.dec_layers.0.norm_2.beta\n"
          ],
          "name": "stdout"
        },
        {
          "output_type": "stream",
          "text": [
            "WARNING:tensorflow:Unresolved object in checkpoint: (root).optimizer's state 'm' for (root).transformer.decoder.dec_layers.0.norm_2.beta\n"
          ],
          "name": "stderr"
        },
        {
          "output_type": "stream",
          "text": [
            "WARNING:tensorflow:Unresolved object in checkpoint: (root).optimizer's state 'm' for (root).transformer.decoder.dec_layers.0.dense_1.kernel\n"
          ],
          "name": "stdout"
        },
        {
          "output_type": "stream",
          "text": [
            "WARNING:tensorflow:Unresolved object in checkpoint: (root).optimizer's state 'm' for (root).transformer.decoder.dec_layers.0.dense_1.kernel\n"
          ],
          "name": "stderr"
        },
        {
          "output_type": "stream",
          "text": [
            "WARNING:tensorflow:Unresolved object in checkpoint: (root).optimizer's state 'm' for (root).transformer.decoder.dec_layers.0.dense_1.bias\n"
          ],
          "name": "stdout"
        },
        {
          "output_type": "stream",
          "text": [
            "WARNING:tensorflow:Unresolved object in checkpoint: (root).optimizer's state 'm' for (root).transformer.decoder.dec_layers.0.dense_1.bias\n"
          ],
          "name": "stderr"
        },
        {
          "output_type": "stream",
          "text": [
            "WARNING:tensorflow:Unresolved object in checkpoint: (root).optimizer's state 'm' for (root).transformer.decoder.dec_layers.0.dense_2.kernel\n"
          ],
          "name": "stdout"
        },
        {
          "output_type": "stream",
          "text": [
            "WARNING:tensorflow:Unresolved object in checkpoint: (root).optimizer's state 'm' for (root).transformer.decoder.dec_layers.0.dense_2.kernel\n"
          ],
          "name": "stderr"
        },
        {
          "output_type": "stream",
          "text": [
            "WARNING:tensorflow:Unresolved object in checkpoint: (root).optimizer's state 'm' for (root).transformer.decoder.dec_layers.0.dense_2.bias\n"
          ],
          "name": "stdout"
        },
        {
          "output_type": "stream",
          "text": [
            "WARNING:tensorflow:Unresolved object in checkpoint: (root).optimizer's state 'm' for (root).transformer.decoder.dec_layers.0.dense_2.bias\n"
          ],
          "name": "stderr"
        },
        {
          "output_type": "stream",
          "text": [
            "WARNING:tensorflow:Unresolved object in checkpoint: (root).optimizer's state 'm' for (root).transformer.decoder.dec_layers.0.norm_3.gamma\n"
          ],
          "name": "stdout"
        },
        {
          "output_type": "stream",
          "text": [
            "WARNING:tensorflow:Unresolved object in checkpoint: (root).optimizer's state 'm' for (root).transformer.decoder.dec_layers.0.norm_3.gamma\n"
          ],
          "name": "stderr"
        },
        {
          "output_type": "stream",
          "text": [
            "WARNING:tensorflow:Unresolved object in checkpoint: (root).optimizer's state 'm' for (root).transformer.decoder.dec_layers.0.norm_3.beta\n"
          ],
          "name": "stdout"
        },
        {
          "output_type": "stream",
          "text": [
            "WARNING:tensorflow:Unresolved object in checkpoint: (root).optimizer's state 'm' for (root).transformer.decoder.dec_layers.0.norm_3.beta\n"
          ],
          "name": "stderr"
        },
        {
          "output_type": "stream",
          "text": [
            "WARNING:tensorflow:Unresolved object in checkpoint: (root).optimizer's state 'm' for (root).transformer.decoder.dec_layers.1.norm_1.gamma\n"
          ],
          "name": "stdout"
        },
        {
          "output_type": "stream",
          "text": [
            "WARNING:tensorflow:Unresolved object in checkpoint: (root).optimizer's state 'm' for (root).transformer.decoder.dec_layers.1.norm_1.gamma\n"
          ],
          "name": "stderr"
        },
        {
          "output_type": "stream",
          "text": [
            "WARNING:tensorflow:Unresolved object in checkpoint: (root).optimizer's state 'm' for (root).transformer.decoder.dec_layers.1.norm_1.beta\n"
          ],
          "name": "stdout"
        },
        {
          "output_type": "stream",
          "text": [
            "WARNING:tensorflow:Unresolved object in checkpoint: (root).optimizer's state 'm' for (root).transformer.decoder.dec_layers.1.norm_1.beta\n"
          ],
          "name": "stderr"
        },
        {
          "output_type": "stream",
          "text": [
            "WARNING:tensorflow:Unresolved object in checkpoint: (root).optimizer's state 'm' for (root).transformer.decoder.dec_layers.1.norm_2.gamma\n"
          ],
          "name": "stdout"
        },
        {
          "output_type": "stream",
          "text": [
            "WARNING:tensorflow:Unresolved object in checkpoint: (root).optimizer's state 'm' for (root).transformer.decoder.dec_layers.1.norm_2.gamma\n"
          ],
          "name": "stderr"
        },
        {
          "output_type": "stream",
          "text": [
            "WARNING:tensorflow:Unresolved object in checkpoint: (root).optimizer's state 'm' for (root).transformer.decoder.dec_layers.1.norm_2.beta\n"
          ],
          "name": "stdout"
        },
        {
          "output_type": "stream",
          "text": [
            "WARNING:tensorflow:Unresolved object in checkpoint: (root).optimizer's state 'm' for (root).transformer.decoder.dec_layers.1.norm_2.beta\n"
          ],
          "name": "stderr"
        },
        {
          "output_type": "stream",
          "text": [
            "WARNING:tensorflow:Unresolved object in checkpoint: (root).optimizer's state 'm' for (root).transformer.decoder.dec_layers.1.dense_1.kernel\n"
          ],
          "name": "stdout"
        },
        {
          "output_type": "stream",
          "text": [
            "WARNING:tensorflow:Unresolved object in checkpoint: (root).optimizer's state 'm' for (root).transformer.decoder.dec_layers.1.dense_1.kernel\n"
          ],
          "name": "stderr"
        },
        {
          "output_type": "stream",
          "text": [
            "WARNING:tensorflow:Unresolved object in checkpoint: (root).optimizer's state 'm' for (root).transformer.decoder.dec_layers.1.dense_1.bias\n"
          ],
          "name": "stdout"
        },
        {
          "output_type": "stream",
          "text": [
            "WARNING:tensorflow:Unresolved object in checkpoint: (root).optimizer's state 'm' for (root).transformer.decoder.dec_layers.1.dense_1.bias\n"
          ],
          "name": "stderr"
        },
        {
          "output_type": "stream",
          "text": [
            "WARNING:tensorflow:Unresolved object in checkpoint: (root).optimizer's state 'm' for (root).transformer.decoder.dec_layers.1.dense_2.kernel\n"
          ],
          "name": "stdout"
        },
        {
          "output_type": "stream",
          "text": [
            "WARNING:tensorflow:Unresolved object in checkpoint: (root).optimizer's state 'm' for (root).transformer.decoder.dec_layers.1.dense_2.kernel\n"
          ],
          "name": "stderr"
        },
        {
          "output_type": "stream",
          "text": [
            "WARNING:tensorflow:Unresolved object in checkpoint: (root).optimizer's state 'm' for (root).transformer.decoder.dec_layers.1.dense_2.bias\n"
          ],
          "name": "stdout"
        },
        {
          "output_type": "stream",
          "text": [
            "WARNING:tensorflow:Unresolved object in checkpoint: (root).optimizer's state 'm' for (root).transformer.decoder.dec_layers.1.dense_2.bias\n"
          ],
          "name": "stderr"
        },
        {
          "output_type": "stream",
          "text": [
            "WARNING:tensorflow:Unresolved object in checkpoint: (root).optimizer's state 'm' for (root).transformer.decoder.dec_layers.1.norm_3.gamma\n"
          ],
          "name": "stdout"
        },
        {
          "output_type": "stream",
          "text": [
            "WARNING:tensorflow:Unresolved object in checkpoint: (root).optimizer's state 'm' for (root).transformer.decoder.dec_layers.1.norm_3.gamma\n"
          ],
          "name": "stderr"
        },
        {
          "output_type": "stream",
          "text": [
            "WARNING:tensorflow:Unresolved object in checkpoint: (root).optimizer's state 'm' for (root).transformer.decoder.dec_layers.1.norm_3.beta\n"
          ],
          "name": "stdout"
        },
        {
          "output_type": "stream",
          "text": [
            "WARNING:tensorflow:Unresolved object in checkpoint: (root).optimizer's state 'm' for (root).transformer.decoder.dec_layers.1.norm_3.beta\n"
          ],
          "name": "stderr"
        },
        {
          "output_type": "stream",
          "text": [
            "WARNING:tensorflow:Unresolved object in checkpoint: (root).optimizer's state 'm' for (root).transformer.decoder.dec_layers.2.norm_1.gamma\n"
          ],
          "name": "stdout"
        },
        {
          "output_type": "stream",
          "text": [
            "WARNING:tensorflow:Unresolved object in checkpoint: (root).optimizer's state 'm' for (root).transformer.decoder.dec_layers.2.norm_1.gamma\n"
          ],
          "name": "stderr"
        },
        {
          "output_type": "stream",
          "text": [
            "WARNING:tensorflow:Unresolved object in checkpoint: (root).optimizer's state 'm' for (root).transformer.decoder.dec_layers.2.norm_1.beta\n"
          ],
          "name": "stdout"
        },
        {
          "output_type": "stream",
          "text": [
            "WARNING:tensorflow:Unresolved object in checkpoint: (root).optimizer's state 'm' for (root).transformer.decoder.dec_layers.2.norm_1.beta\n"
          ],
          "name": "stderr"
        },
        {
          "output_type": "stream",
          "text": [
            "WARNING:tensorflow:Unresolved object in checkpoint: (root).optimizer's state 'm' for (root).transformer.decoder.dec_layers.2.norm_2.gamma\n"
          ],
          "name": "stdout"
        },
        {
          "output_type": "stream",
          "text": [
            "WARNING:tensorflow:Unresolved object in checkpoint: (root).optimizer's state 'm' for (root).transformer.decoder.dec_layers.2.norm_2.gamma\n"
          ],
          "name": "stderr"
        },
        {
          "output_type": "stream",
          "text": [
            "WARNING:tensorflow:Unresolved object in checkpoint: (root).optimizer's state 'm' for (root).transformer.decoder.dec_layers.2.norm_2.beta\n"
          ],
          "name": "stdout"
        },
        {
          "output_type": "stream",
          "text": [
            "WARNING:tensorflow:Unresolved object in checkpoint: (root).optimizer's state 'm' for (root).transformer.decoder.dec_layers.2.norm_2.beta\n"
          ],
          "name": "stderr"
        },
        {
          "output_type": "stream",
          "text": [
            "WARNING:tensorflow:Unresolved object in checkpoint: (root).optimizer's state 'm' for (root).transformer.decoder.dec_layers.2.dense_1.kernel\n"
          ],
          "name": "stdout"
        },
        {
          "output_type": "stream",
          "text": [
            "WARNING:tensorflow:Unresolved object in checkpoint: (root).optimizer's state 'm' for (root).transformer.decoder.dec_layers.2.dense_1.kernel\n"
          ],
          "name": "stderr"
        },
        {
          "output_type": "stream",
          "text": [
            "WARNING:tensorflow:Unresolved object in checkpoint: (root).optimizer's state 'm' for (root).transformer.decoder.dec_layers.2.dense_1.bias\n"
          ],
          "name": "stdout"
        },
        {
          "output_type": "stream",
          "text": [
            "WARNING:tensorflow:Unresolved object in checkpoint: (root).optimizer's state 'm' for (root).transformer.decoder.dec_layers.2.dense_1.bias\n"
          ],
          "name": "stderr"
        },
        {
          "output_type": "stream",
          "text": [
            "WARNING:tensorflow:Unresolved object in checkpoint: (root).optimizer's state 'm' for (root).transformer.decoder.dec_layers.2.dense_2.kernel\n"
          ],
          "name": "stdout"
        },
        {
          "output_type": "stream",
          "text": [
            "WARNING:tensorflow:Unresolved object in checkpoint: (root).optimizer's state 'm' for (root).transformer.decoder.dec_layers.2.dense_2.kernel\n"
          ],
          "name": "stderr"
        },
        {
          "output_type": "stream",
          "text": [
            "WARNING:tensorflow:Unresolved object in checkpoint: (root).optimizer's state 'm' for (root).transformer.decoder.dec_layers.2.dense_2.bias\n"
          ],
          "name": "stdout"
        },
        {
          "output_type": "stream",
          "text": [
            "WARNING:tensorflow:Unresolved object in checkpoint: (root).optimizer's state 'm' for (root).transformer.decoder.dec_layers.2.dense_2.bias\n"
          ],
          "name": "stderr"
        },
        {
          "output_type": "stream",
          "text": [
            "WARNING:tensorflow:Unresolved object in checkpoint: (root).optimizer's state 'm' for (root).transformer.decoder.dec_layers.2.norm_3.gamma\n"
          ],
          "name": "stdout"
        },
        {
          "output_type": "stream",
          "text": [
            "WARNING:tensorflow:Unresolved object in checkpoint: (root).optimizer's state 'm' for (root).transformer.decoder.dec_layers.2.norm_3.gamma\n"
          ],
          "name": "stderr"
        },
        {
          "output_type": "stream",
          "text": [
            "WARNING:tensorflow:Unresolved object in checkpoint: (root).optimizer's state 'm' for (root).transformer.decoder.dec_layers.2.norm_3.beta\n"
          ],
          "name": "stdout"
        },
        {
          "output_type": "stream",
          "text": [
            "WARNING:tensorflow:Unresolved object in checkpoint: (root).optimizer's state 'm' for (root).transformer.decoder.dec_layers.2.norm_3.beta\n"
          ],
          "name": "stderr"
        },
        {
          "output_type": "stream",
          "text": [
            "WARNING:tensorflow:Unresolved object in checkpoint: (root).optimizer's state 'm' for (root).transformer.decoder.dec_layers.3.norm_1.gamma\n"
          ],
          "name": "stdout"
        },
        {
          "output_type": "stream",
          "text": [
            "WARNING:tensorflow:Unresolved object in checkpoint: (root).optimizer's state 'm' for (root).transformer.decoder.dec_layers.3.norm_1.gamma\n"
          ],
          "name": "stderr"
        },
        {
          "output_type": "stream",
          "text": [
            "WARNING:tensorflow:Unresolved object in checkpoint: (root).optimizer's state 'm' for (root).transformer.decoder.dec_layers.3.norm_1.beta\n"
          ],
          "name": "stdout"
        },
        {
          "output_type": "stream",
          "text": [
            "WARNING:tensorflow:Unresolved object in checkpoint: (root).optimizer's state 'm' for (root).transformer.decoder.dec_layers.3.norm_1.beta\n"
          ],
          "name": "stderr"
        },
        {
          "output_type": "stream",
          "text": [
            "WARNING:tensorflow:Unresolved object in checkpoint: (root).optimizer's state 'm' for (root).transformer.decoder.dec_layers.3.norm_2.gamma\n"
          ],
          "name": "stdout"
        },
        {
          "output_type": "stream",
          "text": [
            "WARNING:tensorflow:Unresolved object in checkpoint: (root).optimizer's state 'm' for (root).transformer.decoder.dec_layers.3.norm_2.gamma\n"
          ],
          "name": "stderr"
        },
        {
          "output_type": "stream",
          "text": [
            "WARNING:tensorflow:Unresolved object in checkpoint: (root).optimizer's state 'm' for (root).transformer.decoder.dec_layers.3.norm_2.beta\n"
          ],
          "name": "stdout"
        },
        {
          "output_type": "stream",
          "text": [
            "WARNING:tensorflow:Unresolved object in checkpoint: (root).optimizer's state 'm' for (root).transformer.decoder.dec_layers.3.norm_2.beta\n"
          ],
          "name": "stderr"
        },
        {
          "output_type": "stream",
          "text": [
            "WARNING:tensorflow:Unresolved object in checkpoint: (root).optimizer's state 'm' for (root).transformer.decoder.dec_layers.3.dense_1.kernel\n"
          ],
          "name": "stdout"
        },
        {
          "output_type": "stream",
          "text": [
            "WARNING:tensorflow:Unresolved object in checkpoint: (root).optimizer's state 'm' for (root).transformer.decoder.dec_layers.3.dense_1.kernel\n"
          ],
          "name": "stderr"
        },
        {
          "output_type": "stream",
          "text": [
            "WARNING:tensorflow:Unresolved object in checkpoint: (root).optimizer's state 'm' for (root).transformer.decoder.dec_layers.3.dense_1.bias\n"
          ],
          "name": "stdout"
        },
        {
          "output_type": "stream",
          "text": [
            "WARNING:tensorflow:Unresolved object in checkpoint: (root).optimizer's state 'm' for (root).transformer.decoder.dec_layers.3.dense_1.bias\n"
          ],
          "name": "stderr"
        },
        {
          "output_type": "stream",
          "text": [
            "WARNING:tensorflow:Unresolved object in checkpoint: (root).optimizer's state 'm' for (root).transformer.decoder.dec_layers.3.dense_2.kernel\n"
          ],
          "name": "stdout"
        },
        {
          "output_type": "stream",
          "text": [
            "WARNING:tensorflow:Unresolved object in checkpoint: (root).optimizer's state 'm' for (root).transformer.decoder.dec_layers.3.dense_2.kernel\n"
          ],
          "name": "stderr"
        },
        {
          "output_type": "stream",
          "text": [
            "WARNING:tensorflow:Unresolved object in checkpoint: (root).optimizer's state 'm' for (root).transformer.decoder.dec_layers.3.dense_2.bias\n"
          ],
          "name": "stdout"
        },
        {
          "output_type": "stream",
          "text": [
            "WARNING:tensorflow:Unresolved object in checkpoint: (root).optimizer's state 'm' for (root).transformer.decoder.dec_layers.3.dense_2.bias\n"
          ],
          "name": "stderr"
        },
        {
          "output_type": "stream",
          "text": [
            "WARNING:tensorflow:Unresolved object in checkpoint: (root).optimizer's state 'm' for (root).transformer.decoder.dec_layers.3.norm_3.gamma\n"
          ],
          "name": "stdout"
        },
        {
          "output_type": "stream",
          "text": [
            "WARNING:tensorflow:Unresolved object in checkpoint: (root).optimizer's state 'm' for (root).transformer.decoder.dec_layers.3.norm_3.gamma\n"
          ],
          "name": "stderr"
        },
        {
          "output_type": "stream",
          "text": [
            "WARNING:tensorflow:Unresolved object in checkpoint: (root).optimizer's state 'm' for (root).transformer.decoder.dec_layers.3.norm_3.beta\n"
          ],
          "name": "stdout"
        },
        {
          "output_type": "stream",
          "text": [
            "WARNING:tensorflow:Unresolved object in checkpoint: (root).optimizer's state 'm' for (root).transformer.decoder.dec_layers.3.norm_3.beta\n"
          ],
          "name": "stderr"
        },
        {
          "output_type": "stream",
          "text": [
            "WARNING:tensorflow:Unresolved object in checkpoint: (root).optimizer's state 'm' for (root).transformer.encoder.enc_layers.0.multi_head_attention.query_lin.kernel\n"
          ],
          "name": "stdout"
        },
        {
          "output_type": "stream",
          "text": [
            "WARNING:tensorflow:Unresolved object in checkpoint: (root).optimizer's state 'm' for (root).transformer.encoder.enc_layers.0.multi_head_attention.query_lin.kernel\n"
          ],
          "name": "stderr"
        },
        {
          "output_type": "stream",
          "text": [
            "WARNING:tensorflow:Unresolved object in checkpoint: (root).optimizer's state 'm' for (root).transformer.encoder.enc_layers.0.multi_head_attention.query_lin.bias\n"
          ],
          "name": "stdout"
        },
        {
          "output_type": "stream",
          "text": [
            "WARNING:tensorflow:Unresolved object in checkpoint: (root).optimizer's state 'm' for (root).transformer.encoder.enc_layers.0.multi_head_attention.query_lin.bias\n"
          ],
          "name": "stderr"
        },
        {
          "output_type": "stream",
          "text": [
            "WARNING:tensorflow:Unresolved object in checkpoint: (root).optimizer's state 'm' for (root).transformer.encoder.enc_layers.0.multi_head_attention.key_lin.kernel\n"
          ],
          "name": "stdout"
        },
        {
          "output_type": "stream",
          "text": [
            "WARNING:tensorflow:Unresolved object in checkpoint: (root).optimizer's state 'm' for (root).transformer.encoder.enc_layers.0.multi_head_attention.key_lin.kernel\n"
          ],
          "name": "stderr"
        },
        {
          "output_type": "stream",
          "text": [
            "WARNING:tensorflow:Unresolved object in checkpoint: (root).optimizer's state 'm' for (root).transformer.encoder.enc_layers.0.multi_head_attention.key_lin.bias\n"
          ],
          "name": "stdout"
        },
        {
          "output_type": "stream",
          "text": [
            "WARNING:tensorflow:Unresolved object in checkpoint: (root).optimizer's state 'm' for (root).transformer.encoder.enc_layers.0.multi_head_attention.key_lin.bias\n"
          ],
          "name": "stderr"
        },
        {
          "output_type": "stream",
          "text": [
            "WARNING:tensorflow:Unresolved object in checkpoint: (root).optimizer's state 'm' for (root).transformer.encoder.enc_layers.0.multi_head_attention.value_lin.kernel\n"
          ],
          "name": "stdout"
        },
        {
          "output_type": "stream",
          "text": [
            "WARNING:tensorflow:Unresolved object in checkpoint: (root).optimizer's state 'm' for (root).transformer.encoder.enc_layers.0.multi_head_attention.value_lin.kernel\n"
          ],
          "name": "stderr"
        },
        {
          "output_type": "stream",
          "text": [
            "WARNING:tensorflow:Unresolved object in checkpoint: (root).optimizer's state 'm' for (root).transformer.encoder.enc_layers.0.multi_head_attention.value_lin.bias\n"
          ],
          "name": "stdout"
        },
        {
          "output_type": "stream",
          "text": [
            "WARNING:tensorflow:Unresolved object in checkpoint: (root).optimizer's state 'm' for (root).transformer.encoder.enc_layers.0.multi_head_attention.value_lin.bias\n"
          ],
          "name": "stderr"
        },
        {
          "output_type": "stream",
          "text": [
            "WARNING:tensorflow:Unresolved object in checkpoint: (root).optimizer's state 'm' for (root).transformer.encoder.enc_layers.0.multi_head_attention.final_lin.kernel\n"
          ],
          "name": "stdout"
        },
        {
          "output_type": "stream",
          "text": [
            "WARNING:tensorflow:Unresolved object in checkpoint: (root).optimizer's state 'm' for (root).transformer.encoder.enc_layers.0.multi_head_attention.final_lin.kernel\n"
          ],
          "name": "stderr"
        },
        {
          "output_type": "stream",
          "text": [
            "WARNING:tensorflow:Unresolved object in checkpoint: (root).optimizer's state 'm' for (root).transformer.encoder.enc_layers.0.multi_head_attention.final_lin.bias\n"
          ],
          "name": "stdout"
        },
        {
          "output_type": "stream",
          "text": [
            "WARNING:tensorflow:Unresolved object in checkpoint: (root).optimizer's state 'm' for (root).transformer.encoder.enc_layers.0.multi_head_attention.final_lin.bias\n"
          ],
          "name": "stderr"
        },
        {
          "output_type": "stream",
          "text": [
            "WARNING:tensorflow:Unresolved object in checkpoint: (root).optimizer's state 'm' for (root).transformer.encoder.enc_layers.1.multi_head_attention.query_lin.kernel\n"
          ],
          "name": "stdout"
        },
        {
          "output_type": "stream",
          "text": [
            "WARNING:tensorflow:Unresolved object in checkpoint: (root).optimizer's state 'm' for (root).transformer.encoder.enc_layers.1.multi_head_attention.query_lin.kernel\n"
          ],
          "name": "stderr"
        },
        {
          "output_type": "stream",
          "text": [
            "WARNING:tensorflow:Unresolved object in checkpoint: (root).optimizer's state 'm' for (root).transformer.encoder.enc_layers.1.multi_head_attention.query_lin.bias\n"
          ],
          "name": "stdout"
        },
        {
          "output_type": "stream",
          "text": [
            "WARNING:tensorflow:Unresolved object in checkpoint: (root).optimizer's state 'm' for (root).transformer.encoder.enc_layers.1.multi_head_attention.query_lin.bias\n"
          ],
          "name": "stderr"
        },
        {
          "output_type": "stream",
          "text": [
            "WARNING:tensorflow:Unresolved object in checkpoint: (root).optimizer's state 'm' for (root).transformer.encoder.enc_layers.1.multi_head_attention.key_lin.kernel\n"
          ],
          "name": "stdout"
        },
        {
          "output_type": "stream",
          "text": [
            "WARNING:tensorflow:Unresolved object in checkpoint: (root).optimizer's state 'm' for (root).transformer.encoder.enc_layers.1.multi_head_attention.key_lin.kernel\n"
          ],
          "name": "stderr"
        },
        {
          "output_type": "stream",
          "text": [
            "WARNING:tensorflow:Unresolved object in checkpoint: (root).optimizer's state 'm' for (root).transformer.encoder.enc_layers.1.multi_head_attention.key_lin.bias\n"
          ],
          "name": "stdout"
        },
        {
          "output_type": "stream",
          "text": [
            "WARNING:tensorflow:Unresolved object in checkpoint: (root).optimizer's state 'm' for (root).transformer.encoder.enc_layers.1.multi_head_attention.key_lin.bias\n"
          ],
          "name": "stderr"
        },
        {
          "output_type": "stream",
          "text": [
            "WARNING:tensorflow:Unresolved object in checkpoint: (root).optimizer's state 'm' for (root).transformer.encoder.enc_layers.1.multi_head_attention.value_lin.kernel\n"
          ],
          "name": "stdout"
        },
        {
          "output_type": "stream",
          "text": [
            "WARNING:tensorflow:Unresolved object in checkpoint: (root).optimizer's state 'm' for (root).transformer.encoder.enc_layers.1.multi_head_attention.value_lin.kernel\n"
          ],
          "name": "stderr"
        },
        {
          "output_type": "stream",
          "text": [
            "WARNING:tensorflow:Unresolved object in checkpoint: (root).optimizer's state 'm' for (root).transformer.encoder.enc_layers.1.multi_head_attention.value_lin.bias\n"
          ],
          "name": "stdout"
        },
        {
          "output_type": "stream",
          "text": [
            "WARNING:tensorflow:Unresolved object in checkpoint: (root).optimizer's state 'm' for (root).transformer.encoder.enc_layers.1.multi_head_attention.value_lin.bias\n"
          ],
          "name": "stderr"
        },
        {
          "output_type": "stream",
          "text": [
            "WARNING:tensorflow:Unresolved object in checkpoint: (root).optimizer's state 'm' for (root).transformer.encoder.enc_layers.1.multi_head_attention.final_lin.kernel\n"
          ],
          "name": "stdout"
        },
        {
          "output_type": "stream",
          "text": [
            "WARNING:tensorflow:Unresolved object in checkpoint: (root).optimizer's state 'm' for (root).transformer.encoder.enc_layers.1.multi_head_attention.final_lin.kernel\n"
          ],
          "name": "stderr"
        },
        {
          "output_type": "stream",
          "text": [
            "WARNING:tensorflow:Unresolved object in checkpoint: (root).optimizer's state 'm' for (root).transformer.encoder.enc_layers.1.multi_head_attention.final_lin.bias\n"
          ],
          "name": "stdout"
        },
        {
          "output_type": "stream",
          "text": [
            "WARNING:tensorflow:Unresolved object in checkpoint: (root).optimizer's state 'm' for (root).transformer.encoder.enc_layers.1.multi_head_attention.final_lin.bias\n"
          ],
          "name": "stderr"
        },
        {
          "output_type": "stream",
          "text": [
            "WARNING:tensorflow:Unresolved object in checkpoint: (root).optimizer's state 'm' for (root).transformer.encoder.enc_layers.2.multi_head_attention.query_lin.kernel\n"
          ],
          "name": "stdout"
        },
        {
          "output_type": "stream",
          "text": [
            "WARNING:tensorflow:Unresolved object in checkpoint: (root).optimizer's state 'm' for (root).transformer.encoder.enc_layers.2.multi_head_attention.query_lin.kernel\n"
          ],
          "name": "stderr"
        },
        {
          "output_type": "stream",
          "text": [
            "WARNING:tensorflow:Unresolved object in checkpoint: (root).optimizer's state 'm' for (root).transformer.encoder.enc_layers.2.multi_head_attention.query_lin.bias\n"
          ],
          "name": "stdout"
        },
        {
          "output_type": "stream",
          "text": [
            "WARNING:tensorflow:Unresolved object in checkpoint: (root).optimizer's state 'm' for (root).transformer.encoder.enc_layers.2.multi_head_attention.query_lin.bias\n"
          ],
          "name": "stderr"
        },
        {
          "output_type": "stream",
          "text": [
            "WARNING:tensorflow:Unresolved object in checkpoint: (root).optimizer's state 'm' for (root).transformer.encoder.enc_layers.2.multi_head_attention.key_lin.kernel\n"
          ],
          "name": "stdout"
        },
        {
          "output_type": "stream",
          "text": [
            "WARNING:tensorflow:Unresolved object in checkpoint: (root).optimizer's state 'm' for (root).transformer.encoder.enc_layers.2.multi_head_attention.key_lin.kernel\n"
          ],
          "name": "stderr"
        },
        {
          "output_type": "stream",
          "text": [
            "WARNING:tensorflow:Unresolved object in checkpoint: (root).optimizer's state 'm' for (root).transformer.encoder.enc_layers.2.multi_head_attention.key_lin.bias\n"
          ],
          "name": "stdout"
        },
        {
          "output_type": "stream",
          "text": [
            "WARNING:tensorflow:Unresolved object in checkpoint: (root).optimizer's state 'm' for (root).transformer.encoder.enc_layers.2.multi_head_attention.key_lin.bias\n"
          ],
          "name": "stderr"
        },
        {
          "output_type": "stream",
          "text": [
            "WARNING:tensorflow:Unresolved object in checkpoint: (root).optimizer's state 'm' for (root).transformer.encoder.enc_layers.2.multi_head_attention.value_lin.kernel\n"
          ],
          "name": "stdout"
        },
        {
          "output_type": "stream",
          "text": [
            "WARNING:tensorflow:Unresolved object in checkpoint: (root).optimizer's state 'm' for (root).transformer.encoder.enc_layers.2.multi_head_attention.value_lin.kernel\n"
          ],
          "name": "stderr"
        },
        {
          "output_type": "stream",
          "text": [
            "WARNING:tensorflow:Unresolved object in checkpoint: (root).optimizer's state 'm' for (root).transformer.encoder.enc_layers.2.multi_head_attention.value_lin.bias\n"
          ],
          "name": "stdout"
        },
        {
          "output_type": "stream",
          "text": [
            "WARNING:tensorflow:Unresolved object in checkpoint: (root).optimizer's state 'm' for (root).transformer.encoder.enc_layers.2.multi_head_attention.value_lin.bias\n"
          ],
          "name": "stderr"
        },
        {
          "output_type": "stream",
          "text": [
            "WARNING:tensorflow:Unresolved object in checkpoint: (root).optimizer's state 'm' for (root).transformer.encoder.enc_layers.2.multi_head_attention.final_lin.kernel\n"
          ],
          "name": "stdout"
        },
        {
          "output_type": "stream",
          "text": [
            "WARNING:tensorflow:Unresolved object in checkpoint: (root).optimizer's state 'm' for (root).transformer.encoder.enc_layers.2.multi_head_attention.final_lin.kernel\n"
          ],
          "name": "stderr"
        },
        {
          "output_type": "stream",
          "text": [
            "WARNING:tensorflow:Unresolved object in checkpoint: (root).optimizer's state 'm' for (root).transformer.encoder.enc_layers.2.multi_head_attention.final_lin.bias\n"
          ],
          "name": "stdout"
        },
        {
          "output_type": "stream",
          "text": [
            "WARNING:tensorflow:Unresolved object in checkpoint: (root).optimizer's state 'm' for (root).transformer.encoder.enc_layers.2.multi_head_attention.final_lin.bias\n"
          ],
          "name": "stderr"
        },
        {
          "output_type": "stream",
          "text": [
            "WARNING:tensorflow:Unresolved object in checkpoint: (root).optimizer's state 'm' for (root).transformer.encoder.enc_layers.3.multi_head_attention.query_lin.kernel\n"
          ],
          "name": "stdout"
        },
        {
          "output_type": "stream",
          "text": [
            "WARNING:tensorflow:Unresolved object in checkpoint: (root).optimizer's state 'm' for (root).transformer.encoder.enc_layers.3.multi_head_attention.query_lin.kernel\n"
          ],
          "name": "stderr"
        },
        {
          "output_type": "stream",
          "text": [
            "WARNING:tensorflow:Unresolved object in checkpoint: (root).optimizer's state 'm' for (root).transformer.encoder.enc_layers.3.multi_head_attention.query_lin.bias\n"
          ],
          "name": "stdout"
        },
        {
          "output_type": "stream",
          "text": [
            "WARNING:tensorflow:Unresolved object in checkpoint: (root).optimizer's state 'm' for (root).transformer.encoder.enc_layers.3.multi_head_attention.query_lin.bias\n"
          ],
          "name": "stderr"
        },
        {
          "output_type": "stream",
          "text": [
            "WARNING:tensorflow:Unresolved object in checkpoint: (root).optimizer's state 'm' for (root).transformer.encoder.enc_layers.3.multi_head_attention.key_lin.kernel\n"
          ],
          "name": "stdout"
        },
        {
          "output_type": "stream",
          "text": [
            "WARNING:tensorflow:Unresolved object in checkpoint: (root).optimizer's state 'm' for (root).transformer.encoder.enc_layers.3.multi_head_attention.key_lin.kernel\n"
          ],
          "name": "stderr"
        },
        {
          "output_type": "stream",
          "text": [
            "WARNING:tensorflow:Unresolved object in checkpoint: (root).optimizer's state 'm' for (root).transformer.encoder.enc_layers.3.multi_head_attention.key_lin.bias\n"
          ],
          "name": "stdout"
        },
        {
          "output_type": "stream",
          "text": [
            "WARNING:tensorflow:Unresolved object in checkpoint: (root).optimizer's state 'm' for (root).transformer.encoder.enc_layers.3.multi_head_attention.key_lin.bias\n"
          ],
          "name": "stderr"
        },
        {
          "output_type": "stream",
          "text": [
            "WARNING:tensorflow:Unresolved object in checkpoint: (root).optimizer's state 'm' for (root).transformer.encoder.enc_layers.3.multi_head_attention.value_lin.kernel\n"
          ],
          "name": "stdout"
        },
        {
          "output_type": "stream",
          "text": [
            "WARNING:tensorflow:Unresolved object in checkpoint: (root).optimizer's state 'm' for (root).transformer.encoder.enc_layers.3.multi_head_attention.value_lin.kernel\n"
          ],
          "name": "stderr"
        },
        {
          "output_type": "stream",
          "text": [
            "WARNING:tensorflow:Unresolved object in checkpoint: (root).optimizer's state 'm' for (root).transformer.encoder.enc_layers.3.multi_head_attention.value_lin.bias\n"
          ],
          "name": "stdout"
        },
        {
          "output_type": "stream",
          "text": [
            "WARNING:tensorflow:Unresolved object in checkpoint: (root).optimizer's state 'm' for (root).transformer.encoder.enc_layers.3.multi_head_attention.value_lin.bias\n"
          ],
          "name": "stderr"
        },
        {
          "output_type": "stream",
          "text": [
            "WARNING:tensorflow:Unresolved object in checkpoint: (root).optimizer's state 'm' for (root).transformer.encoder.enc_layers.3.multi_head_attention.final_lin.kernel\n"
          ],
          "name": "stdout"
        },
        {
          "output_type": "stream",
          "text": [
            "WARNING:tensorflow:Unresolved object in checkpoint: (root).optimizer's state 'm' for (root).transformer.encoder.enc_layers.3.multi_head_attention.final_lin.kernel\n"
          ],
          "name": "stderr"
        },
        {
          "output_type": "stream",
          "text": [
            "WARNING:tensorflow:Unresolved object in checkpoint: (root).optimizer's state 'm' for (root).transformer.encoder.enc_layers.3.multi_head_attention.final_lin.bias\n"
          ],
          "name": "stdout"
        },
        {
          "output_type": "stream",
          "text": [
            "WARNING:tensorflow:Unresolved object in checkpoint: (root).optimizer's state 'm' for (root).transformer.encoder.enc_layers.3.multi_head_attention.final_lin.bias\n"
          ],
          "name": "stderr"
        },
        {
          "output_type": "stream",
          "text": [
            "WARNING:tensorflow:Unresolved object in checkpoint: (root).optimizer's state 'm' for (root).transformer.decoder.dec_layers.0.multi_head_attention_1.query_lin.kernel\n"
          ],
          "name": "stdout"
        },
        {
          "output_type": "stream",
          "text": [
            "WARNING:tensorflow:Unresolved object in checkpoint: (root).optimizer's state 'm' for (root).transformer.decoder.dec_layers.0.multi_head_attention_1.query_lin.kernel\n"
          ],
          "name": "stderr"
        },
        {
          "output_type": "stream",
          "text": [
            "WARNING:tensorflow:Unresolved object in checkpoint: (root).optimizer's state 'm' for (root).transformer.decoder.dec_layers.0.multi_head_attention_1.query_lin.bias\n"
          ],
          "name": "stdout"
        },
        {
          "output_type": "stream",
          "text": [
            "WARNING:tensorflow:Unresolved object in checkpoint: (root).optimizer's state 'm' for (root).transformer.decoder.dec_layers.0.multi_head_attention_1.query_lin.bias\n"
          ],
          "name": "stderr"
        },
        {
          "output_type": "stream",
          "text": [
            "WARNING:tensorflow:Unresolved object in checkpoint: (root).optimizer's state 'm' for (root).transformer.decoder.dec_layers.0.multi_head_attention_1.key_lin.kernel\n"
          ],
          "name": "stdout"
        },
        {
          "output_type": "stream",
          "text": [
            "WARNING:tensorflow:Unresolved object in checkpoint: (root).optimizer's state 'm' for (root).transformer.decoder.dec_layers.0.multi_head_attention_1.key_lin.kernel\n"
          ],
          "name": "stderr"
        },
        {
          "output_type": "stream",
          "text": [
            "WARNING:tensorflow:Unresolved object in checkpoint: (root).optimizer's state 'm' for (root).transformer.decoder.dec_layers.0.multi_head_attention_1.key_lin.bias\n"
          ],
          "name": "stdout"
        },
        {
          "output_type": "stream",
          "text": [
            "WARNING:tensorflow:Unresolved object in checkpoint: (root).optimizer's state 'm' for (root).transformer.decoder.dec_layers.0.multi_head_attention_1.key_lin.bias\n"
          ],
          "name": "stderr"
        },
        {
          "output_type": "stream",
          "text": [
            "WARNING:tensorflow:Unresolved object in checkpoint: (root).optimizer's state 'm' for (root).transformer.decoder.dec_layers.0.multi_head_attention_1.value_lin.kernel\n"
          ],
          "name": "stdout"
        },
        {
          "output_type": "stream",
          "text": [
            "WARNING:tensorflow:Unresolved object in checkpoint: (root).optimizer's state 'm' for (root).transformer.decoder.dec_layers.0.multi_head_attention_1.value_lin.kernel\n"
          ],
          "name": "stderr"
        },
        {
          "output_type": "stream",
          "text": [
            "WARNING:tensorflow:Unresolved object in checkpoint: (root).optimizer's state 'm' for (root).transformer.decoder.dec_layers.0.multi_head_attention_1.value_lin.bias\n"
          ],
          "name": "stdout"
        },
        {
          "output_type": "stream",
          "text": [
            "WARNING:tensorflow:Unresolved object in checkpoint: (root).optimizer's state 'm' for (root).transformer.decoder.dec_layers.0.multi_head_attention_1.value_lin.bias\n"
          ],
          "name": "stderr"
        },
        {
          "output_type": "stream",
          "text": [
            "WARNING:tensorflow:Unresolved object in checkpoint: (root).optimizer's state 'm' for (root).transformer.decoder.dec_layers.0.multi_head_attention_1.final_lin.kernel\n"
          ],
          "name": "stdout"
        },
        {
          "output_type": "stream",
          "text": [
            "WARNING:tensorflow:Unresolved object in checkpoint: (root).optimizer's state 'm' for (root).transformer.decoder.dec_layers.0.multi_head_attention_1.final_lin.kernel\n"
          ],
          "name": "stderr"
        },
        {
          "output_type": "stream",
          "text": [
            "WARNING:tensorflow:Unresolved object in checkpoint: (root).optimizer's state 'm' for (root).transformer.decoder.dec_layers.0.multi_head_attention_1.final_lin.bias\n"
          ],
          "name": "stdout"
        },
        {
          "output_type": "stream",
          "text": [
            "WARNING:tensorflow:Unresolved object in checkpoint: (root).optimizer's state 'm' for (root).transformer.decoder.dec_layers.0.multi_head_attention_1.final_lin.bias\n"
          ],
          "name": "stderr"
        },
        {
          "output_type": "stream",
          "text": [
            "WARNING:tensorflow:Unresolved object in checkpoint: (root).optimizer's state 'm' for (root).transformer.decoder.dec_layers.0.multi_head_attention_2.query_lin.kernel\n"
          ],
          "name": "stdout"
        },
        {
          "output_type": "stream",
          "text": [
            "WARNING:tensorflow:Unresolved object in checkpoint: (root).optimizer's state 'm' for (root).transformer.decoder.dec_layers.0.multi_head_attention_2.query_lin.kernel\n"
          ],
          "name": "stderr"
        },
        {
          "output_type": "stream",
          "text": [
            "WARNING:tensorflow:Unresolved object in checkpoint: (root).optimizer's state 'm' for (root).transformer.decoder.dec_layers.0.multi_head_attention_2.query_lin.bias\n"
          ],
          "name": "stdout"
        },
        {
          "output_type": "stream",
          "text": [
            "WARNING:tensorflow:Unresolved object in checkpoint: (root).optimizer's state 'm' for (root).transformer.decoder.dec_layers.0.multi_head_attention_2.query_lin.bias\n"
          ],
          "name": "stderr"
        },
        {
          "output_type": "stream",
          "text": [
            "WARNING:tensorflow:Unresolved object in checkpoint: (root).optimizer's state 'm' for (root).transformer.decoder.dec_layers.0.multi_head_attention_2.key_lin.kernel\n"
          ],
          "name": "stdout"
        },
        {
          "output_type": "stream",
          "text": [
            "WARNING:tensorflow:Unresolved object in checkpoint: (root).optimizer's state 'm' for (root).transformer.decoder.dec_layers.0.multi_head_attention_2.key_lin.kernel\n"
          ],
          "name": "stderr"
        },
        {
          "output_type": "stream",
          "text": [
            "WARNING:tensorflow:Unresolved object in checkpoint: (root).optimizer's state 'm' for (root).transformer.decoder.dec_layers.0.multi_head_attention_2.key_lin.bias\n"
          ],
          "name": "stdout"
        },
        {
          "output_type": "stream",
          "text": [
            "WARNING:tensorflow:Unresolved object in checkpoint: (root).optimizer's state 'm' for (root).transformer.decoder.dec_layers.0.multi_head_attention_2.key_lin.bias\n"
          ],
          "name": "stderr"
        },
        {
          "output_type": "stream",
          "text": [
            "WARNING:tensorflow:Unresolved object in checkpoint: (root).optimizer's state 'm' for (root).transformer.decoder.dec_layers.0.multi_head_attention_2.value_lin.kernel\n"
          ],
          "name": "stdout"
        },
        {
          "output_type": "stream",
          "text": [
            "WARNING:tensorflow:Unresolved object in checkpoint: (root).optimizer's state 'm' for (root).transformer.decoder.dec_layers.0.multi_head_attention_2.value_lin.kernel\n"
          ],
          "name": "stderr"
        },
        {
          "output_type": "stream",
          "text": [
            "WARNING:tensorflow:Unresolved object in checkpoint: (root).optimizer's state 'm' for (root).transformer.decoder.dec_layers.0.multi_head_attention_2.value_lin.bias\n"
          ],
          "name": "stdout"
        },
        {
          "output_type": "stream",
          "text": [
            "WARNING:tensorflow:Unresolved object in checkpoint: (root).optimizer's state 'm' for (root).transformer.decoder.dec_layers.0.multi_head_attention_2.value_lin.bias\n"
          ],
          "name": "stderr"
        },
        {
          "output_type": "stream",
          "text": [
            "WARNING:tensorflow:Unresolved object in checkpoint: (root).optimizer's state 'm' for (root).transformer.decoder.dec_layers.0.multi_head_attention_2.final_lin.kernel\n"
          ],
          "name": "stdout"
        },
        {
          "output_type": "stream",
          "text": [
            "WARNING:tensorflow:Unresolved object in checkpoint: (root).optimizer's state 'm' for (root).transformer.decoder.dec_layers.0.multi_head_attention_2.final_lin.kernel\n"
          ],
          "name": "stderr"
        },
        {
          "output_type": "stream",
          "text": [
            "WARNING:tensorflow:Unresolved object in checkpoint: (root).optimizer's state 'm' for (root).transformer.decoder.dec_layers.0.multi_head_attention_2.final_lin.bias\n"
          ],
          "name": "stdout"
        },
        {
          "output_type": "stream",
          "text": [
            "WARNING:tensorflow:Unresolved object in checkpoint: (root).optimizer's state 'm' for (root).transformer.decoder.dec_layers.0.multi_head_attention_2.final_lin.bias\n"
          ],
          "name": "stderr"
        },
        {
          "output_type": "stream",
          "text": [
            "WARNING:tensorflow:Unresolved object in checkpoint: (root).optimizer's state 'm' for (root).transformer.decoder.dec_layers.1.multi_head_attention_1.query_lin.kernel\n"
          ],
          "name": "stdout"
        },
        {
          "output_type": "stream",
          "text": [
            "WARNING:tensorflow:Unresolved object in checkpoint: (root).optimizer's state 'm' for (root).transformer.decoder.dec_layers.1.multi_head_attention_1.query_lin.kernel\n"
          ],
          "name": "stderr"
        },
        {
          "output_type": "stream",
          "text": [
            "WARNING:tensorflow:Unresolved object in checkpoint: (root).optimizer's state 'm' for (root).transformer.decoder.dec_layers.1.multi_head_attention_1.query_lin.bias\n"
          ],
          "name": "stdout"
        },
        {
          "output_type": "stream",
          "text": [
            "WARNING:tensorflow:Unresolved object in checkpoint: (root).optimizer's state 'm' for (root).transformer.decoder.dec_layers.1.multi_head_attention_1.query_lin.bias\n"
          ],
          "name": "stderr"
        },
        {
          "output_type": "stream",
          "text": [
            "WARNING:tensorflow:Unresolved object in checkpoint: (root).optimizer's state 'm' for (root).transformer.decoder.dec_layers.1.multi_head_attention_1.key_lin.kernel\n"
          ],
          "name": "stdout"
        },
        {
          "output_type": "stream",
          "text": [
            "WARNING:tensorflow:Unresolved object in checkpoint: (root).optimizer's state 'm' for (root).transformer.decoder.dec_layers.1.multi_head_attention_1.key_lin.kernel\n"
          ],
          "name": "stderr"
        },
        {
          "output_type": "stream",
          "text": [
            "WARNING:tensorflow:Unresolved object in checkpoint: (root).optimizer's state 'm' for (root).transformer.decoder.dec_layers.1.multi_head_attention_1.key_lin.bias\n"
          ],
          "name": "stdout"
        },
        {
          "output_type": "stream",
          "text": [
            "WARNING:tensorflow:Unresolved object in checkpoint: (root).optimizer's state 'm' for (root).transformer.decoder.dec_layers.1.multi_head_attention_1.key_lin.bias\n"
          ],
          "name": "stderr"
        },
        {
          "output_type": "stream",
          "text": [
            "WARNING:tensorflow:Unresolved object in checkpoint: (root).optimizer's state 'm' for (root).transformer.decoder.dec_layers.1.multi_head_attention_1.value_lin.kernel\n"
          ],
          "name": "stdout"
        },
        {
          "output_type": "stream",
          "text": [
            "WARNING:tensorflow:Unresolved object in checkpoint: (root).optimizer's state 'm' for (root).transformer.decoder.dec_layers.1.multi_head_attention_1.value_lin.kernel\n"
          ],
          "name": "stderr"
        },
        {
          "output_type": "stream",
          "text": [
            "WARNING:tensorflow:Unresolved object in checkpoint: (root).optimizer's state 'm' for (root).transformer.decoder.dec_layers.1.multi_head_attention_1.value_lin.bias\n"
          ],
          "name": "stdout"
        },
        {
          "output_type": "stream",
          "text": [
            "WARNING:tensorflow:Unresolved object in checkpoint: (root).optimizer's state 'm' for (root).transformer.decoder.dec_layers.1.multi_head_attention_1.value_lin.bias\n"
          ],
          "name": "stderr"
        },
        {
          "output_type": "stream",
          "text": [
            "WARNING:tensorflow:Unresolved object in checkpoint: (root).optimizer's state 'm' for (root).transformer.decoder.dec_layers.1.multi_head_attention_1.final_lin.kernel\n"
          ],
          "name": "stdout"
        },
        {
          "output_type": "stream",
          "text": [
            "WARNING:tensorflow:Unresolved object in checkpoint: (root).optimizer's state 'm' for (root).transformer.decoder.dec_layers.1.multi_head_attention_1.final_lin.kernel\n"
          ],
          "name": "stderr"
        },
        {
          "output_type": "stream",
          "text": [
            "WARNING:tensorflow:Unresolved object in checkpoint: (root).optimizer's state 'm' for (root).transformer.decoder.dec_layers.1.multi_head_attention_1.final_lin.bias\n"
          ],
          "name": "stdout"
        },
        {
          "output_type": "stream",
          "text": [
            "WARNING:tensorflow:Unresolved object in checkpoint: (root).optimizer's state 'm' for (root).transformer.decoder.dec_layers.1.multi_head_attention_1.final_lin.bias\n"
          ],
          "name": "stderr"
        },
        {
          "output_type": "stream",
          "text": [
            "WARNING:tensorflow:Unresolved object in checkpoint: (root).optimizer's state 'm' for (root).transformer.decoder.dec_layers.1.multi_head_attention_2.query_lin.kernel\n"
          ],
          "name": "stdout"
        },
        {
          "output_type": "stream",
          "text": [
            "WARNING:tensorflow:Unresolved object in checkpoint: (root).optimizer's state 'm' for (root).transformer.decoder.dec_layers.1.multi_head_attention_2.query_lin.kernel\n"
          ],
          "name": "stderr"
        },
        {
          "output_type": "stream",
          "text": [
            "WARNING:tensorflow:Unresolved object in checkpoint: (root).optimizer's state 'm' for (root).transformer.decoder.dec_layers.1.multi_head_attention_2.query_lin.bias\n"
          ],
          "name": "stdout"
        },
        {
          "output_type": "stream",
          "text": [
            "WARNING:tensorflow:Unresolved object in checkpoint: (root).optimizer's state 'm' for (root).transformer.decoder.dec_layers.1.multi_head_attention_2.query_lin.bias\n"
          ],
          "name": "stderr"
        },
        {
          "output_type": "stream",
          "text": [
            "WARNING:tensorflow:Unresolved object in checkpoint: (root).optimizer's state 'm' for (root).transformer.decoder.dec_layers.1.multi_head_attention_2.key_lin.kernel\n"
          ],
          "name": "stdout"
        },
        {
          "output_type": "stream",
          "text": [
            "WARNING:tensorflow:Unresolved object in checkpoint: (root).optimizer's state 'm' for (root).transformer.decoder.dec_layers.1.multi_head_attention_2.key_lin.kernel\n"
          ],
          "name": "stderr"
        },
        {
          "output_type": "stream",
          "text": [
            "WARNING:tensorflow:Unresolved object in checkpoint: (root).optimizer's state 'm' for (root).transformer.decoder.dec_layers.1.multi_head_attention_2.key_lin.bias\n"
          ],
          "name": "stdout"
        },
        {
          "output_type": "stream",
          "text": [
            "WARNING:tensorflow:Unresolved object in checkpoint: (root).optimizer's state 'm' for (root).transformer.decoder.dec_layers.1.multi_head_attention_2.key_lin.bias\n"
          ],
          "name": "stderr"
        },
        {
          "output_type": "stream",
          "text": [
            "WARNING:tensorflow:Unresolved object in checkpoint: (root).optimizer's state 'm' for (root).transformer.decoder.dec_layers.1.multi_head_attention_2.value_lin.kernel\n"
          ],
          "name": "stdout"
        },
        {
          "output_type": "stream",
          "text": [
            "WARNING:tensorflow:Unresolved object in checkpoint: (root).optimizer's state 'm' for (root).transformer.decoder.dec_layers.1.multi_head_attention_2.value_lin.kernel\n"
          ],
          "name": "stderr"
        },
        {
          "output_type": "stream",
          "text": [
            "WARNING:tensorflow:Unresolved object in checkpoint: (root).optimizer's state 'm' for (root).transformer.decoder.dec_layers.1.multi_head_attention_2.value_lin.bias\n"
          ],
          "name": "stdout"
        },
        {
          "output_type": "stream",
          "text": [
            "WARNING:tensorflow:Unresolved object in checkpoint: (root).optimizer's state 'm' for (root).transformer.decoder.dec_layers.1.multi_head_attention_2.value_lin.bias\n"
          ],
          "name": "stderr"
        },
        {
          "output_type": "stream",
          "text": [
            "WARNING:tensorflow:Unresolved object in checkpoint: (root).optimizer's state 'm' for (root).transformer.decoder.dec_layers.1.multi_head_attention_2.final_lin.kernel\n"
          ],
          "name": "stdout"
        },
        {
          "output_type": "stream",
          "text": [
            "WARNING:tensorflow:Unresolved object in checkpoint: (root).optimizer's state 'm' for (root).transformer.decoder.dec_layers.1.multi_head_attention_2.final_lin.kernel\n"
          ],
          "name": "stderr"
        },
        {
          "output_type": "stream",
          "text": [
            "WARNING:tensorflow:Unresolved object in checkpoint: (root).optimizer's state 'm' for (root).transformer.decoder.dec_layers.1.multi_head_attention_2.final_lin.bias\n"
          ],
          "name": "stdout"
        },
        {
          "output_type": "stream",
          "text": [
            "WARNING:tensorflow:Unresolved object in checkpoint: (root).optimizer's state 'm' for (root).transformer.decoder.dec_layers.1.multi_head_attention_2.final_lin.bias\n"
          ],
          "name": "stderr"
        },
        {
          "output_type": "stream",
          "text": [
            "WARNING:tensorflow:Unresolved object in checkpoint: (root).optimizer's state 'm' for (root).transformer.decoder.dec_layers.2.multi_head_attention_1.query_lin.kernel\n"
          ],
          "name": "stdout"
        },
        {
          "output_type": "stream",
          "text": [
            "WARNING:tensorflow:Unresolved object in checkpoint: (root).optimizer's state 'm' for (root).transformer.decoder.dec_layers.2.multi_head_attention_1.query_lin.kernel\n"
          ],
          "name": "stderr"
        },
        {
          "output_type": "stream",
          "text": [
            "WARNING:tensorflow:Unresolved object in checkpoint: (root).optimizer's state 'm' for (root).transformer.decoder.dec_layers.2.multi_head_attention_1.query_lin.bias\n"
          ],
          "name": "stdout"
        },
        {
          "output_type": "stream",
          "text": [
            "WARNING:tensorflow:Unresolved object in checkpoint: (root).optimizer's state 'm' for (root).transformer.decoder.dec_layers.2.multi_head_attention_1.query_lin.bias\n"
          ],
          "name": "stderr"
        },
        {
          "output_type": "stream",
          "text": [
            "WARNING:tensorflow:Unresolved object in checkpoint: (root).optimizer's state 'm' for (root).transformer.decoder.dec_layers.2.multi_head_attention_1.key_lin.kernel\n"
          ],
          "name": "stdout"
        },
        {
          "output_type": "stream",
          "text": [
            "WARNING:tensorflow:Unresolved object in checkpoint: (root).optimizer's state 'm' for (root).transformer.decoder.dec_layers.2.multi_head_attention_1.key_lin.kernel\n"
          ],
          "name": "stderr"
        },
        {
          "output_type": "stream",
          "text": [
            "WARNING:tensorflow:Unresolved object in checkpoint: (root).optimizer's state 'm' for (root).transformer.decoder.dec_layers.2.multi_head_attention_1.key_lin.bias\n"
          ],
          "name": "stdout"
        },
        {
          "output_type": "stream",
          "text": [
            "WARNING:tensorflow:Unresolved object in checkpoint: (root).optimizer's state 'm' for (root).transformer.decoder.dec_layers.2.multi_head_attention_1.key_lin.bias\n"
          ],
          "name": "stderr"
        },
        {
          "output_type": "stream",
          "text": [
            "WARNING:tensorflow:Unresolved object in checkpoint: (root).optimizer's state 'm' for (root).transformer.decoder.dec_layers.2.multi_head_attention_1.value_lin.kernel\n"
          ],
          "name": "stdout"
        },
        {
          "output_type": "stream",
          "text": [
            "WARNING:tensorflow:Unresolved object in checkpoint: (root).optimizer's state 'm' for (root).transformer.decoder.dec_layers.2.multi_head_attention_1.value_lin.kernel\n"
          ],
          "name": "stderr"
        },
        {
          "output_type": "stream",
          "text": [
            "WARNING:tensorflow:Unresolved object in checkpoint: (root).optimizer's state 'm' for (root).transformer.decoder.dec_layers.2.multi_head_attention_1.value_lin.bias\n"
          ],
          "name": "stdout"
        },
        {
          "output_type": "stream",
          "text": [
            "WARNING:tensorflow:Unresolved object in checkpoint: (root).optimizer's state 'm' for (root).transformer.decoder.dec_layers.2.multi_head_attention_1.value_lin.bias\n"
          ],
          "name": "stderr"
        },
        {
          "output_type": "stream",
          "text": [
            "WARNING:tensorflow:Unresolved object in checkpoint: (root).optimizer's state 'm' for (root).transformer.decoder.dec_layers.2.multi_head_attention_1.final_lin.kernel\n"
          ],
          "name": "stdout"
        },
        {
          "output_type": "stream",
          "text": [
            "WARNING:tensorflow:Unresolved object in checkpoint: (root).optimizer's state 'm' for (root).transformer.decoder.dec_layers.2.multi_head_attention_1.final_lin.kernel\n"
          ],
          "name": "stderr"
        },
        {
          "output_type": "stream",
          "text": [
            "WARNING:tensorflow:Unresolved object in checkpoint: (root).optimizer's state 'm' for (root).transformer.decoder.dec_layers.2.multi_head_attention_1.final_lin.bias\n"
          ],
          "name": "stdout"
        },
        {
          "output_type": "stream",
          "text": [
            "WARNING:tensorflow:Unresolved object in checkpoint: (root).optimizer's state 'm' for (root).transformer.decoder.dec_layers.2.multi_head_attention_1.final_lin.bias\n"
          ],
          "name": "stderr"
        },
        {
          "output_type": "stream",
          "text": [
            "WARNING:tensorflow:Unresolved object in checkpoint: (root).optimizer's state 'm' for (root).transformer.decoder.dec_layers.2.multi_head_attention_2.query_lin.kernel\n"
          ],
          "name": "stdout"
        },
        {
          "output_type": "stream",
          "text": [
            "WARNING:tensorflow:Unresolved object in checkpoint: (root).optimizer's state 'm' for (root).transformer.decoder.dec_layers.2.multi_head_attention_2.query_lin.kernel\n"
          ],
          "name": "stderr"
        },
        {
          "output_type": "stream",
          "text": [
            "WARNING:tensorflow:Unresolved object in checkpoint: (root).optimizer's state 'm' for (root).transformer.decoder.dec_layers.2.multi_head_attention_2.query_lin.bias\n"
          ],
          "name": "stdout"
        },
        {
          "output_type": "stream",
          "text": [
            "WARNING:tensorflow:Unresolved object in checkpoint: (root).optimizer's state 'm' for (root).transformer.decoder.dec_layers.2.multi_head_attention_2.query_lin.bias\n"
          ],
          "name": "stderr"
        },
        {
          "output_type": "stream",
          "text": [
            "WARNING:tensorflow:Unresolved object in checkpoint: (root).optimizer's state 'm' for (root).transformer.decoder.dec_layers.2.multi_head_attention_2.key_lin.kernel\n"
          ],
          "name": "stdout"
        },
        {
          "output_type": "stream",
          "text": [
            "WARNING:tensorflow:Unresolved object in checkpoint: (root).optimizer's state 'm' for (root).transformer.decoder.dec_layers.2.multi_head_attention_2.key_lin.kernel\n"
          ],
          "name": "stderr"
        },
        {
          "output_type": "stream",
          "text": [
            "WARNING:tensorflow:Unresolved object in checkpoint: (root).optimizer's state 'm' for (root).transformer.decoder.dec_layers.2.multi_head_attention_2.key_lin.bias\n"
          ],
          "name": "stdout"
        },
        {
          "output_type": "stream",
          "text": [
            "WARNING:tensorflow:Unresolved object in checkpoint: (root).optimizer's state 'm' for (root).transformer.decoder.dec_layers.2.multi_head_attention_2.key_lin.bias\n"
          ],
          "name": "stderr"
        },
        {
          "output_type": "stream",
          "text": [
            "WARNING:tensorflow:Unresolved object in checkpoint: (root).optimizer's state 'm' for (root).transformer.decoder.dec_layers.2.multi_head_attention_2.value_lin.kernel\n"
          ],
          "name": "stdout"
        },
        {
          "output_type": "stream",
          "text": [
            "WARNING:tensorflow:Unresolved object in checkpoint: (root).optimizer's state 'm' for (root).transformer.decoder.dec_layers.2.multi_head_attention_2.value_lin.kernel\n"
          ],
          "name": "stderr"
        },
        {
          "output_type": "stream",
          "text": [
            "WARNING:tensorflow:Unresolved object in checkpoint: (root).optimizer's state 'm' for (root).transformer.decoder.dec_layers.2.multi_head_attention_2.value_lin.bias\n"
          ],
          "name": "stdout"
        },
        {
          "output_type": "stream",
          "text": [
            "WARNING:tensorflow:Unresolved object in checkpoint: (root).optimizer's state 'm' for (root).transformer.decoder.dec_layers.2.multi_head_attention_2.value_lin.bias\n"
          ],
          "name": "stderr"
        },
        {
          "output_type": "stream",
          "text": [
            "WARNING:tensorflow:Unresolved object in checkpoint: (root).optimizer's state 'm' for (root).transformer.decoder.dec_layers.2.multi_head_attention_2.final_lin.kernel\n"
          ],
          "name": "stdout"
        },
        {
          "output_type": "stream",
          "text": [
            "WARNING:tensorflow:Unresolved object in checkpoint: (root).optimizer's state 'm' for (root).transformer.decoder.dec_layers.2.multi_head_attention_2.final_lin.kernel\n"
          ],
          "name": "stderr"
        },
        {
          "output_type": "stream",
          "text": [
            "WARNING:tensorflow:Unresolved object in checkpoint: (root).optimizer's state 'm' for (root).transformer.decoder.dec_layers.2.multi_head_attention_2.final_lin.bias\n"
          ],
          "name": "stdout"
        },
        {
          "output_type": "stream",
          "text": [
            "WARNING:tensorflow:Unresolved object in checkpoint: (root).optimizer's state 'm' for (root).transformer.decoder.dec_layers.2.multi_head_attention_2.final_lin.bias\n"
          ],
          "name": "stderr"
        },
        {
          "output_type": "stream",
          "text": [
            "WARNING:tensorflow:Unresolved object in checkpoint: (root).optimizer's state 'm' for (root).transformer.decoder.dec_layers.3.multi_head_attention_1.query_lin.kernel\n"
          ],
          "name": "stdout"
        },
        {
          "output_type": "stream",
          "text": [
            "WARNING:tensorflow:Unresolved object in checkpoint: (root).optimizer's state 'm' for (root).transformer.decoder.dec_layers.3.multi_head_attention_1.query_lin.kernel\n"
          ],
          "name": "stderr"
        },
        {
          "output_type": "stream",
          "text": [
            "WARNING:tensorflow:Unresolved object in checkpoint: (root).optimizer's state 'm' for (root).transformer.decoder.dec_layers.3.multi_head_attention_1.query_lin.bias\n"
          ],
          "name": "stdout"
        },
        {
          "output_type": "stream",
          "text": [
            "WARNING:tensorflow:Unresolved object in checkpoint: (root).optimizer's state 'm' for (root).transformer.decoder.dec_layers.3.multi_head_attention_1.query_lin.bias\n"
          ],
          "name": "stderr"
        },
        {
          "output_type": "stream",
          "text": [
            "WARNING:tensorflow:Unresolved object in checkpoint: (root).optimizer's state 'm' for (root).transformer.decoder.dec_layers.3.multi_head_attention_1.key_lin.kernel\n"
          ],
          "name": "stdout"
        },
        {
          "output_type": "stream",
          "text": [
            "WARNING:tensorflow:Unresolved object in checkpoint: (root).optimizer's state 'm' for (root).transformer.decoder.dec_layers.3.multi_head_attention_1.key_lin.kernel\n"
          ],
          "name": "stderr"
        },
        {
          "output_type": "stream",
          "text": [
            "WARNING:tensorflow:Unresolved object in checkpoint: (root).optimizer's state 'm' for (root).transformer.decoder.dec_layers.3.multi_head_attention_1.key_lin.bias\n"
          ],
          "name": "stdout"
        },
        {
          "output_type": "stream",
          "text": [
            "WARNING:tensorflow:Unresolved object in checkpoint: (root).optimizer's state 'm' for (root).transformer.decoder.dec_layers.3.multi_head_attention_1.key_lin.bias\n"
          ],
          "name": "stderr"
        },
        {
          "output_type": "stream",
          "text": [
            "WARNING:tensorflow:Unresolved object in checkpoint: (root).optimizer's state 'm' for (root).transformer.decoder.dec_layers.3.multi_head_attention_1.value_lin.kernel\n"
          ],
          "name": "stdout"
        },
        {
          "output_type": "stream",
          "text": [
            "WARNING:tensorflow:Unresolved object in checkpoint: (root).optimizer's state 'm' for (root).transformer.decoder.dec_layers.3.multi_head_attention_1.value_lin.kernel\n"
          ],
          "name": "stderr"
        },
        {
          "output_type": "stream",
          "text": [
            "WARNING:tensorflow:Unresolved object in checkpoint: (root).optimizer's state 'm' for (root).transformer.decoder.dec_layers.3.multi_head_attention_1.value_lin.bias\n"
          ],
          "name": "stdout"
        },
        {
          "output_type": "stream",
          "text": [
            "WARNING:tensorflow:Unresolved object in checkpoint: (root).optimizer's state 'm' for (root).transformer.decoder.dec_layers.3.multi_head_attention_1.value_lin.bias\n"
          ],
          "name": "stderr"
        },
        {
          "output_type": "stream",
          "text": [
            "WARNING:tensorflow:Unresolved object in checkpoint: (root).optimizer's state 'm' for (root).transformer.decoder.dec_layers.3.multi_head_attention_1.final_lin.kernel\n"
          ],
          "name": "stdout"
        },
        {
          "output_type": "stream",
          "text": [
            "WARNING:tensorflow:Unresolved object in checkpoint: (root).optimizer's state 'm' for (root).transformer.decoder.dec_layers.3.multi_head_attention_1.final_lin.kernel\n"
          ],
          "name": "stderr"
        },
        {
          "output_type": "stream",
          "text": [
            "WARNING:tensorflow:Unresolved object in checkpoint: (root).optimizer's state 'm' for (root).transformer.decoder.dec_layers.3.multi_head_attention_1.final_lin.bias\n"
          ],
          "name": "stdout"
        },
        {
          "output_type": "stream",
          "text": [
            "WARNING:tensorflow:Unresolved object in checkpoint: (root).optimizer's state 'm' for (root).transformer.decoder.dec_layers.3.multi_head_attention_1.final_lin.bias\n"
          ],
          "name": "stderr"
        },
        {
          "output_type": "stream",
          "text": [
            "WARNING:tensorflow:Unresolved object in checkpoint: (root).optimizer's state 'm' for (root).transformer.decoder.dec_layers.3.multi_head_attention_2.query_lin.kernel\n"
          ],
          "name": "stdout"
        },
        {
          "output_type": "stream",
          "text": [
            "WARNING:tensorflow:Unresolved object in checkpoint: (root).optimizer's state 'm' for (root).transformer.decoder.dec_layers.3.multi_head_attention_2.query_lin.kernel\n"
          ],
          "name": "stderr"
        },
        {
          "output_type": "stream",
          "text": [
            "WARNING:tensorflow:Unresolved object in checkpoint: (root).optimizer's state 'm' for (root).transformer.decoder.dec_layers.3.multi_head_attention_2.query_lin.bias\n"
          ],
          "name": "stdout"
        },
        {
          "output_type": "stream",
          "text": [
            "WARNING:tensorflow:Unresolved object in checkpoint: (root).optimizer's state 'm' for (root).transformer.decoder.dec_layers.3.multi_head_attention_2.query_lin.bias\n"
          ],
          "name": "stderr"
        },
        {
          "output_type": "stream",
          "text": [
            "WARNING:tensorflow:Unresolved object in checkpoint: (root).optimizer's state 'm' for (root).transformer.decoder.dec_layers.3.multi_head_attention_2.key_lin.kernel\n"
          ],
          "name": "stdout"
        },
        {
          "output_type": "stream",
          "text": [
            "WARNING:tensorflow:Unresolved object in checkpoint: (root).optimizer's state 'm' for (root).transformer.decoder.dec_layers.3.multi_head_attention_2.key_lin.kernel\n"
          ],
          "name": "stderr"
        },
        {
          "output_type": "stream",
          "text": [
            "WARNING:tensorflow:Unresolved object in checkpoint: (root).optimizer's state 'm' for (root).transformer.decoder.dec_layers.3.multi_head_attention_2.key_lin.bias\n"
          ],
          "name": "stdout"
        },
        {
          "output_type": "stream",
          "text": [
            "WARNING:tensorflow:Unresolved object in checkpoint: (root).optimizer's state 'm' for (root).transformer.decoder.dec_layers.3.multi_head_attention_2.key_lin.bias\n"
          ],
          "name": "stderr"
        },
        {
          "output_type": "stream",
          "text": [
            "WARNING:tensorflow:Unresolved object in checkpoint: (root).optimizer's state 'm' for (root).transformer.decoder.dec_layers.3.multi_head_attention_2.value_lin.kernel\n"
          ],
          "name": "stdout"
        },
        {
          "output_type": "stream",
          "text": [
            "WARNING:tensorflow:Unresolved object in checkpoint: (root).optimizer's state 'm' for (root).transformer.decoder.dec_layers.3.multi_head_attention_2.value_lin.kernel\n"
          ],
          "name": "stderr"
        },
        {
          "output_type": "stream",
          "text": [
            "WARNING:tensorflow:Unresolved object in checkpoint: (root).optimizer's state 'm' for (root).transformer.decoder.dec_layers.3.multi_head_attention_2.value_lin.bias\n"
          ],
          "name": "stdout"
        },
        {
          "output_type": "stream",
          "text": [
            "WARNING:tensorflow:Unresolved object in checkpoint: (root).optimizer's state 'm' for (root).transformer.decoder.dec_layers.3.multi_head_attention_2.value_lin.bias\n"
          ],
          "name": "stderr"
        },
        {
          "output_type": "stream",
          "text": [
            "WARNING:tensorflow:Unresolved object in checkpoint: (root).optimizer's state 'm' for (root).transformer.decoder.dec_layers.3.multi_head_attention_2.final_lin.kernel\n"
          ],
          "name": "stdout"
        },
        {
          "output_type": "stream",
          "text": [
            "WARNING:tensorflow:Unresolved object in checkpoint: (root).optimizer's state 'm' for (root).transformer.decoder.dec_layers.3.multi_head_attention_2.final_lin.kernel\n"
          ],
          "name": "stderr"
        },
        {
          "output_type": "stream",
          "text": [
            "WARNING:tensorflow:Unresolved object in checkpoint: (root).optimizer's state 'm' for (root).transformer.decoder.dec_layers.3.multi_head_attention_2.final_lin.bias\n"
          ],
          "name": "stdout"
        },
        {
          "output_type": "stream",
          "text": [
            "WARNING:tensorflow:Unresolved object in checkpoint: (root).optimizer's state 'm' for (root).transformer.decoder.dec_layers.3.multi_head_attention_2.final_lin.bias\n"
          ],
          "name": "stderr"
        },
        {
          "output_type": "stream",
          "text": [
            "WARNING:tensorflow:Unresolved object in checkpoint: (root).optimizer's state 'v' for (root).transformer.last_linear.kernel\n"
          ],
          "name": "stdout"
        },
        {
          "output_type": "stream",
          "text": [
            "WARNING:tensorflow:Unresolved object in checkpoint: (root).optimizer's state 'v' for (root).transformer.last_linear.kernel\n"
          ],
          "name": "stderr"
        },
        {
          "output_type": "stream",
          "text": [
            "WARNING:tensorflow:Unresolved object in checkpoint: (root).optimizer's state 'v' for (root).transformer.last_linear.bias\n"
          ],
          "name": "stdout"
        },
        {
          "output_type": "stream",
          "text": [
            "WARNING:tensorflow:Unresolved object in checkpoint: (root).optimizer's state 'v' for (root).transformer.last_linear.bias\n"
          ],
          "name": "stderr"
        },
        {
          "output_type": "stream",
          "text": [
            "WARNING:tensorflow:Unresolved object in checkpoint: (root).optimizer's state 'v' for (root).transformer.encoder.embedding.embeddings\n"
          ],
          "name": "stdout"
        },
        {
          "output_type": "stream",
          "text": [
            "WARNING:tensorflow:Unresolved object in checkpoint: (root).optimizer's state 'v' for (root).transformer.encoder.embedding.embeddings\n"
          ],
          "name": "stderr"
        },
        {
          "output_type": "stream",
          "text": [
            "WARNING:tensorflow:Unresolved object in checkpoint: (root).optimizer's state 'v' for (root).transformer.decoder.embedding.embeddings\n"
          ],
          "name": "stdout"
        },
        {
          "output_type": "stream",
          "text": [
            "WARNING:tensorflow:Unresolved object in checkpoint: (root).optimizer's state 'v' for (root).transformer.decoder.embedding.embeddings\n"
          ],
          "name": "stderr"
        },
        {
          "output_type": "stream",
          "text": [
            "WARNING:tensorflow:Unresolved object in checkpoint: (root).optimizer's state 'v' for (root).transformer.encoder.enc_layers.0.norm_1.gamma\n"
          ],
          "name": "stdout"
        },
        {
          "output_type": "stream",
          "text": [
            "WARNING:tensorflow:Unresolved object in checkpoint: (root).optimizer's state 'v' for (root).transformer.encoder.enc_layers.0.norm_1.gamma\n"
          ],
          "name": "stderr"
        },
        {
          "output_type": "stream",
          "text": [
            "WARNING:tensorflow:Unresolved object in checkpoint: (root).optimizer's state 'v' for (root).transformer.encoder.enc_layers.0.norm_1.beta\n"
          ],
          "name": "stdout"
        },
        {
          "output_type": "stream",
          "text": [
            "WARNING:tensorflow:Unresolved object in checkpoint: (root).optimizer's state 'v' for (root).transformer.encoder.enc_layers.0.norm_1.beta\n"
          ],
          "name": "stderr"
        },
        {
          "output_type": "stream",
          "text": [
            "WARNING:tensorflow:Unresolved object in checkpoint: (root).optimizer's state 'v' for (root).transformer.encoder.enc_layers.0.dense_1.kernel\n"
          ],
          "name": "stdout"
        },
        {
          "output_type": "stream",
          "text": [
            "WARNING:tensorflow:Unresolved object in checkpoint: (root).optimizer's state 'v' for (root).transformer.encoder.enc_layers.0.dense_1.kernel\n"
          ],
          "name": "stderr"
        },
        {
          "output_type": "stream",
          "text": [
            "WARNING:tensorflow:Unresolved object in checkpoint: (root).optimizer's state 'v' for (root).transformer.encoder.enc_layers.0.dense_1.bias\n"
          ],
          "name": "stdout"
        },
        {
          "output_type": "stream",
          "text": [
            "WARNING:tensorflow:Unresolved object in checkpoint: (root).optimizer's state 'v' for (root).transformer.encoder.enc_layers.0.dense_1.bias\n"
          ],
          "name": "stderr"
        },
        {
          "output_type": "stream",
          "text": [
            "WARNING:tensorflow:Unresolved object in checkpoint: (root).optimizer's state 'v' for (root).transformer.encoder.enc_layers.0.dense_2.kernel\n"
          ],
          "name": "stdout"
        },
        {
          "output_type": "stream",
          "text": [
            "WARNING:tensorflow:Unresolved object in checkpoint: (root).optimizer's state 'v' for (root).transformer.encoder.enc_layers.0.dense_2.kernel\n"
          ],
          "name": "stderr"
        },
        {
          "output_type": "stream",
          "text": [
            "WARNING:tensorflow:Unresolved object in checkpoint: (root).optimizer's state 'v' for (root).transformer.encoder.enc_layers.0.dense_2.bias\n"
          ],
          "name": "stdout"
        },
        {
          "output_type": "stream",
          "text": [
            "WARNING:tensorflow:Unresolved object in checkpoint: (root).optimizer's state 'v' for (root).transformer.encoder.enc_layers.0.dense_2.bias\n"
          ],
          "name": "stderr"
        },
        {
          "output_type": "stream",
          "text": [
            "WARNING:tensorflow:Unresolved object in checkpoint: (root).optimizer's state 'v' for (root).transformer.encoder.enc_layers.0.norm_2.gamma\n"
          ],
          "name": "stdout"
        },
        {
          "output_type": "stream",
          "text": [
            "WARNING:tensorflow:Unresolved object in checkpoint: (root).optimizer's state 'v' for (root).transformer.encoder.enc_layers.0.norm_2.gamma\n"
          ],
          "name": "stderr"
        },
        {
          "output_type": "stream",
          "text": [
            "WARNING:tensorflow:Unresolved object in checkpoint: (root).optimizer's state 'v' for (root).transformer.encoder.enc_layers.0.norm_2.beta\n"
          ],
          "name": "stdout"
        },
        {
          "output_type": "stream",
          "text": [
            "WARNING:tensorflow:Unresolved object in checkpoint: (root).optimizer's state 'v' for (root).transformer.encoder.enc_layers.0.norm_2.beta\n"
          ],
          "name": "stderr"
        },
        {
          "output_type": "stream",
          "text": [
            "WARNING:tensorflow:Unresolved object in checkpoint: (root).optimizer's state 'v' for (root).transformer.encoder.enc_layers.1.norm_1.gamma\n"
          ],
          "name": "stdout"
        },
        {
          "output_type": "stream",
          "text": [
            "WARNING:tensorflow:Unresolved object in checkpoint: (root).optimizer's state 'v' for (root).transformer.encoder.enc_layers.1.norm_1.gamma\n"
          ],
          "name": "stderr"
        },
        {
          "output_type": "stream",
          "text": [
            "WARNING:tensorflow:Unresolved object in checkpoint: (root).optimizer's state 'v' for (root).transformer.encoder.enc_layers.1.norm_1.beta\n"
          ],
          "name": "stdout"
        },
        {
          "output_type": "stream",
          "text": [
            "WARNING:tensorflow:Unresolved object in checkpoint: (root).optimizer's state 'v' for (root).transformer.encoder.enc_layers.1.norm_1.beta\n"
          ],
          "name": "stderr"
        },
        {
          "output_type": "stream",
          "text": [
            "WARNING:tensorflow:Unresolved object in checkpoint: (root).optimizer's state 'v' for (root).transformer.encoder.enc_layers.1.dense_1.kernel\n"
          ],
          "name": "stdout"
        },
        {
          "output_type": "stream",
          "text": [
            "WARNING:tensorflow:Unresolved object in checkpoint: (root).optimizer's state 'v' for (root).transformer.encoder.enc_layers.1.dense_1.kernel\n"
          ],
          "name": "stderr"
        },
        {
          "output_type": "stream",
          "text": [
            "WARNING:tensorflow:Unresolved object in checkpoint: (root).optimizer's state 'v' for (root).transformer.encoder.enc_layers.1.dense_1.bias\n"
          ],
          "name": "stdout"
        },
        {
          "output_type": "stream",
          "text": [
            "WARNING:tensorflow:Unresolved object in checkpoint: (root).optimizer's state 'v' for (root).transformer.encoder.enc_layers.1.dense_1.bias\n"
          ],
          "name": "stderr"
        },
        {
          "output_type": "stream",
          "text": [
            "WARNING:tensorflow:Unresolved object in checkpoint: (root).optimizer's state 'v' for (root).transformer.encoder.enc_layers.1.dense_2.kernel\n"
          ],
          "name": "stdout"
        },
        {
          "output_type": "stream",
          "text": [
            "WARNING:tensorflow:Unresolved object in checkpoint: (root).optimizer's state 'v' for (root).transformer.encoder.enc_layers.1.dense_2.kernel\n"
          ],
          "name": "stderr"
        },
        {
          "output_type": "stream",
          "text": [
            "WARNING:tensorflow:Unresolved object in checkpoint: (root).optimizer's state 'v' for (root).transformer.encoder.enc_layers.1.dense_2.bias\n"
          ],
          "name": "stdout"
        },
        {
          "output_type": "stream",
          "text": [
            "WARNING:tensorflow:Unresolved object in checkpoint: (root).optimizer's state 'v' for (root).transformer.encoder.enc_layers.1.dense_2.bias\n"
          ],
          "name": "stderr"
        },
        {
          "output_type": "stream",
          "text": [
            "WARNING:tensorflow:Unresolved object in checkpoint: (root).optimizer's state 'v' for (root).transformer.encoder.enc_layers.1.norm_2.gamma\n"
          ],
          "name": "stdout"
        },
        {
          "output_type": "stream",
          "text": [
            "WARNING:tensorflow:Unresolved object in checkpoint: (root).optimizer's state 'v' for (root).transformer.encoder.enc_layers.1.norm_2.gamma\n"
          ],
          "name": "stderr"
        },
        {
          "output_type": "stream",
          "text": [
            "WARNING:tensorflow:Unresolved object in checkpoint: (root).optimizer's state 'v' for (root).transformer.encoder.enc_layers.1.norm_2.beta\n"
          ],
          "name": "stdout"
        },
        {
          "output_type": "stream",
          "text": [
            "WARNING:tensorflow:Unresolved object in checkpoint: (root).optimizer's state 'v' for (root).transformer.encoder.enc_layers.1.norm_2.beta\n"
          ],
          "name": "stderr"
        },
        {
          "output_type": "stream",
          "text": [
            "WARNING:tensorflow:Unresolved object in checkpoint: (root).optimizer's state 'v' for (root).transformer.encoder.enc_layers.2.norm_1.gamma\n"
          ],
          "name": "stdout"
        },
        {
          "output_type": "stream",
          "text": [
            "WARNING:tensorflow:Unresolved object in checkpoint: (root).optimizer's state 'v' for (root).transformer.encoder.enc_layers.2.norm_1.gamma\n"
          ],
          "name": "stderr"
        },
        {
          "output_type": "stream",
          "text": [
            "WARNING:tensorflow:Unresolved object in checkpoint: (root).optimizer's state 'v' for (root).transformer.encoder.enc_layers.2.norm_1.beta\n"
          ],
          "name": "stdout"
        },
        {
          "output_type": "stream",
          "text": [
            "WARNING:tensorflow:Unresolved object in checkpoint: (root).optimizer's state 'v' for (root).transformer.encoder.enc_layers.2.norm_1.beta\n"
          ],
          "name": "stderr"
        },
        {
          "output_type": "stream",
          "text": [
            "WARNING:tensorflow:Unresolved object in checkpoint: (root).optimizer's state 'v' for (root).transformer.encoder.enc_layers.2.dense_1.kernel\n"
          ],
          "name": "stdout"
        },
        {
          "output_type": "stream",
          "text": [
            "WARNING:tensorflow:Unresolved object in checkpoint: (root).optimizer's state 'v' for (root).transformer.encoder.enc_layers.2.dense_1.kernel\n"
          ],
          "name": "stderr"
        },
        {
          "output_type": "stream",
          "text": [
            "WARNING:tensorflow:Unresolved object in checkpoint: (root).optimizer's state 'v' for (root).transformer.encoder.enc_layers.2.dense_1.bias\n"
          ],
          "name": "stdout"
        },
        {
          "output_type": "stream",
          "text": [
            "WARNING:tensorflow:Unresolved object in checkpoint: (root).optimizer's state 'v' for (root).transformer.encoder.enc_layers.2.dense_1.bias\n"
          ],
          "name": "stderr"
        },
        {
          "output_type": "stream",
          "text": [
            "WARNING:tensorflow:Unresolved object in checkpoint: (root).optimizer's state 'v' for (root).transformer.encoder.enc_layers.2.dense_2.kernel\n"
          ],
          "name": "stdout"
        },
        {
          "output_type": "stream",
          "text": [
            "WARNING:tensorflow:Unresolved object in checkpoint: (root).optimizer's state 'v' for (root).transformer.encoder.enc_layers.2.dense_2.kernel\n"
          ],
          "name": "stderr"
        },
        {
          "output_type": "stream",
          "text": [
            "WARNING:tensorflow:Unresolved object in checkpoint: (root).optimizer's state 'v' for (root).transformer.encoder.enc_layers.2.dense_2.bias\n"
          ],
          "name": "stdout"
        },
        {
          "output_type": "stream",
          "text": [
            "WARNING:tensorflow:Unresolved object in checkpoint: (root).optimizer's state 'v' for (root).transformer.encoder.enc_layers.2.dense_2.bias\n"
          ],
          "name": "stderr"
        },
        {
          "output_type": "stream",
          "text": [
            "WARNING:tensorflow:Unresolved object in checkpoint: (root).optimizer's state 'v' for (root).transformer.encoder.enc_layers.2.norm_2.gamma\n"
          ],
          "name": "stdout"
        },
        {
          "output_type": "stream",
          "text": [
            "WARNING:tensorflow:Unresolved object in checkpoint: (root).optimizer's state 'v' for (root).transformer.encoder.enc_layers.2.norm_2.gamma\n"
          ],
          "name": "stderr"
        },
        {
          "output_type": "stream",
          "text": [
            "WARNING:tensorflow:Unresolved object in checkpoint: (root).optimizer's state 'v' for (root).transformer.encoder.enc_layers.2.norm_2.beta\n"
          ],
          "name": "stdout"
        },
        {
          "output_type": "stream",
          "text": [
            "WARNING:tensorflow:Unresolved object in checkpoint: (root).optimizer's state 'v' for (root).transformer.encoder.enc_layers.2.norm_2.beta\n"
          ],
          "name": "stderr"
        },
        {
          "output_type": "stream",
          "text": [
            "WARNING:tensorflow:Unresolved object in checkpoint: (root).optimizer's state 'v' for (root).transformer.encoder.enc_layers.3.norm_1.gamma\n"
          ],
          "name": "stdout"
        },
        {
          "output_type": "stream",
          "text": [
            "WARNING:tensorflow:Unresolved object in checkpoint: (root).optimizer's state 'v' for (root).transformer.encoder.enc_layers.3.norm_1.gamma\n"
          ],
          "name": "stderr"
        },
        {
          "output_type": "stream",
          "text": [
            "WARNING:tensorflow:Unresolved object in checkpoint: (root).optimizer's state 'v' for (root).transformer.encoder.enc_layers.3.norm_1.beta\n"
          ],
          "name": "stdout"
        },
        {
          "output_type": "stream",
          "text": [
            "WARNING:tensorflow:Unresolved object in checkpoint: (root).optimizer's state 'v' for (root).transformer.encoder.enc_layers.3.norm_1.beta\n"
          ],
          "name": "stderr"
        },
        {
          "output_type": "stream",
          "text": [
            "WARNING:tensorflow:Unresolved object in checkpoint: (root).optimizer's state 'v' for (root).transformer.encoder.enc_layers.3.dense_1.kernel\n"
          ],
          "name": "stdout"
        },
        {
          "output_type": "stream",
          "text": [
            "WARNING:tensorflow:Unresolved object in checkpoint: (root).optimizer's state 'v' for (root).transformer.encoder.enc_layers.3.dense_1.kernel\n"
          ],
          "name": "stderr"
        },
        {
          "output_type": "stream",
          "text": [
            "WARNING:tensorflow:Unresolved object in checkpoint: (root).optimizer's state 'v' for (root).transformer.encoder.enc_layers.3.dense_1.bias\n"
          ],
          "name": "stdout"
        },
        {
          "output_type": "stream",
          "text": [
            "WARNING:tensorflow:Unresolved object in checkpoint: (root).optimizer's state 'v' for (root).transformer.encoder.enc_layers.3.dense_1.bias\n"
          ],
          "name": "stderr"
        },
        {
          "output_type": "stream",
          "text": [
            "WARNING:tensorflow:Unresolved object in checkpoint: (root).optimizer's state 'v' for (root).transformer.encoder.enc_layers.3.dense_2.kernel\n"
          ],
          "name": "stdout"
        },
        {
          "output_type": "stream",
          "text": [
            "WARNING:tensorflow:Unresolved object in checkpoint: (root).optimizer's state 'v' for (root).transformer.encoder.enc_layers.3.dense_2.kernel\n"
          ],
          "name": "stderr"
        },
        {
          "output_type": "stream",
          "text": [
            "WARNING:tensorflow:Unresolved object in checkpoint: (root).optimizer's state 'v' for (root).transformer.encoder.enc_layers.3.dense_2.bias\n"
          ],
          "name": "stdout"
        },
        {
          "output_type": "stream",
          "text": [
            "WARNING:tensorflow:Unresolved object in checkpoint: (root).optimizer's state 'v' for (root).transformer.encoder.enc_layers.3.dense_2.bias\n"
          ],
          "name": "stderr"
        },
        {
          "output_type": "stream",
          "text": [
            "WARNING:tensorflow:Unresolved object in checkpoint: (root).optimizer's state 'v' for (root).transformer.encoder.enc_layers.3.norm_2.gamma\n"
          ],
          "name": "stdout"
        },
        {
          "output_type": "stream",
          "text": [
            "WARNING:tensorflow:Unresolved object in checkpoint: (root).optimizer's state 'v' for (root).transformer.encoder.enc_layers.3.norm_2.gamma\n"
          ],
          "name": "stderr"
        },
        {
          "output_type": "stream",
          "text": [
            "WARNING:tensorflow:Unresolved object in checkpoint: (root).optimizer's state 'v' for (root).transformer.encoder.enc_layers.3.norm_2.beta\n"
          ],
          "name": "stdout"
        },
        {
          "output_type": "stream",
          "text": [
            "WARNING:tensorflow:Unresolved object in checkpoint: (root).optimizer's state 'v' for (root).transformer.encoder.enc_layers.3.norm_2.beta\n"
          ],
          "name": "stderr"
        },
        {
          "output_type": "stream",
          "text": [
            "WARNING:tensorflow:Unresolved object in checkpoint: (root).optimizer's state 'v' for (root).transformer.decoder.dec_layers.0.norm_1.gamma\n"
          ],
          "name": "stdout"
        },
        {
          "output_type": "stream",
          "text": [
            "WARNING:tensorflow:Unresolved object in checkpoint: (root).optimizer's state 'v' for (root).transformer.decoder.dec_layers.0.norm_1.gamma\n"
          ],
          "name": "stderr"
        },
        {
          "output_type": "stream",
          "text": [
            "WARNING:tensorflow:Unresolved object in checkpoint: (root).optimizer's state 'v' for (root).transformer.decoder.dec_layers.0.norm_1.beta\n"
          ],
          "name": "stdout"
        },
        {
          "output_type": "stream",
          "text": [
            "WARNING:tensorflow:Unresolved object in checkpoint: (root).optimizer's state 'v' for (root).transformer.decoder.dec_layers.0.norm_1.beta\n"
          ],
          "name": "stderr"
        },
        {
          "output_type": "stream",
          "text": [
            "WARNING:tensorflow:Unresolved object in checkpoint: (root).optimizer's state 'v' for (root).transformer.decoder.dec_layers.0.norm_2.gamma\n"
          ],
          "name": "stdout"
        },
        {
          "output_type": "stream",
          "text": [
            "WARNING:tensorflow:Unresolved object in checkpoint: (root).optimizer's state 'v' for (root).transformer.decoder.dec_layers.0.norm_2.gamma\n"
          ],
          "name": "stderr"
        },
        {
          "output_type": "stream",
          "text": [
            "WARNING:tensorflow:Unresolved object in checkpoint: (root).optimizer's state 'v' for (root).transformer.decoder.dec_layers.0.norm_2.beta\n"
          ],
          "name": "stdout"
        },
        {
          "output_type": "stream",
          "text": [
            "WARNING:tensorflow:Unresolved object in checkpoint: (root).optimizer's state 'v' for (root).transformer.decoder.dec_layers.0.norm_2.beta\n"
          ],
          "name": "stderr"
        },
        {
          "output_type": "stream",
          "text": [
            "WARNING:tensorflow:Unresolved object in checkpoint: (root).optimizer's state 'v' for (root).transformer.decoder.dec_layers.0.dense_1.kernel\n"
          ],
          "name": "stdout"
        },
        {
          "output_type": "stream",
          "text": [
            "WARNING:tensorflow:Unresolved object in checkpoint: (root).optimizer's state 'v' for (root).transformer.decoder.dec_layers.0.dense_1.kernel\n"
          ],
          "name": "stderr"
        },
        {
          "output_type": "stream",
          "text": [
            "WARNING:tensorflow:Unresolved object in checkpoint: (root).optimizer's state 'v' for (root).transformer.decoder.dec_layers.0.dense_1.bias\n"
          ],
          "name": "stdout"
        },
        {
          "output_type": "stream",
          "text": [
            "WARNING:tensorflow:Unresolved object in checkpoint: (root).optimizer's state 'v' for (root).transformer.decoder.dec_layers.0.dense_1.bias\n"
          ],
          "name": "stderr"
        },
        {
          "output_type": "stream",
          "text": [
            "WARNING:tensorflow:Unresolved object in checkpoint: (root).optimizer's state 'v' for (root).transformer.decoder.dec_layers.0.dense_2.kernel\n"
          ],
          "name": "stdout"
        },
        {
          "output_type": "stream",
          "text": [
            "WARNING:tensorflow:Unresolved object in checkpoint: (root).optimizer's state 'v' for (root).transformer.decoder.dec_layers.0.dense_2.kernel\n"
          ],
          "name": "stderr"
        },
        {
          "output_type": "stream",
          "text": [
            "WARNING:tensorflow:Unresolved object in checkpoint: (root).optimizer's state 'v' for (root).transformer.decoder.dec_layers.0.dense_2.bias\n"
          ],
          "name": "stdout"
        },
        {
          "output_type": "stream",
          "text": [
            "WARNING:tensorflow:Unresolved object in checkpoint: (root).optimizer's state 'v' for (root).transformer.decoder.dec_layers.0.dense_2.bias\n"
          ],
          "name": "stderr"
        },
        {
          "output_type": "stream",
          "text": [
            "WARNING:tensorflow:Unresolved object in checkpoint: (root).optimizer's state 'v' for (root).transformer.decoder.dec_layers.0.norm_3.gamma\n"
          ],
          "name": "stdout"
        },
        {
          "output_type": "stream",
          "text": [
            "WARNING:tensorflow:Unresolved object in checkpoint: (root).optimizer's state 'v' for (root).transformer.decoder.dec_layers.0.norm_3.gamma\n"
          ],
          "name": "stderr"
        },
        {
          "output_type": "stream",
          "text": [
            "WARNING:tensorflow:Unresolved object in checkpoint: (root).optimizer's state 'v' for (root).transformer.decoder.dec_layers.0.norm_3.beta\n"
          ],
          "name": "stdout"
        },
        {
          "output_type": "stream",
          "text": [
            "WARNING:tensorflow:Unresolved object in checkpoint: (root).optimizer's state 'v' for (root).transformer.decoder.dec_layers.0.norm_3.beta\n"
          ],
          "name": "stderr"
        },
        {
          "output_type": "stream",
          "text": [
            "WARNING:tensorflow:Unresolved object in checkpoint: (root).optimizer's state 'v' for (root).transformer.decoder.dec_layers.1.norm_1.gamma\n"
          ],
          "name": "stdout"
        },
        {
          "output_type": "stream",
          "text": [
            "WARNING:tensorflow:Unresolved object in checkpoint: (root).optimizer's state 'v' for (root).transformer.decoder.dec_layers.1.norm_1.gamma\n"
          ],
          "name": "stderr"
        },
        {
          "output_type": "stream",
          "text": [
            "WARNING:tensorflow:Unresolved object in checkpoint: (root).optimizer's state 'v' for (root).transformer.decoder.dec_layers.1.norm_1.beta\n"
          ],
          "name": "stdout"
        },
        {
          "output_type": "stream",
          "text": [
            "WARNING:tensorflow:Unresolved object in checkpoint: (root).optimizer's state 'v' for (root).transformer.decoder.dec_layers.1.norm_1.beta\n"
          ],
          "name": "stderr"
        },
        {
          "output_type": "stream",
          "text": [
            "WARNING:tensorflow:Unresolved object in checkpoint: (root).optimizer's state 'v' for (root).transformer.decoder.dec_layers.1.norm_2.gamma\n"
          ],
          "name": "stdout"
        },
        {
          "output_type": "stream",
          "text": [
            "WARNING:tensorflow:Unresolved object in checkpoint: (root).optimizer's state 'v' for (root).transformer.decoder.dec_layers.1.norm_2.gamma\n"
          ],
          "name": "stderr"
        },
        {
          "output_type": "stream",
          "text": [
            "WARNING:tensorflow:Unresolved object in checkpoint: (root).optimizer's state 'v' for (root).transformer.decoder.dec_layers.1.norm_2.beta\n"
          ],
          "name": "stdout"
        },
        {
          "output_type": "stream",
          "text": [
            "WARNING:tensorflow:Unresolved object in checkpoint: (root).optimizer's state 'v' for (root).transformer.decoder.dec_layers.1.norm_2.beta\n"
          ],
          "name": "stderr"
        },
        {
          "output_type": "stream",
          "text": [
            "WARNING:tensorflow:Unresolved object in checkpoint: (root).optimizer's state 'v' for (root).transformer.decoder.dec_layers.1.dense_1.kernel\n"
          ],
          "name": "stdout"
        },
        {
          "output_type": "stream",
          "text": [
            "WARNING:tensorflow:Unresolved object in checkpoint: (root).optimizer's state 'v' for (root).transformer.decoder.dec_layers.1.dense_1.kernel\n"
          ],
          "name": "stderr"
        },
        {
          "output_type": "stream",
          "text": [
            "WARNING:tensorflow:Unresolved object in checkpoint: (root).optimizer's state 'v' for (root).transformer.decoder.dec_layers.1.dense_1.bias\n"
          ],
          "name": "stdout"
        },
        {
          "output_type": "stream",
          "text": [
            "WARNING:tensorflow:Unresolved object in checkpoint: (root).optimizer's state 'v' for (root).transformer.decoder.dec_layers.1.dense_1.bias\n"
          ],
          "name": "stderr"
        },
        {
          "output_type": "stream",
          "text": [
            "WARNING:tensorflow:Unresolved object in checkpoint: (root).optimizer's state 'v' for (root).transformer.decoder.dec_layers.1.dense_2.kernel\n"
          ],
          "name": "stdout"
        },
        {
          "output_type": "stream",
          "text": [
            "WARNING:tensorflow:Unresolved object in checkpoint: (root).optimizer's state 'v' for (root).transformer.decoder.dec_layers.1.dense_2.kernel\n"
          ],
          "name": "stderr"
        },
        {
          "output_type": "stream",
          "text": [
            "WARNING:tensorflow:Unresolved object in checkpoint: (root).optimizer's state 'v' for (root).transformer.decoder.dec_layers.1.dense_2.bias\n"
          ],
          "name": "stdout"
        },
        {
          "output_type": "stream",
          "text": [
            "WARNING:tensorflow:Unresolved object in checkpoint: (root).optimizer's state 'v' for (root).transformer.decoder.dec_layers.1.dense_2.bias\n"
          ],
          "name": "stderr"
        },
        {
          "output_type": "stream",
          "text": [
            "WARNING:tensorflow:Unresolved object in checkpoint: (root).optimizer's state 'v' for (root).transformer.decoder.dec_layers.1.norm_3.gamma\n"
          ],
          "name": "stdout"
        },
        {
          "output_type": "stream",
          "text": [
            "WARNING:tensorflow:Unresolved object in checkpoint: (root).optimizer's state 'v' for (root).transformer.decoder.dec_layers.1.norm_3.gamma\n"
          ],
          "name": "stderr"
        },
        {
          "output_type": "stream",
          "text": [
            "WARNING:tensorflow:Unresolved object in checkpoint: (root).optimizer's state 'v' for (root).transformer.decoder.dec_layers.1.norm_3.beta\n"
          ],
          "name": "stdout"
        },
        {
          "output_type": "stream",
          "text": [
            "WARNING:tensorflow:Unresolved object in checkpoint: (root).optimizer's state 'v' for (root).transformer.decoder.dec_layers.1.norm_3.beta\n"
          ],
          "name": "stderr"
        },
        {
          "output_type": "stream",
          "text": [
            "WARNING:tensorflow:Unresolved object in checkpoint: (root).optimizer's state 'v' for (root).transformer.decoder.dec_layers.2.norm_1.gamma\n"
          ],
          "name": "stdout"
        },
        {
          "output_type": "stream",
          "text": [
            "WARNING:tensorflow:Unresolved object in checkpoint: (root).optimizer's state 'v' for (root).transformer.decoder.dec_layers.2.norm_1.gamma\n"
          ],
          "name": "stderr"
        },
        {
          "output_type": "stream",
          "text": [
            "WARNING:tensorflow:Unresolved object in checkpoint: (root).optimizer's state 'v' for (root).transformer.decoder.dec_layers.2.norm_1.beta\n"
          ],
          "name": "stdout"
        },
        {
          "output_type": "stream",
          "text": [
            "WARNING:tensorflow:Unresolved object in checkpoint: (root).optimizer's state 'v' for (root).transformer.decoder.dec_layers.2.norm_1.beta\n"
          ],
          "name": "stderr"
        },
        {
          "output_type": "stream",
          "text": [
            "WARNING:tensorflow:Unresolved object in checkpoint: (root).optimizer's state 'v' for (root).transformer.decoder.dec_layers.2.norm_2.gamma\n"
          ],
          "name": "stdout"
        },
        {
          "output_type": "stream",
          "text": [
            "WARNING:tensorflow:Unresolved object in checkpoint: (root).optimizer's state 'v' for (root).transformer.decoder.dec_layers.2.norm_2.gamma\n"
          ],
          "name": "stderr"
        },
        {
          "output_type": "stream",
          "text": [
            "WARNING:tensorflow:Unresolved object in checkpoint: (root).optimizer's state 'v' for (root).transformer.decoder.dec_layers.2.norm_2.beta\n"
          ],
          "name": "stdout"
        },
        {
          "output_type": "stream",
          "text": [
            "WARNING:tensorflow:Unresolved object in checkpoint: (root).optimizer's state 'v' for (root).transformer.decoder.dec_layers.2.norm_2.beta\n"
          ],
          "name": "stderr"
        },
        {
          "output_type": "stream",
          "text": [
            "WARNING:tensorflow:Unresolved object in checkpoint: (root).optimizer's state 'v' for (root).transformer.decoder.dec_layers.2.dense_1.kernel\n"
          ],
          "name": "stdout"
        },
        {
          "output_type": "stream",
          "text": [
            "WARNING:tensorflow:Unresolved object in checkpoint: (root).optimizer's state 'v' for (root).transformer.decoder.dec_layers.2.dense_1.kernel\n"
          ],
          "name": "stderr"
        },
        {
          "output_type": "stream",
          "text": [
            "WARNING:tensorflow:Unresolved object in checkpoint: (root).optimizer's state 'v' for (root).transformer.decoder.dec_layers.2.dense_1.bias\n"
          ],
          "name": "stdout"
        },
        {
          "output_type": "stream",
          "text": [
            "WARNING:tensorflow:Unresolved object in checkpoint: (root).optimizer's state 'v' for (root).transformer.decoder.dec_layers.2.dense_1.bias\n"
          ],
          "name": "stderr"
        },
        {
          "output_type": "stream",
          "text": [
            "WARNING:tensorflow:Unresolved object in checkpoint: (root).optimizer's state 'v' for (root).transformer.decoder.dec_layers.2.dense_2.kernel\n"
          ],
          "name": "stdout"
        },
        {
          "output_type": "stream",
          "text": [
            "WARNING:tensorflow:Unresolved object in checkpoint: (root).optimizer's state 'v' for (root).transformer.decoder.dec_layers.2.dense_2.kernel\n"
          ],
          "name": "stderr"
        },
        {
          "output_type": "stream",
          "text": [
            "WARNING:tensorflow:Unresolved object in checkpoint: (root).optimizer's state 'v' for (root).transformer.decoder.dec_layers.2.dense_2.bias\n"
          ],
          "name": "stdout"
        },
        {
          "output_type": "stream",
          "text": [
            "WARNING:tensorflow:Unresolved object in checkpoint: (root).optimizer's state 'v' for (root).transformer.decoder.dec_layers.2.dense_2.bias\n"
          ],
          "name": "stderr"
        },
        {
          "output_type": "stream",
          "text": [
            "WARNING:tensorflow:Unresolved object in checkpoint: (root).optimizer's state 'v' for (root).transformer.decoder.dec_layers.2.norm_3.gamma\n"
          ],
          "name": "stdout"
        },
        {
          "output_type": "stream",
          "text": [
            "WARNING:tensorflow:Unresolved object in checkpoint: (root).optimizer's state 'v' for (root).transformer.decoder.dec_layers.2.norm_3.gamma\n"
          ],
          "name": "stderr"
        },
        {
          "output_type": "stream",
          "text": [
            "WARNING:tensorflow:Unresolved object in checkpoint: (root).optimizer's state 'v' for (root).transformer.decoder.dec_layers.2.norm_3.beta\n"
          ],
          "name": "stdout"
        },
        {
          "output_type": "stream",
          "text": [
            "WARNING:tensorflow:Unresolved object in checkpoint: (root).optimizer's state 'v' for (root).transformer.decoder.dec_layers.2.norm_3.beta\n"
          ],
          "name": "stderr"
        },
        {
          "output_type": "stream",
          "text": [
            "WARNING:tensorflow:Unresolved object in checkpoint: (root).optimizer's state 'v' for (root).transformer.decoder.dec_layers.3.norm_1.gamma\n"
          ],
          "name": "stdout"
        },
        {
          "output_type": "stream",
          "text": [
            "WARNING:tensorflow:Unresolved object in checkpoint: (root).optimizer's state 'v' for (root).transformer.decoder.dec_layers.3.norm_1.gamma\n"
          ],
          "name": "stderr"
        },
        {
          "output_type": "stream",
          "text": [
            "WARNING:tensorflow:Unresolved object in checkpoint: (root).optimizer's state 'v' for (root).transformer.decoder.dec_layers.3.norm_1.beta\n"
          ],
          "name": "stdout"
        },
        {
          "output_type": "stream",
          "text": [
            "WARNING:tensorflow:Unresolved object in checkpoint: (root).optimizer's state 'v' for (root).transformer.decoder.dec_layers.3.norm_1.beta\n"
          ],
          "name": "stderr"
        },
        {
          "output_type": "stream",
          "text": [
            "WARNING:tensorflow:Unresolved object in checkpoint: (root).optimizer's state 'v' for (root).transformer.decoder.dec_layers.3.norm_2.gamma\n"
          ],
          "name": "stdout"
        },
        {
          "output_type": "stream",
          "text": [
            "WARNING:tensorflow:Unresolved object in checkpoint: (root).optimizer's state 'v' for (root).transformer.decoder.dec_layers.3.norm_2.gamma\n"
          ],
          "name": "stderr"
        },
        {
          "output_type": "stream",
          "text": [
            "WARNING:tensorflow:Unresolved object in checkpoint: (root).optimizer's state 'v' for (root).transformer.decoder.dec_layers.3.norm_2.beta\n"
          ],
          "name": "stdout"
        },
        {
          "output_type": "stream",
          "text": [
            "WARNING:tensorflow:Unresolved object in checkpoint: (root).optimizer's state 'v' for (root).transformer.decoder.dec_layers.3.norm_2.beta\n"
          ],
          "name": "stderr"
        },
        {
          "output_type": "stream",
          "text": [
            "WARNING:tensorflow:Unresolved object in checkpoint: (root).optimizer's state 'v' for (root).transformer.decoder.dec_layers.3.dense_1.kernel\n"
          ],
          "name": "stdout"
        },
        {
          "output_type": "stream",
          "text": [
            "WARNING:tensorflow:Unresolved object in checkpoint: (root).optimizer's state 'v' for (root).transformer.decoder.dec_layers.3.dense_1.kernel\n"
          ],
          "name": "stderr"
        },
        {
          "output_type": "stream",
          "text": [
            "WARNING:tensorflow:Unresolved object in checkpoint: (root).optimizer's state 'v' for (root).transformer.decoder.dec_layers.3.dense_1.bias\n"
          ],
          "name": "stdout"
        },
        {
          "output_type": "stream",
          "text": [
            "WARNING:tensorflow:Unresolved object in checkpoint: (root).optimizer's state 'v' for (root).transformer.decoder.dec_layers.3.dense_1.bias\n"
          ],
          "name": "stderr"
        },
        {
          "output_type": "stream",
          "text": [
            "WARNING:tensorflow:Unresolved object in checkpoint: (root).optimizer's state 'v' for (root).transformer.decoder.dec_layers.3.dense_2.kernel\n"
          ],
          "name": "stdout"
        },
        {
          "output_type": "stream",
          "text": [
            "WARNING:tensorflow:Unresolved object in checkpoint: (root).optimizer's state 'v' for (root).transformer.decoder.dec_layers.3.dense_2.kernel\n"
          ],
          "name": "stderr"
        },
        {
          "output_type": "stream",
          "text": [
            "WARNING:tensorflow:Unresolved object in checkpoint: (root).optimizer's state 'v' for (root).transformer.decoder.dec_layers.3.dense_2.bias\n"
          ],
          "name": "stdout"
        },
        {
          "output_type": "stream",
          "text": [
            "WARNING:tensorflow:Unresolved object in checkpoint: (root).optimizer's state 'v' for (root).transformer.decoder.dec_layers.3.dense_2.bias\n"
          ],
          "name": "stderr"
        },
        {
          "output_type": "stream",
          "text": [
            "WARNING:tensorflow:Unresolved object in checkpoint: (root).optimizer's state 'v' for (root).transformer.decoder.dec_layers.3.norm_3.gamma\n"
          ],
          "name": "stdout"
        },
        {
          "output_type": "stream",
          "text": [
            "WARNING:tensorflow:Unresolved object in checkpoint: (root).optimizer's state 'v' for (root).transformer.decoder.dec_layers.3.norm_3.gamma\n"
          ],
          "name": "stderr"
        },
        {
          "output_type": "stream",
          "text": [
            "WARNING:tensorflow:Unresolved object in checkpoint: (root).optimizer's state 'v' for (root).transformer.decoder.dec_layers.3.norm_3.beta\n"
          ],
          "name": "stdout"
        },
        {
          "output_type": "stream",
          "text": [
            "WARNING:tensorflow:Unresolved object in checkpoint: (root).optimizer's state 'v' for (root).transformer.decoder.dec_layers.3.norm_3.beta\n"
          ],
          "name": "stderr"
        },
        {
          "output_type": "stream",
          "text": [
            "WARNING:tensorflow:Unresolved object in checkpoint: (root).optimizer's state 'v' for (root).transformer.encoder.enc_layers.0.multi_head_attention.query_lin.kernel\n"
          ],
          "name": "stdout"
        },
        {
          "output_type": "stream",
          "text": [
            "WARNING:tensorflow:Unresolved object in checkpoint: (root).optimizer's state 'v' for (root).transformer.encoder.enc_layers.0.multi_head_attention.query_lin.kernel\n"
          ],
          "name": "stderr"
        },
        {
          "output_type": "stream",
          "text": [
            "WARNING:tensorflow:Unresolved object in checkpoint: (root).optimizer's state 'v' for (root).transformer.encoder.enc_layers.0.multi_head_attention.query_lin.bias\n"
          ],
          "name": "stdout"
        },
        {
          "output_type": "stream",
          "text": [
            "WARNING:tensorflow:Unresolved object in checkpoint: (root).optimizer's state 'v' for (root).transformer.encoder.enc_layers.0.multi_head_attention.query_lin.bias\n"
          ],
          "name": "stderr"
        },
        {
          "output_type": "stream",
          "text": [
            "WARNING:tensorflow:Unresolved object in checkpoint: (root).optimizer's state 'v' for (root).transformer.encoder.enc_layers.0.multi_head_attention.key_lin.kernel\n"
          ],
          "name": "stdout"
        },
        {
          "output_type": "stream",
          "text": [
            "WARNING:tensorflow:Unresolved object in checkpoint: (root).optimizer's state 'v' for (root).transformer.encoder.enc_layers.0.multi_head_attention.key_lin.kernel\n"
          ],
          "name": "stderr"
        },
        {
          "output_type": "stream",
          "text": [
            "WARNING:tensorflow:Unresolved object in checkpoint: (root).optimizer's state 'v' for (root).transformer.encoder.enc_layers.0.multi_head_attention.key_lin.bias\n"
          ],
          "name": "stdout"
        },
        {
          "output_type": "stream",
          "text": [
            "WARNING:tensorflow:Unresolved object in checkpoint: (root).optimizer's state 'v' for (root).transformer.encoder.enc_layers.0.multi_head_attention.key_lin.bias\n"
          ],
          "name": "stderr"
        },
        {
          "output_type": "stream",
          "text": [
            "WARNING:tensorflow:Unresolved object in checkpoint: (root).optimizer's state 'v' for (root).transformer.encoder.enc_layers.0.multi_head_attention.value_lin.kernel\n"
          ],
          "name": "stdout"
        },
        {
          "output_type": "stream",
          "text": [
            "WARNING:tensorflow:Unresolved object in checkpoint: (root).optimizer's state 'v' for (root).transformer.encoder.enc_layers.0.multi_head_attention.value_lin.kernel\n"
          ],
          "name": "stderr"
        },
        {
          "output_type": "stream",
          "text": [
            "WARNING:tensorflow:Unresolved object in checkpoint: (root).optimizer's state 'v' for (root).transformer.encoder.enc_layers.0.multi_head_attention.value_lin.bias\n"
          ],
          "name": "stdout"
        },
        {
          "output_type": "stream",
          "text": [
            "WARNING:tensorflow:Unresolved object in checkpoint: (root).optimizer's state 'v' for (root).transformer.encoder.enc_layers.0.multi_head_attention.value_lin.bias\n"
          ],
          "name": "stderr"
        },
        {
          "output_type": "stream",
          "text": [
            "WARNING:tensorflow:Unresolved object in checkpoint: (root).optimizer's state 'v' for (root).transformer.encoder.enc_layers.0.multi_head_attention.final_lin.kernel\n"
          ],
          "name": "stdout"
        },
        {
          "output_type": "stream",
          "text": [
            "WARNING:tensorflow:Unresolved object in checkpoint: (root).optimizer's state 'v' for (root).transformer.encoder.enc_layers.0.multi_head_attention.final_lin.kernel\n"
          ],
          "name": "stderr"
        },
        {
          "output_type": "stream",
          "text": [
            "WARNING:tensorflow:Unresolved object in checkpoint: (root).optimizer's state 'v' for (root).transformer.encoder.enc_layers.0.multi_head_attention.final_lin.bias\n"
          ],
          "name": "stdout"
        },
        {
          "output_type": "stream",
          "text": [
            "WARNING:tensorflow:Unresolved object in checkpoint: (root).optimizer's state 'v' for (root).transformer.encoder.enc_layers.0.multi_head_attention.final_lin.bias\n"
          ],
          "name": "stderr"
        },
        {
          "output_type": "stream",
          "text": [
            "WARNING:tensorflow:Unresolved object in checkpoint: (root).optimizer's state 'v' for (root).transformer.encoder.enc_layers.1.multi_head_attention.query_lin.kernel\n"
          ],
          "name": "stdout"
        },
        {
          "output_type": "stream",
          "text": [
            "WARNING:tensorflow:Unresolved object in checkpoint: (root).optimizer's state 'v' for (root).transformer.encoder.enc_layers.1.multi_head_attention.query_lin.kernel\n"
          ],
          "name": "stderr"
        },
        {
          "output_type": "stream",
          "text": [
            "WARNING:tensorflow:Unresolved object in checkpoint: (root).optimizer's state 'v' for (root).transformer.encoder.enc_layers.1.multi_head_attention.query_lin.bias\n"
          ],
          "name": "stdout"
        },
        {
          "output_type": "stream",
          "text": [
            "WARNING:tensorflow:Unresolved object in checkpoint: (root).optimizer's state 'v' for (root).transformer.encoder.enc_layers.1.multi_head_attention.query_lin.bias\n"
          ],
          "name": "stderr"
        },
        {
          "output_type": "stream",
          "text": [
            "WARNING:tensorflow:Unresolved object in checkpoint: (root).optimizer's state 'v' for (root).transformer.encoder.enc_layers.1.multi_head_attention.key_lin.kernel\n"
          ],
          "name": "stdout"
        },
        {
          "output_type": "stream",
          "text": [
            "WARNING:tensorflow:Unresolved object in checkpoint: (root).optimizer's state 'v' for (root).transformer.encoder.enc_layers.1.multi_head_attention.key_lin.kernel\n"
          ],
          "name": "stderr"
        },
        {
          "output_type": "stream",
          "text": [
            "WARNING:tensorflow:Unresolved object in checkpoint: (root).optimizer's state 'v' for (root).transformer.encoder.enc_layers.1.multi_head_attention.key_lin.bias\n"
          ],
          "name": "stdout"
        },
        {
          "output_type": "stream",
          "text": [
            "WARNING:tensorflow:Unresolved object in checkpoint: (root).optimizer's state 'v' for (root).transformer.encoder.enc_layers.1.multi_head_attention.key_lin.bias\n"
          ],
          "name": "stderr"
        },
        {
          "output_type": "stream",
          "text": [
            "WARNING:tensorflow:Unresolved object in checkpoint: (root).optimizer's state 'v' for (root).transformer.encoder.enc_layers.1.multi_head_attention.value_lin.kernel\n"
          ],
          "name": "stdout"
        },
        {
          "output_type": "stream",
          "text": [
            "WARNING:tensorflow:Unresolved object in checkpoint: (root).optimizer's state 'v' for (root).transformer.encoder.enc_layers.1.multi_head_attention.value_lin.kernel\n"
          ],
          "name": "stderr"
        },
        {
          "output_type": "stream",
          "text": [
            "WARNING:tensorflow:Unresolved object in checkpoint: (root).optimizer's state 'v' for (root).transformer.encoder.enc_layers.1.multi_head_attention.value_lin.bias\n"
          ],
          "name": "stdout"
        },
        {
          "output_type": "stream",
          "text": [
            "WARNING:tensorflow:Unresolved object in checkpoint: (root).optimizer's state 'v' for (root).transformer.encoder.enc_layers.1.multi_head_attention.value_lin.bias\n"
          ],
          "name": "stderr"
        },
        {
          "output_type": "stream",
          "text": [
            "WARNING:tensorflow:Unresolved object in checkpoint: (root).optimizer's state 'v' for (root).transformer.encoder.enc_layers.1.multi_head_attention.final_lin.kernel\n"
          ],
          "name": "stdout"
        },
        {
          "output_type": "stream",
          "text": [
            "WARNING:tensorflow:Unresolved object in checkpoint: (root).optimizer's state 'v' for (root).transformer.encoder.enc_layers.1.multi_head_attention.final_lin.kernel\n"
          ],
          "name": "stderr"
        },
        {
          "output_type": "stream",
          "text": [
            "WARNING:tensorflow:Unresolved object in checkpoint: (root).optimizer's state 'v' for (root).transformer.encoder.enc_layers.1.multi_head_attention.final_lin.bias\n"
          ],
          "name": "stdout"
        },
        {
          "output_type": "stream",
          "text": [
            "WARNING:tensorflow:Unresolved object in checkpoint: (root).optimizer's state 'v' for (root).transformer.encoder.enc_layers.1.multi_head_attention.final_lin.bias\n"
          ],
          "name": "stderr"
        },
        {
          "output_type": "stream",
          "text": [
            "WARNING:tensorflow:Unresolved object in checkpoint: (root).optimizer's state 'v' for (root).transformer.encoder.enc_layers.2.multi_head_attention.query_lin.kernel\n"
          ],
          "name": "stdout"
        },
        {
          "output_type": "stream",
          "text": [
            "WARNING:tensorflow:Unresolved object in checkpoint: (root).optimizer's state 'v' for (root).transformer.encoder.enc_layers.2.multi_head_attention.query_lin.kernel\n"
          ],
          "name": "stderr"
        },
        {
          "output_type": "stream",
          "text": [
            "WARNING:tensorflow:Unresolved object in checkpoint: (root).optimizer's state 'v' for (root).transformer.encoder.enc_layers.2.multi_head_attention.query_lin.bias\n"
          ],
          "name": "stdout"
        },
        {
          "output_type": "stream",
          "text": [
            "WARNING:tensorflow:Unresolved object in checkpoint: (root).optimizer's state 'v' for (root).transformer.encoder.enc_layers.2.multi_head_attention.query_lin.bias\n"
          ],
          "name": "stderr"
        },
        {
          "output_type": "stream",
          "text": [
            "WARNING:tensorflow:Unresolved object in checkpoint: (root).optimizer's state 'v' for (root).transformer.encoder.enc_layers.2.multi_head_attention.key_lin.kernel\n"
          ],
          "name": "stdout"
        },
        {
          "output_type": "stream",
          "text": [
            "WARNING:tensorflow:Unresolved object in checkpoint: (root).optimizer's state 'v' for (root).transformer.encoder.enc_layers.2.multi_head_attention.key_lin.kernel\n"
          ],
          "name": "stderr"
        },
        {
          "output_type": "stream",
          "text": [
            "WARNING:tensorflow:Unresolved object in checkpoint: (root).optimizer's state 'v' for (root).transformer.encoder.enc_layers.2.multi_head_attention.key_lin.bias\n"
          ],
          "name": "stdout"
        },
        {
          "output_type": "stream",
          "text": [
            "WARNING:tensorflow:Unresolved object in checkpoint: (root).optimizer's state 'v' for (root).transformer.encoder.enc_layers.2.multi_head_attention.key_lin.bias\n"
          ],
          "name": "stderr"
        },
        {
          "output_type": "stream",
          "text": [
            "WARNING:tensorflow:Unresolved object in checkpoint: (root).optimizer's state 'v' for (root).transformer.encoder.enc_layers.2.multi_head_attention.value_lin.kernel\n"
          ],
          "name": "stdout"
        },
        {
          "output_type": "stream",
          "text": [
            "WARNING:tensorflow:Unresolved object in checkpoint: (root).optimizer's state 'v' for (root).transformer.encoder.enc_layers.2.multi_head_attention.value_lin.kernel\n"
          ],
          "name": "stderr"
        },
        {
          "output_type": "stream",
          "text": [
            "WARNING:tensorflow:Unresolved object in checkpoint: (root).optimizer's state 'v' for (root).transformer.encoder.enc_layers.2.multi_head_attention.value_lin.bias\n"
          ],
          "name": "stdout"
        },
        {
          "output_type": "stream",
          "text": [
            "WARNING:tensorflow:Unresolved object in checkpoint: (root).optimizer's state 'v' for (root).transformer.encoder.enc_layers.2.multi_head_attention.value_lin.bias\n"
          ],
          "name": "stderr"
        },
        {
          "output_type": "stream",
          "text": [
            "WARNING:tensorflow:Unresolved object in checkpoint: (root).optimizer's state 'v' for (root).transformer.encoder.enc_layers.2.multi_head_attention.final_lin.kernel\n"
          ],
          "name": "stdout"
        },
        {
          "output_type": "stream",
          "text": [
            "WARNING:tensorflow:Unresolved object in checkpoint: (root).optimizer's state 'v' for (root).transformer.encoder.enc_layers.2.multi_head_attention.final_lin.kernel\n"
          ],
          "name": "stderr"
        },
        {
          "output_type": "stream",
          "text": [
            "WARNING:tensorflow:Unresolved object in checkpoint: (root).optimizer's state 'v' for (root).transformer.encoder.enc_layers.2.multi_head_attention.final_lin.bias\n"
          ],
          "name": "stdout"
        },
        {
          "output_type": "stream",
          "text": [
            "WARNING:tensorflow:Unresolved object in checkpoint: (root).optimizer's state 'v' for (root).transformer.encoder.enc_layers.2.multi_head_attention.final_lin.bias\n"
          ],
          "name": "stderr"
        },
        {
          "output_type": "stream",
          "text": [
            "WARNING:tensorflow:Unresolved object in checkpoint: (root).optimizer's state 'v' for (root).transformer.encoder.enc_layers.3.multi_head_attention.query_lin.kernel\n"
          ],
          "name": "stdout"
        },
        {
          "output_type": "stream",
          "text": [
            "WARNING:tensorflow:Unresolved object in checkpoint: (root).optimizer's state 'v' for (root).transformer.encoder.enc_layers.3.multi_head_attention.query_lin.kernel\n"
          ],
          "name": "stderr"
        },
        {
          "output_type": "stream",
          "text": [
            "WARNING:tensorflow:Unresolved object in checkpoint: (root).optimizer's state 'v' for (root).transformer.encoder.enc_layers.3.multi_head_attention.query_lin.bias\n"
          ],
          "name": "stdout"
        },
        {
          "output_type": "stream",
          "text": [
            "WARNING:tensorflow:Unresolved object in checkpoint: (root).optimizer's state 'v' for (root).transformer.encoder.enc_layers.3.multi_head_attention.query_lin.bias\n"
          ],
          "name": "stderr"
        },
        {
          "output_type": "stream",
          "text": [
            "WARNING:tensorflow:Unresolved object in checkpoint: (root).optimizer's state 'v' for (root).transformer.encoder.enc_layers.3.multi_head_attention.key_lin.kernel\n"
          ],
          "name": "stdout"
        },
        {
          "output_type": "stream",
          "text": [
            "WARNING:tensorflow:Unresolved object in checkpoint: (root).optimizer's state 'v' for (root).transformer.encoder.enc_layers.3.multi_head_attention.key_lin.kernel\n"
          ],
          "name": "stderr"
        },
        {
          "output_type": "stream",
          "text": [
            "WARNING:tensorflow:Unresolved object in checkpoint: (root).optimizer's state 'v' for (root).transformer.encoder.enc_layers.3.multi_head_attention.key_lin.bias\n"
          ],
          "name": "stdout"
        },
        {
          "output_type": "stream",
          "text": [
            "WARNING:tensorflow:Unresolved object in checkpoint: (root).optimizer's state 'v' for (root).transformer.encoder.enc_layers.3.multi_head_attention.key_lin.bias\n"
          ],
          "name": "stderr"
        },
        {
          "output_type": "stream",
          "text": [
            "WARNING:tensorflow:Unresolved object in checkpoint: (root).optimizer's state 'v' for (root).transformer.encoder.enc_layers.3.multi_head_attention.value_lin.kernel\n"
          ],
          "name": "stdout"
        },
        {
          "output_type": "stream",
          "text": [
            "WARNING:tensorflow:Unresolved object in checkpoint: (root).optimizer's state 'v' for (root).transformer.encoder.enc_layers.3.multi_head_attention.value_lin.kernel\n"
          ],
          "name": "stderr"
        },
        {
          "output_type": "stream",
          "text": [
            "WARNING:tensorflow:Unresolved object in checkpoint: (root).optimizer's state 'v' for (root).transformer.encoder.enc_layers.3.multi_head_attention.value_lin.bias\n"
          ],
          "name": "stdout"
        },
        {
          "output_type": "stream",
          "text": [
            "WARNING:tensorflow:Unresolved object in checkpoint: (root).optimizer's state 'v' for (root).transformer.encoder.enc_layers.3.multi_head_attention.value_lin.bias\n"
          ],
          "name": "stderr"
        },
        {
          "output_type": "stream",
          "text": [
            "WARNING:tensorflow:Unresolved object in checkpoint: (root).optimizer's state 'v' for (root).transformer.encoder.enc_layers.3.multi_head_attention.final_lin.kernel\n"
          ],
          "name": "stdout"
        },
        {
          "output_type": "stream",
          "text": [
            "WARNING:tensorflow:Unresolved object in checkpoint: (root).optimizer's state 'v' for (root).transformer.encoder.enc_layers.3.multi_head_attention.final_lin.kernel\n"
          ],
          "name": "stderr"
        },
        {
          "output_type": "stream",
          "text": [
            "WARNING:tensorflow:Unresolved object in checkpoint: (root).optimizer's state 'v' for (root).transformer.encoder.enc_layers.3.multi_head_attention.final_lin.bias\n"
          ],
          "name": "stdout"
        },
        {
          "output_type": "stream",
          "text": [
            "WARNING:tensorflow:Unresolved object in checkpoint: (root).optimizer's state 'v' for (root).transformer.encoder.enc_layers.3.multi_head_attention.final_lin.bias\n"
          ],
          "name": "stderr"
        },
        {
          "output_type": "stream",
          "text": [
            "WARNING:tensorflow:Unresolved object in checkpoint: (root).optimizer's state 'v' for (root).transformer.decoder.dec_layers.0.multi_head_attention_1.query_lin.kernel\n"
          ],
          "name": "stdout"
        },
        {
          "output_type": "stream",
          "text": [
            "WARNING:tensorflow:Unresolved object in checkpoint: (root).optimizer's state 'v' for (root).transformer.decoder.dec_layers.0.multi_head_attention_1.query_lin.kernel\n"
          ],
          "name": "stderr"
        },
        {
          "output_type": "stream",
          "text": [
            "WARNING:tensorflow:Unresolved object in checkpoint: (root).optimizer's state 'v' for (root).transformer.decoder.dec_layers.0.multi_head_attention_1.query_lin.bias\n"
          ],
          "name": "stdout"
        },
        {
          "output_type": "stream",
          "text": [
            "WARNING:tensorflow:Unresolved object in checkpoint: (root).optimizer's state 'v' for (root).transformer.decoder.dec_layers.0.multi_head_attention_1.query_lin.bias\n"
          ],
          "name": "stderr"
        },
        {
          "output_type": "stream",
          "text": [
            "WARNING:tensorflow:Unresolved object in checkpoint: (root).optimizer's state 'v' for (root).transformer.decoder.dec_layers.0.multi_head_attention_1.key_lin.kernel\n"
          ],
          "name": "stdout"
        },
        {
          "output_type": "stream",
          "text": [
            "WARNING:tensorflow:Unresolved object in checkpoint: (root).optimizer's state 'v' for (root).transformer.decoder.dec_layers.0.multi_head_attention_1.key_lin.kernel\n"
          ],
          "name": "stderr"
        },
        {
          "output_type": "stream",
          "text": [
            "WARNING:tensorflow:Unresolved object in checkpoint: (root).optimizer's state 'v' for (root).transformer.decoder.dec_layers.0.multi_head_attention_1.key_lin.bias\n"
          ],
          "name": "stdout"
        },
        {
          "output_type": "stream",
          "text": [
            "WARNING:tensorflow:Unresolved object in checkpoint: (root).optimizer's state 'v' for (root).transformer.decoder.dec_layers.0.multi_head_attention_1.key_lin.bias\n"
          ],
          "name": "stderr"
        },
        {
          "output_type": "stream",
          "text": [
            "WARNING:tensorflow:Unresolved object in checkpoint: (root).optimizer's state 'v' for (root).transformer.decoder.dec_layers.0.multi_head_attention_1.value_lin.kernel\n"
          ],
          "name": "stdout"
        },
        {
          "output_type": "stream",
          "text": [
            "WARNING:tensorflow:Unresolved object in checkpoint: (root).optimizer's state 'v' for (root).transformer.decoder.dec_layers.0.multi_head_attention_1.value_lin.kernel\n"
          ],
          "name": "stderr"
        },
        {
          "output_type": "stream",
          "text": [
            "WARNING:tensorflow:Unresolved object in checkpoint: (root).optimizer's state 'v' for (root).transformer.decoder.dec_layers.0.multi_head_attention_1.value_lin.bias\n"
          ],
          "name": "stdout"
        },
        {
          "output_type": "stream",
          "text": [
            "WARNING:tensorflow:Unresolved object in checkpoint: (root).optimizer's state 'v' for (root).transformer.decoder.dec_layers.0.multi_head_attention_1.value_lin.bias\n"
          ],
          "name": "stderr"
        },
        {
          "output_type": "stream",
          "text": [
            "WARNING:tensorflow:Unresolved object in checkpoint: (root).optimizer's state 'v' for (root).transformer.decoder.dec_layers.0.multi_head_attention_1.final_lin.kernel\n"
          ],
          "name": "stdout"
        },
        {
          "output_type": "stream",
          "text": [
            "WARNING:tensorflow:Unresolved object in checkpoint: (root).optimizer's state 'v' for (root).transformer.decoder.dec_layers.0.multi_head_attention_1.final_lin.kernel\n"
          ],
          "name": "stderr"
        },
        {
          "output_type": "stream",
          "text": [
            "WARNING:tensorflow:Unresolved object in checkpoint: (root).optimizer's state 'v' for (root).transformer.decoder.dec_layers.0.multi_head_attention_1.final_lin.bias\n"
          ],
          "name": "stdout"
        },
        {
          "output_type": "stream",
          "text": [
            "WARNING:tensorflow:Unresolved object in checkpoint: (root).optimizer's state 'v' for (root).transformer.decoder.dec_layers.0.multi_head_attention_1.final_lin.bias\n"
          ],
          "name": "stderr"
        },
        {
          "output_type": "stream",
          "text": [
            "WARNING:tensorflow:Unresolved object in checkpoint: (root).optimizer's state 'v' for (root).transformer.decoder.dec_layers.0.multi_head_attention_2.query_lin.kernel\n"
          ],
          "name": "stdout"
        },
        {
          "output_type": "stream",
          "text": [
            "WARNING:tensorflow:Unresolved object in checkpoint: (root).optimizer's state 'v' for (root).transformer.decoder.dec_layers.0.multi_head_attention_2.query_lin.kernel\n"
          ],
          "name": "stderr"
        },
        {
          "output_type": "stream",
          "text": [
            "WARNING:tensorflow:Unresolved object in checkpoint: (root).optimizer's state 'v' for (root).transformer.decoder.dec_layers.0.multi_head_attention_2.query_lin.bias\n"
          ],
          "name": "stdout"
        },
        {
          "output_type": "stream",
          "text": [
            "WARNING:tensorflow:Unresolved object in checkpoint: (root).optimizer's state 'v' for (root).transformer.decoder.dec_layers.0.multi_head_attention_2.query_lin.bias\n"
          ],
          "name": "stderr"
        },
        {
          "output_type": "stream",
          "text": [
            "WARNING:tensorflow:Unresolved object in checkpoint: (root).optimizer's state 'v' for (root).transformer.decoder.dec_layers.0.multi_head_attention_2.key_lin.kernel\n"
          ],
          "name": "stdout"
        },
        {
          "output_type": "stream",
          "text": [
            "WARNING:tensorflow:Unresolved object in checkpoint: (root).optimizer's state 'v' for (root).transformer.decoder.dec_layers.0.multi_head_attention_2.key_lin.kernel\n"
          ],
          "name": "stderr"
        },
        {
          "output_type": "stream",
          "text": [
            "WARNING:tensorflow:Unresolved object in checkpoint: (root).optimizer's state 'v' for (root).transformer.decoder.dec_layers.0.multi_head_attention_2.key_lin.bias\n"
          ],
          "name": "stdout"
        },
        {
          "output_type": "stream",
          "text": [
            "WARNING:tensorflow:Unresolved object in checkpoint: (root).optimizer's state 'v' for (root).transformer.decoder.dec_layers.0.multi_head_attention_2.key_lin.bias\n"
          ],
          "name": "stderr"
        },
        {
          "output_type": "stream",
          "text": [
            "WARNING:tensorflow:Unresolved object in checkpoint: (root).optimizer's state 'v' for (root).transformer.decoder.dec_layers.0.multi_head_attention_2.value_lin.kernel\n"
          ],
          "name": "stdout"
        },
        {
          "output_type": "stream",
          "text": [
            "WARNING:tensorflow:Unresolved object in checkpoint: (root).optimizer's state 'v' for (root).transformer.decoder.dec_layers.0.multi_head_attention_2.value_lin.kernel\n"
          ],
          "name": "stderr"
        },
        {
          "output_type": "stream",
          "text": [
            "WARNING:tensorflow:Unresolved object in checkpoint: (root).optimizer's state 'v' for (root).transformer.decoder.dec_layers.0.multi_head_attention_2.value_lin.bias\n"
          ],
          "name": "stdout"
        },
        {
          "output_type": "stream",
          "text": [
            "WARNING:tensorflow:Unresolved object in checkpoint: (root).optimizer's state 'v' for (root).transformer.decoder.dec_layers.0.multi_head_attention_2.value_lin.bias\n"
          ],
          "name": "stderr"
        },
        {
          "output_type": "stream",
          "text": [
            "WARNING:tensorflow:Unresolved object in checkpoint: (root).optimizer's state 'v' for (root).transformer.decoder.dec_layers.0.multi_head_attention_2.final_lin.kernel\n"
          ],
          "name": "stdout"
        },
        {
          "output_type": "stream",
          "text": [
            "WARNING:tensorflow:Unresolved object in checkpoint: (root).optimizer's state 'v' for (root).transformer.decoder.dec_layers.0.multi_head_attention_2.final_lin.kernel\n"
          ],
          "name": "stderr"
        },
        {
          "output_type": "stream",
          "text": [
            "WARNING:tensorflow:Unresolved object in checkpoint: (root).optimizer's state 'v' for (root).transformer.decoder.dec_layers.0.multi_head_attention_2.final_lin.bias\n"
          ],
          "name": "stdout"
        },
        {
          "output_type": "stream",
          "text": [
            "WARNING:tensorflow:Unresolved object in checkpoint: (root).optimizer's state 'v' for (root).transformer.decoder.dec_layers.0.multi_head_attention_2.final_lin.bias\n"
          ],
          "name": "stderr"
        },
        {
          "output_type": "stream",
          "text": [
            "WARNING:tensorflow:Unresolved object in checkpoint: (root).optimizer's state 'v' for (root).transformer.decoder.dec_layers.1.multi_head_attention_1.query_lin.kernel\n"
          ],
          "name": "stdout"
        },
        {
          "output_type": "stream",
          "text": [
            "WARNING:tensorflow:Unresolved object in checkpoint: (root).optimizer's state 'v' for (root).transformer.decoder.dec_layers.1.multi_head_attention_1.query_lin.kernel\n"
          ],
          "name": "stderr"
        },
        {
          "output_type": "stream",
          "text": [
            "WARNING:tensorflow:Unresolved object in checkpoint: (root).optimizer's state 'v' for (root).transformer.decoder.dec_layers.1.multi_head_attention_1.query_lin.bias\n"
          ],
          "name": "stdout"
        },
        {
          "output_type": "stream",
          "text": [
            "WARNING:tensorflow:Unresolved object in checkpoint: (root).optimizer's state 'v' for (root).transformer.decoder.dec_layers.1.multi_head_attention_1.query_lin.bias\n"
          ],
          "name": "stderr"
        },
        {
          "output_type": "stream",
          "text": [
            "WARNING:tensorflow:Unresolved object in checkpoint: (root).optimizer's state 'v' for (root).transformer.decoder.dec_layers.1.multi_head_attention_1.key_lin.kernel\n"
          ],
          "name": "stdout"
        },
        {
          "output_type": "stream",
          "text": [
            "WARNING:tensorflow:Unresolved object in checkpoint: (root).optimizer's state 'v' for (root).transformer.decoder.dec_layers.1.multi_head_attention_1.key_lin.kernel\n"
          ],
          "name": "stderr"
        },
        {
          "output_type": "stream",
          "text": [
            "WARNING:tensorflow:Unresolved object in checkpoint: (root).optimizer's state 'v' for (root).transformer.decoder.dec_layers.1.multi_head_attention_1.key_lin.bias\n"
          ],
          "name": "stdout"
        },
        {
          "output_type": "stream",
          "text": [
            "WARNING:tensorflow:Unresolved object in checkpoint: (root).optimizer's state 'v' for (root).transformer.decoder.dec_layers.1.multi_head_attention_1.key_lin.bias\n"
          ],
          "name": "stderr"
        },
        {
          "output_type": "stream",
          "text": [
            "WARNING:tensorflow:Unresolved object in checkpoint: (root).optimizer's state 'v' for (root).transformer.decoder.dec_layers.1.multi_head_attention_1.value_lin.kernel\n"
          ],
          "name": "stdout"
        },
        {
          "output_type": "stream",
          "text": [
            "WARNING:tensorflow:Unresolved object in checkpoint: (root).optimizer's state 'v' for (root).transformer.decoder.dec_layers.1.multi_head_attention_1.value_lin.kernel\n"
          ],
          "name": "stderr"
        },
        {
          "output_type": "stream",
          "text": [
            "WARNING:tensorflow:Unresolved object in checkpoint: (root).optimizer's state 'v' for (root).transformer.decoder.dec_layers.1.multi_head_attention_1.value_lin.bias\n"
          ],
          "name": "stdout"
        },
        {
          "output_type": "stream",
          "text": [
            "WARNING:tensorflow:Unresolved object in checkpoint: (root).optimizer's state 'v' for (root).transformer.decoder.dec_layers.1.multi_head_attention_1.value_lin.bias\n"
          ],
          "name": "stderr"
        },
        {
          "output_type": "stream",
          "text": [
            "WARNING:tensorflow:Unresolved object in checkpoint: (root).optimizer's state 'v' for (root).transformer.decoder.dec_layers.1.multi_head_attention_1.final_lin.kernel\n"
          ],
          "name": "stdout"
        },
        {
          "output_type": "stream",
          "text": [
            "WARNING:tensorflow:Unresolved object in checkpoint: (root).optimizer's state 'v' for (root).transformer.decoder.dec_layers.1.multi_head_attention_1.final_lin.kernel\n"
          ],
          "name": "stderr"
        },
        {
          "output_type": "stream",
          "text": [
            "WARNING:tensorflow:Unresolved object in checkpoint: (root).optimizer's state 'v' for (root).transformer.decoder.dec_layers.1.multi_head_attention_1.final_lin.bias\n"
          ],
          "name": "stdout"
        },
        {
          "output_type": "stream",
          "text": [
            "WARNING:tensorflow:Unresolved object in checkpoint: (root).optimizer's state 'v' for (root).transformer.decoder.dec_layers.1.multi_head_attention_1.final_lin.bias\n"
          ],
          "name": "stderr"
        },
        {
          "output_type": "stream",
          "text": [
            "WARNING:tensorflow:Unresolved object in checkpoint: (root).optimizer's state 'v' for (root).transformer.decoder.dec_layers.1.multi_head_attention_2.query_lin.kernel\n"
          ],
          "name": "stdout"
        },
        {
          "output_type": "stream",
          "text": [
            "WARNING:tensorflow:Unresolved object in checkpoint: (root).optimizer's state 'v' for (root).transformer.decoder.dec_layers.1.multi_head_attention_2.query_lin.kernel\n"
          ],
          "name": "stderr"
        },
        {
          "output_type": "stream",
          "text": [
            "WARNING:tensorflow:Unresolved object in checkpoint: (root).optimizer's state 'v' for (root).transformer.decoder.dec_layers.1.multi_head_attention_2.query_lin.bias\n"
          ],
          "name": "stdout"
        },
        {
          "output_type": "stream",
          "text": [
            "WARNING:tensorflow:Unresolved object in checkpoint: (root).optimizer's state 'v' for (root).transformer.decoder.dec_layers.1.multi_head_attention_2.query_lin.bias\n"
          ],
          "name": "stderr"
        },
        {
          "output_type": "stream",
          "text": [
            "WARNING:tensorflow:Unresolved object in checkpoint: (root).optimizer's state 'v' for (root).transformer.decoder.dec_layers.1.multi_head_attention_2.key_lin.kernel\n"
          ],
          "name": "stdout"
        },
        {
          "output_type": "stream",
          "text": [
            "WARNING:tensorflow:Unresolved object in checkpoint: (root).optimizer's state 'v' for (root).transformer.decoder.dec_layers.1.multi_head_attention_2.key_lin.kernel\n"
          ],
          "name": "stderr"
        },
        {
          "output_type": "stream",
          "text": [
            "WARNING:tensorflow:Unresolved object in checkpoint: (root).optimizer's state 'v' for (root).transformer.decoder.dec_layers.1.multi_head_attention_2.key_lin.bias\n"
          ],
          "name": "stdout"
        },
        {
          "output_type": "stream",
          "text": [
            "WARNING:tensorflow:Unresolved object in checkpoint: (root).optimizer's state 'v' for (root).transformer.decoder.dec_layers.1.multi_head_attention_2.key_lin.bias\n"
          ],
          "name": "stderr"
        },
        {
          "output_type": "stream",
          "text": [
            "WARNING:tensorflow:Unresolved object in checkpoint: (root).optimizer's state 'v' for (root).transformer.decoder.dec_layers.1.multi_head_attention_2.value_lin.kernel\n"
          ],
          "name": "stdout"
        },
        {
          "output_type": "stream",
          "text": [
            "WARNING:tensorflow:Unresolved object in checkpoint: (root).optimizer's state 'v' for (root).transformer.decoder.dec_layers.1.multi_head_attention_2.value_lin.kernel\n"
          ],
          "name": "stderr"
        },
        {
          "output_type": "stream",
          "text": [
            "WARNING:tensorflow:Unresolved object in checkpoint: (root).optimizer's state 'v' for (root).transformer.decoder.dec_layers.1.multi_head_attention_2.value_lin.bias\n"
          ],
          "name": "stdout"
        },
        {
          "output_type": "stream",
          "text": [
            "WARNING:tensorflow:Unresolved object in checkpoint: (root).optimizer's state 'v' for (root).transformer.decoder.dec_layers.1.multi_head_attention_2.value_lin.bias\n"
          ],
          "name": "stderr"
        },
        {
          "output_type": "stream",
          "text": [
            "WARNING:tensorflow:Unresolved object in checkpoint: (root).optimizer's state 'v' for (root).transformer.decoder.dec_layers.1.multi_head_attention_2.final_lin.kernel\n"
          ],
          "name": "stdout"
        },
        {
          "output_type": "stream",
          "text": [
            "WARNING:tensorflow:Unresolved object in checkpoint: (root).optimizer's state 'v' for (root).transformer.decoder.dec_layers.1.multi_head_attention_2.final_lin.kernel\n"
          ],
          "name": "stderr"
        },
        {
          "output_type": "stream",
          "text": [
            "WARNING:tensorflow:Unresolved object in checkpoint: (root).optimizer's state 'v' for (root).transformer.decoder.dec_layers.1.multi_head_attention_2.final_lin.bias\n"
          ],
          "name": "stdout"
        },
        {
          "output_type": "stream",
          "text": [
            "WARNING:tensorflow:Unresolved object in checkpoint: (root).optimizer's state 'v' for (root).transformer.decoder.dec_layers.1.multi_head_attention_2.final_lin.bias\n"
          ],
          "name": "stderr"
        },
        {
          "output_type": "stream",
          "text": [
            "WARNING:tensorflow:Unresolved object in checkpoint: (root).optimizer's state 'v' for (root).transformer.decoder.dec_layers.2.multi_head_attention_1.query_lin.kernel\n"
          ],
          "name": "stdout"
        },
        {
          "output_type": "stream",
          "text": [
            "WARNING:tensorflow:Unresolved object in checkpoint: (root).optimizer's state 'v' for (root).transformer.decoder.dec_layers.2.multi_head_attention_1.query_lin.kernel\n"
          ],
          "name": "stderr"
        },
        {
          "output_type": "stream",
          "text": [
            "WARNING:tensorflow:Unresolved object in checkpoint: (root).optimizer's state 'v' for (root).transformer.decoder.dec_layers.2.multi_head_attention_1.query_lin.bias\n"
          ],
          "name": "stdout"
        },
        {
          "output_type": "stream",
          "text": [
            "WARNING:tensorflow:Unresolved object in checkpoint: (root).optimizer's state 'v' for (root).transformer.decoder.dec_layers.2.multi_head_attention_1.query_lin.bias\n"
          ],
          "name": "stderr"
        },
        {
          "output_type": "stream",
          "text": [
            "WARNING:tensorflow:Unresolved object in checkpoint: (root).optimizer's state 'v' for (root).transformer.decoder.dec_layers.2.multi_head_attention_1.key_lin.kernel\n"
          ],
          "name": "stdout"
        },
        {
          "output_type": "stream",
          "text": [
            "WARNING:tensorflow:Unresolved object in checkpoint: (root).optimizer's state 'v' for (root).transformer.decoder.dec_layers.2.multi_head_attention_1.key_lin.kernel\n"
          ],
          "name": "stderr"
        },
        {
          "output_type": "stream",
          "text": [
            "WARNING:tensorflow:Unresolved object in checkpoint: (root).optimizer's state 'v' for (root).transformer.decoder.dec_layers.2.multi_head_attention_1.key_lin.bias\n"
          ],
          "name": "stdout"
        },
        {
          "output_type": "stream",
          "text": [
            "WARNING:tensorflow:Unresolved object in checkpoint: (root).optimizer's state 'v' for (root).transformer.decoder.dec_layers.2.multi_head_attention_1.key_lin.bias\n"
          ],
          "name": "stderr"
        },
        {
          "output_type": "stream",
          "text": [
            "WARNING:tensorflow:Unresolved object in checkpoint: (root).optimizer's state 'v' for (root).transformer.decoder.dec_layers.2.multi_head_attention_1.value_lin.kernel\n"
          ],
          "name": "stdout"
        },
        {
          "output_type": "stream",
          "text": [
            "WARNING:tensorflow:Unresolved object in checkpoint: (root).optimizer's state 'v' for (root).transformer.decoder.dec_layers.2.multi_head_attention_1.value_lin.kernel\n"
          ],
          "name": "stderr"
        },
        {
          "output_type": "stream",
          "text": [
            "WARNING:tensorflow:Unresolved object in checkpoint: (root).optimizer's state 'v' for (root).transformer.decoder.dec_layers.2.multi_head_attention_1.value_lin.bias\n"
          ],
          "name": "stdout"
        },
        {
          "output_type": "stream",
          "text": [
            "WARNING:tensorflow:Unresolved object in checkpoint: (root).optimizer's state 'v' for (root).transformer.decoder.dec_layers.2.multi_head_attention_1.value_lin.bias\n"
          ],
          "name": "stderr"
        },
        {
          "output_type": "stream",
          "text": [
            "WARNING:tensorflow:Unresolved object in checkpoint: (root).optimizer's state 'v' for (root).transformer.decoder.dec_layers.2.multi_head_attention_1.final_lin.kernel\n"
          ],
          "name": "stdout"
        },
        {
          "output_type": "stream",
          "text": [
            "WARNING:tensorflow:Unresolved object in checkpoint: (root).optimizer's state 'v' for (root).transformer.decoder.dec_layers.2.multi_head_attention_1.final_lin.kernel\n"
          ],
          "name": "stderr"
        },
        {
          "output_type": "stream",
          "text": [
            "WARNING:tensorflow:Unresolved object in checkpoint: (root).optimizer's state 'v' for (root).transformer.decoder.dec_layers.2.multi_head_attention_1.final_lin.bias\n"
          ],
          "name": "stdout"
        },
        {
          "output_type": "stream",
          "text": [
            "WARNING:tensorflow:Unresolved object in checkpoint: (root).optimizer's state 'v' for (root).transformer.decoder.dec_layers.2.multi_head_attention_1.final_lin.bias\n"
          ],
          "name": "stderr"
        },
        {
          "output_type": "stream",
          "text": [
            "WARNING:tensorflow:Unresolved object in checkpoint: (root).optimizer's state 'v' for (root).transformer.decoder.dec_layers.2.multi_head_attention_2.query_lin.kernel\n"
          ],
          "name": "stdout"
        },
        {
          "output_type": "stream",
          "text": [
            "WARNING:tensorflow:Unresolved object in checkpoint: (root).optimizer's state 'v' for (root).transformer.decoder.dec_layers.2.multi_head_attention_2.query_lin.kernel\n"
          ],
          "name": "stderr"
        },
        {
          "output_type": "stream",
          "text": [
            "WARNING:tensorflow:Unresolved object in checkpoint: (root).optimizer's state 'v' for (root).transformer.decoder.dec_layers.2.multi_head_attention_2.query_lin.bias\n"
          ],
          "name": "stdout"
        },
        {
          "output_type": "stream",
          "text": [
            "WARNING:tensorflow:Unresolved object in checkpoint: (root).optimizer's state 'v' for (root).transformer.decoder.dec_layers.2.multi_head_attention_2.query_lin.bias\n"
          ],
          "name": "stderr"
        },
        {
          "output_type": "stream",
          "text": [
            "WARNING:tensorflow:Unresolved object in checkpoint: (root).optimizer's state 'v' for (root).transformer.decoder.dec_layers.2.multi_head_attention_2.key_lin.kernel\n"
          ],
          "name": "stdout"
        },
        {
          "output_type": "stream",
          "text": [
            "WARNING:tensorflow:Unresolved object in checkpoint: (root).optimizer's state 'v' for (root).transformer.decoder.dec_layers.2.multi_head_attention_2.key_lin.kernel\n"
          ],
          "name": "stderr"
        },
        {
          "output_type": "stream",
          "text": [
            "WARNING:tensorflow:Unresolved object in checkpoint: (root).optimizer's state 'v' for (root).transformer.decoder.dec_layers.2.multi_head_attention_2.key_lin.bias\n"
          ],
          "name": "stdout"
        },
        {
          "output_type": "stream",
          "text": [
            "WARNING:tensorflow:Unresolved object in checkpoint: (root).optimizer's state 'v' for (root).transformer.decoder.dec_layers.2.multi_head_attention_2.key_lin.bias\n"
          ],
          "name": "stderr"
        },
        {
          "output_type": "stream",
          "text": [
            "WARNING:tensorflow:Unresolved object in checkpoint: (root).optimizer's state 'v' for (root).transformer.decoder.dec_layers.2.multi_head_attention_2.value_lin.kernel\n"
          ],
          "name": "stdout"
        },
        {
          "output_type": "stream",
          "text": [
            "WARNING:tensorflow:Unresolved object in checkpoint: (root).optimizer's state 'v' for (root).transformer.decoder.dec_layers.2.multi_head_attention_2.value_lin.kernel\n"
          ],
          "name": "stderr"
        },
        {
          "output_type": "stream",
          "text": [
            "WARNING:tensorflow:Unresolved object in checkpoint: (root).optimizer's state 'v' for (root).transformer.decoder.dec_layers.2.multi_head_attention_2.value_lin.bias\n"
          ],
          "name": "stdout"
        },
        {
          "output_type": "stream",
          "text": [
            "WARNING:tensorflow:Unresolved object in checkpoint: (root).optimizer's state 'v' for (root).transformer.decoder.dec_layers.2.multi_head_attention_2.value_lin.bias\n"
          ],
          "name": "stderr"
        },
        {
          "output_type": "stream",
          "text": [
            "WARNING:tensorflow:Unresolved object in checkpoint: (root).optimizer's state 'v' for (root).transformer.decoder.dec_layers.2.multi_head_attention_2.final_lin.kernel\n"
          ],
          "name": "stdout"
        },
        {
          "output_type": "stream",
          "text": [
            "WARNING:tensorflow:Unresolved object in checkpoint: (root).optimizer's state 'v' for (root).transformer.decoder.dec_layers.2.multi_head_attention_2.final_lin.kernel\n"
          ],
          "name": "stderr"
        },
        {
          "output_type": "stream",
          "text": [
            "WARNING:tensorflow:Unresolved object in checkpoint: (root).optimizer's state 'v' for (root).transformer.decoder.dec_layers.2.multi_head_attention_2.final_lin.bias\n"
          ],
          "name": "stdout"
        },
        {
          "output_type": "stream",
          "text": [
            "WARNING:tensorflow:Unresolved object in checkpoint: (root).optimizer's state 'v' for (root).transformer.decoder.dec_layers.2.multi_head_attention_2.final_lin.bias\n"
          ],
          "name": "stderr"
        },
        {
          "output_type": "stream",
          "text": [
            "WARNING:tensorflow:Unresolved object in checkpoint: (root).optimizer's state 'v' for (root).transformer.decoder.dec_layers.3.multi_head_attention_1.query_lin.kernel\n"
          ],
          "name": "stdout"
        },
        {
          "output_type": "stream",
          "text": [
            "WARNING:tensorflow:Unresolved object in checkpoint: (root).optimizer's state 'v' for (root).transformer.decoder.dec_layers.3.multi_head_attention_1.query_lin.kernel\n"
          ],
          "name": "stderr"
        },
        {
          "output_type": "stream",
          "text": [
            "WARNING:tensorflow:Unresolved object in checkpoint: (root).optimizer's state 'v' for (root).transformer.decoder.dec_layers.3.multi_head_attention_1.query_lin.bias\n"
          ],
          "name": "stdout"
        },
        {
          "output_type": "stream",
          "text": [
            "WARNING:tensorflow:Unresolved object in checkpoint: (root).optimizer's state 'v' for (root).transformer.decoder.dec_layers.3.multi_head_attention_1.query_lin.bias\n"
          ],
          "name": "stderr"
        },
        {
          "output_type": "stream",
          "text": [
            "WARNING:tensorflow:Unresolved object in checkpoint: (root).optimizer's state 'v' for (root).transformer.decoder.dec_layers.3.multi_head_attention_1.key_lin.kernel\n"
          ],
          "name": "stdout"
        },
        {
          "output_type": "stream",
          "text": [
            "WARNING:tensorflow:Unresolved object in checkpoint: (root).optimizer's state 'v' for (root).transformer.decoder.dec_layers.3.multi_head_attention_1.key_lin.kernel\n"
          ],
          "name": "stderr"
        },
        {
          "output_type": "stream",
          "text": [
            "WARNING:tensorflow:Unresolved object in checkpoint: (root).optimizer's state 'v' for (root).transformer.decoder.dec_layers.3.multi_head_attention_1.key_lin.bias\n"
          ],
          "name": "stdout"
        },
        {
          "output_type": "stream",
          "text": [
            "WARNING:tensorflow:Unresolved object in checkpoint: (root).optimizer's state 'v' for (root).transformer.decoder.dec_layers.3.multi_head_attention_1.key_lin.bias\n"
          ],
          "name": "stderr"
        },
        {
          "output_type": "stream",
          "text": [
            "WARNING:tensorflow:Unresolved object in checkpoint: (root).optimizer's state 'v' for (root).transformer.decoder.dec_layers.3.multi_head_attention_1.value_lin.kernel\n"
          ],
          "name": "stdout"
        },
        {
          "output_type": "stream",
          "text": [
            "WARNING:tensorflow:Unresolved object in checkpoint: (root).optimizer's state 'v' for (root).transformer.decoder.dec_layers.3.multi_head_attention_1.value_lin.kernel\n"
          ],
          "name": "stderr"
        },
        {
          "output_type": "stream",
          "text": [
            "WARNING:tensorflow:Unresolved object in checkpoint: (root).optimizer's state 'v' for (root).transformer.decoder.dec_layers.3.multi_head_attention_1.value_lin.bias\n"
          ],
          "name": "stdout"
        },
        {
          "output_type": "stream",
          "text": [
            "WARNING:tensorflow:Unresolved object in checkpoint: (root).optimizer's state 'v' for (root).transformer.decoder.dec_layers.3.multi_head_attention_1.value_lin.bias\n"
          ],
          "name": "stderr"
        },
        {
          "output_type": "stream",
          "text": [
            "WARNING:tensorflow:Unresolved object in checkpoint: (root).optimizer's state 'v' for (root).transformer.decoder.dec_layers.3.multi_head_attention_1.final_lin.kernel\n"
          ],
          "name": "stdout"
        },
        {
          "output_type": "stream",
          "text": [
            "WARNING:tensorflow:Unresolved object in checkpoint: (root).optimizer's state 'v' for (root).transformer.decoder.dec_layers.3.multi_head_attention_1.final_lin.kernel\n"
          ],
          "name": "stderr"
        },
        {
          "output_type": "stream",
          "text": [
            "WARNING:tensorflow:Unresolved object in checkpoint: (root).optimizer's state 'v' for (root).transformer.decoder.dec_layers.3.multi_head_attention_1.final_lin.bias\n"
          ],
          "name": "stdout"
        },
        {
          "output_type": "stream",
          "text": [
            "WARNING:tensorflow:Unresolved object in checkpoint: (root).optimizer's state 'v' for (root).transformer.decoder.dec_layers.3.multi_head_attention_1.final_lin.bias\n"
          ],
          "name": "stderr"
        },
        {
          "output_type": "stream",
          "text": [
            "WARNING:tensorflow:Unresolved object in checkpoint: (root).optimizer's state 'v' for (root).transformer.decoder.dec_layers.3.multi_head_attention_2.query_lin.kernel\n"
          ],
          "name": "stdout"
        },
        {
          "output_type": "stream",
          "text": [
            "WARNING:tensorflow:Unresolved object in checkpoint: (root).optimizer's state 'v' for (root).transformer.decoder.dec_layers.3.multi_head_attention_2.query_lin.kernel\n"
          ],
          "name": "stderr"
        },
        {
          "output_type": "stream",
          "text": [
            "WARNING:tensorflow:Unresolved object in checkpoint: (root).optimizer's state 'v' for (root).transformer.decoder.dec_layers.3.multi_head_attention_2.query_lin.bias\n"
          ],
          "name": "stdout"
        },
        {
          "output_type": "stream",
          "text": [
            "WARNING:tensorflow:Unresolved object in checkpoint: (root).optimizer's state 'v' for (root).transformer.decoder.dec_layers.3.multi_head_attention_2.query_lin.bias\n"
          ],
          "name": "stderr"
        },
        {
          "output_type": "stream",
          "text": [
            "WARNING:tensorflow:Unresolved object in checkpoint: (root).optimizer's state 'v' for (root).transformer.decoder.dec_layers.3.multi_head_attention_2.key_lin.kernel\n"
          ],
          "name": "stdout"
        },
        {
          "output_type": "stream",
          "text": [
            "WARNING:tensorflow:Unresolved object in checkpoint: (root).optimizer's state 'v' for (root).transformer.decoder.dec_layers.3.multi_head_attention_2.key_lin.kernel\n"
          ],
          "name": "stderr"
        },
        {
          "output_type": "stream",
          "text": [
            "WARNING:tensorflow:Unresolved object in checkpoint: (root).optimizer's state 'v' for (root).transformer.decoder.dec_layers.3.multi_head_attention_2.key_lin.bias\n"
          ],
          "name": "stdout"
        },
        {
          "output_type": "stream",
          "text": [
            "WARNING:tensorflow:Unresolved object in checkpoint: (root).optimizer's state 'v' for (root).transformer.decoder.dec_layers.3.multi_head_attention_2.key_lin.bias\n"
          ],
          "name": "stderr"
        },
        {
          "output_type": "stream",
          "text": [
            "WARNING:tensorflow:Unresolved object in checkpoint: (root).optimizer's state 'v' for (root).transformer.decoder.dec_layers.3.multi_head_attention_2.value_lin.kernel\n"
          ],
          "name": "stdout"
        },
        {
          "output_type": "stream",
          "text": [
            "WARNING:tensorflow:Unresolved object in checkpoint: (root).optimizer's state 'v' for (root).transformer.decoder.dec_layers.3.multi_head_attention_2.value_lin.kernel\n"
          ],
          "name": "stderr"
        },
        {
          "output_type": "stream",
          "text": [
            "WARNING:tensorflow:Unresolved object in checkpoint: (root).optimizer's state 'v' for (root).transformer.decoder.dec_layers.3.multi_head_attention_2.value_lin.bias\n"
          ],
          "name": "stdout"
        },
        {
          "output_type": "stream",
          "text": [
            "WARNING:tensorflow:Unresolved object in checkpoint: (root).optimizer's state 'v' for (root).transformer.decoder.dec_layers.3.multi_head_attention_2.value_lin.bias\n"
          ],
          "name": "stderr"
        },
        {
          "output_type": "stream",
          "text": [
            "WARNING:tensorflow:Unresolved object in checkpoint: (root).optimizer's state 'v' for (root).transformer.decoder.dec_layers.3.multi_head_attention_2.final_lin.kernel\n"
          ],
          "name": "stdout"
        },
        {
          "output_type": "stream",
          "text": [
            "WARNING:tensorflow:Unresolved object in checkpoint: (root).optimizer's state 'v' for (root).transformer.decoder.dec_layers.3.multi_head_attention_2.final_lin.kernel\n"
          ],
          "name": "stderr"
        },
        {
          "output_type": "stream",
          "text": [
            "WARNING:tensorflow:Unresolved object in checkpoint: (root).optimizer's state 'v' for (root).transformer.decoder.dec_layers.3.multi_head_attention_2.final_lin.bias\n"
          ],
          "name": "stdout"
        },
        {
          "output_type": "stream",
          "text": [
            "WARNING:tensorflow:Unresolved object in checkpoint: (root).optimizer's state 'v' for (root).transformer.decoder.dec_layers.3.multi_head_attention_2.final_lin.bias\n"
          ],
          "name": "stderr"
        },
        {
          "output_type": "stream",
          "text": [
            "WARNING:tensorflow:A checkpoint was restored (e.g. tf.train.Checkpoint.restore or tf.keras.Model.load_weights) but not all checkpointed values were used. See above for specific issues. Use expect_partial() on the load status object, e.g. tf.train.Checkpoint.restore(...).expect_partial(), to silence these warnings, or use assert_consumed() to make the check explicit. See https://www.tensorflow.org/guide/checkpoint#loading_mechanics for details.\n"
          ],
          "name": "stdout"
        },
        {
          "output_type": "stream",
          "text": [
            "WARNING:tensorflow:A checkpoint was restored (e.g. tf.train.Checkpoint.restore or tf.keras.Model.load_weights) but not all checkpointed values were used. See above for specific issues. Use expect_partial() on the load status object, e.g. tf.train.Checkpoint.restore(...).expect_partial(), to silence these warnings, or use assert_consumed() to make the check explicit. See https://www.tensorflow.org/guide/checkpoint#loading_mechanics for details.\n"
          ],
          "name": "stderr"
        },
        {
          "output_type": "stream",
          "text": [
            "Epoch 1 Batch 200 Loss 6.1499 Accuracy 0.0569\n",
            "Epoch 1 Batch 250 Loss 6.0423 Accuracy 0.0598\n",
            "Epoch 1 Batch 300 Loss 5.9154 Accuracy 0.0618\n",
            "Epoch 1 Batch 350 Loss 5.7831 Accuracy 0.0641\n",
            "Epoch 1 Batch 400 Loss 5.6499 Accuracy 0.0705\n",
            "Epoch 1 Batch 450 Loss 5.5249 Accuracy 0.0766\n",
            "Epoch 1 Batch 500 Loss 5.4093 Accuracy 0.0820\n",
            "Epoch 1 Batch 550 Loss 5.2986 Accuracy 0.0876\n",
            "Epoch 1 Batch 600 Loss 5.1970 Accuracy 0.0932\n",
            "Epoch 1 Batch 650 Loss 5.1016 Accuracy 0.0984\n",
            "Epoch 1 Batch 700 Loss 5.0096 Accuracy 0.1034\n",
            "Epoch 1 Batch 750 Loss 4.9260 Accuracy 0.1087\n",
            "Epoch 1 Batch 800 Loss 4.8432 Accuracy 0.1141\n",
            "Epoch 1 Batch 850 Loss 4.7705 Accuracy 0.1189\n",
            "Epoch 1 Batch 900 Loss 4.6993 Accuracy 0.1234\n",
            "Epoch 1 Batch 950 Loss 4.6312 Accuracy 0.1279\n",
            "Epoch 1 Batch 1000 Loss 4.5677 Accuracy 0.1321\n",
            "Epoch 1 Batch 1050 Loss 4.5061 Accuracy 0.1362\n",
            "Epoch 1 Batch 1100 Loss 4.4449 Accuracy 0.1402\n",
            "Epoch 1 Batch 1150 Loss 4.3872 Accuracy 0.1440\n",
            "Epoch 1 Batch 1200 Loss 4.3317 Accuracy 0.1476\n",
            "Epoch 1 Batch 1250 Loss 4.2753 Accuracy 0.1513\n",
            "Epoch 1 Batch 1300 Loss 4.2237 Accuracy 0.1550\n",
            "Epoch 1 Batch 1350 Loss 4.1743 Accuracy 0.1586\n",
            "Epoch 1 Batch 1400 Loss 4.1250 Accuracy 0.1623\n",
            "Epoch 1 Batch 1450 Loss 4.0779 Accuracy 0.1659\n",
            "Epoch 1 Batch 1500 Loss 4.0348 Accuracy 0.1694\n",
            "Epoch 1 Batch 1550 Loss 3.9917 Accuracy 0.1729\n",
            "Epoch 1 Batch 1600 Loss 3.9493 Accuracy 0.1764\n",
            "Epoch 1 Batch 1650 Loss 3.9066 Accuracy 0.1797\n",
            "Epoch 1 Batch 1700 Loss 3.8679 Accuracy 0.1829\n",
            "Epoch 1 Batch 1750 Loss 3.8302 Accuracy 0.1861\n",
            "Epoch 1 Batch 1800 Loss 3.7940 Accuracy 0.1892\n",
            "Epoch 1 Batch 1850 Loss 3.7614 Accuracy 0.1922\n",
            "Epoch 1 Batch 1900 Loss 3.7284 Accuracy 0.1951\n",
            "Epoch 1 Batch 1950 Loss 3.6953 Accuracy 0.1980\n",
            "Epoch 1 Batch 2000 Loss 3.6632 Accuracy 0.2008\n",
            "Epoch 1 Batch 2050 Loss 3.6332 Accuracy 0.2035\n",
            "Epoch 1 Batch 2100 Loss 3.6048 Accuracy 0.2062\n",
            "Epoch 1 Batch 2150 Loss 3.5770 Accuracy 0.2088\n",
            "Epoch 1 Batch 2200 Loss 3.5501 Accuracy 0.2115\n",
            "Epoch 1 Batch 2250 Loss 3.5236 Accuracy 0.2139\n",
            "Epoch 1 Batch 2300 Loss 3.4991 Accuracy 0.2163\n",
            "Epoch 1 Batch 2350 Loss 3.4761 Accuracy 0.2184\n",
            "Epoch 1 Batch 2400 Loss 3.4531 Accuracy 0.2204\n",
            "Epoch 1 Batch 2450 Loss 3.4323 Accuracy 0.2224\n",
            "Epoch 1 Batch 2500 Loss 3.4122 Accuracy 0.2243\n",
            "Epoch 1 Batch 2550 Loss 3.3917 Accuracy 0.2262\n",
            "Epoch 1 Batch 2600 Loss 3.3721 Accuracy 0.2280\n",
            "Epoch 1 Batch 2650 Loss 3.3535 Accuracy 0.2298\n",
            "Epoch 1 Batch 2700 Loss 3.3351 Accuracy 0.2316\n",
            "Epoch 1 Batch 2750 Loss 3.3171 Accuracy 0.2334\n",
            "Epoch 1 Batch 2800 Loss 3.2997 Accuracy 0.2351\n",
            "Epoch 1 Batch 2850 Loss 3.2819 Accuracy 0.2367\n",
            "Epoch 1 Batch 2900 Loss 3.2641 Accuracy 0.2383\n",
            "Epoch 1 Batch 2950 Loss 3.2470 Accuracy 0.2399\n",
            "Epoch 1 Batch 3000 Loss 3.2306 Accuracy 0.2415\n",
            "Epoch 1 Batch 3050 Loss 3.2150 Accuracy 0.2430\n",
            "Epoch 1 Batch 3100 Loss 3.1984 Accuracy 0.2446\n",
            "Epoch 1 Batch 3150 Loss 3.1821 Accuracy 0.2461\n",
            "Epoch 1 Batch 3200 Loss 3.1663 Accuracy 0.2477\n",
            "Epoch 1 Batch 3250 Loss 3.1511 Accuracy 0.2492\n",
            "Saving checkpoint for epoch 1 at /content/drive/My Drive/tradutor/ckpt-11\n",
            "Time taken for 1 epoch 906.3552451133728 secs\n",
            "\n",
            "Start or epoch 2\n",
            "Epoch 2 Batch 0 Loss 2.4699 Accuracy 0.3594\n",
            "Epoch 2 Batch 50 Loss 2.2181 Accuracy 0.3454\n",
            "Epoch 2 Batch 100 Loss 2.1903 Accuracy 0.3474\n",
            "Epoch 2 Batch 150 Loss 2.1795 Accuracy 0.3491\n",
            "Epoch 2 Batch 200 Loss 2.1579 Accuracy 0.3499\n",
            "Epoch 2 Batch 250 Loss 2.1448 Accuracy 0.3522\n",
            "Epoch 2 Batch 300 Loss 2.1471 Accuracy 0.3523\n",
            "Epoch 2 Batch 350 Loss 2.1379 Accuracy 0.3524\n",
            "Epoch 2 Batch 400 Loss 2.1292 Accuracy 0.3520\n",
            "Epoch 2 Batch 450 Loss 2.1179 Accuracy 0.3525\n",
            "Epoch 2 Batch 500 Loss 2.1117 Accuracy 0.3532\n",
            "Epoch 2 Batch 550 Loss 2.1008 Accuracy 0.3536\n",
            "Epoch 2 Batch 600 Loss 2.0889 Accuracy 0.3546\n",
            "Epoch 2 Batch 650 Loss 2.0787 Accuracy 0.3551\n",
            "Epoch 2 Batch 700 Loss 2.0719 Accuracy 0.3556\n",
            "Epoch 2 Batch 750 Loss 2.0641 Accuracy 0.3560\n",
            "Epoch 2 Batch 800 Loss 2.0567 Accuracy 0.3569\n",
            "Epoch 2 Batch 850 Loss 2.0473 Accuracy 0.3575\n",
            "Epoch 2 Batch 900 Loss 2.0361 Accuracy 0.3584\n",
            "Epoch 2 Batch 950 Loss 2.0280 Accuracy 0.3588\n",
            "Epoch 2 Batch 1000 Loss 2.0183 Accuracy 0.3595\n",
            "Epoch 2 Batch 1050 Loss 2.0056 Accuracy 0.3606\n",
            "Epoch 2 Batch 1100 Loss 1.9928 Accuracy 0.3615\n",
            "Epoch 2 Batch 1150 Loss 1.9794 Accuracy 0.3626\n",
            "Epoch 2 Batch 1200 Loss 1.9655 Accuracy 0.3639\n",
            "Epoch 2 Batch 1250 Loss 1.9525 Accuracy 0.3650\n",
            "Epoch 2 Batch 1300 Loss 1.9409 Accuracy 0.3663\n",
            "Epoch 2 Batch 1350 Loss 1.9314 Accuracy 0.3677\n",
            "Epoch 2 Batch 1400 Loss 1.9199 Accuracy 0.3690\n",
            "Epoch 2 Batch 1450 Loss 1.9089 Accuracy 0.3703\n",
            "Epoch 2 Batch 1500 Loss 1.8971 Accuracy 0.3717\n",
            "Epoch 2 Batch 1550 Loss 1.8892 Accuracy 0.3728\n",
            "Epoch 2 Batch 1600 Loss 1.8802 Accuracy 0.3742\n",
            "Epoch 2 Batch 1650 Loss 1.8706 Accuracy 0.3757\n",
            "Epoch 2 Batch 1700 Loss 1.8613 Accuracy 0.3769\n",
            "Epoch 2 Batch 1750 Loss 1.8520 Accuracy 0.3780\n",
            "Epoch 2 Batch 1800 Loss 1.8443 Accuracy 0.3791\n",
            "Epoch 2 Batch 1850 Loss 1.8357 Accuracy 0.3804\n",
            "Epoch 2 Batch 1900 Loss 1.8271 Accuracy 0.3817\n",
            "Epoch 2 Batch 1950 Loss 1.8205 Accuracy 0.3828\n",
            "Epoch 2 Batch 2000 Loss 1.8118 Accuracy 0.3841\n",
            "Epoch 2 Batch 2050 Loss 1.8044 Accuracy 0.3853\n",
            "Epoch 2 Batch 2100 Loss 1.7978 Accuracy 0.3864\n",
            "Epoch 2 Batch 2150 Loss 1.7911 Accuracy 0.3876\n",
            "Epoch 2 Batch 2200 Loss 1.7853 Accuracy 0.3886\n",
            "Epoch 2 Batch 2250 Loss 1.7790 Accuracy 0.3895\n",
            "Epoch 2 Batch 2300 Loss 1.7738 Accuracy 0.3904\n",
            "Epoch 2 Batch 2350 Loss 1.7701 Accuracy 0.3910\n",
            "Epoch 2 Batch 2400 Loss 1.7665 Accuracy 0.3916\n",
            "Epoch 2 Batch 2450 Loss 1.7637 Accuracy 0.3921\n",
            "Epoch 2 Batch 2500 Loss 1.7617 Accuracy 0.3926\n",
            "Epoch 2 Batch 2550 Loss 1.7601 Accuracy 0.3931\n",
            "Epoch 2 Batch 2600 Loss 1.7585 Accuracy 0.3937\n",
            "Epoch 2 Batch 2650 Loss 1.7574 Accuracy 0.3940\n",
            "Epoch 2 Batch 2700 Loss 1.7550 Accuracy 0.3944\n",
            "Epoch 2 Batch 2750 Loss 1.7535 Accuracy 0.3948\n",
            "Epoch 2 Batch 2800 Loss 1.7523 Accuracy 0.3951\n",
            "Epoch 2 Batch 2850 Loss 1.7509 Accuracy 0.3954\n",
            "Epoch 2 Batch 2900 Loss 1.7492 Accuracy 0.3957\n",
            "Epoch 2 Batch 2950 Loss 1.7472 Accuracy 0.3959\n",
            "Epoch 2 Batch 3000 Loss 1.7464 Accuracy 0.3962\n",
            "Epoch 2 Batch 3050 Loss 1.7448 Accuracy 0.3964\n",
            "Epoch 2 Batch 3100 Loss 1.7432 Accuracy 0.3968\n",
            "Epoch 2 Batch 3150 Loss 1.7411 Accuracy 0.3971\n",
            "Epoch 2 Batch 3200 Loss 1.7390 Accuracy 0.3975\n",
            "Epoch 2 Batch 3250 Loss 1.7374 Accuracy 0.3978\n",
            "Saving checkpoint for epoch 2 at /content/drive/My Drive/tradutor/ckpt-12\n",
            "Time taken for 1 epoch 921.5648081302643 secs\n",
            "\n",
            "Start or epoch 3\n",
            "Epoch 3 Batch 0 Loss 1.6733 Accuracy 0.4565\n",
            "Epoch 3 Batch 50 Loss 1.6826 Accuracy 0.4144\n",
            "Epoch 3 Batch 100 Loss 1.6700 Accuracy 0.4146\n",
            "Epoch 3 Batch 150 Loss 1.6541 Accuracy 0.4174\n",
            "Epoch 3 Batch 200 Loss 1.6394 Accuracy 0.4187\n",
            "Epoch 3 Batch 250 Loss 1.6318 Accuracy 0.4187\n",
            "Epoch 3 Batch 300 Loss 1.6211 Accuracy 0.4193\n",
            "Epoch 3 Batch 350 Loss 1.6077 Accuracy 0.4204\n",
            "Epoch 3 Batch 400 Loss 1.5929 Accuracy 0.4209\n",
            "Epoch 3 Batch 450 Loss 1.5849 Accuracy 0.4218\n",
            "Epoch 3 Batch 500 Loss 1.5762 Accuracy 0.4228\n",
            "Epoch 3 Batch 550 Loss 1.5706 Accuracy 0.4233\n",
            "Epoch 3 Batch 600 Loss 1.5647 Accuracy 0.4238\n",
            "Epoch 3 Batch 650 Loss 1.5578 Accuracy 0.4248\n",
            "Epoch 3 Batch 700 Loss 1.5487 Accuracy 0.4249\n",
            "Epoch 3 Batch 750 Loss 1.5398 Accuracy 0.4251\n",
            "Epoch 3 Batch 800 Loss 1.5327 Accuracy 0.4256\n",
            "Epoch 3 Batch 850 Loss 1.5273 Accuracy 0.4259\n",
            "Epoch 3 Batch 900 Loss 1.5226 Accuracy 0.4263\n",
            "Epoch 3 Batch 950 Loss 1.5159 Accuracy 0.4270\n",
            "Epoch 3 Batch 1000 Loss 1.5094 Accuracy 0.4274\n",
            "Epoch 3 Batch 1050 Loss 1.5013 Accuracy 0.4277\n",
            "Epoch 3 Batch 1100 Loss 1.4917 Accuracy 0.4284\n",
            "Epoch 3 Batch 1150 Loss 1.4813 Accuracy 0.4291\n",
            "Epoch 3 Batch 1200 Loss 1.4733 Accuracy 0.4298\n",
            "Epoch 3 Batch 1250 Loss 1.4650 Accuracy 0.4303\n",
            "Epoch 3 Batch 1300 Loss 1.4570 Accuracy 0.4309\n",
            "Epoch 3 Batch 1350 Loss 1.4500 Accuracy 0.4317\n",
            "Epoch 3 Batch 1400 Loss 1.4427 Accuracy 0.4326\n",
            "Epoch 3 Batch 1450 Loss 1.4360 Accuracy 0.4335\n",
            "Epoch 3 Batch 1500 Loss 1.4300 Accuracy 0.4343\n",
            "Epoch 3 Batch 1550 Loss 1.4237 Accuracy 0.4351\n",
            "Epoch 3 Batch 1600 Loss 1.4177 Accuracy 0.4360\n",
            "Epoch 3 Batch 1650 Loss 1.4119 Accuracy 0.4369\n",
            "Epoch 3 Batch 1700 Loss 1.4058 Accuracy 0.4378\n",
            "Epoch 3 Batch 1750 Loss 1.4006 Accuracy 0.4387\n",
            "Epoch 3 Batch 1800 Loss 1.3962 Accuracy 0.4394\n",
            "Epoch 3 Batch 1850 Loss 1.3916 Accuracy 0.4401\n",
            "Epoch 3 Batch 1900 Loss 1.3885 Accuracy 0.4409\n",
            "Epoch 3 Batch 1950 Loss 1.3846 Accuracy 0.4417\n",
            "Epoch 3 Batch 2000 Loss 1.3802 Accuracy 0.4425\n",
            "Epoch 3 Batch 2050 Loss 1.3761 Accuracy 0.4433\n",
            "Epoch 3 Batch 2100 Loss 1.3725 Accuracy 0.4440\n",
            "Epoch 3 Batch 2150 Loss 1.3686 Accuracy 0.4447\n",
            "Epoch 3 Batch 2200 Loss 1.3653 Accuracy 0.4455\n",
            "Epoch 3 Batch 2250 Loss 1.3618 Accuracy 0.4461\n",
            "Epoch 3 Batch 2300 Loss 1.3606 Accuracy 0.4465\n",
            "Epoch 3 Batch 2350 Loss 1.3591 Accuracy 0.4467\n",
            "Epoch 3 Batch 2400 Loss 1.3591 Accuracy 0.4470\n",
            "Epoch 3 Batch 2450 Loss 1.3595 Accuracy 0.4470\n",
            "Epoch 3 Batch 2500 Loss 1.3610 Accuracy 0.4470\n",
            "Epoch 3 Batch 2550 Loss 1.3624 Accuracy 0.4470\n",
            "Epoch 3 Batch 2600 Loss 1.3632 Accuracy 0.4471\n",
            "Epoch 3 Batch 2650 Loss 1.3643 Accuracy 0.4472\n",
            "Epoch 3 Batch 2700 Loss 1.3655 Accuracy 0.4472\n",
            "Epoch 3 Batch 2750 Loss 1.3673 Accuracy 0.4472\n",
            "Epoch 3 Batch 2800 Loss 1.3689 Accuracy 0.4471\n",
            "Epoch 3 Batch 2850 Loss 1.3700 Accuracy 0.4470\n",
            "Epoch 3 Batch 2900 Loss 1.3710 Accuracy 0.4469\n",
            "Epoch 3 Batch 2950 Loss 1.3719 Accuracy 0.4468\n",
            "Epoch 3 Batch 3000 Loss 1.3728 Accuracy 0.4466\n",
            "Epoch 3 Batch 3050 Loss 1.3739 Accuracy 0.4465\n",
            "Epoch 3 Batch 3100 Loss 1.3751 Accuracy 0.4465\n",
            "Epoch 3 Batch 3150 Loss 1.3756 Accuracy 0.4464\n",
            "Epoch 3 Batch 3200 Loss 1.3768 Accuracy 0.4465\n",
            "Epoch 3 Batch 3250 Loss 1.3774 Accuracy 0.4465\n",
            "Saving checkpoint for epoch 3 at /content/drive/My Drive/tradutor/ckpt-13\n",
            "Time taken for 1 epoch 927.3383190631866 secs\n",
            "\n",
            "Start or epoch 4\n",
            "Epoch 4 Batch 0 Loss 1.5984 Accuracy 0.4375\n",
            "Epoch 4 Batch 50 Loss 1.4649 Accuracy 0.4475\n",
            "Epoch 4 Batch 100 Loss 1.4582 Accuracy 0.4457\n",
            "Epoch 4 Batch 150 Loss 1.4447 Accuracy 0.4470\n",
            "Epoch 4 Batch 200 Loss 1.4352 Accuracy 0.4470\n",
            "Epoch 4 Batch 250 Loss 1.4340 Accuracy 0.4471\n",
            "Epoch 4 Batch 300 Loss 1.4208 Accuracy 0.4476\n",
            "Epoch 4 Batch 350 Loss 1.4073 Accuracy 0.4483\n",
            "Epoch 4 Batch 400 Loss 1.3980 Accuracy 0.4492\n",
            "Epoch 4 Batch 450 Loss 1.3921 Accuracy 0.4490\n",
            "Epoch 4 Batch 500 Loss 1.3820 Accuracy 0.4495\n",
            "Epoch 4 Batch 550 Loss 1.3767 Accuracy 0.4495\n",
            "Epoch 4 Batch 600 Loss 1.3704 Accuracy 0.4497\n",
            "Epoch 4 Batch 650 Loss 1.3633 Accuracy 0.4502\n",
            "Epoch 4 Batch 700 Loss 1.3560 Accuracy 0.4509\n",
            "Epoch 4 Batch 750 Loss 1.3497 Accuracy 0.4512\n",
            "Epoch 4 Batch 800 Loss 1.3433 Accuracy 0.4517\n",
            "Epoch 4 Batch 850 Loss 1.3383 Accuracy 0.4521\n",
            "Epoch 4 Batch 900 Loss 1.3356 Accuracy 0.4521\n",
            "Epoch 4 Batch 950 Loss 1.3310 Accuracy 0.4525\n",
            "Epoch 4 Batch 1000 Loss 1.3248 Accuracy 0.4528\n",
            "Epoch 4 Batch 1050 Loss 1.3177 Accuracy 0.4530\n",
            "Epoch 4 Batch 1100 Loss 1.3101 Accuracy 0.4535\n",
            "Epoch 4 Batch 1150 Loss 1.3036 Accuracy 0.4539\n",
            "Epoch 4 Batch 1200 Loss 1.2945 Accuracy 0.4546\n",
            "Epoch 4 Batch 1250 Loss 1.2862 Accuracy 0.4552\n",
            "Epoch 4 Batch 1300 Loss 1.2799 Accuracy 0.4557\n",
            "Epoch 4 Batch 1350 Loss 1.2739 Accuracy 0.4565\n",
            "Epoch 4 Batch 1400 Loss 1.2689 Accuracy 0.4572\n",
            "Epoch 4 Batch 1450 Loss 1.2643 Accuracy 0.4578\n",
            "Epoch 4 Batch 1500 Loss 1.2586 Accuracy 0.4584\n",
            "Epoch 4 Batch 1550 Loss 1.2543 Accuracy 0.4589\n",
            "Epoch 4 Batch 1600 Loss 1.2495 Accuracy 0.4596\n",
            "Epoch 4 Batch 1650 Loss 1.2450 Accuracy 0.4603\n",
            "Epoch 4 Batch 1700 Loss 1.2398 Accuracy 0.4610\n",
            "Epoch 4 Batch 1750 Loss 1.2359 Accuracy 0.4617\n",
            "Epoch 4 Batch 1800 Loss 1.2315 Accuracy 0.4624\n",
            "Epoch 4 Batch 1850 Loss 1.2278 Accuracy 0.4630\n",
            "Epoch 4 Batch 1900 Loss 1.2241 Accuracy 0.4638\n",
            "Epoch 4 Batch 1950 Loss 1.2210 Accuracy 0.4645\n",
            "Epoch 4 Batch 2000 Loss 1.2168 Accuracy 0.4653\n",
            "Epoch 4 Batch 2050 Loss 1.2137 Accuracy 0.4659\n",
            "Epoch 4 Batch 2100 Loss 1.2108 Accuracy 0.4665\n",
            "Epoch 4 Batch 2150 Loss 1.2070 Accuracy 0.4673\n",
            "Epoch 4 Batch 2200 Loss 1.2044 Accuracy 0.4679\n",
            "Epoch 4 Batch 2250 Loss 1.2021 Accuracy 0.4683\n",
            "Epoch 4 Batch 2300 Loss 1.2010 Accuracy 0.4686\n",
            "Epoch 4 Batch 2350 Loss 1.2003 Accuracy 0.4689\n",
            "Epoch 4 Batch 2400 Loss 1.2009 Accuracy 0.4690\n",
            "Epoch 4 Batch 2450 Loss 1.2022 Accuracy 0.4690\n",
            "Epoch 4 Batch 2500 Loss 1.2039 Accuracy 0.4690\n",
            "Epoch 4 Batch 2550 Loss 1.2064 Accuracy 0.4688\n",
            "Epoch 4 Batch 2600 Loss 1.2085 Accuracy 0.4688\n",
            "Epoch 4 Batch 2650 Loss 1.2103 Accuracy 0.4686\n",
            "Epoch 4 Batch 2700 Loss 1.2122 Accuracy 0.4685\n",
            "Epoch 4 Batch 2750 Loss 1.2141 Accuracy 0.4683\n",
            "Epoch 4 Batch 2800 Loss 1.2160 Accuracy 0.4682\n",
            "Epoch 4 Batch 2850 Loss 1.2190 Accuracy 0.4680\n",
            "Epoch 4 Batch 2900 Loss 1.2212 Accuracy 0.4679\n",
            "Epoch 4 Batch 2950 Loss 1.2232 Accuracy 0.4676\n",
            "Epoch 4 Batch 3000 Loss 1.2248 Accuracy 0.4675\n",
            "Epoch 4 Batch 3050 Loss 1.2268 Accuracy 0.4673\n",
            "Epoch 4 Batch 3100 Loss 1.2279 Accuracy 0.4671\n",
            "Epoch 4 Batch 3150 Loss 1.2293 Accuracy 0.4669\n",
            "Epoch 4 Batch 3200 Loss 1.2303 Accuracy 0.4669\n",
            "Epoch 4 Batch 3250 Loss 1.2320 Accuracy 0.4667\n",
            "Saving checkpoint for epoch 4 at /content/drive/My Drive/tradutor/ckpt-14\n",
            "Time taken for 1 epoch 927.4105544090271 secs\n",
            "\n",
            "Start or epoch 5\n",
            "Epoch 5 Batch 0 Loss 1.3272 Accuracy 0.4375\n",
            "Epoch 5 Batch 50 Loss 1.3460 Accuracy 0.4582\n",
            "Epoch 5 Batch 100 Loss 1.3517 Accuracy 0.4577\n",
            "Epoch 5 Batch 150 Loss 1.3368 Accuracy 0.4595\n",
            "Epoch 5 Batch 200 Loss 1.3395 Accuracy 0.4593\n",
            "Epoch 5 Batch 250 Loss 1.3322 Accuracy 0.4606\n",
            "Epoch 5 Batch 300 Loss 1.3234 Accuracy 0.4617\n",
            "Epoch 5 Batch 350 Loss 1.3173 Accuracy 0.4621\n",
            "Epoch 5 Batch 400 Loss 1.3040 Accuracy 0.4620\n",
            "Epoch 5 Batch 450 Loss 1.2953 Accuracy 0.4624\n",
            "Epoch 5 Batch 500 Loss 1.2877 Accuracy 0.4627\n",
            "Epoch 5 Batch 550 Loss 1.2806 Accuracy 0.4633\n",
            "Epoch 5 Batch 600 Loss 1.2758 Accuracy 0.4639\n",
            "Epoch 5 Batch 650 Loss 1.2667 Accuracy 0.4640\n",
            "Epoch 5 Batch 700 Loss 1.2604 Accuracy 0.4639\n",
            "Epoch 5 Batch 750 Loss 1.2559 Accuracy 0.4643\n",
            "Epoch 5 Batch 800 Loss 1.2513 Accuracy 0.4645\n",
            "Epoch 5 Batch 850 Loss 1.2461 Accuracy 0.4650\n",
            "Epoch 5 Batch 900 Loss 1.2423 Accuracy 0.4651\n",
            "Epoch 5 Batch 950 Loss 1.2375 Accuracy 0.4653\n",
            "Epoch 5 Batch 1000 Loss 1.2314 Accuracy 0.4655\n",
            "Epoch 5 Batch 1050 Loss 1.2234 Accuracy 0.4658\n",
            "Epoch 5 Batch 1100 Loss 1.2151 Accuracy 0.4663\n",
            "Epoch 5 Batch 1150 Loss 1.2079 Accuracy 0.4669\n",
            "Epoch 5 Batch 1200 Loss 1.2003 Accuracy 0.4677\n",
            "Epoch 5 Batch 1250 Loss 1.1940 Accuracy 0.4680\n",
            "Epoch 5 Batch 1300 Loss 1.1877 Accuracy 0.4684\n",
            "Epoch 5 Batch 1350 Loss 1.1821 Accuracy 0.4691\n",
            "Epoch 5 Batch 1400 Loss 1.1775 Accuracy 0.4698\n",
            "Epoch 5 Batch 1450 Loss 1.1723 Accuracy 0.4704\n",
            "Epoch 5 Batch 1500 Loss 1.1674 Accuracy 0.4709\n",
            "Epoch 5 Batch 1550 Loss 1.1627 Accuracy 0.4717\n",
            "Epoch 5 Batch 1600 Loss 1.1592 Accuracy 0.4722\n",
            "Epoch 5 Batch 1650 Loss 1.1544 Accuracy 0.4726\n",
            "Epoch 5 Batch 1700 Loss 1.1497 Accuracy 0.4733\n",
            "Epoch 5 Batch 1750 Loss 1.1455 Accuracy 0.4739\n",
            "Epoch 5 Batch 1800 Loss 1.1418 Accuracy 0.4746\n",
            "Epoch 5 Batch 1850 Loss 1.1382 Accuracy 0.4752\n",
            "Epoch 5 Batch 1900 Loss 1.1353 Accuracy 0.4760\n",
            "Epoch 5 Batch 1950 Loss 1.1321 Accuracy 0.4767\n",
            "Epoch 5 Batch 2000 Loss 1.1288 Accuracy 0.4774\n",
            "Epoch 5 Batch 2050 Loss 1.1261 Accuracy 0.4782\n",
            "Epoch 5 Batch 2100 Loss 1.1241 Accuracy 0.4788\n",
            "Epoch 5 Batch 2150 Loss 1.1217 Accuracy 0.4793\n",
            "Epoch 5 Batch 2200 Loss 1.1192 Accuracy 0.4799\n",
            "Epoch 5 Batch 2250 Loss 1.1170 Accuracy 0.4804\n",
            "Epoch 5 Batch 2300 Loss 1.1156 Accuracy 0.4807\n",
            "Epoch 5 Batch 2350 Loss 1.1154 Accuracy 0.4809\n",
            "Epoch 5 Batch 2400 Loss 1.1166 Accuracy 0.4809\n",
            "Epoch 5 Batch 2450 Loss 1.1180 Accuracy 0.4810\n",
            "Epoch 5 Batch 2500 Loss 1.1197 Accuracy 0.4809\n",
            "Epoch 5 Batch 2550 Loss 1.1224 Accuracy 0.4808\n",
            "Epoch 5 Batch 2600 Loss 1.1243 Accuracy 0.4809\n",
            "Epoch 5 Batch 2650 Loss 1.1266 Accuracy 0.4808\n",
            "Epoch 5 Batch 2700 Loss 1.1289 Accuracy 0.4807\n",
            "Epoch 5 Batch 2750 Loss 1.1311 Accuracy 0.4806\n",
            "Epoch 5 Batch 2800 Loss 1.1336 Accuracy 0.4804\n",
            "Epoch 5 Batch 2850 Loss 1.1363 Accuracy 0.4801\n",
            "Epoch 5 Batch 2900 Loss 1.1382 Accuracy 0.4798\n",
            "Epoch 5 Batch 2950 Loss 1.1403 Accuracy 0.4796\n",
            "Epoch 5 Batch 3000 Loss 1.1422 Accuracy 0.4794\n",
            "Epoch 5 Batch 3050 Loss 1.1444 Accuracy 0.4791\n",
            "Epoch 5 Batch 3100 Loss 1.1458 Accuracy 0.4788\n",
            "Epoch 5 Batch 3150 Loss 1.1476 Accuracy 0.4787\n",
            "Epoch 5 Batch 3200 Loss 1.1497 Accuracy 0.4785\n",
            "Epoch 5 Batch 3250 Loss 1.1517 Accuracy 0.4783\n",
            "Saving checkpoint for epoch 5 at /content/drive/My Drive/tradutor/ckpt-15\n",
            "Time taken for 1 epoch 926.3056008815765 secs\n",
            "\n",
            "Start or epoch 6\n",
            "Epoch 6 Batch 0 Loss 1.2452 Accuracy 0.4609\n",
            "Epoch 6 Batch 50 Loss 1.2895 Accuracy 0.4650\n",
            "Epoch 6 Batch 100 Loss 1.2673 Accuracy 0.4665\n",
            "Epoch 6 Batch 150 Loss 1.2653 Accuracy 0.4671\n",
            "Epoch 6 Batch 200 Loss 1.2617 Accuracy 0.4686\n",
            "Epoch 6 Batch 250 Loss 1.2597 Accuracy 0.4694\n",
            "Epoch 6 Batch 300 Loss 1.2545 Accuracy 0.4704\n",
            "Epoch 6 Batch 350 Loss 1.2438 Accuracy 0.4705\n",
            "Epoch 6 Batch 400 Loss 1.2367 Accuracy 0.4709\n",
            "Epoch 6 Batch 450 Loss 1.2274 Accuracy 0.4716\n",
            "Epoch 6 Batch 500 Loss 1.2193 Accuracy 0.4716\n",
            "Epoch 6 Batch 550 Loss 1.2124 Accuracy 0.4717\n",
            "Epoch 6 Batch 600 Loss 1.2071 Accuracy 0.4722\n",
            "Epoch 6 Batch 650 Loss 1.2023 Accuracy 0.4726\n",
            "Epoch 6 Batch 700 Loss 1.1965 Accuracy 0.4732\n",
            "Epoch 6 Batch 750 Loss 1.1919 Accuracy 0.4737\n",
            "Epoch 6 Batch 800 Loss 1.1855 Accuracy 0.4742\n",
            "Epoch 6 Batch 850 Loss 1.1824 Accuracy 0.4743\n",
            "Epoch 6 Batch 900 Loss 1.1772 Accuracy 0.4745\n",
            "Epoch 6 Batch 950 Loss 1.1725 Accuracy 0.4746\n",
            "Epoch 6 Batch 1000 Loss 1.1666 Accuracy 0.4749\n",
            "Epoch 6 Batch 1050 Loss 1.1596 Accuracy 0.4754\n",
            "Epoch 6 Batch 1100 Loss 1.1527 Accuracy 0.4758\n",
            "Epoch 6 Batch 1150 Loss 1.1460 Accuracy 0.4762\n",
            "Epoch 6 Batch 1200 Loss 1.1400 Accuracy 0.4766\n",
            "Epoch 6 Batch 1250 Loss 1.1339 Accuracy 0.4770\n",
            "Epoch 6 Batch 1300 Loss 1.1280 Accuracy 0.4774\n",
            "Epoch 6 Batch 1350 Loss 1.1223 Accuracy 0.4780\n",
            "Epoch 6 Batch 1400 Loss 1.1170 Accuracy 0.4786\n",
            "Epoch 6 Batch 1450 Loss 1.1125 Accuracy 0.4794\n",
            "Epoch 6 Batch 1500 Loss 1.1084 Accuracy 0.4798\n",
            "Epoch 6 Batch 1550 Loss 1.1040 Accuracy 0.4805\n",
            "Epoch 6 Batch 1600 Loss 1.0992 Accuracy 0.4812\n",
            "Epoch 6 Batch 1650 Loss 1.0956 Accuracy 0.4820\n",
            "Epoch 6 Batch 1700 Loss 1.0913 Accuracy 0.4826\n",
            "Epoch 6 Batch 1750 Loss 1.0876 Accuracy 0.4832\n",
            "Epoch 6 Batch 1800 Loss 1.0840 Accuracy 0.4840\n",
            "Epoch 6 Batch 1850 Loss 1.0801 Accuracy 0.4846\n",
            "Epoch 6 Batch 1900 Loss 1.0779 Accuracy 0.4852\n",
            "Epoch 6 Batch 1950 Loss 1.0748 Accuracy 0.4858\n",
            "Epoch 6 Batch 2000 Loss 1.0721 Accuracy 0.4863\n",
            "Epoch 6 Batch 2050 Loss 1.0694 Accuracy 0.4870\n",
            "Epoch 6 Batch 2100 Loss 1.0662 Accuracy 0.4877\n",
            "Epoch 6 Batch 2150 Loss 1.0636 Accuracy 0.4883\n",
            "Epoch 6 Batch 2200 Loss 1.0611 Accuracy 0.4889\n",
            "Epoch 6 Batch 2250 Loss 1.0589 Accuracy 0.4894\n",
            "Epoch 6 Batch 2300 Loss 1.0585 Accuracy 0.4896\n",
            "Epoch 6 Batch 2350 Loss 1.0586 Accuracy 0.4898\n",
            "Epoch 6 Batch 2400 Loss 1.0598 Accuracy 0.4898\n",
            "Epoch 6 Batch 2450 Loss 1.0612 Accuracy 0.4898\n",
            "Epoch 6 Batch 2500 Loss 1.0636 Accuracy 0.4897\n",
            "Epoch 6 Batch 2550 Loss 1.0656 Accuracy 0.4895\n",
            "Epoch 6 Batch 2600 Loss 1.0677 Accuracy 0.4894\n",
            "Epoch 6 Batch 2650 Loss 1.0706 Accuracy 0.4893\n",
            "Epoch 6 Batch 2700 Loss 1.0733 Accuracy 0.4890\n",
            "Epoch 6 Batch 2750 Loss 1.0757 Accuracy 0.4889\n",
            "Epoch 6 Batch 2800 Loss 1.0786 Accuracy 0.4887\n",
            "Epoch 6 Batch 2850 Loss 1.0813 Accuracy 0.4884\n",
            "Epoch 6 Batch 2900 Loss 1.0832 Accuracy 0.4882\n",
            "Epoch 6 Batch 2950 Loss 1.0850 Accuracy 0.4879\n",
            "Epoch 6 Batch 3000 Loss 1.0868 Accuracy 0.4877\n",
            "Epoch 6 Batch 3050 Loss 1.0887 Accuracy 0.4874\n",
            "Epoch 6 Batch 3100 Loss 1.0911 Accuracy 0.4872\n",
            "Epoch 6 Batch 3150 Loss 1.0930 Accuracy 0.4870\n",
            "Epoch 6 Batch 3200 Loss 1.0946 Accuracy 0.4869\n",
            "Epoch 6 Batch 3250 Loss 1.0964 Accuracy 0.4867\n",
            "Saving checkpoint for epoch 6 at /content/drive/My Drive/tradutor/ckpt-16\n",
            "Time taken for 1 epoch 930.5386075973511 secs\n",
            "\n",
            "Start or epoch 7\n",
            "Epoch 7 Batch 0 Loss 1.2482 Accuracy 0.4498\n",
            "Epoch 7 Batch 50 Loss 1.2334 Accuracy 0.4760\n",
            "Epoch 7 Batch 100 Loss 1.2269 Accuracy 0.4764\n",
            "Epoch 7 Batch 150 Loss 1.2205 Accuracy 0.4775\n",
            "Epoch 7 Batch 200 Loss 1.2107 Accuracy 0.4765\n",
            "Epoch 7 Batch 250 Loss 1.2068 Accuracy 0.4772\n",
            "Epoch 7 Batch 300 Loss 1.1995 Accuracy 0.4775\n",
            "Epoch 7 Batch 350 Loss 1.1967 Accuracy 0.4781\n",
            "Epoch 7 Batch 400 Loss 1.1857 Accuracy 0.4787\n",
            "Epoch 7 Batch 450 Loss 1.1794 Accuracy 0.4790\n",
            "Epoch 7 Batch 500 Loss 1.1712 Accuracy 0.4798\n",
            "Epoch 7 Batch 550 Loss 1.1662 Accuracy 0.4802\n",
            "Epoch 7 Batch 600 Loss 1.1616 Accuracy 0.4803\n",
            "Epoch 7 Batch 650 Loss 1.1538 Accuracy 0.4808\n",
            "Epoch 7 Batch 700 Loss 1.1481 Accuracy 0.4809\n",
            "Epoch 7 Batch 750 Loss 1.1442 Accuracy 0.4806\n",
            "Epoch 7 Batch 800 Loss 1.1376 Accuracy 0.4812\n",
            "Epoch 7 Batch 850 Loss 1.1335 Accuracy 0.4816\n",
            "Epoch 7 Batch 900 Loss 1.1297 Accuracy 0.4819\n",
            "Epoch 7 Batch 950 Loss 1.1257 Accuracy 0.4819\n",
            "Epoch 7 Batch 1000 Loss 1.1206 Accuracy 0.4822\n",
            "Epoch 7 Batch 1050 Loss 1.1146 Accuracy 0.4826\n",
            "Epoch 7 Batch 1100 Loss 1.1082 Accuracy 0.4828\n",
            "Epoch 7 Batch 1150 Loss 1.1014 Accuracy 0.4832\n",
            "Epoch 7 Batch 1200 Loss 1.0958 Accuracy 0.4838\n",
            "Epoch 7 Batch 1250 Loss 1.0903 Accuracy 0.4841\n",
            "Epoch 7 Batch 1300 Loss 1.0847 Accuracy 0.4847\n",
            "Epoch 7 Batch 1350 Loss 1.0789 Accuracy 0.4850\n",
            "Epoch 7 Batch 1400 Loss 1.0735 Accuracy 0.4855\n",
            "Epoch 7 Batch 1450 Loss 1.0690 Accuracy 0.4863\n",
            "Epoch 7 Batch 1500 Loss 1.0644 Accuracy 0.4868\n",
            "Epoch 7 Batch 1550 Loss 1.0601 Accuracy 0.4875\n",
            "Epoch 7 Batch 1600 Loss 1.0563 Accuracy 0.4882\n",
            "Epoch 7 Batch 1650 Loss 1.0521 Accuracy 0.4887\n",
            "Epoch 7 Batch 1700 Loss 1.0487 Accuracy 0.4894\n",
            "Epoch 7 Batch 1750 Loss 1.0449 Accuracy 0.4901\n",
            "Epoch 7 Batch 1800 Loss 1.0404 Accuracy 0.4907\n",
            "Epoch 7 Batch 1850 Loss 1.0370 Accuracy 0.4912\n",
            "Epoch 7 Batch 1900 Loss 1.0343 Accuracy 0.4918\n",
            "Epoch 7 Batch 1950 Loss 1.0309 Accuracy 0.4924\n",
            "Epoch 7 Batch 2000 Loss 1.0279 Accuracy 0.4929\n",
            "Epoch 7 Batch 2050 Loss 1.0253 Accuracy 0.4935\n",
            "Epoch 7 Batch 2100 Loss 1.0227 Accuracy 0.4942\n",
            "Epoch 7 Batch 2150 Loss 1.0208 Accuracy 0.4947\n",
            "Epoch 7 Batch 2200 Loss 1.0182 Accuracy 0.4953\n",
            "Epoch 7 Batch 2250 Loss 1.0162 Accuracy 0.4957\n",
            "Epoch 7 Batch 2300 Loss 1.0159 Accuracy 0.4961\n",
            "Epoch 7 Batch 2350 Loss 1.0156 Accuracy 0.4963\n",
            "Epoch 7 Batch 2400 Loss 1.0168 Accuracy 0.4962\n",
            "Epoch 7 Batch 2450 Loss 1.0181 Accuracy 0.4961\n",
            "Epoch 7 Batch 2500 Loss 1.0199 Accuracy 0.4960\n",
            "Epoch 7 Batch 2550 Loss 1.0223 Accuracy 0.4957\n",
            "Epoch 7 Batch 2600 Loss 1.0243 Accuracy 0.4956\n",
            "Epoch 7 Batch 2650 Loss 1.0265 Accuracy 0.4954\n",
            "Epoch 7 Batch 2700 Loss 1.0297 Accuracy 0.4953\n",
            "Epoch 7 Batch 2750 Loss 1.0326 Accuracy 0.4951\n",
            "Epoch 7 Batch 2800 Loss 1.0354 Accuracy 0.4950\n",
            "Epoch 7 Batch 2850 Loss 1.0381 Accuracy 0.4948\n",
            "Epoch 7 Batch 2900 Loss 1.0405 Accuracy 0.4945\n",
            "Epoch 7 Batch 2950 Loss 1.0432 Accuracy 0.4941\n",
            "Epoch 7 Batch 3000 Loss 1.0455 Accuracy 0.4939\n",
            "Epoch 7 Batch 3050 Loss 1.0480 Accuracy 0.4937\n",
            "Epoch 7 Batch 3100 Loss 1.0495 Accuracy 0.4935\n",
            "Epoch 7 Batch 3150 Loss 1.0515 Accuracy 0.4932\n",
            "Epoch 7 Batch 3200 Loss 1.0535 Accuracy 0.4931\n",
            "Epoch 7 Batch 3250 Loss 1.0551 Accuracy 0.4929\n",
            "Saving checkpoint for epoch 7 at /content/drive/My Drive/tradutor/ckpt-17\n",
            "Time taken for 1 epoch 924.2085404396057 secs\n",
            "\n",
            "Start or epoch 8\n",
            "Epoch 8 Batch 0 Loss 1.1852 Accuracy 0.4688\n",
            "Epoch 8 Batch 50 Loss 1.1843 Accuracy 0.4850\n",
            "Epoch 8 Batch 100 Loss 1.1888 Accuracy 0.4818\n",
            "Epoch 8 Batch 150 Loss 1.1837 Accuracy 0.4818\n",
            "Epoch 8 Batch 200 Loss 1.1756 Accuracy 0.4820\n",
            "Epoch 8 Batch 250 Loss 1.1751 Accuracy 0.4812\n",
            "Epoch 8 Batch 300 Loss 1.1663 Accuracy 0.4812\n",
            "Epoch 8 Batch 350 Loss 1.1619 Accuracy 0.4820\n",
            "Epoch 8 Batch 400 Loss 1.1525 Accuracy 0.4818\n",
            "Epoch 8 Batch 450 Loss 1.1434 Accuracy 0.4823\n",
            "Epoch 8 Batch 500 Loss 1.1377 Accuracy 0.4829\n",
            "Epoch 8 Batch 550 Loss 1.1339 Accuracy 0.4830\n",
            "Epoch 8 Batch 600 Loss 1.1277 Accuracy 0.4838\n",
            "Epoch 8 Batch 650 Loss 1.1220 Accuracy 0.4844\n",
            "Epoch 8 Batch 700 Loss 1.1154 Accuracy 0.4847\n",
            "Epoch 8 Batch 750 Loss 1.1103 Accuracy 0.4852\n",
            "Epoch 8 Batch 800 Loss 1.1063 Accuracy 0.4858\n",
            "Epoch 8 Batch 850 Loss 1.1017 Accuracy 0.4863\n",
            "Epoch 8 Batch 900 Loss 1.0987 Accuracy 0.4866\n",
            "Epoch 8 Batch 950 Loss 1.0937 Accuracy 0.4869\n",
            "Epoch 8 Batch 1000 Loss 1.0892 Accuracy 0.4872\n",
            "Epoch 8 Batch 1050 Loss 1.0830 Accuracy 0.4876\n",
            "Epoch 8 Batch 1100 Loss 1.0764 Accuracy 0.4880\n",
            "Epoch 8 Batch 1150 Loss 1.0678 Accuracy 0.4887\n",
            "Epoch 8 Batch 1200 Loss 1.0614 Accuracy 0.4889\n",
            "Epoch 8 Batch 1250 Loss 1.0550 Accuracy 0.4892\n",
            "Epoch 8 Batch 1300 Loss 1.0495 Accuracy 0.4897\n",
            "Epoch 8 Batch 1350 Loss 1.0440 Accuracy 0.4902\n",
            "Epoch 8 Batch 1400 Loss 1.0387 Accuracy 0.4908\n",
            "Epoch 8 Batch 1450 Loss 1.0340 Accuracy 0.4916\n",
            "Epoch 8 Batch 1500 Loss 1.0301 Accuracy 0.4920\n",
            "Epoch 8 Batch 1550 Loss 1.0263 Accuracy 0.4926\n",
            "Epoch 8 Batch 1600 Loss 1.0226 Accuracy 0.4931\n",
            "Epoch 8 Batch 1650 Loss 1.0180 Accuracy 0.4937\n",
            "Epoch 8 Batch 1700 Loss 1.0138 Accuracy 0.4941\n",
            "Epoch 8 Batch 1750 Loss 1.0099 Accuracy 0.4948\n",
            "Epoch 8 Batch 1800 Loss 1.0068 Accuracy 0.4954\n",
            "Epoch 8 Batch 1850 Loss 1.0044 Accuracy 0.4960\n",
            "Epoch 8 Batch 1900 Loss 1.0021 Accuracy 0.4965\n",
            "Epoch 8 Batch 1950 Loss 0.9986 Accuracy 0.4970\n",
            "Epoch 8 Batch 2000 Loss 0.9962 Accuracy 0.4976\n",
            "Epoch 8 Batch 2050 Loss 0.9937 Accuracy 0.4982\n",
            "Epoch 8 Batch 2100 Loss 0.9916 Accuracy 0.4989\n",
            "Epoch 8 Batch 2150 Loss 0.9887 Accuracy 0.4996\n",
            "Epoch 8 Batch 2200 Loss 0.9863 Accuracy 0.5001\n",
            "Epoch 8 Batch 2250 Loss 0.9847 Accuracy 0.5005\n",
            "Epoch 8 Batch 2300 Loss 0.9841 Accuracy 0.5008\n",
            "Epoch 8 Batch 2350 Loss 0.9847 Accuracy 0.5009\n",
            "Epoch 8 Batch 2400 Loss 0.9857 Accuracy 0.5010\n",
            "Epoch 8 Batch 2450 Loss 0.9868 Accuracy 0.5010\n",
            "Epoch 8 Batch 2500 Loss 0.9888 Accuracy 0.5008\n",
            "Epoch 8 Batch 2550 Loss 0.9916 Accuracy 0.5006\n",
            "Epoch 8 Batch 2600 Loss 0.9936 Accuracy 0.5004\n",
            "Epoch 8 Batch 2650 Loss 0.9961 Accuracy 0.5002\n",
            "Epoch 8 Batch 2700 Loss 0.9985 Accuracy 0.5001\n",
            "Epoch 8 Batch 2750 Loss 1.0007 Accuracy 0.4998\n",
            "Epoch 8 Batch 2800 Loss 1.0034 Accuracy 0.4996\n",
            "Epoch 8 Batch 2850 Loss 1.0063 Accuracy 0.4994\n",
            "Epoch 8 Batch 2900 Loss 1.0088 Accuracy 0.4992\n",
            "Epoch 8 Batch 2950 Loss 1.0111 Accuracy 0.4988\n",
            "Epoch 8 Batch 3000 Loss 1.0137 Accuracy 0.4985\n",
            "Epoch 8 Batch 3050 Loss 1.0159 Accuracy 0.4983\n",
            "Epoch 8 Batch 3100 Loss 1.0183 Accuracy 0.4981\n",
            "Epoch 8 Batch 3150 Loss 1.0201 Accuracy 0.4979\n",
            "Epoch 8 Batch 3200 Loss 1.0221 Accuracy 0.4977\n",
            "Epoch 8 Batch 3250 Loss 1.0239 Accuracy 0.4974\n",
            "Saving checkpoint for epoch 8 at /content/drive/My Drive/tradutor/ckpt-18\n",
            "Time taken for 1 epoch 930.1717348098755 secs\n",
            "\n",
            "Start or epoch 9\n",
            "Epoch 9 Batch 0 Loss 1.0212 Accuracy 0.4967\n",
            "Epoch 9 Batch 50 Loss 1.1871 Accuracy 0.4870\n",
            "Epoch 9 Batch 100 Loss 1.1642 Accuracy 0.4847\n",
            "Epoch 9 Batch 150 Loss 1.1556 Accuracy 0.4856\n",
            "Epoch 9 Batch 200 Loss 1.1500 Accuracy 0.4861\n",
            "Epoch 9 Batch 250 Loss 1.1430 Accuracy 0.4863\n",
            "Epoch 9 Batch 300 Loss 1.1376 Accuracy 0.4867\n",
            "Epoch 9 Batch 350 Loss 1.1282 Accuracy 0.4865\n",
            "Epoch 9 Batch 400 Loss 1.1237 Accuracy 0.4869\n",
            "Epoch 9 Batch 450 Loss 1.1153 Accuracy 0.4871\n",
            "Epoch 9 Batch 500 Loss 1.1094 Accuracy 0.4876\n",
            "Epoch 9 Batch 550 Loss 1.1012 Accuracy 0.4875\n",
            "Epoch 9 Batch 600 Loss 1.0965 Accuracy 0.4885\n",
            "Epoch 9 Batch 650 Loss 1.0910 Accuracy 0.4891\n",
            "Epoch 9 Batch 700 Loss 1.0847 Accuracy 0.4894\n",
            "Epoch 9 Batch 750 Loss 1.0807 Accuracy 0.4898\n",
            "Epoch 9 Batch 800 Loss 1.0765 Accuracy 0.4902\n",
            "Epoch 9 Batch 850 Loss 1.0708 Accuracy 0.4905\n",
            "Epoch 9 Batch 900 Loss 1.0673 Accuracy 0.4909\n",
            "Epoch 9 Batch 950 Loss 1.0618 Accuracy 0.4913\n",
            "Epoch 9 Batch 1000 Loss 1.0570 Accuracy 0.4913\n",
            "Epoch 9 Batch 1050 Loss 1.0508 Accuracy 0.4918\n",
            "Epoch 9 Batch 1100 Loss 1.0440 Accuracy 0.4923\n",
            "Epoch 9 Batch 1150 Loss 1.0366 Accuracy 0.4923\n",
            "Epoch 9 Batch 1200 Loss 1.0309 Accuracy 0.4926\n",
            "Epoch 9 Batch 1250 Loss 1.0251 Accuracy 0.4929\n",
            "Epoch 9 Batch 1300 Loss 1.0197 Accuracy 0.4934\n",
            "Epoch 9 Batch 1350 Loss 1.0158 Accuracy 0.4940\n",
            "Epoch 9 Batch 1400 Loss 1.0107 Accuracy 0.4948\n",
            "Epoch 9 Batch 1450 Loss 1.0055 Accuracy 0.4955\n",
            "Epoch 9 Batch 1500 Loss 1.0008 Accuracy 0.4962\n",
            "Epoch 9 Batch 1550 Loss 0.9973 Accuracy 0.4968\n",
            "Epoch 9 Batch 1600 Loss 0.9941 Accuracy 0.4975\n",
            "Epoch 9 Batch 1650 Loss 0.9907 Accuracy 0.4980\n",
            "Epoch 9 Batch 1700 Loss 0.9868 Accuracy 0.4987\n",
            "Epoch 9 Batch 1750 Loss 0.9832 Accuracy 0.4992\n",
            "Epoch 9 Batch 1800 Loss 0.9789 Accuracy 0.4997\n",
            "Epoch 9 Batch 1850 Loss 0.9762 Accuracy 0.5003\n",
            "Epoch 9 Batch 1900 Loss 0.9731 Accuracy 0.5009\n",
            "Epoch 9 Batch 1950 Loss 0.9709 Accuracy 0.5014\n",
            "Epoch 9 Batch 2000 Loss 0.9683 Accuracy 0.5020\n",
            "Epoch 9 Batch 2050 Loss 0.9652 Accuracy 0.5027\n",
            "Epoch 9 Batch 2100 Loss 0.9624 Accuracy 0.5034\n",
            "Epoch 9 Batch 2150 Loss 0.9604 Accuracy 0.5040\n",
            "Epoch 9 Batch 2200 Loss 0.9583 Accuracy 0.5046\n",
            "Epoch 9 Batch 2250 Loss 0.9558 Accuracy 0.5049\n",
            "Epoch 9 Batch 2300 Loss 0.9552 Accuracy 0.5051\n",
            "Epoch 9 Batch 2350 Loss 0.9555 Accuracy 0.5053\n",
            "Epoch 9 Batch 2400 Loss 0.9568 Accuracy 0.5052\n",
            "Epoch 9 Batch 2450 Loss 0.9582 Accuracy 0.5051\n",
            "Epoch 9 Batch 2500 Loss 0.9605 Accuracy 0.5051\n",
            "Epoch 9 Batch 2550 Loss 0.9633 Accuracy 0.5050\n",
            "Epoch 9 Batch 2600 Loss 0.9658 Accuracy 0.5048\n",
            "Epoch 9 Batch 2650 Loss 0.9686 Accuracy 0.5048\n",
            "Epoch 9 Batch 2700 Loss 0.9712 Accuracy 0.5046\n",
            "Epoch 9 Batch 2750 Loss 0.9744 Accuracy 0.5043\n",
            "Epoch 9 Batch 2800 Loss 0.9771 Accuracy 0.5042\n",
            "Epoch 9 Batch 2850 Loss 0.9796 Accuracy 0.5039\n",
            "Epoch 9 Batch 2900 Loss 0.9816 Accuracy 0.5036\n",
            "Epoch 9 Batch 2950 Loss 0.9842 Accuracy 0.5033\n",
            "Epoch 9 Batch 3000 Loss 0.9862 Accuracy 0.5030\n",
            "Epoch 9 Batch 3050 Loss 0.9882 Accuracy 0.5028\n",
            "Epoch 9 Batch 3100 Loss 0.9905 Accuracy 0.5026\n",
            "Epoch 9 Batch 3150 Loss 0.9926 Accuracy 0.5023\n",
            "Epoch 9 Batch 3200 Loss 0.9944 Accuracy 0.5021\n",
            "Epoch 9 Batch 3250 Loss 0.9964 Accuracy 0.5018\n",
            "Saving checkpoint for epoch 9 at /content/drive/My Drive/tradutor/ckpt-19\n",
            "Time taken for 1 epoch 934.1424126625061 secs\n",
            "\n",
            "Start or epoch 10\n",
            "Epoch 10 Batch 0 Loss 1.1516 Accuracy 0.4565\n",
            "Epoch 10 Batch 50 Loss 1.1704 Accuracy 0.4912\n",
            "Epoch 10 Batch 100 Loss 1.1496 Accuracy 0.4887\n",
            "Epoch 10 Batch 150 Loss 1.1428 Accuracy 0.4892\n",
            "Epoch 10 Batch 200 Loss 1.1367 Accuracy 0.4894\n",
            "Epoch 10 Batch 250 Loss 1.1320 Accuracy 0.4910\n",
            "Epoch 10 Batch 300 Loss 1.1232 Accuracy 0.4914\n",
            "Epoch 10 Batch 350 Loss 1.1125 Accuracy 0.4917\n",
            "Epoch 10 Batch 400 Loss 1.1021 Accuracy 0.4925\n",
            "Epoch 10 Batch 450 Loss 1.0934 Accuracy 0.4918\n",
            "Epoch 10 Batch 500 Loss 1.0862 Accuracy 0.4927\n",
            "Epoch 10 Batch 550 Loss 1.0782 Accuracy 0.4927\n",
            "Epoch 10 Batch 600 Loss 1.0715 Accuracy 0.4934\n",
            "Epoch 10 Batch 650 Loss 1.0673 Accuracy 0.4937\n",
            "Epoch 10 Batch 700 Loss 1.0614 Accuracy 0.4943\n",
            "Epoch 10 Batch 750 Loss 1.0558 Accuracy 0.4943\n",
            "Epoch 10 Batch 800 Loss 1.0500 Accuracy 0.4950\n",
            "Epoch 10 Batch 850 Loss 1.0456 Accuracy 0.4952\n",
            "Epoch 10 Batch 900 Loss 1.0422 Accuracy 0.4953\n",
            "Epoch 10 Batch 950 Loss 1.0377 Accuracy 0.4954\n",
            "Epoch 10 Batch 1000 Loss 1.0327 Accuracy 0.4954\n",
            "Epoch 10 Batch 1050 Loss 1.0275 Accuracy 0.4957\n",
            "Epoch 10 Batch 1100 Loss 1.0208 Accuracy 0.4959\n",
            "Epoch 10 Batch 1150 Loss 1.0146 Accuracy 0.4963\n",
            "Epoch 10 Batch 1200 Loss 1.0084 Accuracy 0.4968\n",
            "Epoch 10 Batch 1250 Loss 1.0019 Accuracy 0.4972\n",
            "Epoch 10 Batch 1300 Loss 0.9967 Accuracy 0.4975\n",
            "Epoch 10 Batch 1350 Loss 0.9910 Accuracy 0.4980\n",
            "Epoch 10 Batch 1400 Loss 0.9857 Accuracy 0.4984\n",
            "Epoch 10 Batch 1450 Loss 0.9818 Accuracy 0.4989\n",
            "Epoch 10 Batch 1500 Loss 0.9779 Accuracy 0.4996\n",
            "Epoch 10 Batch 1550 Loss 0.9741 Accuracy 0.5001\n",
            "Epoch 10 Batch 1600 Loss 0.9703 Accuracy 0.5008\n",
            "Epoch 10 Batch 1650 Loss 0.9662 Accuracy 0.5015\n",
            "Epoch 10 Batch 1700 Loss 0.9627 Accuracy 0.5022\n",
            "Epoch 10 Batch 1750 Loss 0.9590 Accuracy 0.5027\n",
            "Epoch 10 Batch 1800 Loss 0.9563 Accuracy 0.5032\n",
            "Epoch 10 Batch 1850 Loss 0.9536 Accuracy 0.5038\n",
            "Epoch 10 Batch 1900 Loss 0.9513 Accuracy 0.5044\n",
            "Epoch 10 Batch 1950 Loss 0.9487 Accuracy 0.5052\n",
            "Epoch 10 Batch 2000 Loss 0.9459 Accuracy 0.5058\n",
            "Epoch 10 Batch 2050 Loss 0.9431 Accuracy 0.5066\n",
            "Epoch 10 Batch 2100 Loss 0.9410 Accuracy 0.5071\n",
            "Epoch 10 Batch 2150 Loss 0.9395 Accuracy 0.5076\n",
            "Epoch 10 Batch 2200 Loss 0.9366 Accuracy 0.5081\n",
            "Epoch 10 Batch 2250 Loss 0.9356 Accuracy 0.5084\n",
            "Epoch 10 Batch 2300 Loss 0.9351 Accuracy 0.5086\n",
            "Epoch 10 Batch 2350 Loss 0.9356 Accuracy 0.5088\n",
            "Epoch 10 Batch 2400 Loss 0.9370 Accuracy 0.5089\n",
            "Epoch 10 Batch 2450 Loss 0.9385 Accuracy 0.5088\n",
            "Epoch 10 Batch 2500 Loss 0.9405 Accuracy 0.5086\n",
            "Epoch 10 Batch 2550 Loss 0.9429 Accuracy 0.5084\n",
            "Epoch 10 Batch 2600 Loss 0.9454 Accuracy 0.5083\n",
            "Epoch 10 Batch 2650 Loss 0.9479 Accuracy 0.5081\n",
            "Epoch 10 Batch 2700 Loss 0.9501 Accuracy 0.5080\n",
            "Epoch 10 Batch 2750 Loss 0.9524 Accuracy 0.5078\n",
            "Epoch 10 Batch 2800 Loss 0.9552 Accuracy 0.5076\n",
            "Epoch 10 Batch 2850 Loss 0.9578 Accuracy 0.5074\n",
            "Epoch 10 Batch 2900 Loss 0.9605 Accuracy 0.5070\n",
            "Epoch 10 Batch 2950 Loss 0.9629 Accuracy 0.5067\n",
            "Epoch 10 Batch 3000 Loss 0.9652 Accuracy 0.5064\n",
            "Epoch 10 Batch 3050 Loss 0.9675 Accuracy 0.5062\n",
            "Epoch 10 Batch 3100 Loss 0.9696 Accuracy 0.5059\n",
            "Epoch 10 Batch 3150 Loss 0.9715 Accuracy 0.5057\n",
            "Epoch 10 Batch 3200 Loss 0.9733 Accuracy 0.5055\n",
            "Epoch 10 Batch 3250 Loss 0.9754 Accuracy 0.5052\n",
            "Saving checkpoint for epoch 10 at /content/drive/My Drive/tradutor/ckpt-20\n",
            "Time taken for 1 epoch 929.47989320755 secs\n",
            "\n"
          ],
          "name": "stdout"
        }
      ]
    },
    {
      "cell_type": "markdown",
      "metadata": {
        "id": "nmzyRwDrRGdq"
      },
      "source": [
        "# Avaliação"
      ]
    },
    {
      "cell_type": "code",
      "metadata": {
        "id": "_0pqI1RTpzwk",
        "colab": {
          "base_uri": "https://localhost:8080/",
          "height": 35
        },
        "outputId": "50b0fc38-c599-4831-a72e-ad620ec7ead7"
      },
      "source": [
        "text = 'you are smart'\n",
        "text = [vocab_size_en - 2] + tokenizer_en.encode(text) + [vocab_size_en - 1]\n",
        "text"
      ],
      "execution_count": null,
      "outputs": [
        {
          "output_type": "execute_result",
          "data": {
            "text/plain": [
              "[8191, 55, 17, 2202, 4099, 8192]"
            ]
          },
          "metadata": {
            "tags": []
          },
          "execution_count": 126
        }
      ]
    },
    {
      "cell_type": "code",
      "metadata": {
        "id": "dvGS3gUJqHI2",
        "colab": {
          "base_uri": "https://localhost:8080/",
          "height": 35
        },
        "outputId": "641cf2ce-472f-454d-ef3c-c50a25829463"
      },
      "source": [
        "text = tf.expand_dims(text, axis=0)\n",
        "text.shape"
      ],
      "execution_count": null,
      "outputs": [
        {
          "output_type": "execute_result",
          "data": {
            "text/plain": [
              "TensorShape([1, 6])"
            ]
          },
          "metadata": {
            "tags": []
          },
          "execution_count": 127
        }
      ]
    },
    {
      "cell_type": "code",
      "metadata": {
        "id": "VAS70m-xq9M5",
        "colab": {
          "base_uri": "https://localhost:8080/",
          "height": 35
        },
        "outputId": "45244d41-a4a1-40b9-a613-c2ad756f0f0d"
      },
      "source": [
        "output = tf.expand_dims([vocab_size_pt - 2], axis = 0)\n",
        "output.shape"
      ],
      "execution_count": null,
      "outputs": [
        {
          "output_type": "execute_result",
          "data": {
            "text/plain": [
              "TensorShape([1, 1])"
            ]
          },
          "metadata": {
            "tags": []
          },
          "execution_count": 128
        }
      ]
    },
    {
      "cell_type": "code",
      "metadata": {
        "id": "XDtQcdvHqcVi"
      },
      "source": [
        "def evaluate(inp_sentence):\n",
        "  inp_sentence = [vocab_size_en - 2] + tokenizer_en.encode(inp_sentence) + [vocab_size_en - 1]\n",
        "  enc_input = tf.expand_dims(inp_sentence, axis=0)\n",
        "\n",
        "  output = tf.expand_dims([vocab_size_pt - 2], axis = 0)\n",
        "\n",
        "  # i am -> am happy\n",
        "\n",
        "  for _ in range(max_length):\n",
        "    # (1, seq_length, vocab_size)\n",
        "    predictions = transformer(enc_input, output, False)\n",
        "    prediction = predictions[:, -1:, :]\n",
        "\n",
        "    predicted_id = tf.cast(tf.argmax(prediction, axis=-1), tf.int32)\n",
        "\n",
        "    if predicted_id == vocab_size_pt - 1:\n",
        "      return tf.squeeze(output, axis=0)\n",
        "\n",
        "    output = tf.concat([output, predicted_id], axis=1)\n",
        "\n",
        "  return tf.squeeze(output, axis = 0)"
      ],
      "execution_count": null,
      "outputs": []
    },
    {
      "cell_type": "code",
      "metadata": {
        "id": "RyAABcHRtcms"
      },
      "source": [
        "def translate(sentence):\n",
        "  output = evaluate(sentence).numpy()\n",
        "\n",
        "  predicted_sentence = tokenizer_pt.decode([i for i in output if i < vocab_size_pt - 2])\n",
        "\n",
        "  print('Input: {}'.format(sentence))\n",
        "  print('Predicted translation: {}'.format(predicted_sentence))\n"
      ],
      "execution_count": null,
      "outputs": []
    },
    {
      "cell_type": "code",
      "metadata": {
        "id": "vfLt3wZmt3wa",
        "colab": {
          "base_uri": "https://localhost:8080/",
          "height": 52
        },
        "outputId": "ddcdd5bd-e717-4727-a353-2b24c5606ff6"
      },
      "source": [
        "translate(\"this is a really powerful tool\")"
      ],
      "execution_count": null,
      "outputs": [
        {
          "output_type": "stream",
          "text": [
            "Input: this is a really powerful tool\n",
            "Predicted translation: Isto é também um instrumento poderoso.\n"
          ],
          "name": "stdout"
        }
      ]
    },
    {
      "cell_type": "markdown",
      "metadata": {
        "id": "a8GrBzcCxDaF"
      },
      "source": [
        "Melhorias\n",
        "\n",
        "- Utilizar a base de dados completa\n",
        "- Aumentar o tamanho da frase\n",
        "- Mudar os parâmetros"
      ]
    }
  ]
}